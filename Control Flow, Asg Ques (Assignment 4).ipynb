{
 "cells": [
  {
   "cell_type": "markdown",
   "id": "56029bef-3581-4f98-97ae-a963817a7785",
   "metadata": {},
   "source": [
    "# TOPIC: Basic If Else Statements: Loop"
   ]
  },
  {
   "cell_type": "code",
   "execution_count": 45,
   "id": "55ae8463-d2fc-46f9-b3c5-546016dc2475",
   "metadata": {},
   "outputs": [
    {
     "name": "stdout",
     "output_type": "stream",
     "text": [
      "Positive Number \n"
     ]
    }
   ],
   "source": [
    "# 1. Write a Python program to check if a given number is positive or negative.\n",
    "\n",
    "n=5\n",
    "\n",
    "if n>=0:\n",
    "    print(\"Positive Number \")\n",
    "else:\n",
    "    print(\"Negative Number \")\n"
   ]
  },
  {
   "cell_type": "code",
   "execution_count": 46,
   "id": "356dcc1d-eb36-4533-8d86-0eee30290ad2",
   "metadata": {},
   "outputs": [
    {
     "name": "stdin",
     "output_type": "stream",
     "text": [
      "Enter age of a person  45\n"
     ]
    },
    {
     "name": "stdout",
     "output_type": "stream",
     "text": [
      "Eligible for Vote\n"
     ]
    }
   ],
   "source": [
    "# 2. Create a program that determines if a person is eligible to vote based on their age.\n",
    "\n",
    "age= int(input(\"Enter age of a person \" ))\n",
    "\n",
    "if age>=18:\n",
    "    print(\"Eligible for Vote\")\n",
    "else:\n",
    "    print(\"Not Eligible for vote\")\n",
    "\n",
    "\n",
    "\n",
    "\n",
    "\n"
   ]
  },
  {
   "cell_type": "code",
   "execution_count": 47,
   "id": "956d06e2-f77a-4ab6-bf7f-3e5c301fb773",
   "metadata": {},
   "outputs": [
    {
     "name": "stdout",
     "output_type": "stream",
     "text": [
      "67\n"
     ]
    }
   ],
   "source": [
    "# 3. Develop a program to find the maximum of two numbers using if-else statements.\n",
    "a=45\n",
    "b=67\n",
    "if a>b:\n",
    "    print(a)\n",
    "else:\n",
    "    print(b)"
   ]
  },
  {
   "cell_type": "code",
   "execution_count": 48,
   "id": "a29ac96a-fdcc-48a3-abe5-934a48081c90",
   "metadata": {},
   "outputs": [
    {
     "name": "stdout",
     "output_type": "stream",
     "text": [
      "Not Leap Year\n"
     ]
    }
   ],
   "source": [
    "# 4. Write a Python script to classify a given year as a leap year or not.\n",
    "\n",
    "y=2022\n",
    "\n",
    "if y%100==0 and y%400==0:\n",
    "    print(\"Leap Year\")\n",
    "elif y%4==0 and y%400!=0:\n",
    "    print(\"Leap Year\")\n",
    "else:\n",
    "    print(\"Not Leap Year\")\n",
    "\n"
   ]
  },
  {
   "cell_type": "code",
   "execution_count": 52,
   "id": "06e17f21-8920-4779-b7a9-8f2382bfa200",
   "metadata": {},
   "outputs": [
    {
     "name": "stdout",
     "output_type": "stream",
     "text": [
      "Consonant\n"
     ]
    }
   ],
   "source": [
    "# 5. Create a program that checks whether a character is a vowel or a consonant.\n",
    "v=\"w\"\n",
    "vow=\"aeiouAEIOU\"\n",
    "\n",
    "if v in vow:\n",
    "    print(\"Vowel\")\n",
    "else:\n",
    "    print(\"Consonant\")\n",
    "\n"
   ]
  },
  {
   "cell_type": "code",
   "execution_count": 53,
   "id": "5493787f-8b1f-4ce0-b325-2c41485ebadd",
   "metadata": {},
   "outputs": [
    {
     "name": "stdout",
     "output_type": "stream",
     "text": [
      "Even\n"
     ]
    }
   ],
   "source": [
    "# 6. Implement a program to determine whether a given number is even or odd.\n",
    "\n",
    "n=34\n",
    "\n",
    "if n%2==0:\n",
    "    print(\"Even\")\n",
    "else:\n",
    "    print(\"Odd\")\n"
   ]
  },
  {
   "cell_type": "code",
   "execution_count": 56,
   "id": "55a530b6-8101-46a9-907a-dc1fef1fc0a5",
   "metadata": {},
   "outputs": [
    {
     "name": "stdout",
     "output_type": "stream",
     "text": [
      "Value of x is :  -7\n",
      "Absolute Value of x is :  7\n"
     ]
    }
   ],
   "source": [
    "# 7. Write a Python function to calculate the absolute value of a number without using the `abs()` function.\n",
    "\n",
    "x=-7\n",
    "print(\"Value of x is : \",x)\n",
    "x=x*-1\n",
    "print(\"Absolute Value of x is : \",x)"
   ]
  },
  {
   "cell_type": "code",
   "execution_count": 57,
   "id": "422924a2-1e16-43c7-ac9d-9127dd63747f",
   "metadata": {},
   "outputs": [
    {
     "name": "stdout",
     "output_type": "stream",
     "text": [
      "7\n"
     ]
    }
   ],
   "source": [
    "# 8. Develop a program that determines the largest of three given numbers using if-else statements.\n",
    "a=5\n",
    "b=6\n",
    "c=7\n",
    "\n",
    "if a>b:\n",
    "    if a>c:\n",
    "        print(a)\n",
    "    else:\n",
    "        print(c)\n",
    "else:\n",
    "    if b>c:\n",
    "        print(b)\n",
    "    else:\n",
    "        print(c)\n"
   ]
  },
  {
   "cell_type": "code",
   "execution_count": 59,
   "id": "57ef2a6e-1649-4f24-a2fe-170fb0369f3c",
   "metadata": {},
   "outputs": [
    {
     "name": "stdout",
     "output_type": "stream",
     "text": [
      "Not Palindrome Number \n"
     ]
    }
   ],
   "source": [
    "# 9. Create a program that checks if a given string is a palindrome.\n",
    "\n",
    "txt=\"Vikas Singh\"\n",
    "x=txt[::-1]\n",
    "\n",
    "if txt==x:\n",
    "    print(\"Palindrome Number \")\n",
    "else:\n",
    "    print(\"Not Palindrome Number \")"
   ]
  },
  {
   "cell_type": "code",
   "execution_count": 60,
   "id": "b6b5f7a7-7f20-49fa-a97b-21cb11558ae9",
   "metadata": {},
   "outputs": [
    {
     "name": "stdout",
     "output_type": "stream",
     "text": [
      "A\n"
     ]
    }
   ],
   "source": [
    "# 10. Write a Python program to calculate the grade based on a student's score.\n",
    "\n",
    "score=450\n",
    "\n",
    "if score>400:\n",
    "    print(\"A\")\n",
    "elif score>300:\n",
    "    print(\"B\")\n",
    "elif score>250:\n",
    "    print(\"C\")\n",
    "else:\n",
    "    print(\"Fail\")\n",
    "\n",
    "\n"
   ]
  },
  {
   "cell_type": "markdown",
   "id": "d31d4b4f-9069-4f6c-82b8-94c66e22c4b2",
   "metadata": {},
   "source": [
    "# Nested If-Else Statements:"
   ]
  },
  {
   "cell_type": "code",
   "execution_count": 1,
   "id": "52492bd4-6394-4ec2-9eea-17ff773804ab",
   "metadata": {},
   "outputs": [
    {
     "name": "stdout",
     "output_type": "stream",
     "text": [
      "7\n"
     ]
    }
   ],
   "source": [
    "# 11. Write a program to find the largest among three numbers using nested if-else statements.\n",
    "a=5\n",
    "b=6\n",
    "c=7\n",
    "\n",
    "if a>b:\n",
    "    if a>c:\n",
    "        print(a)\n",
    "    else:\n",
    "        print(c)\n",
    "else:\n",
    "    if b>c:\n",
    "        print(b)\n",
    "    else:\n",
    "        print(c)"
   ]
  },
  {
   "cell_type": "code",
   "execution_count": 3,
   "id": "57b1f475-4fdf-4a80-9bb0-cee6c1f6aa32",
   "metadata": {},
   "outputs": [
    {
     "name": "stdout",
     "output_type": "stream",
     "text": [
      "Triangle is scalene\n"
     ]
    }
   ],
   "source": [
    "# 12. Implement a program to determine if a triangle is equilateral, isosceles, or scalene.\n",
    "\n",
    "s1=4\n",
    "s2=5\n",
    "s3=6\n",
    "\n",
    "if s1==s2 and s2==s3:\n",
    "    print(\"Triangle is equilateral\")\n",
    "elif s1==s2 or s2==s3 or s3==s1:\n",
    "    print(\"Triangle is isosceles\")\n",
    "else:\n",
    "    print(\"Triangle is scalene\")"
   ]
  },
  {
   "cell_type": "code",
   "execution_count": 60,
   "id": "8fafff9c-fc00-4e03-ab13-2533a65a98db",
   "metadata": {},
   "outputs": [
    {
     "name": "stdout",
     "output_type": "stream",
     "text": [
      "Not Leap Year\n"
     ]
    }
   ],
   "source": [
    "# 13. Develop a program that checks if a year is a leap year and also if it is a century year.\n",
    "\n",
    "y=2022\n",
    "\n",
    "if y%100==0 and y%400==0:\n",
    "    print(\"Leap Year\")\n",
    "elif y%4==0 and y%400!=0:\n",
    "    print(\"Leap Year\")\n",
    "else:\n",
    "    print(\"Not Leap Year\")"
   ]
  },
  {
   "cell_type": "code",
   "execution_count": 58,
   "id": "5a8bac55-5208-4301-a711-fdd001bce7e3",
   "metadata": {},
   "outputs": [
    {
     "name": "stdout",
     "output_type": "stream",
     "text": [
      "Positive Number \n"
     ]
    }
   ],
   "source": [
    "# 14. Write a Python script to determine if a number is positive, negative, or zero.\n",
    "n=5\n",
    "\n",
    "if n>=0:\n",
    "    print(\"Positive Number \")\n",
    "elif n==0:\n",
    "    print(\"Number is Zero\")\n",
    "else:\n",
    "    print(\"Negative Number \")\n"
   ]
  },
  {
   "cell_type": "code",
   "execution_count": 59,
   "id": "fdd4326a-f64b-46bb-80e7-d15661661460",
   "metadata": {},
   "outputs": [
    {
     "name": "stdin",
     "output_type": "stream",
     "text": [
      "Enter age of a person  34\n"
     ]
    },
    {
     "name": "stdout",
     "output_type": "stream",
     "text": [
      "Not a teenager\n"
     ]
    }
   ],
   "source": [
    "# 15. Create a program to check if a person is a teenager (between 13 and 19 years old).\n",
    "\n",
    "age= int(input(\"Enter age of a person \" ))\n",
    "\n",
    "if age>=13 and age<=19:\n",
    "    print(\"person is teenager\")\n",
    "else:\n",
    "    print(\"Not a teenager\")\n"
   ]
  },
  {
   "cell_type": "code",
   "execution_count": 4,
   "id": "176d7dac-83e0-46fd-bae1-0b65d35f0484",
   "metadata": {},
   "outputs": [
    {
     "name": "stdout",
     "output_type": "stream",
     "text": [
      "acute\n"
     ]
    }
   ],
   "source": [
    "# 16. Develop a program that determines the type of angle based on its measure (acute, obtuse, or right).\n",
    "a1=40\n",
    "\n",
    "\n",
    "if a1==90:\n",
    "    print(\"Right angle\")\n",
    "elif a1>90:\n",
    "    print(\"obtuse\")\n",
    "else:\n",
    "    print(\"acute\")"
   ]
  },
  {
   "cell_type": "code",
   "execution_count": 15,
   "id": "552f88be-41ea-48a0-9c02-a0b4baef987f",
   "metadata": {},
   "outputs": [
    {
     "name": "stdout",
     "output_type": "stream",
     "text": [
      "Roots are complex\n",
      "Roots are --- \n",
      "-1.5+i 9.327379053088816\n",
      "-1.5-i 9.327379053088816\n"
     ]
    }
   ],
   "source": [
    "# 17. Write a Python program to calculate the roots of a quadratic equation.\n",
    "import math\n",
    "a=-1\n",
    "b=-3\n",
    "c=-24\n",
    "\n",
    "discriminant= b*b-4*a*c\n",
    "\n",
    "sq=math.sqrt(abs(discriminant))\n",
    "\n",
    "if discriminant>0:\n",
    "    print(\"Roots are Real and Different\")\n",
    "    print(\"Roots are --- \")\n",
    "    print((-b+sq)/2*a)\n",
    "    print((-b-sq)/2*a)\n",
    "elif discriminant==0:\n",
    "    print(\"Roots are Real and same\")\n",
    "    print(\"Roots are --- \")\n",
    "    print((-b)/2*a)\n",
    "else:\n",
    "    print(\"Roots are complex\")\n",
    "    print(\"Roots are --- \")\n",
    "    print(str(- b / (2 * a)) +\"+i\", sq) \n",
    "    print(str(- b / (2 * a))+\"-i\", sq)   \n",
    "    "
   ]
  },
  {
   "cell_type": "code",
   "execution_count": 16,
   "id": "ae766edd-8285-4a40-9db0-b349bd499eb6",
   "metadata": {},
   "outputs": [
    {
     "name": "stdin",
     "output_type": "stream",
     "text": [
      "Enter a number  4\n"
     ]
    },
    {
     "name": "stdout",
     "output_type": "stream",
     "text": [
      "Thursday\n"
     ]
    }
   ],
   "source": [
    "# 18. Implement a program to determine the day of the week based on a user-provided number (1 for Monday, 2 for Tuesday, etc.).\n",
    "\n",
    "n=int(input(\"Enter a number \"))\n",
    "\n",
    "if n==1:\n",
    "    print(\"Monday\")\n",
    "elif n==2:\n",
    "    print(\"Tuesday\")\n",
    "elif n==3:\n",
    "    print(\"Wenesday\")\n",
    "elif n==4:\n",
    "    print(\"Thursday\")\n",
    "elif n==5:\n",
    "    print(\"Friday\")\n",
    "elif n==6:\n",
    "    print(\"Saturday\")\n",
    "elif n==7:\n",
    "    print(\"Sunday\")\n",
    "else:\n",
    "    print(\"Invalid input: input only 1-7\")\n",
    "\n"
   ]
  },
  {
   "cell_type": "code",
   "execution_count": 17,
   "id": "a31070dc-0450-4ecc-8570-845695766353",
   "metadata": {},
   "outputs": [
    {
     "name": "stdout",
     "output_type": "stream",
     "text": [
      "Not Leap Year\n"
     ]
    }
   ],
   "source": [
    "# 19. Create a program that determines if a year is a leap year and also if it is evenly divisible by 400.\n",
    "\n",
    "y=2022\n",
    "\n",
    "if y%100==0 and y%400==0:\n",
    "    print(\"Leap Year\")\n",
    "elif y%4==0 and y%400!=0:\n",
    "    print(\"Leap Year\")\n",
    "else:\n",
    "    print(\"Not Leap Year\")"
   ]
  },
  {
   "cell_type": "code",
   "execution_count": 20,
   "id": "848c735e-a1fa-4a37-a2ba-f9395f26cfb0",
   "metadata": {},
   "outputs": [
    {
     "name": "stdout",
     "output_type": "stream",
     "text": [
      "Not Prime\n"
     ]
    }
   ],
   "source": [
    "# 20. Develop a program that checks if a given number is prime or not using nested if-else statements.\n",
    "\n",
    "n=14\n",
    "\n",
    "for i in range(2,n//2+1):\n",
    "    if n%i==0:\n",
    "        break\n",
    "if i==n//2:\n",
    "    print(\"Prime\")\n",
    "else:\n",
    "    print(\"Not Prime\")"
   ]
  },
  {
   "cell_type": "markdown",
   "id": "9090d8aa-95f2-45a6-bbb8-b1f6ec92ca08",
   "metadata": {},
   "source": [
    "# Elif Statements:"
   ]
  },
  {
   "cell_type": "code",
   "execution_count": 22,
   "id": "15932e87-716f-489d-b925-8fc11d07ef96",
   "metadata": {},
   "outputs": [
    {
     "name": "stdout",
     "output_type": "stream",
     "text": [
      "A\n"
     ]
    }
   ],
   "source": [
    "# 21. Write a Python program to assign grades based on different ranges of scores using elif statements.\n",
    "score=450\n",
    "\n",
    "if score>400:\n",
    "    print(\"A\")\n",
    "elif score>300:\n",
    "    print(\"B\")\n",
    "elif score>250:\n",
    "    print(\"C\")\n",
    "else:\n",
    "    print(\"Fail\")"
   ]
  },
  {
   "cell_type": "code",
   "execution_count": 23,
   "id": "881c29d2-d30d-44b4-b86b-e9bb1fe5317b",
   "metadata": {},
   "outputs": [
    {
     "name": "stdout",
     "output_type": "stream",
     "text": [
      "Right angle Triangle\n"
     ]
    }
   ],
   "source": [
    "# 22. Implement a program to determine the type of a triangle based on its angles.\n",
    "\n",
    "a1=40\n",
    "a2=50\n",
    "a3=90\n",
    "\n",
    "if a1==90 or a2==90 or a3==90:\n",
    "    print(\"Right angle Triangle\")\n",
    "elif a1>90 or a2>90 or a3>90:\n",
    "    print(\"obtuse triangle\")\n",
    "else:\n",
    "    print(\"acute triangle\")\n"
   ]
  },
  {
   "cell_type": "code",
   "execution_count": 38,
   "id": "ec95f14b-8bbc-4889-9a90-08b0262ea993",
   "metadata": {},
   "outputs": [
    {
     "name": "stdout",
     "output_type": "stream",
     "text": [
      "30.22222222222222\n",
      "Suffering from Obesity\n"
     ]
    }
   ],
   "source": [
    "# 23. Develop a program to categorize a given person's BMI into underweight, normal, overweight, or obese using elif statements.\n",
    "\n",
    "\n",
    "\n",
    "height = 1.5\n",
    "weight = 68\n",
    "bmi = weight/(height**2) \n",
    "print(bmi)\n",
    "if (bmi < 18.5): \n",
    "    print(\"underweight\") \n",
    "elif ( bmi >= 18.5 and bmi < 24.9): \n",
    "    print(\"Healthy\") \n",
    "elif ( bmi >= 24.9 and bmi < 30): \n",
    "    print(\"overweight\") \n",
    "elif ( bmi >=30): \n",
    "    print(\"Suffering from Obesity\") "
   ]
  },
  {
   "cell_type": "code",
   "execution_count": 39,
   "id": "628003a9-2bd4-44ea-8ffc-e38b7b637ed8",
   "metadata": {},
   "outputs": [
    {
     "name": "stdout",
     "output_type": "stream",
     "text": [
      "Positive Number \n"
     ]
    }
   ],
   "source": [
    "# 24. Create a program that determines whether a given number is positive, negative, or zero using elif statements.\n",
    "\n",
    "n=5\n",
    "\n",
    "if n>=0:\n",
    "    print(\"Positive Number \")\n",
    "elif n==0:\n",
    "    print(\"Number is Zero\")\n",
    "else:\n",
    "    print(\"Negative Number \")"
   ]
  },
  {
   "cell_type": "code",
   "execution_count": 40,
   "id": "76a73805-8394-4041-bb01-e5eccc9b753e",
   "metadata": {},
   "outputs": [
    {
     "name": "stdout",
     "output_type": "stream",
     "text": [
      "Uppercase\n"
     ]
    }
   ],
   "source": [
    "# 25. Write a Python script to determine the type of a character (uppercase, lowercase, or special) using elif statements.\n",
    "\n",
    "char=\"A\"\n",
    "\n",
    "if ord(char)>64 and ord(char)<91:\n",
    "    print(\"Uppercase\")\n",
    "elif ord(char)>97 and ord(char)<123:\n",
    "    print(\"Lowercase\")\n",
    "elif ord(char)>47 and ord(char)<58:\n",
    "    print(\"Digit\")\n",
    "else:\n",
    "    print(\"Special Character\")\n",
    "\n",
    "\n",
    "\n"
   ]
  },
  {
   "cell_type": "code",
   "execution_count": 42,
   "id": "777cf462-af41-4cf4-b851-95bd325dc968",
   "metadata": {},
   "outputs": [
    {
     "name": "stdout",
     "output_type": "stream",
     "text": [
      "Discount is :  5.0 %\n",
      "Final Amount after discount is :  250.0\n"
     ]
    }
   ],
   "source": [
    "# 26. Implement a program to calculate the discounted price based on different purchase amounts using elif statements.\n",
    "\n",
    "price=10\n",
    "qty=500\n",
    "amt=price*qty\n",
    "if amt>5000:\n",
    "    disc=.1\n",
    "elif amt>3000:\n",
    "    disc=.05\n",
    "elif amt>500:\n",
    "    disc=.02\n",
    "else:\n",
    "    disc=0\n",
    "\n",
    "print(\"Discount is : \",disc*100,\"%\")\n",
    "print(\"Final Amount after discount is : \",amt*disc)\n",
    "\n",
    "\n"
   ]
  },
  {
   "cell_type": "code",
   "execution_count": 43,
   "id": "414f2dc3-6ea3-41cc-ba5a-ee07bc304c27",
   "metadata": {},
   "outputs": [
    {
     "name": "stdout",
     "output_type": "stream",
     "text": [
      "charges is :  910\n"
     ]
    }
   ],
   "source": [
    "# 27. Develop a program to calculate the electricity bill based on different consumption slabs using elif statements.\n",
    "unit=230\n",
    "\n",
    "if unit>500:\n",
    "    ch=150*7+250*8+(unit-500)*9\n",
    "elif unit>250:\n",
    "    ch=150*7+(unit-250)*8\n",
    "elif unit>100:\n",
    "    ch=(unit-100)*7\n",
    "else:\n",
    "    ch=0\n",
    "\n",
    "print(\"charges is : \",ch)"
   ]
  },
  {
   "cell_type": "code",
   "execution_count": null,
   "id": "fa14d090-dc51-4995-9367-89dff406a259",
   "metadata": {},
   "outputs": [],
   "source": [
    "# 28. Create a program to determine the type of quadrilateral based on its angles and sides using elif statements.\n"
   ]
  },
  {
   "cell_type": "code",
   "execution_count": 46,
   "id": "a0f631e6-4f9a-4983-86c8-2f3520a34099",
   "metadata": {},
   "outputs": [
    {
     "name": "stdout",
     "output_type": "stream",
     "text": [
      "Autumn Season\n"
     ]
    }
   ],
   "source": [
    "# 29. Write a Python script to determine the season based on a user-provided month using elif statements.\n",
    "month=\"january\"\n",
    "\n",
    "winter=[\"December\",\"January\",\"February\"]\n",
    "spring=[\"March\",\"April\",\"May\"]\n",
    "summer=[\"June\",\"July\",\"August\"]\n",
    "autmn=[\"September\",\"October\",\"November\"]\n",
    "\n",
    "if month in winter:\n",
    "    print(\"Winter Season\")\n",
    "elif month in spring:\n",
    "    print(\"Spring Season\")\n",
    "elif month in summer:\n",
    "    print(\"Summer Season\")\n",
    "else:\n",
    "    print(\"Autumn Season\")"
   ]
  },
  {
   "cell_type": "code",
   "execution_count": 47,
   "id": "f63e8511-ff4f-46a1-9899-4950c6a47afe",
   "metadata": {},
   "outputs": [
    {
     "name": "stdout",
     "output_type": "stream",
     "text": [
      "31 Days\n"
     ]
    }
   ],
   "source": [
    "# 30. Implement a program to determine the month (30 or 31 days) using elif statements.\n",
    "\n",
    "month=\"january\"\n",
    "d30=[\"June\",\"November\",\"April\",\"September\"]\n",
    "\n",
    "if month==\"February\":\n",
    "    print(\"28 Days\")\n",
    "elif month in d30:\n",
    "    print(\"30 Days\")\n",
    "else:\n",
    "    print(\"31 Days\")\n"
   ]
  },
  {
   "cell_type": "markdown",
   "id": "2f562e5f-0cd7-44f7-954d-68f0bf88d87d",
   "metadata": {},
   "source": [
    "# Basic Level"
   ]
  },
  {
   "cell_type": "code",
   "execution_count": 48,
   "id": "741ddda4-b062-45b3-9058-b2ce045f08f3",
   "metadata": {},
   "outputs": [
    {
     "name": "stdout",
     "output_type": "stream",
     "text": [
      "Positive Number \n"
     ]
    }
   ],
   "source": [
    "# 1. Write a Python program that checks if a given number is positive, negative, or zero.\n",
    "n=5\n",
    "\n",
    "if n>=0:\n",
    "    print(\"Positive Number \")\n",
    "elif n==0:\n",
    "    print(\"Number is Zero\")\n",
    "else:\n",
    "    print(\"Negative Number \")\n"
   ]
  },
  {
   "cell_type": "code",
   "execution_count": 49,
   "id": "769c5b01-d260-4515-9f98-bb7c6a082f23",
   "metadata": {},
   "outputs": [
    {
     "name": "stdin",
     "output_type": "stream",
     "text": [
      "Enter age of a person  34\n"
     ]
    },
    {
     "name": "stdout",
     "output_type": "stream",
     "text": [
      "Eligible for Vote\n"
     ]
    }
   ],
   "source": [
    "# 2. Create a program to determine if a person is eligible to vote based on their age.\n",
    "age= int(input(\"Enter age of a person \" ))\n",
    "\n",
    "if age>=18:\n",
    "    print(\"Eligible for Vote\")\n",
    "else:\n",
    "    print(\"Not Eligible for vote\")\n"
   ]
  },
  {
   "cell_type": "code",
   "execution_count": 50,
   "id": "9787af37-a64f-49d9-87b4-daa43f4e44a4",
   "metadata": {},
   "outputs": [
    {
     "name": "stdout",
     "output_type": "stream",
     "text": [
      "Max Number is :  6\n"
     ]
    }
   ],
   "source": [
    "# 3. Write a program to find the maximum of two given numbers using conditional statements.\n",
    "\n",
    "a=6\n",
    "b=5\n",
    "\n",
    "mx= a if a>b else b\n",
    "\n",
    "print(\"Max Number is : \",mx)\n"
   ]
  },
  {
   "cell_type": "code",
   "execution_count": 51,
   "id": "002963ec-34c6-4401-914f-97e8917a2f8e",
   "metadata": {},
   "outputs": [
    {
     "name": "stdout",
     "output_type": "stream",
     "text": [
      "A\n"
     ]
    }
   ],
   "source": [
    "# 4. Develop a program that calculates the grade of a student based on their exam score.\n",
    "\n",
    "score=450\n",
    "\n",
    "if score>400:\n",
    "    print(\"A\")\n",
    "elif score>300:\n",
    "    print(\"B\")\n",
    "elif score>250:\n",
    "    print(\"C\")\n",
    "else:\n",
    "    print(\"Fail\")"
   ]
  },
  {
   "cell_type": "code",
   "execution_count": 52,
   "id": "27e3245b-1abf-41d8-b16e-d74f158b69be",
   "metadata": {},
   "outputs": [
    {
     "name": "stdout",
     "output_type": "stream",
     "text": [
      "Not Leap Year\n"
     ]
    }
   ],
   "source": [
    "# 5. Create a program that checks if a year is a leap year or not.\n",
    "\n",
    "y=2022\n",
    "\n",
    "if y%100==0 and y%400==0:\n",
    "    print(\"Leap Year\")\n",
    "elif y%4==0 and y%400!=0:\n",
    "    print(\"Leap Year\")\n",
    "else:\n",
    "    print(\"Not Leap Year\")\n"
   ]
  },
  {
   "cell_type": "code",
   "execution_count": 53,
   "id": "a521e207-8700-47f8-924a-92a5b579b9fe",
   "metadata": {},
   "outputs": [
    {
     "name": "stdout",
     "output_type": "stream",
     "text": [
      "Triangle is scalene\n"
     ]
    }
   ],
   "source": [
    "# 6. Write a program to classify a triangle based on its sides' lengths.\n",
    "\n",
    "s1=4\n",
    "s2=5\n",
    "s3=6\n",
    "\n",
    "if s1==s2 and s2==s3:\n",
    "    print(\"Triangle is equilateral\")\n",
    "elif s1==s2 or s2==s3 or s3==s1:\n",
    "    print(\"Triangle is isosceles\")\n",
    "else:\n",
    "    print(\"Triangle is scalene\")"
   ]
  },
  {
   "cell_type": "code",
   "execution_count": 54,
   "id": "163d2085-b30a-415d-a596-2f559a141517",
   "metadata": {},
   "outputs": [
    {
     "name": "stdout",
     "output_type": "stream",
     "text": [
      "7\n"
     ]
    }
   ],
   "source": [
    "# 7. Build a program that determines the largest of three given numbers.\n",
    "\n",
    "a=5\n",
    "b=6\n",
    "c=7\n",
    "\n",
    "if a>b:\n",
    "    if a>c:\n",
    "        print(a)\n",
    "    else:\n",
    "        print(c)\n",
    "else:\n",
    "    if b>c:\n",
    "        print(b)\n",
    "    else:\n",
    "        print(c)"
   ]
  },
  {
   "cell_type": "code",
   "execution_count": 55,
   "id": "22939568-f33e-4b58-b95b-db2f654fb2b3",
   "metadata": {},
   "outputs": [
    {
     "name": "stdout",
     "output_type": "stream",
     "text": [
      "Vowel \n"
     ]
    }
   ],
   "source": [
    "# 8. Develop a program that checks whether a character is a vowel or a consonant.\n",
    "\n",
    "vow=\"aeiouAEIOU\"\n",
    "char=\"a\"\n",
    "\n",
    "if char in vow:\n",
    "    print(\"Vowel \")\n",
    "else:\n",
    "    print(\"Consonant\")\n",
    "\n"
   ]
  },
  {
   "cell_type": "code",
   "execution_count": 56,
   "id": "c85f0fc0-804e-480f-9e91-daa1ace40ccd",
   "metadata": {},
   "outputs": [
    {
     "name": "stdout",
     "output_type": "stream",
     "text": [
      "Discount is :  5.0 %\n",
      "Final Amount after discount is :  250.0\n"
     ]
    }
   ],
   "source": [
    "# 9. Create a program to calculate the total cost of a shopping cart based on discounts.\n",
    "\n",
    "price=10\n",
    "qty=500\n",
    "amt=price*qty\n",
    "if amt>5000:\n",
    "    disc=.1\n",
    "elif amt>3000:\n",
    "    disc=.05\n",
    "elif amt>500:\n",
    "    disc=.02\n",
    "else:\n",
    "    disc=0\n",
    "\n",
    "print(\"Discount is : \",disc*100,\"%\")\n",
    "print(\"Final Amount after discount is : \",amt*disc)"
   ]
  },
  {
   "cell_type": "code",
   "execution_count": 57,
   "id": "b470beb0-bf6c-4a64-9fdf-f025121cdf8f",
   "metadata": {},
   "outputs": [
    {
     "name": "stdout",
     "output_type": "stream",
     "text": [
      "Even\n"
     ]
    }
   ],
   "source": [
    "# 10. Write a program that checks if a given number is even or odd.\n",
    "\n",
    "\n",
    "n=34\n",
    "\n",
    "if n%2==0:\n",
    "    print(\"Even\")\n",
    "else:\n",
    "    print(\"Odd\")"
   ]
  },
  {
   "cell_type": "markdown",
   "id": "ecec697d-45e7-4511-a5ed-5043267eb31f",
   "metadata": {},
   "source": [
    "# intermediate level"
   ]
  },
  {
   "cell_type": "code",
   "execution_count": 2,
   "id": "06d7214e-665b-4b83-9653-9e4d9490a5ae",
   "metadata": {},
   "outputs": [
    {
     "name": "stdout",
     "output_type": "stream",
     "text": [
      "Roots are complex\n",
      "Roots are --- \n",
      "-1.5+i 9.327379053088816\n",
      "-1.5-i 9.327379053088816\n"
     ]
    }
   ],
   "source": [
    "# 11. Write a program that calculates the roots of a quadratic equation .\n",
    "\n",
    "import math\n",
    "a=-1\n",
    "b=-3\n",
    "c=-24\n",
    "\n",
    "discriminant= b*b-4*a*c\n",
    "\n",
    "sq=math.sqrt(abs(discriminant))\n",
    "\n",
    "if discriminant>0:\n",
    "    print(\"Roots are Real and Different\")\n",
    "    print(\"Roots are --- \")\n",
    "    print((-b+sq)/2*a)\n",
    "    print((-b-sq)/2*a)\n",
    "elif discriminant==0:\n",
    "    print(\"Roots are Real and same\")\n",
    "    print(\"Roots are --- \")\n",
    "    print((-b)/2*a)\n",
    "else:\n",
    "    print(\"Roots are complex\")\n",
    "    print(\"Roots are --- \")\n",
    "    print(str(- b / (2 * a)) +\"+i\", sq) \n",
    "    print(str(- b / (2 * a))+\"-i\", sq)   \n"
   ]
  },
  {
   "cell_type": "code",
   "execution_count": 3,
   "id": "6b39a76e-219d-4376-b633-6cd66d87b124",
   "metadata": {},
   "outputs": [
    {
     "name": "stdin",
     "output_type": "stream",
     "text": [
      "Enter a number  5\n"
     ]
    },
    {
     "name": "stdout",
     "output_type": "stream",
     "text": [
      "Friday\n"
     ]
    }
   ],
   "source": [
    "# 12. Create a program that determines the day of the week based on the day number (1-7).\n",
    "n=int(input(\"Enter a number \"))\n",
    "\n",
    "if n==1:\n",
    "    print(\"Monday\")\n",
    "elif n==2:\n",
    "    print(\"Tuesday\")\n",
    "elif n==3:\n",
    "    print(\"Wenesday\")\n",
    "elif n==4:\n",
    "    print(\"Thursday\")\n",
    "elif n==5:\n",
    "    print(\"Friday\")\n",
    "elif n==6:\n",
    "    print(\"Saturday\")\n",
    "elif n==7:\n",
    "    print(\"Sunday\")\n",
    "else:\n",
    "    print(\"Invalid input: input only 1-7\")\n"
   ]
  },
  {
   "cell_type": "code",
   "execution_count": 5,
   "id": "68b519fa-54d5-4bb2-88a9-fed4dec17e7e",
   "metadata": {},
   "outputs": [
    {
     "name": "stdout",
     "output_type": "stream",
     "text": [
      "Factorial is :  120\n"
     ]
    }
   ],
   "source": [
    "# 13. Develop a program that calculates the factorial of a given number using recursion.\n",
    "\n",
    "n=5\n",
    "f=1\n",
    "for i in range(1,6):\n",
    "    f=f*i\n",
    "print(\"Factorial is : \",f)\n",
    "\n"
   ]
  },
  {
   "cell_type": "code",
   "execution_count": 6,
   "id": "6b83209d-6cd2-426d-9488-b5acf6d07755",
   "metadata": {},
   "outputs": [
    {
     "name": "stdout",
     "output_type": "stream",
     "text": [
      "Maximum number is : 7\n"
     ]
    }
   ],
   "source": [
    "# 14. Write a program to find the largest among three numbers without using the `max()` function.\n",
    "\n",
    "a=5\n",
    "b=7\n",
    "c=4\n",
    "if a>b and a>c:\n",
    "    mx=a\n",
    "elif b>a and b>c:\n",
    "    mx=b\n",
    "else:\n",
    "    mx=c\n",
    "print(\"Maximum number is :\",mx)\n"
   ]
  },
  {
   "cell_type": "code",
   "execution_count": 8,
   "id": "b07b2cc8-4376-4521-ad53-9c97601cef40",
   "metadata": {},
   "outputs": [
    {
     "name": "stdin",
     "output_type": "stream",
     "text": [
      "Enter withdrawl amount  2500\n"
     ]
    },
    {
     "name": "stdout",
     "output_type": "stream",
     "text": [
      "insufficient balance\n",
      "your current balance is : 500\n"
     ]
    }
   ],
   "source": [
    "# 15. Create a program that simulates a basic ATM transaction menu.\n",
    "\n",
    "w=int(input(\"Enter withdrawl amount \"))\n",
    "bal=500\n",
    "if w>bal:\n",
    "    print(\"insufficient balance\")\n",
    "else:\n",
    "    bal=bal-w\n",
    "    print(\"transaction successful\")\n",
    "print(\"your current balance is :\",bal)\n"
   ]
  },
  {
   "cell_type": "code",
   "execution_count": 1,
   "id": "80c5203f-4ec7-4e6f-981d-2698ba769567",
   "metadata": {},
   "outputs": [
    {
     "name": "stdout",
     "output_type": "stream",
     "text": [
      "Not Palindrome Number \n"
     ]
    }
   ],
   "source": [
    "# 16. Build a program that checks if a given string is a palindrome or not.\n",
    "\n",
    "txt=\"Vikas Singh\"\n",
    "x=txt[::-1]\n",
    "\n",
    "if txt==x:\n",
    "    print(\"Palindrome Number \")\n",
    "else:\n",
    "    print(\"Not Palindrome Number \")"
   ]
  },
  {
   "cell_type": "code",
   "execution_count": 13,
   "id": "8c12d702-af53-4617-b09d-4ae446df2572",
   "metadata": {},
   "outputs": [
    {
     "name": "stdout",
     "output_type": "stream",
     "text": [
      "sum :  35\n"
     ]
    }
   ],
   "source": [
    "# 17. Write a program that calculates the average of a list of numbers, excluding the smallest and largest values.\n",
    "\n",
    "lt=[1,2,3,4,5,6,7,8,9]\n",
    "sm=0\n",
    "for i in lt:\n",
    "    if i!=lt[lt.index(min(lt))] and i!=lt[lt.index(max(lt))]:\n",
    "        sm=sm+i\n",
    "print(\"sum : \",sm)"
   ]
  },
  {
   "cell_type": "code",
   "execution_count": 1,
   "id": "e489e772-e086-4996-9567-5e6efe4acf21",
   "metadata": {},
   "outputs": [
    {
     "name": "stdout",
     "output_type": "stream",
     "text": [
      "Temperature in fahrenheit  98.6\n"
     ]
    }
   ],
   "source": [
    "# 18. Develop a program that converts a given temperature from Celsius to Fahrenheit.\n",
    "c=37\n",
    "\n",
    "f=(c*9)/5+32\n",
    "\n",
    "print(\"Temperature in fahrenheit \",f)\n"
   ]
  },
  {
   "cell_type": "code",
   "execution_count": 4,
   "id": "f16708c3-e07b-4406-962c-6e220d5a7c5f",
   "metadata": {},
   "outputs": [
    {
     "name": "stdout",
     "output_type": "stream",
     "text": [
      "Enter 1 for addtion : \n",
      "Enter 2 for subtraction : \n",
      "Enter 3 for multiplication : \n",
      "Enter 4 for division : \n",
      "Enter 5 for exit : \n"
     ]
    },
    {
     "name": "stdin",
     "output_type": "stream",
     "text": [
      "Enter your choice :  2\n",
      "enter first values  34\n",
      "enter first values  4\n"
     ]
    },
    {
     "name": "stdout",
     "output_type": "stream",
     "text": [
      "Subtraction is   30\n",
      "Enter 1 for addtion : \n",
      "Enter 2 for subtraction : \n",
      "Enter 3 for multiplication : \n",
      "Enter 4 for division : \n",
      "Enter 5 for exit : \n"
     ]
    },
    {
     "name": "stdin",
     "output_type": "stream",
     "text": [
      "Enter your choice :  5\n"
     ]
    }
   ],
   "source": [
    "# 19. Create a program that simulates a basic calculator for addition, subtraction, multiplication, and division.\n",
    "\n",
    "while True:\n",
    "    print(\"Enter 1 for addtion : \")\n",
    "    print(\"Enter 2 for subtraction : \")\n",
    "    print(\"Enter 3 for multiplication : \")\n",
    "    print(\"Enter 4 for division : \")\n",
    "    print(\"Enter 5 for exit : \")\n",
    "    ch=int(input(\"Enter your choice : \"))\n",
    "    if ch!=5:\n",
    "        a=int(input(\"enter first values \"))\n",
    "        b=int(input(\"enter first values \"))\n",
    "        if ch==1:\n",
    "            print(\"Addtion is \",(a+b))\n",
    "        elif ch==2:\n",
    "            print(\"Subtraction is  \",(a-b))\n",
    "        elif ch==3:\n",
    "            print(\"Multiplication is \",(a*b))\n",
    "        elif ch==4:\n",
    "            print(\"Division is \",(a/b))\n",
    "        else:\n",
    "            print(\"Input only 1 to 5\")\n",
    "    else:\n",
    "        break"
   ]
  },
  {
   "cell_type": "code",
   "execution_count": 2,
   "id": "cfac979f-f672-404f-bb31-6e7eab5f4225",
   "metadata": {},
   "outputs": [
    {
     "name": "stdout",
     "output_type": "stream",
     "text": [
      "x^3- 12 x^2+ 47 x+ 60\n"
     ]
    }
   ],
   "source": [
    "# 20. Write a program that determines the roots of a cubic equation using the Cardano formula\n",
    "\n",
    "a=5\n",
    "b=3\n",
    "c=4\n",
    "\n",
    "X = (a + b + c)\n",
    "Y = (a * b) + (b * c) + (c * a)\n",
    "Z = (a * b * c)\n",
    "\n",
    "print(\"x^3-\",X,\"x^2+\",Y,\"x+\",Z)"
   ]
  },
  {
   "cell_type": "markdown",
   "id": "87ae6f8a-b8eb-4bc2-9cdb-3232f9762180",
   "metadata": {},
   "source": [
    "# Advance Level "
   ]
  },
  {
   "cell_type": "code",
   "execution_count": 7,
   "id": "b898318f-cb13-4474-baa9-178b1641608f",
   "metadata": {},
   "outputs": [
    {
     "name": "stdin",
     "output_type": "stream",
     "text": [
      "Enter income  670000\n"
     ]
    },
    {
     "name": "stdout",
     "output_type": "stream",
     "text": [
      "Tax Amount is :  67500.0\n"
     ]
    }
   ],
   "source": [
    "# 21. Create a program that calculates the income tax based on the user's income and tax brackets.\n",
    "inc=int(input(\"Enter income \"))\n",
    "if inc>1000000:\n",
    "    tx=250000*10/100 + 500000*15/100 + (inc-1000000)*25/100\n",
    "elif inc>500000:\n",
    "    tx=250000*10/100 + (inc-500000)*25/100\n",
    "elif inc>250000:\n",
    "    tx=(inc-250000)*25/100\n",
    "else:\n",
    "    tx=0\n",
    "print(\"Tax Amount is : \",tx)\n"
   ]
  },
  {
   "cell_type": "code",
   "execution_count": 10,
   "id": "ef451aa1-1ed0-4f31-84e6-50e370fe8806",
   "metadata": {},
   "outputs": [
    {
     "name": "stdout",
     "output_type": "stream",
     "text": [
      "Enter your choice:  1 - Rock,  2 - Paper, 3 - Scissors\n"
     ]
    },
    {
     "name": "stdin",
     "output_type": "stream",
     "text": [
      "Enter your choice : 3\n"
     ]
    },
    {
     "name": "stdout",
     "output_type": "stream",
     "text": [
      "Rock wins =>\n",
      "<== Computer wins ==>\n",
      "Do you want to play again? (Y/N)\n"
     ]
    },
    {
     "name": "stdin",
     "output_type": "stream",
     "text": [
      " n\n"
     ]
    },
    {
     "name": "stdout",
     "output_type": "stream",
     "text": [
      "thanks for playing\n"
     ]
    }
   ],
   "source": [
    "# 22. Write a program that simulates a rock-paper-scissors game against the computer.\n",
    "\n",
    "import random\n",
    "\n",
    "while True:     \n",
    "    print(\"Enter your choice:  1 - Rock,  2 - Paper, 3 - Scissors\")\n",
    "    ch=int(input(\"Enter your choice :\"))\n",
    "    while ch > 3 or ch <1:\n",
    "      ch=int(input('Enter a valid choice (1,2,3)'))\n",
    "    if ch == 1:\n",
    "        choice= 'Rock'\n",
    "    elif ch == 2:\n",
    "        choice= 'Paper'\n",
    "    else:\n",
    "        choice= 'Scissors'\n",
    "    comp_ch = random.randint(1,3)\n",
    "    while comp_ch == ch:\n",
    "        comp_ch = random.randint(1,3)\n",
    "    if comp_ch == 1:\n",
    "        comp_choice = 'rocK'\n",
    "    elif comp_ch == 2:\n",
    "        comp_choice = 'papeR'\n",
    "    else:\n",
    "        comp_choice = 'scissoR'\n",
    "    if choice == comp_choice:\n",
    "        print('Its a Draw',end=\"\")\n",
    "        result=\"DRAW\"\n",
    "    if (ch==1 and comp_ch==2):\n",
    "        print('paper wins =>',end=\"\")\n",
    "        result='papeR'\n",
    "    elif (ch==2 and comp_ch==1):\n",
    "        print('paper wins =>',end=\"\")\n",
    "        result='Paper'\n",
    "    if (ch==1 and comp_ch==3):\n",
    "        print('Rock wins =>\\n',end= \"\")\n",
    "        result='Rock'\n",
    "    elif (ch==3 and comp_ch==1):\n",
    "        print('Rock wins =>\\n',end= \"\")\n",
    "        result='rocK'     \n",
    "    if (ch==2 and comp_ch==3):\n",
    "        print('Scissors wins =>',end=\"\")\n",
    "        result='scissoR'\n",
    "    elif (ch==3 and comp_ch==2):\n",
    "        print('Scissors wins =>',end=\"\")\n",
    "        result='Rock'\n",
    "    if result == 'DRAW':\n",
    "        print(\"<== Its a tie ==>\")\n",
    "    if result == choice:\n",
    "        print(\"<== User wins ==>\")\n",
    "    else:\n",
    "        print(\"<== Computer wins ==>\")\n",
    "    print(\"Do you want to play again? (Y/N)\")\n",
    "    ans = input().lower()\n",
    "    if ans =='n':\n",
    "        break\n",
    "print(\"thanks for playing\")\n"
   ]
  },
  {
   "cell_type": "code",
   "execution_count": 2,
   "id": "053730be-5cba-44fb-b8a6-6f5f7a1c010d",
   "metadata": {},
   "outputs": [
    {
     "name": "stdin",
     "output_type": "stream",
     "text": [
      "Enter password length:  5\n"
     ]
    },
    {
     "name": "stdout",
     "output_type": "stream",
     "text": [
      "Choose character set for password from these : 1. Digits,2. Letters 3. Special characters, 4. Exit\n"
     ]
    },
    {
     "name": "stdin",
     "output_type": "stream",
     "text": [
      "Pick a number  34\n"
     ]
    },
    {
     "name": "stdout",
     "output_type": "stream",
     "text": [
      "Please pick a valid option!\n"
     ]
    },
    {
     "name": "stdin",
     "output_type": "stream",
     "text": [
      "Pick a number  2\n",
      "Pick a number  3\n",
      "Pick a number  1\n",
      "Pick a number  4\n"
     ]
    },
    {
     "name": "stdout",
     "output_type": "stream",
     "text": [
      "The random password is Rj@3@\n"
     ]
    }
   ],
   "source": [
    "# 23. Develop a program that generates a random password based on user preferences (length, complexity).\n",
    "\n",
    "import string\n",
    "import random\n",
    "length = int(input(\"Enter password length: \"))\n",
    "print(\"Choose character set for password from these : 1. Digits,2. Letters 3. Special characters, 4. Exit\")\n",
    "charList = \"\"\n",
    "\n",
    "while True:\n",
    "    choice = int(input(\"Pick a number \"))\n",
    "    if(choice == 1):\n",
    "        charList += string.ascii_letters\n",
    "    elif(choice == 2):\n",
    "        charList += string.digits\n",
    "    elif(choice == 3):\n",
    "        charList += string.punctuation\n",
    "    elif(choice == 4):\n",
    "        break\n",
    "    else:\n",
    "        print(\"Please pick a valid option!\")\n",
    " \n",
    "password = []\n",
    "for i in range(length):\n",
    "    randomchar = random.choice(charList)\n",
    "    password.append(randomchar)\n",
    "print(\"The random password is \" + \"\".join(password))"
   ]
  },
  {
   "cell_type": "code",
   "execution_count": 1,
   "id": "96fb753c-7d11-42ef-80cc-c26e46b652d2",
   "metadata": {},
   "outputs": [
    {
     "name": "stdout",
     "output_type": "stream",
     "text": [
      "You are in a dark room. There is a door to your north.\n",
      "There is a door to your north.\n"
     ]
    },
    {
     "name": "stdin",
     "output_type": "stream",
     "text": [
      "What do you want to do?  north\n"
     ]
    },
    {
     "name": "stdout",
     "output_type": "stream",
     "text": [
      "You are in room 1. There is a door to your east and south.\n",
      "There is a door to your east.\n",
      "There is a door to your south.\n"
     ]
    },
    {
     "name": "stdin",
     "output_type": "stream",
     "text": [
      "What do you want to do?  east\n"
     ]
    },
    {
     "name": "stdout",
     "output_type": "stream",
     "text": [
      "You are in room 2. There is a door to your west and south.\n",
      "There is a door to your south.\n",
      "There is a door to your west.\n"
     ]
    },
    {
     "name": "stdin",
     "output_type": "stream",
     "text": [
      "What do you want to do?  south\n"
     ]
    },
    {
     "name": "stdout",
     "output_type": "stream",
     "text": [
      "You are in room 3. You found the treasure! Congratulations!\n"
     ]
    }
   ],
   "source": [
    "# 24. Create a program that implements a simple text-based adventure game with branching scenarios.\n",
    "\n",
    "rooms = {\n",
    "    'start': {\n",
    "        'description': 'You are in a dark room. There is a door to your north.',\n",
    "        'north': 'room1'\n",
    "    },\n",
    "    'room1': {\n",
    "        'description': 'You are in room 1. There is a door to your east and south.',\n",
    "        'east': 'room2',\n",
    "        'south': 'start'\n",
    "    },\n",
    "    'room2': {\n",
    "        'description': 'You are in room 2. There is a door to your west and south.',\n",
    "        'west': 'room1',\n",
    "        'south': 'room3'\n",
    "    },\n",
    "    'room3': {\n",
    "        'description': 'You are in room 3. You found the treasure! Congratulations!',\n",
    "        'end': True\n",
    "    }\n",
    "}\n",
    "\n",
    "def show_room(room):\n",
    "    print(room['description'])\n",
    "\n",
    "    if 'north' in room:\n",
    "        print('There is a door to your north.')\n",
    "    if 'east' in room:\n",
    "        print('There is a door to your east.')\n",
    "    if 'south' in room:\n",
    "        print('There is a door to your south.')\n",
    "    if 'west' in room:\n",
    "        print('There is a door to your west.')\n",
    "\n",
    "\n",
    "def get_action(room):\n",
    "    while True:\n",
    "        action = input('What do you want to do? ').lower().strip()\n",
    "        if action == 'north' and 'north' in room:\n",
    "            return room['north']\n",
    "        elif action == 'east' and 'east' in room:\n",
    "            return room['east']\n",
    "        elif action == 'south' and 'south' in room:\n",
    "            return room['south']\n",
    "        elif action == 'west' and 'west' in room:\n",
    "            return room['west']\n",
    "        else:\n",
    "            print('Invalid action. Try again.')\n",
    "\n",
    "\n",
    "current_room = rooms['start']\n",
    "\n",
    "while 'end' not in current_room:\n",
    "    show_room(current_room)\n",
    "    next_room = get_action(current_room)\n",
    "    current_room = rooms[next_room]\n",
    "\n",
    "print(current_room['description'])"
   ]
  },
  {
   "cell_type": "code",
   "execution_count": null,
   "id": "065ac7d9-0667-423d-9c92-ccbc7c6e6c92",
   "metadata": {},
   "outputs": [],
   "source": [
    "# 25. Build a program that solves a linear equation  for x, considering different cases.\n",
    "\n",
    "# Python program to solve\n",
    "# the given equation\n",
    " \n",
    "# def to solve \n",
    "# the given equation\n",
    "def solveEquation(equation) :\n",
    " \n",
    "    n = len(equation) \n",
    "    sign = 1\n",
    "    coeff = 0\n",
    "    total = 0\n",
    "    i = 0\n",
    " \n",
    "    # Traverse the equation\n",
    "    for j in range(0, n) :\n",
    "     \n",
    "        if (equation[j] == '+' or\n",
    "            equation[j] == '-') :\n",
    "         \n",
    "            if (j > i) :\n",
    "                total = (total + sign *\n",
    "                         int(equation[i: j]))\n",
    "            i = j\n",
    "         \n",
    "        # For cases such \n",
    "        # as: x, -x, +x\n",
    "        elif (equation[j] == 'x') :\n",
    "         \n",
    "            if ((i == j) or\n",
    "                equation[j - 1] == '+') :\n",
    "                coeff += sign\n",
    "            elif (equation[j - 1] == '-') :\n",
    "                coeff = coeff - sign\n",
    "            else :\n",
    "                coeff = (coeff + sign *\n",
    "                         int(equation[i: j]))\n",
    "            i = j + 1\n",
    "         \n",
    "        # Flip sign once \n",
    "        # '=' is seen\n",
    "        elif (equation[j] == '=') :\n",
    "         \n",
    "            if (j > i) :\n",
    "                total = (total + sign *\n",
    "                         int(equation[i: j]))\n",
    "            sign = -1\n",
    "            i = j + 1\n",
    "         \n",
    "    # There may be a number\n",
    "    # left in the end\n",
    "    if (i < n) :\n",
    "        total = (total + sign *\n",
    "                 int(equation[i: len(equation)]))\n",
    " \n",
    "    # For infinite solutions\n",
    "    if (coeff == 0 and\n",
    "        total == 0) :\n",
    "        return \"Infinite solutions\"\n",
    " \n",
    "    # For no solution\n",
    "    if (coeff == 0 and total) :\n",
    "        return \"No solution\"\n",
    " \n",
    "    # x = total sum / coeff of x\n",
    "    # '-' sign indicates moving\n",
    "    # numeric value to right hand side\n",
    "    ans = -total / coeff\n",
    "    return int(ans)\n",
    " \n",
    "# Driver code\n",
    "equation = \"x+5-3+x=6+x-2\"\n",
    "print (\"x = {}\" . \n",
    "        format(solveEquation(equation)))\n",
    " \n",
    "# This code is contributed by \n",
    "# Manish Shaw(manishshaw1)"
   ]
  },
  {
   "cell_type": "code",
   "execution_count": 2,
   "id": "cd66ed83-085a-4201-af3e-85fd7158bc22",
   "metadata": {},
   "outputs": [
    {
     "name": "stdout",
     "output_type": "stream",
     "text": [
      "Wellcome to quiz game !!\n",
      "NOTE: if your spelling is incorrect then it is considered as wrong answer\n"
     ]
    },
    {
     "name": "stdin",
     "output_type": "stream",
     "text": [
      "Do you want to play ?  y\n",
      "\n",
      "1. what does CPU stand for?  central processing unit\n"
     ]
    },
    {
     "name": "stdout",
     "output_type": "stream",
     "text": [
      "correct! you got 1 point\n"
     ]
    },
    {
     "name": "stdin",
     "output_type": "stream",
     "text": [
      "\n",
      "2. what does GPU stand for?  graphics processing unit\n"
     ]
    },
    {
     "name": "stdout",
     "output_type": "stream",
     "text": [
      "correct! you got 1 point\n"
     ]
    },
    {
     "name": "stdin",
     "output_type": "stream",
     "text": [
      "\n",
      "3. what does RAM stand for?  random access memory\n"
     ]
    },
    {
     "name": "stdout",
     "output_type": "stream",
     "text": [
      "correct! you got 1 point\n"
     ]
    },
    {
     "name": "stdin",
     "output_type": "stream",
     "text": [
      "\n",
      "4. what does PSU stand for?  power supply unit\n"
     ]
    },
    {
     "name": "stdout",
     "output_type": "stream",
     "text": [
      "correct! you got 1 point\n"
     ]
    },
    {
     "name": "stdin",
     "output_type": "stream",
     "text": [
      "\n",
      "5. what does ROM stand for?  read only memory\n"
     ]
    },
    {
     "name": "stdout",
     "output_type": "stream",
     "text": [
      "correct! you got 1 point\n",
      "\n",
      "number of question is 5\n",
      "your score is 5\n",
      "100.0% questions are correct.\n"
     ]
    }
   ],
   "source": [
    "# 26. Write a program that simulates a basic quiz game with multiple-choice questions and scoring.\n",
    "\n",
    "print(\"Wellcome to quiz game !!\")\n",
    "print('NOTE: if your spelling is incorrect then it is considered as wrong answer')\n",
    "score = 0\n",
    "question_no = 0\n",
    "playing = input('Do you want to play ? ').lower()\n",
    "if playing == 'yes' or playing==\"y\":\n",
    "    question_no += 1\n",
    "    ques = input(f'\\n{question_no}. what does CPU stand for? ').lower()\n",
    "    if ques == 'central processing unit':\n",
    "        score +=1\n",
    "        print('correct! you got 1 point')\n",
    "        \n",
    "    else:\n",
    "        print('Incorrect!')\n",
    "        print(f'current answer is --> central processing unit')\n",
    "\n",
    "# ------1\n",
    "    question_no += 1\n",
    "    ques = input(f'\\n{question_no}. what does GPU stand for? ').lower()\n",
    "    \n",
    "    if ques == 'graphics processing unit':\n",
    "        score +=1\n",
    "        print('correct! you got 1 point')\n",
    "        \n",
    "    else:\n",
    "        print('Incorrect!')\n",
    "        print(f'current answer is --> graphics processing unit')\n",
    "\n",
    "# -----2\n",
    "    question_no += 1\n",
    "    ques = input(f'\\n{question_no}. what does RAM stand for? ').lower()\n",
    "    \n",
    "    if ques == 'random access memory':\n",
    "        score +=1\n",
    "        print('correct! you got 1 point')\n",
    "        \n",
    "    else:\n",
    "        print('Incorrect!')\n",
    "        print(f'current answer is --> random access memory')\n",
    "\n",
    "# -----3\n",
    "    question_no += 1\n",
    "    ques = input(f'\\n{question_no}. what does PSU stand for? ').lower()\n",
    "    \n",
    "    if ques == 'power supply unit':\n",
    "        score +=1\n",
    "        print('correct! you got 1 point')\n",
    "        \n",
    "    else:\n",
    "        print('Incorrect!')\n",
    "        print(f'current answer is --> power supply unit')\n",
    "\n",
    "\n",
    "# -----4\n",
    "    question_no += 1\n",
    "    ques = input(f'\\n{question_no}. what does ROM stand for? ').lower()\n",
    "    \n",
    "    if ques == 'read only memory':\n",
    "        score +=1\n",
    "        print('correct! you got 1 point')\n",
    "        \n",
    "    else:\n",
    "        print('Incorrect!')\n",
    "        print(f'current answer is --> read only memory')\n",
    "\n",
    "\n",
    "# ------5 \n",
    "\n",
    "else:\n",
    "    print('thankyou you are out of a game.')\n",
    "    quit()\n",
    "\n",
    "print(f'\\nnumber of question is {question_no}')\n",
    "print(f'your score is {score}')\n",
    "try:\n",
    "    percentage = (score *100)/question_no\n",
    "except ZeroDivisionError:\n",
    "    print('0% quetions are correct')\n",
    "\n",
    "print(f'{percentage}% questions are correct.')"
   ]
  },
  {
   "cell_type": "code",
   "execution_count": null,
   "id": "2eb0cd70-9e18-4656-879b-f799ecd0aa8a",
   "metadata": {},
   "outputs": [],
   "source": [
    "# 27. Develop a program that determines whether a given year is a prime number or not.\n",
    "\n",
    "year=int(input(\"Enter an Year\"))\n",
    "\n",
    "for i in range(2,year//2+1):\n",
    "    if year%i==0:\n",
    "        break\n",
    "else:\n",
    "    if i==year//2:\n",
    "        print(\"Prime\")\n",
    "    else:\n",
    "        print(\"Not Prime\")\n"
   ]
  },
  {
   "cell_type": "code",
   "execution_count": 2,
   "id": "cb24b726-5e8c-4764-8b3d-9bf390d03785",
   "metadata": {},
   "outputs": [
    {
     "name": "stdout",
     "output_type": "stream",
     "text": [
      "50\n"
     ]
    }
   ],
   "source": [
    "# 28. Create a program that sorts three numbers in ascending order using conditional statements.\n",
    "\n",
    "a,b,c=50,6,7\n",
    "\n",
    "mx= a if a>c else c if a>b else b if b>c else c\n",
    "\n",
    "print(mx)\n"
   ]
  },
  {
   "cell_type": "code",
   "execution_count": 3,
   "id": "8e4a5f8f-2e83-4125-9168-339d1b6cf4c1",
   "metadata": {},
   "outputs": [
    {
     "name": "stdout",
     "output_type": "stream",
     "text": [
      "Roots are complex\n",
      "Roots are --- \n",
      "-1.5+i 9.327379053088816\n",
      "-1.5-i 9.327379053088816\n"
     ]
    }
   ],
   "source": [
    "# 29. Build a program that determines the roots of a quadratic equation using numerical methods.\n",
    "\n",
    "import math\n",
    "a=-1\n",
    "b=-3\n",
    "c=-24\n",
    "\n",
    "discriminant= b*b-4*a*c\n",
    "\n",
    "sq=math.sqrt(abs(discriminant))\n",
    "\n",
    "if discriminant>0:\n",
    "    print(\"Roots are Real and Different\")\n",
    "    print(\"Roots are --- \")\n",
    "    print((-b+sq)/2*a)\n",
    "    print((-b-sq)/2*a)\n",
    "elif discriminant==0:\n",
    "    print(\"Roots are Real and same\")\n",
    "    print(\"Roots are --- \")\n",
    "    print((-b)/2*a)\n",
    "else:\n",
    "    print(\"Roots are complex\")\n",
    "    print(\"Roots are --- \")\n",
    "    print(str(- b / (2 * a)) +\"+i\", sq) \n",
    "    print(str(- b / (2 * a))+\"-i\", sq)  "
   ]
  },
  {
   "cell_type": "code",
   "execution_count": 3,
   "id": "e1ed319e-3f93-4686-8042-96503953d921",
   "metadata": {},
   "outputs": [
    {
     "name": "stdin",
     "output_type": "stream",
     "text": [
      "enter your height  1.6\n",
      "Enter your weight 67\n"
     ]
    },
    {
     "name": "stdout",
     "output_type": "stream",
     "text": [
      "26.171874999999996\n",
      "overweight\n"
     ]
    }
   ],
   "source": [
    "# 30. Write a program that calculates the BMI (Body Mass Index) and provides health recommendations based on the user's input.\n",
    "\n",
    "\n",
    "height = float(input(\"enter your height \"))\n",
    "weight = float(input(\"Enter your weight\" ))\n",
    "bmi = weight/(height**2) \n",
    "print(bmi)\n",
    "if (bmi < 18.5): \n",
    "    print(\"underweight\") \n",
    "elif ( bmi >= 18.5 and bmi < 24.9): \n",
    "    print(\"Healthy\") \n",
    "elif ( bmi >= 24.9 and bmi < 30): \n",
    "    print(\"overweight\") \n",
    "elif ( bmi >=30): \n",
    "    print(\"Suffering from Obesity\") "
   ]
  },
  {
   "cell_type": "markdown",
   "id": "7afa03df-57ce-47dc-9301-a035c5025997",
   "metadata": {},
   "source": [
    "# Challenge Level:"
   ]
  },
  {
   "cell_type": "markdown",
   "id": "4635b2d8-953b-466f-a48f-3a9e3516fa06",
   "metadata": {},
   "source": [
    "### 31. Create a program that validates a password based on complexity rules (length, characters, etc.).\n",
    "\n",
    "import re\n",
    "password = \"Singh@123\"\n",
    "flag = 0\n",
    "while True:\n",
    "    if (len(password)<=8):\n",
    "        flag = -1\n",
    "        break\n",
    "    elif not re.search(\"[a-z]\", password):\n",
    "        flag = -1\n",
    "        break\n",
    "    elif not re.search(\"[A-Z]\", password):\n",
    "        flag = -1\n",
    "        break\n",
    "    elif not re.search(\"[0-9]\", password):\n",
    "        flag = -1\n",
    "        break\n",
    "    elif not re.search(\"[_@$]\" , password):\n",
    "        flag = -1\n",
    "        break\n",
    "    elif re.search(\"\\s\" , password):\n",
    "        flag = -1\n",
    "        break\n",
    "    else:\n",
    "        flag = 0\n",
    "        print(\"Valid Password\")\n",
    "        break\n",
    " \n",
    "if flag == -1:\n",
    "    print(\"Not a Valid Password \")"
   ]
  },
  {
   "cell_type": "code",
   "execution_count": null,
   "id": "f62bdb8f-3250-4107-8af4-98a82dfd0601",
   "metadata": {},
   "outputs": [],
   "source": [
    "# 32. Develop a program that performs matrix addition and subtraction based on user input.\n",
    "\n"
   ]
  },
  {
   "cell_type": "code",
   "execution_count": null,
   "id": "8bee7fe4-45d1-469c-895b-9c0307278252",
   "metadata": {},
   "outputs": [],
   "source": [
    "# 33. Write a program that calculates the greatest common divisor (GCD) of two numbers using the Euclidean algorithm.\n",
    "\n"
   ]
  },
  {
   "cell_type": "code",
   "execution_count": null,
   "id": "fbb92541-612d-4be7-8478-594962408294",
   "metadata": {},
   "outputs": [],
   "source": [
    "# 34. Build a program that performs matrix multiplication using nested loops and conditional statements.\n",
    "\n"
   ]
  },
  {
   "cell_type": "code",
   "execution_count": null,
   "id": "3821942d-760e-48d1-9440-beadc229b7be",
   "metadata": {},
   "outputs": [],
   "source": [
    "# 35. Create a program that simulates a basic text-based tic-tac-toe game against the computer.\n",
    "\n"
   ]
  },
  {
   "cell_type": "code",
   "execution_count": null,
   "id": "5c037c6e-9247-480e-8e79-0d0d42f87638",
   "metadata": {},
   "outputs": [],
   "source": [
    "# 36. Write a program that generates Fibonacci numbers up to a specified term using iterative methods.\n",
    "\n"
   ]
  },
  {
   "cell_type": "code",
   "execution_count": null,
   "id": "d7d5de75-a00a-40cf-94d5-5fc56e4d3f35",
   "metadata": {},
   "outputs": [],
   "source": [
    "# 37. Develop a program that calculates the nth term of the Fibonacci sequence using memoization.\n",
    "\n"
   ]
  },
  {
   "cell_type": "code",
   "execution_count": null,
   "id": "f3ac41f9-53e7-4985-abe1-6c9b11a20ae6",
   "metadata": {},
   "outputs": [],
   "source": [
    "# 38. Create a program that generates a calendar for a given month and year using conditional statements.\n",
    "\n"
   ]
  },
  {
   "cell_type": "code",
   "execution_count": null,
   "id": "768d4a79-8002-4658-b028-770b74d98ea3",
   "metadata": {},
   "outputs": [],
   "source": [
    "# 39. Build a program that simulates a basic text-based blackjack game against the computer"
   ]
  },
  {
   "cell_type": "code",
   "execution_count": null,
   "id": "a928ddeb-5ea1-413f-9f08-0464914f436f",
   "metadata": {},
   "outputs": [],
   "source": [
    "# 40. Write a program that generates the prime factors of a given number using trial division."
   ]
  }
 ],
 "metadata": {
  "kernelspec": {
   "display_name": "Python 3 (ipykernel)",
   "language": "python",
   "name": "python3"
  },
  "language_info": {
   "codemirror_mode": {
    "name": "ipython",
    "version": 3
   },
   "file_extension": ".py",
   "mimetype": "text/x-python",
   "name": "python",
   "nbconvert_exporter": "python",
   "pygments_lexer": "ipython3",
   "version": "3.11.5"
  }
 },
 "nbformat": 4,
 "nbformat_minor": 5
}
