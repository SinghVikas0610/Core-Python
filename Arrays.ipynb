{
 "cells": [
  {
   "cell_type": "code",
   "execution_count": 13,
   "id": "6195f83c-f91b-47d2-84cb-00b1b7b1a4af",
   "metadata": {},
   "outputs": [
    {
     "name": "stdout",
     "output_type": "stream",
     "text": [
      "True\n"
     ]
    }
   ],
   "source": [
    "# 1. Given an array, check if it contains any duplicates or not. \n",
    "\n",
    "arr = [1, 2, 4, 2, 5, 9,5]\n",
    "\n",
    "for num in range(len(arr)-1):\n",
    "    if arr.count((arr[num]))>1:\n",
    "        print(\"True\")\n",
    "        break"
   ]
  },
  {
   "cell_type": "code",
   "execution_count": 15,
   "id": "2d0de0a1-b961-4d54-9d22-c5e7dfeda47d",
   "metadata": {},
   "outputs": [
    {
     "name": "stdout",
     "output_type": "stream",
     "text": [
      "4 5 1 2 3 \n",
      "\n"
     ]
    }
   ],
   "source": [
    "# 2. Given an array and an integer k, rotate the array to the right by k steps. \n",
    "\n",
    "def RightRotate(a, n, k):\n",
    " \n",
    "    # If rotation is greater \n",
    "    # than size of array\n",
    "    k = k % n;\n",
    " \n",
    "    for i in range(0, n):\n",
    " \n",
    "        if(i < k):\n",
    " \n",
    "            # Printing rightmost \n",
    "            # kth elements\n",
    "            print(a[n + i - k], end = \" \");\n",
    " \n",
    "        else:\n",
    " \n",
    "            # Prints array after\n",
    "            # 'k' elements\n",
    "            print(a[i - k], end = \" \");\n",
    " \n",
    "    print(\"\\n\");\n",
    " \n",
    "# Driver code\n",
    "Array = [ 1, 2, 3, 4, 5 ];\n",
    "N = len(Array);\n",
    "K = 2;\n",
    "     \n",
    "RightRotate(Array, N, K);"
   ]
  },
  {
   "cell_type": "code",
   "execution_count": 16,
   "id": "86517d9b-eea9-4e53-a4d6-60a4b4e5eea6",
   "metadata": {},
   "outputs": [
    {
     "name": "stdout",
     "output_type": "stream",
     "text": [
      "Reversed Array: 12 9 7 5 4 2 "
     ]
    }
   ],
   "source": [
    "#3. Reverse the given array in-place, means without using any extra data structure. \n",
    "\n",
    "\n",
    "def reverse_array_extra_array(arr):\n",
    "    reversed_arr = arr[::-1]\n",
    " \n",
    "    # Print reversed array\n",
    "    print(\"Reversed Array:\", end=\" \")\n",
    "    for i in reversed_arr:\n",
    "        print(i, end=\" \")\n",
    " \n",
    "# Example usage:\n",
    "original_arr = [2, 4, 5, 7, 9, 12] \n",
    "reverse_array_extra_array(original_arr)"
   ]
  },
  {
   "cell_type": "code",
   "execution_count": 18,
   "id": "c49a38b8-84a4-4a9d-a1ca-0b52ee4b493d",
   "metadata": {},
   "outputs": [
    {
     "name": "stdout",
     "output_type": "stream",
     "text": [
      "Largest in given array is 20\n"
     ]
    }
   ],
   "source": [
    "# 4. Given an array of integers, find the maximum element in an array\n",
    "def largest(arr, n):\n",
    "    mx = arr[0]\n",
    "    for i in range(1, n):\n",
    "        if arr[i] > mx:\n",
    "            mx = arr[i]\n",
    "    return mx\n",
    "\n",
    "if __name__ == '__main__':\n",
    "    arr = [10, 5, 20, 8, 15]\n",
    "    n = len(arr)\n",
    "    Ans = largest(arr, n)\n",
    "    print(\"Largest in given array is\", Ans)"
   ]
  },
  {
   "cell_type": "code",
   "execution_count": 20,
   "id": "4fd9d1f9-0bf9-47ef-8a61-5c67e0c30451",
   "metadata": {},
   "outputs": [
    {
     "name": "stdout",
     "output_type": "stream",
     "text": [
      "1 2 3 4 5 "
     ]
    }
   ],
   "source": [
    "# 5. Given a sorted array, remove the duplicate element without using any extra data structure. \n",
    "\n",
    " \n",
    "def removeDuplicates(arr, n):\n",
    "    if n == 0 or n == 1:\n",
    "        return n\n",
    "    temp = list(range(n))\n",
    "    j = 0\n",
    "    for i in range(0, n-1):\n",
    "        if arr[i] != arr[i+1]:\n",
    "            temp[j] = arr[i]\n",
    "            j += 1\n",
    "    temp[j] = arr[n-1]\n",
    "    j += 1\n",
    "    for i in range(0, j):\n",
    "        arr[i] = temp[i]\n",
    " \n",
    "    return j\n",
    "if __name__ == '__main__':\n",
    "    arr = [1, 1, 2, 2, 2, 3, 3, 4, 4, 4, 5, 5]\n",
    "    n = len(arr)\n",
    "    n = removeDuplicates(arr, n)\n",
    "    for i in range(n):\n",
    "        print(\"%d\" % (arr[i]), end=\" \")"
   ]
  },
  {
   "cell_type": "code",
   "execution_count": null,
   "id": "e8c24581-5c68-441c-b8e5-b34a569a5ba3",
   "metadata": {},
   "outputs": [],
   "source": []
  }
 ],
 "metadata": {
  "kernelspec": {
   "display_name": "Python 3 (ipykernel)",
   "language": "python",
   "name": "python3"
  },
  "language_info": {
   "codemirror_mode": {
    "name": "ipython",
    "version": 3
   },
   "file_extension": ".py",
   "mimetype": "text/x-python",
   "name": "python",
   "nbconvert_exporter": "python",
   "pygments_lexer": "ipython3",
   "version": "3.11.5"
  }
 },
 "nbformat": 4,
 "nbformat_minor": 5
}
