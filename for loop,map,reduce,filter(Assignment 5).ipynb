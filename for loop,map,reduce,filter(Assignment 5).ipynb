{
 "cells": [
  {
   "cell_type": "markdown",
   "id": "56029bef-3581-4f98-97ae-a963817a7785",
   "metadata": {},
   "source": [
    "# Map:-"
   ]
  },
  {
   "cell_type": "code",
   "execution_count": 5,
   "id": "55ae8463-d2fc-46f9-b3c5-546016dc2475",
   "metadata": {},
   "outputs": [
    {
     "data": {
      "text/plain": [
       "[1, 8, 27, 64]"
      ]
     },
     "execution_count": 5,
     "metadata": {},
     "output_type": "execute_result"
    }
   ],
   "source": [
    "# 1. Explain the purpose of the `map()` function in Python and provide an example of how it can be used to apply a function to each element of an iterable.\n",
    "'''\n",
    "map is function works as an iterator for any iterable object like list to apply a function on each element of the iterable object'''\n",
    "# example: find out the cube of each value in a list\n",
    "lt=[1,2,3,4]\n",
    "\n",
    "list(map(lambda x:x**3,lt))\n"
   ]
  },
  {
   "cell_type": "code",
   "execution_count": 6,
   "id": "cb2a6679-4d4f-4284-9912-2244a0df8fba",
   "metadata": {},
   "outputs": [
    {
     "data": {
      "text/plain": [
       "[1, 4, 9, 16]"
      ]
     },
     "execution_count": 6,
     "metadata": {},
     "output_type": "execute_result"
    }
   ],
   "source": [
    "# 2. Write a Python program that uses the `map()` function to square each element of a list of numbers.\n",
    "lt=[1,2,3,4]\n",
    "\n",
    "list(map(lambda x:x**2,lt))\n"
   ]
  },
  {
   "cell_type": "code",
   "execution_count": null,
   "id": "058bb020-3197-40e8-97ae-448869848608",
   "metadata": {},
   "outputs": [],
   "source": [
    "# 3. How does the `map()` function differ from a list comprehension in Python, and when would you choose one over the other?\n",
    "\n",
    "''' map is faster over list comprehension in some cases but list comprehension is easier and simpler way to implement map, filter, reduce functions\n",
    "map returs a map object on the other hand it returns a list . map can apply only a function but can not be used for the filter operation like filter \n",
    "function but on the other hand it can be used in place of filter function as well '''\n"
   ]
  },
  {
   "cell_type": "code",
   "execution_count": 7,
   "id": "fc071e15-5567-4ef8-802c-0c0417b26675",
   "metadata": {},
   "outputs": [
    {
     "data": {
      "text/plain": [
       "['SINGH', 'ROHIT', 'VIJAY', 'KALPANA', 'RAJU', 'AMIT']"
      ]
     },
     "execution_count": 7,
     "metadata": {},
     "output_type": "execute_result"
    }
   ],
   "source": [
    "# 4. Create a Python program that uses the `map()` function to convert a list of names to uppercase.\n",
    "\n",
    "lt=[\"singh\",\"rohit\",\"vijay\",\"kalpana\",\"Raju\",\"amit\"]\n",
    "\n",
    "list(map(lambda x:x.upper(),lt))"
   ]
  },
  {
   "cell_type": "code",
   "execution_count": 8,
   "id": "abdb62c5-0c63-4360-85d8-3a0c05066668",
   "metadata": {},
   "outputs": [
    {
     "data": {
      "text/plain": [
       "[5, 5, 5, 7, 4, 4]"
      ]
     },
     "execution_count": 8,
     "metadata": {},
     "output_type": "execute_result"
    }
   ],
   "source": [
    "# 5. Write a Python program that uses the `map()` function to calculate the length of each word in a list of strings.\n",
    "\n",
    "lt=[\"singh\",\"rohit\",\"vijay\",\"kalpana\",\"Raju\",\"amit\"]\n",
    "\n",
    "list(map(lambda x:len(x),lt))"
   ]
  },
  {
   "cell_type": "code",
   "execution_count": 9,
   "id": "6392a9d1-803f-4cbe-b4eb-6bc0436070e1",
   "metadata": {},
   "outputs": [
    {
     "data": {
      "text/plain": [
       "[4, 6, 8, 10, 12]"
      ]
     },
     "execution_count": 9,
     "metadata": {},
     "output_type": "execute_result"
    }
   ],
   "source": [
    "# 6. How can you use the `map()` function to apply a custom function to elements of multiple lists simultaneously in Python?\n",
    "\n",
    "lt=[1,2,3,4,5]\n",
    "lp=[3,4,5,6,7]\n",
    "\n",
    "list(map(lambda x,y:x+y,lt,lp))\n",
    "\n"
   ]
  },
  {
   "cell_type": "code",
   "execution_count": 12,
   "id": "777060a2-4e0e-417c-ac1f-c145f4c03ed8",
   "metadata": {},
   "outputs": [
    {
     "data": {
      "text/plain": [
       "[93.2, 96.8, 100.4, 104.0, 113.0, 120.2, 122.0]"
      ]
     },
     "execution_count": 12,
     "metadata": {},
     "output_type": "execute_result"
    }
   ],
   "source": [
    "# 7. Create a Python program that uses `map()` to convert a list of temperatures from Celsius to Fahrenheit.\n",
    "\n",
    "lt=[34,36,38,40,45,49,50]\n",
    "\n",
    "list(map(lambda x: (x*9)/5+32,lt))\n",
    "\n"
   ]
  },
  {
   "cell_type": "code",
   "execution_count": 18,
   "id": "11726093-e476-4ff7-ac20-d96439725b39",
   "metadata": {},
   "outputs": [
    {
     "data": {
      "text/plain": [
       "[12, 3, 4, 5, 6, 6, 7]"
      ]
     },
     "execution_count": 18,
     "metadata": {},
     "output_type": "execute_result"
    }
   ],
   "source": [
    "# 8. Write a Python program that uses the `map()` function to round each element of a list of floating-point numbers to the nearest integer.\n",
    "\n",
    "lt=[12.2223,3.3345,4.456,5.567,6.6778,6.7654,7.6547]\n",
    "\n",
    "list(map(lambda x:int(x),lt))\n"
   ]
  },
  {
   "cell_type": "markdown",
   "id": "aed18706-6a79-4b8e-8bd8-4c25337a99a8",
   "metadata": {},
   "source": [
    "# Reduce:-"
   ]
  },
  {
   "cell_type": "code",
   "execution_count": 20,
   "id": "fecc91b0-f5e6-4b1b-968d-1ceca82de968",
   "metadata": {},
   "outputs": [
    {
     "data": {
      "text/plain": [
       "21"
      ]
     },
     "execution_count": 20,
     "metadata": {},
     "output_type": "execute_result"
    }
   ],
   "source": [
    "# 1. What is the `reduce()` function in Python, and what module should you import to use it? Provide an example of its basic usage.\n",
    "''' this function implements a mathmatical technique that is folding or reduction on a list elements. we can use it to apply a function on each element\n",
    "of an iterable and reduce it to a cumulative value\n",
    "we have to import functools \n",
    "'''\n",
    "import functools as fs\n",
    "\n",
    "lt=[1,2,3,4,5,6]\n",
    "\n",
    "fs.reduce(lambda x,y:x+y,lt)\n"
   ]
  },
  {
   "cell_type": "code",
   "execution_count": 21,
   "id": "d0fb3edc-6827-4b3c-b28e-995702b39677",
   "metadata": {},
   "outputs": [
    {
     "data": {
      "text/plain": [
       "720"
      ]
     },
     "execution_count": 21,
     "metadata": {},
     "output_type": "execute_result"
    }
   ],
   "source": [
    "# 2. Write a Python program that uses the `reduce()` function to find the product of all elements in a list.\n",
    "\n",
    "import functools as fs\n",
    "\n",
    "lt=[1,2,3,4,5,6]\n",
    "\n",
    "fs.reduce(lambda x,y:x*y,lt)\n"
   ]
  },
  {
   "cell_type": "code",
   "execution_count": 22,
   "id": "f41b0632-5f67-43b7-9540-2ef3398d3937",
   "metadata": {},
   "outputs": [
    {
     "data": {
      "text/plain": [
       "20"
      ]
     },
     "execution_count": 22,
     "metadata": {},
     "output_type": "execute_result"
    }
   ],
   "source": [
    "# 3. Create a Python program that uses `reduce()` to find the maximum element in a list of numbers.\n",
    "import functools as fs\n",
    "\n",
    "lt=[1,20,3,4,5,6]\n",
    "\n",
    "fs.reduce(lambda x,y: x if x>y else y,lt)"
   ]
  },
  {
   "cell_type": "code",
   "execution_count": 24,
   "id": "8ba1f7cb-254c-4cf3-9ece-ace98e0f4791",
   "metadata": {},
   "outputs": [
    {
     "data": {
      "text/plain": [
       "'vikas singh Form Kanpur'"
      ]
     },
     "execution_count": 24,
     "metadata": {},
     "output_type": "execute_result"
    }
   ],
   "source": [
    "# 4. How can you use the `reduce()` function to concatenate a list of strings into a single string?\n",
    "import functools as fs\n",
    "lt=[\"vikas\",\"singh\",\"Form\",\"Kanpur\"]\n",
    "\n",
    "fs.reduce(lambda x,y:x+\" \"+y,lt)\n"
   ]
  },
  {
   "cell_type": "code",
   "execution_count": 26,
   "id": "10dbc35e-17ba-4ba8-9968-16dae8b324c7",
   "metadata": {},
   "outputs": [
    {
     "data": {
      "text/plain": [
       "120"
      ]
     },
     "execution_count": 26,
     "metadata": {},
     "output_type": "execute_result"
    }
   ],
   "source": [
    "# 5. Write a Python program that calculates the factorial of a number using the `reduce()` function.\n",
    "\n",
    "import functools as fs\n",
    "\n",
    "n=5\n",
    "\n",
    "\n",
    "fs.reduce(lambda x,y: x*y,[i for i in range(1,n+1)])"
   ]
  },
  {
   "cell_type": "code",
   "execution_count": 31,
   "id": "4e214abe-b5f5-4559-ad02-9c7ee3ca0055",
   "metadata": {},
   "outputs": [
    {
     "name": "stdin",
     "output_type": "stream",
     "text": [
      "Insert space separated numbers:  12 24 34\n"
     ]
    },
    {
     "name": "stdout",
     "output_type": "stream",
     "text": [
      "GCD of given numbers is 2\n"
     ]
    }
   ],
   "source": [
    "# 6. Create a Python program that uses `reduce()` to find the GCD (Greatest Common Divisor) of a list of numbers.\n",
    "import functools as fs\n",
    "def gcd(a, b):\n",
    "    if not b:\n",
    "        return a\n",
    "    else:\n",
    "        return gcd(b, a % b)\n",
    "\n",
    "\n",
    "def gcd_n(numbers):\n",
    "    return fs.reduce(lambda x, y: gcd(x, y), numbers)\n",
    "    \n",
    "user_input = input(\"Insert space separated numbers: \")\n",
    "\n",
    "numbers = [int(n) for n in user_input.split()]\n",
    "\n",
    "print(\"GCD of given numbers is %g\" % (gcd_n(numbers)))\n"
   ]
  },
  {
   "cell_type": "code",
   "execution_count": 34,
   "id": "c69674c5-7304-4bf7-9fa9-1620bc074b7f",
   "metadata": {},
   "outputs": [
    {
     "data": {
      "text/plain": [
       "6"
      ]
     },
     "execution_count": 34,
     "metadata": {},
     "output_type": "execute_result"
    }
   ],
   "source": [
    "# 7. Write a Python program that uses the `reduce()` function to find the sum of the digits of a given number.\n",
    "import functools as fs\n",
    "n=123\n",
    "\n",
    "fs.reduce(lambda x,y:x+y,[int(i) for i in str(n)])\n"
   ]
  },
  {
   "cell_type": "markdown",
   "id": "53bf3f0a-66db-4a79-9e17-ea2a4a2498ee",
   "metadata": {},
   "source": [
    "# Filter:"
   ]
  },
  {
   "cell_type": "code",
   "execution_count": 37,
   "id": "c9284736-72e0-4791-87f0-4dc2689a4bc1",
   "metadata": {},
   "outputs": [
    {
     "data": {
      "text/plain": [
       "[1, 3, 5, 7, 9]"
      ]
     },
     "execution_count": 37,
     "metadata": {},
     "output_type": "execute_result"
    }
   ],
   "source": [
    "# 1. Explain the purpose of the `filter()` function in Python and provide an example of how it can be used to filter elements from an iterable.\n",
    "''' it is used to process an iterable in such way that can return only those values from the iteratble which is satisfying the given conditon'''\n",
    "\n",
    "\n",
    "\n",
    "\n",
    "lt=[1,2,3,4,5,6,7,8,9]\n",
    "\n",
    "list(filter(lambda x: x%2!=0,lt))\n"
   ]
  },
  {
   "cell_type": "code",
   "execution_count": 38,
   "id": "84125eb0-31dd-49d4-b4b2-d1ff29c84931",
   "metadata": {},
   "outputs": [
    {
     "data": {
      "text/plain": [
       "[2, 4, 6, 8]"
      ]
     },
     "execution_count": 38,
     "metadata": {},
     "output_type": "execute_result"
    }
   ],
   "source": [
    "# 2. Write a Python program that uses the `filter()` function to select even numbers from a list of integers.\n",
    "\n",
    "lt=[1,2,3,4,5,6,7,8,9]\n",
    "\n",
    "list(filter(lambda x: x%2==0,lt))\n"
   ]
  },
  {
   "cell_type": "code",
   "execution_count": 43,
   "id": "cf5b0dfe-e416-4f8c-925c-ae55caf6e026",
   "metadata": {},
   "outputs": [
    {
     "data": {
      "text/plain": [
       "['singh']"
      ]
     },
     "execution_count": 43,
     "metadata": {},
     "output_type": "execute_result"
    }
   ],
   "source": [
    "# 3. Create a Python program that uses the `filter()` function to select names that start with a specific letter from a list of strings.\n",
    "\n",
    "lt=[\"vikas\",\"singh\",\"Form\",\"Kanpur\"]\n",
    "\n",
    "list(filter(lambda x: x if x[0]==\"s\" else \"\",lt))\n"
   ]
  },
  {
   "cell_type": "code",
   "execution_count": 45,
   "id": "86437a05-28c4-4ec4-876f-b79da54827fa",
   "metadata": {},
   "outputs": [
    {
     "data": {
      "text/plain": [
       "[5, 7]"
      ]
     },
     "execution_count": 45,
     "metadata": {},
     "output_type": "execute_result"
    }
   ],
   "source": [
    "# 4. Write a Python program that uses the `filter()` function to select prime numbers from a list of integers.\n",
    "\n",
    "lt=[1,2,3,4,5,6,7,8,9,10]\n",
    "\n",
    "def fun(n):\n",
    "    for i in range(2,n//2+1):\n",
    "        if n%i==0:\n",
    "            break\n",
    "        if i==n//2:\n",
    "            return i\n",
    "list(filter(fun,lt))"
   ]
  },
  {
   "cell_type": "code",
   "execution_count": 10,
   "id": "64f77b05-316a-4c71-9623-41496af4e32b",
   "metadata": {},
   "outputs": [
    {
     "data": {
      "text/plain": [
       "[1, 2, 3, 56]"
      ]
     },
     "execution_count": 10,
     "metadata": {},
     "output_type": "execute_result"
    }
   ],
   "source": [
    "# 5. How can you use the `filter()` function to remove None values from a list in Python?\n",
    "lt=[1,2,3,None,45,56,None]\n",
    "\n",
    "new=list(filter(lambda x: lt.remove(x) if x is None else x,lt))\n",
    "new\n"
   ]
  },
  {
   "cell_type": "code",
   "execution_count": 6,
   "id": "0cea5d16-e0da-428b-9b39-23dae5257fd9",
   "metadata": {},
   "outputs": [
    {
     "data": {
      "text/plain": [
       "['Kanpur', 'Lucknow']"
      ]
     },
     "execution_count": 6,
     "metadata": {},
     "output_type": "execute_result"
    }
   ],
   "source": [
    "# 6. Create a Python program that uses `filter()` to select words longer than a certain length from a list of strings.\n",
    "lt=[\"vikas\",\"singh\",\"Form\",\"Kanpur\",\"Lucknow\"]\n",
    "l=5\n",
    "list(filter(lambda x:x if len(x)>l else None,lt))\n"
   ]
  },
  {
   "cell_type": "code",
   "execution_count": 12,
   "id": "8d67e123-356b-4f38-8a43-395e4cd66131",
   "metadata": {},
   "outputs": [
    {
     "data": {
      "text/plain": [
       "[7, 8, 9, 10]"
      ]
     },
     "execution_count": 12,
     "metadata": {},
     "output_type": "execute_result"
    }
   ],
   "source": [
    "# 7. Write a Python program that uses the `filter()` function to select elements greater than a specified threshold from a list of values.\n",
    "\n",
    "lt=[1,2,3,4,5,6,7,8,9,10]\n",
    "l=6\n",
    "new=list(filter(lambda x:x if x>l else None,lt))\n",
    "\n",
    "new"
   ]
  },
  {
   "cell_type": "markdown",
   "id": "a42663cb-f550-4b99-bb2a-37bca577e17e",
   "metadata": {},
   "source": [
    "# Recursion:"
   ]
  },
  {
   "cell_type": "code",
   "execution_count": null,
   "id": "e59ea713-8da7-4bb6-8750-5434eac4dd34",
   "metadata": {},
   "outputs": [],
   "source": [
    "# 1. Explain the concept of recursion in Python. How does it differ from iteration?\n",
    "\n",
    "''' recursion is a function that calls itself. it is like an iteration using function calls again and again. it is slower and extra memory consuming than\n",
    "iteration. but has smaller code size and in some cases recursion is best choice over iteration'''\n"
   ]
  },
  {
   "cell_type": "code",
   "execution_count": 13,
   "id": "bafb0825-ff73-401b-91ec-05c142200376",
   "metadata": {},
   "outputs": [
    {
     "name": "stdout",
     "output_type": "stream",
     "text": [
      "Factorial is =  120\n"
     ]
    }
   ],
   "source": [
    "# 2. Write a Python program to calculate the factorial of a number using recursion.\n",
    "\n",
    "def fact(n):\n",
    "    if n==1:\n",
    "        return 1\n",
    "    else:\n",
    "        return n*fact(n-1)\n",
    "\n",
    "val=5\n",
    "res=fact(val)\n",
    "\n",
    "print(\"Factorial is = \",res)"
   ]
  },
  {
   "cell_type": "code",
   "execution_count": 16,
   "id": "862c6397-586c-4227-8a4d-7fe450c4d359",
   "metadata": {},
   "outputs": [
    {
     "name": "stdout",
     "output_type": "stream",
     "text": [
      "1\n",
      "1\n",
      "2\n",
      "3\n",
      "5\n",
      "8\n",
      "13\n",
      "21\n",
      "34\n",
      "55\n"
     ]
    }
   ],
   "source": [
    "# 3. Create a recursive Python function to find the nth Fibonacci number.\n",
    "\n",
    "def fib(n):\n",
    "    if n<=1:\n",
    "        return n\n",
    "    else:\n",
    "        return fib(n-1)+fib(n-2)\n",
    "\n",
    "for i in range(1,11):\n",
    "    print(fib(i))\n"
   ]
  },
  {
   "cell_type": "code",
   "execution_count": 18,
   "id": "850ad2bd-81a5-4851-bd19-f9d1542192ee",
   "metadata": {},
   "outputs": [
    {
     "name": "stdout",
     "output_type": "stream",
     "text": [
      "45\n"
     ]
    }
   ],
   "source": [
    "# 4. Write a recursive Python function to calculate the sum of all elements in a list.\n",
    "\n",
    "def lst(lt,n):\n",
    "    if n==0:\n",
    "        return 0\n",
    "    else:\n",
    "        return lt[n-1]+lst(lt,n-1)\n",
    "\n",
    "lt=[1,2,3,4,5,6,7,8,9]\n",
    "res=lst(lt,len(lt))\n",
    "print(res)"
   ]
  },
  {
   "cell_type": "code",
   "execution_count": null,
   "id": "b7eb521a-765c-4110-8e20-56a02a7bea2a",
   "metadata": {},
   "outputs": [],
   "source": [
    "# 5. How can you prevent a recursive function from running indefinitely, causing a stack overflow error?\n",
    "'''by implementing a base case, a base case is conditon i which a recursive function will not call itself further.'''"
   ]
  },
  {
   "cell_type": "code",
   "execution_count": 19,
   "id": "11e06cc7-5496-4c0a-946c-9f6162b0fdc8",
   "metadata": {},
   "outputs": [
    {
     "name": "stdout",
     "output_type": "stream",
     "text": [
      "3\n"
     ]
    }
   ],
   "source": [
    "# 6. Create a recursive Python function to find the greatest common divisor (GCD) of two numbers using the Euclidean algorithm.\n",
    "\n",
    "def gcd(a,b):\n",
    "    if b==0:\n",
    "        return a\n",
    "    else:\n",
    "        return gcd(b,a%b)\n",
    "\n",
    "a=12\n",
    "b=15\n",
    "if a>b:\n",
    "    a,b=b,a\n",
    "res=gcd(a,b)\n",
    "print(res)\n",
    "\n"
   ]
  },
  {
   "cell_type": "code",
   "execution_count": 20,
   "id": "36282afa-12d6-4720-990e-36d15b77fc19",
   "metadata": {},
   "outputs": [
    {
     "data": {
      "text/plain": [
       "'hgnis'"
      ]
     },
     "execution_count": 20,
     "metadata": {},
     "output_type": "execute_result"
    }
   ],
   "source": [
    "# 7. Write a recursive Python function to reverse a string.\n",
    "\n",
    "def rev(s):\n",
    "    if len(s)==0:\n",
    "        return s\n",
    "    else:\n",
    "        return rev(s[1:])+s[0]\n",
    "\n",
    "\n",
    "s=\"singh\"\n",
    "rev(s)\n"
   ]
  },
  {
   "cell_type": "code",
   "execution_count": 22,
   "id": "938727d6-8ade-45be-8e81-b5e17decc538",
   "metadata": {},
   "outputs": [
    {
     "name": "stdout",
     "output_type": "stream",
     "text": [
      "625\n"
     ]
    }
   ],
   "source": [
    "# 8. Create a recursive Python function to calculate the power of a number (x^n).\n",
    "\n",
    "def pw(x,n):\n",
    "    if n==1:\n",
    "        return x\n",
    "    else:\n",
    "        return x*pw(x,n-1)\n",
    "\n",
    "\n",
    "\n",
    "res=pw(5,4)\n",
    "print(res)"
   ]
  },
  {
   "cell_type": "code",
   "execution_count": 31,
   "id": "5ed81382-9a71-44c9-b46f-e62b33cee444",
   "metadata": {},
   "outputs": [
    {
     "name": "stdout",
     "output_type": "stream",
     "text": [
      "abc\n",
      "acb\n",
      "bac\n",
      "bca\n",
      "cab\n",
      "cba\n"
     ]
    }
   ],
   "source": [
    "# 9. Write a recursive Python function to find all permutations of a given string.\n",
    "\n",
    "\n",
    "\n",
    "def perms(s):        \n",
    "    if(len(s)==1): return [s]\n",
    "    result=[]\n",
    "    for i,v in enumerate(s):\n",
    "        result += [v+p for p in perms(s[:i]+s[i+1:])]\n",
    "    return result\n",
    "    \n",
    "print('\\n'.join(perms('abc')))"
   ]
  },
  {
   "cell_type": "code",
   "execution_count": 29,
   "id": "fdd357cf-5765-4159-8e11-bb2b8fd24f26",
   "metadata": {},
   "outputs": [
    {
     "name": "stdout",
     "output_type": "stream",
     "text": [
      "Not Palindrome\n"
     ]
    }
   ],
   "source": [
    "# 10. Write a recursive Python function to check if a string is a palindrome.\n",
    "\n",
    "\n",
    "def rev(s):\n",
    "    if len(s)==0:\n",
    "        return s\n",
    "    else:\n",
    "        return rev(s[1:])+s[0]\n",
    "\n",
    "\n",
    "s=\"singh\"\n",
    "res=rev(s)\n",
    "\n",
    "if res==s:\n",
    "    print(\"Palindrome String\")\n",
    "else:\n",
    "    print(\"Not Palindrome\")"
   ]
  },
  {
   "cell_type": "code",
   "execution_count": 34,
   "id": "338048bd-fa87-4987-ba2b-e321bdf6ec0a",
   "metadata": {},
   "outputs": [
    {
     "name": "stdout",
     "output_type": "stream",
     "text": [
      "[[], [1], [2], [1, 2], [3], [1, 3], [2, 3], [1, 2, 3]]\n"
     ]
    }
   ],
   "source": [
    "# 11. Create a recursive Python function to generate all possible combinations of a list of elements.\n",
    "\n",
    "def combinations(l):\n",
    "    if l:\n",
    "      result = combinations(l[:-1])\n",
    "      return result + [c + [l[-1]] for c in result]\n",
    "    else:\n",
    "      return [[]]\n",
    "\n",
    "print(combinations([1,2,3]))\n"
   ]
  },
  {
   "cell_type": "markdown",
   "id": "7fe907ab-ea26-451a-877d-8143650379fd",
   "metadata": {},
   "source": [
    "# Basics of functions"
   ]
  },
  {
   "cell_type": "code",
   "execution_count": null,
   "id": "fe9fdf96-a391-48e0-82a7-f9bd629a6b12",
   "metadata": {},
   "outputs": [],
   "source": [
    "# 1. What is a function in Python, and why is it used?\n",
    "''' function is a block of code in python to reduce the line of code and to save the memory at run time. we can create \n",
    "a function to make our program easy to manage and simpler to operate'''"
   ]
  },
  {
   "cell_type": "code",
   "execution_count": 37,
   "id": "0b69161a-339e-4bd1-aae0-e263cec69652",
   "metadata": {},
   "outputs": [
    {
     "name": "stdout",
     "output_type": "stream",
     "text": [
      "hello Bharat\n"
     ]
    }
   ],
   "source": [
    "# 2. How do you define a function in Python? Provide an example.\n",
    "\n",
    "def xyz():\n",
    "    print(\"hello Bharat\")\n",
    "\n",
    "xyz()"
   ]
  },
  {
   "cell_type": "code",
   "execution_count": null,
   "id": "f02031a8-05d3-4266-9752-38e759c49c21",
   "metadata": {},
   "outputs": [],
   "source": [
    "# 3. Explain the difference between a function definition and a function call.\n",
    "\n",
    "def xyz():     # function definition : we can define a function by def keyword and function name and using parenthesis.\n",
    "    print(\"hello Bharat\")\n",
    "\n",
    "xyz()       # we can call a function whenever it is required using funciton name and parenthesis"
   ]
  },
  {
   "cell_type": "code",
   "execution_count": 38,
   "id": "7f5774fe-3c27-45ce-b545-e49062cb7650",
   "metadata": {},
   "outputs": [
    {
     "name": "stdout",
     "output_type": "stream",
     "text": [
      "Result is =  83\n"
     ]
    }
   ],
   "source": [
    "# 4. Write a Python program that defines a function to calculate the sum of two numbers and then calls the function.\n",
    "\n",
    "def add(a,b):\n",
    "    return a+b\n",
    "\n",
    "\n",
    "x=45\n",
    "y=38\n",
    "res=add(x,y)\n",
    "print(\"Result is = \",res)\n",
    "\n"
   ]
  },
  {
   "cell_type": "code",
   "execution_count": null,
   "id": "492743e7-2f9e-4baf-ac0d-152ca75edf8d",
   "metadata": {},
   "outputs": [],
   "source": [
    "# 5. What is a function signature, and what information does it typically include?\n",
    "''' in pythn, function signature is the list of arguments that are passed into a function to store and handle the values withing the function along \n",
    "with the returning value and types of the values'''\n",
    "\n"
   ]
  },
  {
   "cell_type": "code",
   "execution_count": 39,
   "id": "64cc7ed4-54a0-4db1-a76c-79d6cc1678ec",
   "metadata": {},
   "outputs": [
    {
     "data": {
      "text/plain": [
       "30"
      ]
     },
     "execution_count": 39,
     "metadata": {},
     "output_type": "execute_result"
    }
   ],
   "source": [
    "# 6. Create a Python function that takes two arguments and returns their product.\n",
    "\n",
    "def prod(x,y):\n",
    "    return x*y\n",
    "prod(5,6)\n"
   ]
  },
  {
   "cell_type": "markdown",
   "id": "05a96470-6f33-46f9-a908-8f294622ce68",
   "metadata": {},
   "source": [
    "# Function Parameters and Arguments:"
   ]
  },
  {
   "cell_type": "code",
   "execution_count": null,
   "id": "9770a37f-2acc-45e6-837e-353908ae9739",
   "metadata": {},
   "outputs": [],
   "source": [
    "# 1. Explain the concepts of formal parameters and actual arguments in Python functions.\n",
    "'''\n",
    "when we are creating a function that means defining a function then at the time of definition, we will use some variables within parenthesis\n",
    "to handle the passed values withing the function are called formal paramete and at the time of calling we pass some variables to the function,\n",
    "these variables are called actual arguments'''\n"
   ]
  },
  {
   "cell_type": "code",
   "execution_count": 40,
   "id": "cb60968c-e7b0-40c0-ace1-3bda75478627",
   "metadata": {},
   "outputs": [
    {
     "name": "stdout",
     "output_type": "stream",
     "text": [
      "Raju\n",
      "1500\n"
     ]
    }
   ],
   "source": [
    "# 2. Write a Python program that defines a function with default argument values.\n",
    "\n",
    "def fun(name,salary=1500):\n",
    "    print(name)\n",
    "    print(salary)\n",
    "\n",
    "fun(\"Raju\")"
   ]
  },
  {
   "cell_type": "code",
   "execution_count": 41,
   "id": "eb91760c-1683-4f75-84b8-b114864e38b4",
   "metadata": {},
   "outputs": [
    {
     "name": "stdout",
     "output_type": "stream",
     "text": [
      "Singh\n",
      "15000\n"
     ]
    }
   ],
   "source": [
    "# 3. How do you use keyword arguments in Python function calls? Provide an example.\n",
    "\n",
    "def fun(name,salary):\n",
    "    print(name)\n",
    "    print(salary)\n",
    "\n",
    "fun(salary=15000,name=\"Singh\")"
   ]
  },
  {
   "cell_type": "code",
   "execution_count": 42,
   "id": "e315d399-19da-482c-8c56-144491ebc645",
   "metadata": {},
   "outputs": [
    {
     "name": "stdout",
     "output_type": "stream",
     "text": [
      "Singh\n",
      "12000\n",
      "Kanpur\n"
     ]
    }
   ],
   "source": [
    "# 4. Create a Python function that accepts a variable number of arguments and calculates their sum.\n",
    "def fun(*data):\n",
    "    for i in data:\n",
    "        print(i)\n",
    "\n",
    "fun(\"Singh\",12000,\"Kanpur\")"
   ]
  },
  {
   "cell_type": "code",
   "execution_count": 46,
   "id": "99553e60-4b74-4424-b58b-898c6269dfee",
   "metadata": {},
   "outputs": [
    {
     "name": "stdout",
     "output_type": "stream",
     "text": [
      "name = Singh\n",
      "salary = 12000\n",
      "city = Kanpur\n",
      "name = Singh\n",
      "salary = 12000\n",
      "city = Kanpur\n"
     ]
    }
   ],
   "source": [
    "# 5. What is the purpose of the `*args` and `**kwargs` syntax in function parameter lists?\n",
    "\n",
    "def fun(**data):\n",
    "    for key,value in data.items():\n",
    "        print(key,\"=\",value)\n",
    "\n",
    "fun(name=\"Singh\",salary=12000,city=\"Kanpur\")\n",
    "\n",
    "\n",
    "def fun(**data):\n",
    "    for key,value in data.items():\n",
    "        print(\"%s = %s\"%(key,value))\n",
    "\n",
    "fun(name=\"Singh\",salary=12000,city=\"Kanpur\")\n",
    "\n"
   ]
  },
  {
   "cell_type": "markdown",
   "id": "5bafdfbd-9754-4c9a-bb97-a90826e0613f",
   "metadata": {},
   "source": [
    "# Return Values and Scoping:"
   ]
  },
  {
   "cell_type": "code",
   "execution_count": null,
   "id": "6bc10f2c-2072-411d-b845-be546c23ebf4",
   "metadata": {},
   "outputs": [],
   "source": [
    "# 1. Describe the role of the `return` statement in Python functions and provide examples.\n",
    "''' return is a jumping statement which is used to return a value from the function'''"
   ]
  },
  {
   "cell_type": "code",
   "execution_count": null,
   "id": "1696b191-3689-4b09-b258-44a348f5745d",
   "metadata": {},
   "outputs": [],
   "source": [
    "# 2. Explain the concept of variable scope in Python, including local and global variables.\n",
    "''' local variable can be used within the block , this is called local scope of the variable but a global vairable can be used\n",
    "anywhere in the program'''\n",
    "\n",
    "'''\n",
    "'''we have global keyword also to use a global variable withing local block'''\n",
    "\n",
    "\n"
   ]
  },
  {
   "cell_type": "code",
   "execution_count": 62,
   "id": "2372a780-0e6e-4fd7-bec3-b3b844a6ddad",
   "metadata": {},
   "outputs": [
    {
     "name": "stdout",
     "output_type": "stream",
     "text": [
      "Hello India 100\n"
     ]
    }
   ],
   "source": [
    "# 3. Write a Python program that demonstrates the use of global variables within functions.\n",
    "\n",
    "def fun():\n",
    "    print(\"Hello India\",data)\n",
    "\n",
    "\n",
    "data=100\n",
    "fun()\n",
    "\n",
    "\n"
   ]
  },
  {
   "cell_type": "code",
   "execution_count": 70,
   "id": "bc7d0d3c-40eb-405a-95a5-ace6e726a2dd",
   "metadata": {},
   "outputs": [
    {
     "name": "stdout",
     "output_type": "stream",
     "text": [
      "Hello India 100\n",
      "Hello India 100\n",
      "Hello India thank you\n",
      "thank you\n"
     ]
    }
   ],
   "source": [
    "# 4. How can you access variables defined outside a function from within the function?\n",
    "\n",
    "def fun():\n",
    "    print(\"Hello India\",data)\n",
    "\n",
    "\n",
    "data=100\n",
    "fun()\n",
    "\n",
    "def fun2():\n",
    "    global data\n",
    "    data=\"thank you\"\n",
    "    print(\"Hello India\",data)\n",
    "\n",
    "data=100\n",
    "fun()\n",
    "fun2()\n",
    "print(data)\n"
   ]
  },
  {
   "cell_type": "markdown",
   "id": "7db9deb9-7e4a-42ca-a182-74a4aa8ec746",
   "metadata": {},
   "source": [
    "# Lambda Functions and Higher-Order Functions:"
   ]
  },
  {
   "cell_type": "code",
   "execution_count": null,
   "id": "6ba67d05-f4cd-4293-9d5b-260250a0fdb6",
   "metadata": {},
   "outputs": [],
   "source": [
    "# 1. What are lambda functions in Python, and when are they typically used?\n",
    "'''lambda function is a user-defined inline function also called anonymous function in python. it is best suited for single line expression\n",
    "or single linear function specially at the time of the passing of a function into another function ''' "
   ]
  },
  {
   "cell_type": "code",
   "execution_count": 61,
   "id": "ece601fb-7d62-448f-bbed-3447711bac1e",
   "metadata": {},
   "outputs": [
    {
     "name": "stdout",
     "output_type": "stream",
     "text": [
      "[(3, 4), (6, 5), (5, 7), (1, 20)]\n"
     ]
    }
   ],
   "source": [
    "# 2. Write a Python program that uses lambda functions to sort a list of tuples based on the second element.\n",
    "\n",
    "lt=[(1,20),(3,4),(5,7),(6,5)]\n",
    "\n",
    "for i in range(0,len(lt)):\n",
    "    for j in range(0,len(lt)):\n",
    "        if lt[i][1]<lt[j][1]:\n",
    "            lt[i],lt[j]=lt[j],lt[i]\n",
    "\n",
    "print(lt)\n",
    "            "
   ]
  },
  {
   "cell_type": "code",
   "execution_count": null,
   "id": "015abe8c-6ce5-41c1-ad76-59e6392367f6",
   "metadata": {},
   "outputs": [],
   "source": [
    "# 3. Explain the concept of higher-order functions in Python, and provide an example.\n",
    "''' in python, a function that takes another function as an argument or it can return a function is called higher order function.\n",
    "python has some in-built higher order function like map() reduce() filter()'''"
   ]
  },
  {
   "cell_type": "code",
   "execution_count": 52,
   "id": "a37b9ba1-1097-4bbf-8622-19abbb2dfa5a",
   "metadata": {},
   "outputs": [
    {
     "data": {
      "text/plain": [
       "[5, 5, 5, 7, 4, 4]"
      ]
     },
     "execution_count": 52,
     "metadata": {},
     "output_type": "execute_result"
    }
   ],
   "source": [
    "# 4. Create a Python function that takes a list of numbers and a function as arguments, applying the function to each element in the list.\n",
    "\n",
    "\n",
    "lt=[\"singh\",\"rohit\",\"vijay\",\"kalpana\",\"Raju\",\"amit\"]\n",
    "\n",
    "list(map(lambda x:len(x),lt))\n"
   ]
  },
  {
   "cell_type": "markdown",
   "id": "9351b4d8-5ec1-41fd-a8aa-e1dc57f60170",
   "metadata": {},
   "source": [
    "# Built-in Functions:"
   ]
  },
  {
   "cell_type": "code",
   "execution_count": null,
   "id": "7b74926f-a835-4c37-b980-8c008fed7e57",
   "metadata": {},
   "outputs": [],
   "source": [
    "# 1. Describe the role of built-in functions like `len()`, `max()`, and `min()` in Python.\n",
    "'''\n",
    "len() : it caluclates the lenght\n",
    "mix() : it find outs the maximum value\n",
    "min() : it find outs the minimum value\n",
    "'''"
   ]
  },
  {
   "cell_type": "code",
   "execution_count": 47,
   "id": "8441c79f-3426-439c-b9ad-79a4e51ae3c2",
   "metadata": {},
   "outputs": [
    {
     "data": {
      "text/plain": [
       "[1, 8, 27, 64]"
      ]
     },
     "execution_count": 47,
     "metadata": {},
     "output_type": "execute_result"
    }
   ],
   "source": [
    "# 2. Write a Python program that uses the `map()` function to apply a function to each element of a list.\n",
    "lt=[1,2,3,4]\n",
    "\n",
    "list(map(lambda x:x**3,lt))\n"
   ]
  },
  {
   "cell_type": "code",
   "execution_count": 48,
   "id": "6e2754cf-c0a1-460b-bb23-a1d657fbb011",
   "metadata": {},
   "outputs": [
    {
     "data": {
      "text/plain": [
       "[1, 3, 5, 7, 9]"
      ]
     },
     "execution_count": 48,
     "metadata": {},
     "output_type": "execute_result"
    }
   ],
   "source": [
    "# 3. How does the `filter()` function work in Python, and when would you use it?\n",
    "\n",
    "lt=[1,2,3,4,5,6,7,8,9]\n",
    "\n",
    "list(filter(lambda x: x%2!=0,lt))\n",
    "\n"
   ]
  },
  {
   "cell_type": "code",
   "execution_count": 49,
   "id": "657ac802-115e-4559-9027-95d94cfa9cb4",
   "metadata": {},
   "outputs": [
    {
     "data": {
      "text/plain": [
       "120"
      ]
     },
     "execution_count": 49,
     "metadata": {},
     "output_type": "execute_result"
    }
   ],
   "source": [
    "# 4. Create a Python program that uses the `reduce()` function to find the product of all elements in a list.\n",
    "import functools as fs\n",
    "\n",
    "n=5\n",
    "\n",
    "\n",
    "fs.reduce(lambda x,y: x*y,[i for i in range(1,n+1)])\n",
    "\n",
    "\n",
    "\n"
   ]
  },
  {
   "cell_type": "markdown",
   "id": "971c176c-bfef-45a2-9815-54b44daf3fc0",
   "metadata": {},
   "source": [
    "# Function Documentation and Best Practices:"
   ]
  },
  {
   "cell_type": "code",
   "execution_count": null,
   "id": "40619d98-3906-4a60-b537-795a357777e7",
   "metadata": {},
   "outputs": [],
   "source": [
    "# 1. Explain the purpose of docstrings in Python functions and how to write them.\n",
    "'''python docstring is the documentation of the writen code, logics and functionality so that programmar can understand the \n",
    "working of the code without exploring the implemention of code'''\n",
    "''' to write the docstring we have to use tripple quotation'''\n"
   ]
  },
  {
   "cell_type": "code",
   "execution_count": null,
   "id": "e406eea8-158e-450c-b677-e5179dc5750f",
   "metadata": {},
   "outputs": [],
   "source": [
    "# 2. Describe some best practices for naming functions and variables in Python, including naming conventions and guidelines.\n",
    "\n",
    "'''best practice for naming a function is writing the name in lowercase and use underscore for multi words for better readability. and same goes \n",
    "with the variables. there are some conventional rules to name a function or variable or any identifiers. names should be in apropriate size\n",
    "and meaningful'''\n",
    "'''\n",
    "1: never use any special symbol exceplt underscore\n",
    "2: dont use only digit for the names\n",
    "3: a name can not be start with the digit\n",
    "4: dont use any keyword\n",
    "'''\n"
   ]
  }
 ],
 "metadata": {
  "kernelspec": {
   "display_name": "Python 3 (ipykernel)",
   "language": "python",
   "name": "python3"
  },
  "language_info": {
   "codemirror_mode": {
    "name": "ipython",
    "version": 3
   },
   "file_extension": ".py",
   "mimetype": "text/x-python",
   "name": "python",
   "nbconvert_exporter": "python",
   "pygments_lexer": "ipython3",
   "version": "3.11.5"
  }
 },
 "nbformat": 4,
 "nbformat_minor": 5
}
