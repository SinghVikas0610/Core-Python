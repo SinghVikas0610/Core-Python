{
 "cells": [
  {
   "cell_type": "markdown",
   "id": "56029bef-3581-4f98-97ae-a963817a7785",
   "metadata": {},
   "source": [
    "# OOPS2:- Constructor"
   ]
  },
  {
   "cell_type": "code",
   "execution_count": null,
   "id": "56e5cdb1-6a5a-4ae2-b8ca-a44575de2913",
   "metadata": {},
   "outputs": [],
   "source": [
    "# 1. What is a constructor in Python? Explain its purpose and usage.\n",
    "\n",
    "''' constructor is function or member function of a class. it has two responsibilites to create an object. 1. allocation 2. Initialization '''\n",
    "''' a constructor can be default, parameterized, parameterless  as per the need'''\n"
   ]
  },
  {
   "cell_type": "code",
   "execution_count": null,
   "id": "32e1cb6c-6e05-484e-ae50-bbd6a1b8a1bf",
   "metadata": {},
   "outputs": [],
   "source": [
    "# 2. Differentiate between a parameterless constructor and a parameterized constructor in Python.\n",
    "\n",
    "''' a constructor that can recieve the values at the time of creation is called parameterized constructor.'''\n",
    "''' a constructor which has a definition but it has no any arguments is called parameterless constructore'''\n"
   ]
  },
  {
   "cell_type": "code",
   "execution_count": null,
   "id": "c29e2c51-6027-412b-adf4-03ff84033c96",
   "metadata": {},
   "outputs": [],
   "source": [
    "# 3. How do you define a constructor in a Python class? Provide an example.\n",
    "\n",
    "class My:\n",
    "    def __init__(self):\n",
    "        pass\n"
   ]
  },
  {
   "cell_type": "code",
   "execution_count": null,
   "id": "262fc46f-25e3-454f-80b7-287481aaa342",
   "metadata": {},
   "outputs": [],
   "source": [
    "# 4. Explain the `__init__` method in Python and its role in constructors.\n",
    "''' __init__ is a constructor function '''\n",
    "\n",
    "''' constructor is function or member function of a class. it has two responsibilites to create an object. 1. allocation 2. Initialization '''\n",
    "''' a constructor can be default, parameterized, parameterless  as per the need'''\n"
   ]
  },
  {
   "cell_type": "code",
   "execution_count": 2,
   "id": "c60a84a4-7051-467d-ad35-78456dddfebb",
   "metadata": {},
   "outputs": [
    {
     "name": "stdout",
     "output_type": "stream",
     "text": [
      "Object Created...\n",
      "Ram\n",
      "45\n"
     ]
    }
   ],
   "source": [
    "# 5. In a class named `Person`, create a constructor that initializes the `name` and `age` attributes. \n",
    "# Provide an example of creating an object of this class.\n",
    "class person:\n",
    "    def __init__(self,name,age):\n",
    "        print(\"Object Created...\")\n",
    "        self.name=name\n",
    "        self.age=age\n",
    "    def show(self):\n",
    "        print(self.name)\n",
    "        print(self.age)\n",
    "\n",
    "ob=person(\"Ram\",45)\n",
    "ob.show()\n",
    "\n",
    "\n"
   ]
  },
  {
   "cell_type": "code",
   "execution_count": 5,
   "id": "82b5ab59-ffb7-4289-bd46-044efc815bbb",
   "metadata": {},
   "outputs": [
    {
     "name": "stdout",
     "output_type": "stream",
     "text": [
      "Singh\n",
      "Object B\n"
     ]
    }
   ],
   "source": [
    "# 6. How can you call a constructor explicitly in Python? Give an example.\n",
    "\n",
    "class A:\n",
    "    def __init__(self,a):\n",
    "        print(a)\n",
    "class B(A):\n",
    "    def __init__(self,x):\n",
    "        super().__init__(x)\n",
    "        print(\"Object B\")\n",
    "\n",
    "ob=B(\"Singh\")"
   ]
  },
  {
   "cell_type": "code",
   "execution_count": 14,
   "id": "8245c070-f88b-4cbe-a4ef-6d5e926e9683",
   "metadata": {},
   "outputs": [
    {
     "name": "stdout",
     "output_type": "stream",
     "text": [
      "Function 1\n",
      "Function 2\n"
     ]
    }
   ],
   "source": [
    "# 7. What is the significance of the `self` parameter in Python constructors? Explain with an example.\n",
    "\n",
    "''' self is object related keyword, it is like a notation or indication about object that the given method is object related'''\n",
    "\n",
    "class My:\n",
    "    def fun1(self):\n",
    "        print(\"Function 1\")\n",
    "    def fun2():\n",
    "        print(\"Function 2\")\n",
    "\n",
    "ob=My()\n",
    "ob.fun1()\n",
    "\n",
    "My.fun2()"
   ]
  },
  {
   "cell_type": "code",
   "execution_count": null,
   "id": "8514e2e7-c0a8-4881-9609-8cfd1726ee01",
   "metadata": {},
   "outputs": [],
   "source": [
    "# 8. Discuss the concept of default constructors in Python. When are they used?\n",
    "'''\n",
    "when you dont create any constructor manually, it will be created automatically, so its actually by default availbale in every class\n",
    "this is called default constructor that creates your object at run time.\n",
    "''\n",
    "\n"
   ]
  },
  {
   "cell_type": "code",
   "execution_count": 15,
   "id": "b14c451b-115b-4b09-bc1b-a9a7d6f78360",
   "metadata": {},
   "outputs": [
    {
     "name": "stdout",
     "output_type": "stream",
     "text": [
      "Area is =  25.380000000000003\n"
     ]
    }
   ],
   "source": [
    "# 9. Create a Python class called `Rectangle` with a constructor that initializes the `width` and `height`\n",
    "# attributes. Provide a method to calculate the area of the rectangle.\n",
    "\n",
    "class Rectangle:\n",
    "    def __init__(self,h,w):\n",
    "        self.height=h\n",
    "        self.width=w\n",
    "    def area(self):\n",
    "        area=self.height*self.width\n",
    "        print(\"Area is = \",area)\n",
    "\n",
    "ob=Rectangle(5.4,4.7)\n",
    "ob.area()\n",
    "\n"
   ]
  },
  {
   "cell_type": "code",
   "execution_count": 7,
   "id": "40da7992-257a-4a0e-9377-2c58246601e7",
   "metadata": {},
   "outputs": [
    {
     "name": "stdout",
     "output_type": "stream",
     "text": [
      "12.12\n"
     ]
    }
   ],
   "source": [
    "# 10. How can you have multiple constructors in a Python class? Explain with an example.\n",
    "class xyz:\n",
    "    def __init__(self,x):\n",
    "        if isinstance(x,int):\n",
    "            print(x*x*x)\n",
    "        elif isinstance(x,float):\n",
    "            print(int(x))\n",
    "        else:\n",
    "            print(x)\n",
    "ob=xyz(\"12.12\")"
   ]
  },
  {
   "cell_type": "code",
   "execution_count": null,
   "id": "e0581a6b-bb5a-4ea4-afa7-12f0a0ca7e32",
   "metadata": {},
   "outputs": [],
   "source": [
    "# 11. What is method overloading, and how is it related to constructors in Python?\n",
    "''' specifically you can not perform method overloading in python, python doesnt support method overloading '''\n",
    "''' but there are multiple way to achiev this overloading in python '''\n",
    "''' we can apply some if conditions to check the arguments and as per the the type and length of the arguments we can apply\n",
    "different functionality to any function or to any constructor..... '''\n",
    "\n"
   ]
  },
  {
   "cell_type": "code",
   "execution_count": null,
   "id": "637690f1-9f70-4156-be3b-d36114373375",
   "metadata": {},
   "outputs": [],
   "source": [
    "# 12. Explain the use of the `super()` function in Python constructors. Provide an example.\n",
    "\n",
    "'''super is function that is the reference of parent class. using super method we can call any super class method in child class\n",
    "and we can call super class constructor in child class constructor '''\n",
    "''' it is also a default function of child class to automatically call the super class default constructor in inheritance '''\n"
   ]
  },
  {
   "cell_type": "code",
   "execution_count": 11,
   "id": "e96ea3d2-9424-4a56-98db-2af49301e782",
   "metadata": {},
   "outputs": [
    {
     "name": "stdout",
     "output_type": "stream",
     "text": [
      "the Hidden Hindu\n",
      "singh\n",
      "2020\n"
     ]
    }
   ],
   "source": [
    "# 13. Create a class called `Book` with a constructor that initializes the `title`, `author`, and `published_year` attributes. Provide a method to display book details.\n",
    "\n",
    "class Book:\n",
    "    def __init__(self,title,author,publish_year):\n",
    "        self.title=title\n",
    "        self.author=author\n",
    "        self.publish_year=publish_year\n",
    "    def show(self):\n",
    "        print(self.title)\n",
    "        print(self.author)\n",
    "        print(self.publish_year)\n",
    "\n",
    "\n",
    "ob=Book(\"the Hidden Hindu\",\"singh\",2020)\n",
    "ob.show()"
   ]
  },
  {
   "cell_type": "code",
   "execution_count": null,
   "id": "85bb37c8-d10e-4917-bf68-3c5e1ec046f9",
   "metadata": {},
   "outputs": [],
   "source": [
    "# 14. Discuss the differences between constructors and regular methods in Python classes.\n",
    "\n",
    "#Constructor\n",
    "''' constructor is function or member function of a class. it has two responsibilites to create an object. 1. allocation 2. Initialization '''\n",
    "''' a constructor can be default, parameterized, parameterless  as per the need'''\n",
    "# Regular Method: \n",
    "'''a regular method is a member method used for the different functionality or to achieve the purpose of the class'''\n",
    "'''a regular method can be called only using object of the class. we can create any number of regular methods., "
   ]
  },
  {
   "cell_type": "code",
   "execution_count": null,
   "id": "15ae8476-6738-48eb-9f15-94f6d6f39209",
   "metadata": {},
   "outputs": [],
   "source": [
    "# 15. Explain the role of the `self` parameter in instance variable initialization within a constructor.\n",
    "\n",
    "''' self is keyword that is the first argument of a member method of a class that is basically reference of the object.\n",
    "it is telling to the system and programmar that, this particular method is related to the object of the class and the working of the \n",
    "method could be different for different values on different objects....'''\n",
    "\n"
   ]
  },
  {
   "cell_type": "code",
   "execution_count": 109,
   "id": "fdee674d-9bc4-43ff-adc6-273fb7ba4ee5",
   "metadata": {},
   "outputs": [
    {
     "name": "stdout",
     "output_type": "stream",
     "text": [
      "Function \n"
     ]
    }
   ],
   "source": [
    "# 16. How do you prevent a class from having multiple instances by using constructors in Python? Provide an example.\n",
    "\n",
    "class SingletonClass: \n",
    "    _instance = None \n",
    "    def __new__(cls): \n",
    "        if cls._instance is None: \n",
    "            cls._instance = super(SingletonClass, cls).__new__(cls) \n",
    "            return cls._instance \n",
    "    def xp(self):\n",
    "        print(\"Function \")\n",
    "ob=SingletonClass()\n",
    "ob.xp()\n",
    "\n",
    "# Usage instance1 = SingletonClass() instance2 = SingletonClass() print(instance1 is instance2) \n"
   ]
  },
  {
   "cell_type": "code",
   "execution_count": 105,
   "id": "283b6a68-5ba0-4a1d-83b9-d9029f5d62a7",
   "metadata": {},
   "outputs": [
    {
     "name": "stdout",
     "output_type": "stream",
     "text": [
      "90\n",
      "hello\n"
     ]
    }
   ],
   "source": [
    "class A:\n",
    "    __a=90\n",
    "\n",
    "    def __init__(self):\n",
    "        print(self.__a)\n",
    "    def xp(self):\n",
    "        print(\"hello\")\n",
    "    \n",
    "\n",
    "ob=A()\n",
    "ob.xp()"
   ]
  },
  {
   "cell_type": "code",
   "execution_count": 12,
   "id": "8a2e7ef6-1449-49e5-b368-3acb85792b23",
   "metadata": {},
   "outputs": [
    {
     "name": "stdout",
     "output_type": "stream",
     "text": [
      "Total is =  267\n",
      "Percentage is  =  53.4\n"
     ]
    }
   ],
   "source": [
    "# 17. Create a Python class called `Student` with a constructor that takes a list of subjects as a parameter and initializes the `subjects` attribute.\n",
    "\n",
    "class Student:\n",
    "    def __init__(self,h,e,m,s,sst):\n",
    "        self.hindi=h\n",
    "        self.english=e\n",
    "        self.maths=m\n",
    "        self.science=s\n",
    "        self.sst=sst\n",
    "    def result(self):\n",
    "        Total=self.hindi+self.english+ self.maths+ self.science+self.sst\n",
    "        print(\"Total is = \",Total)\n",
    "        print(\"Percentage is  = \", (Total)/5)\n",
    "\n",
    "st=Student(34,45,56,67,65)\n",
    "st.result\n"
   ]
  },
  {
   "cell_type": "code",
   "execution_count": null,
   "id": "a4547916-96ee-45b1-b9a3-2c9740e2b701",
   "metadata": {},
   "outputs": [],
   "source": [
    "# 18. What is the purpose of the `__del__` method in Python classes, and how does it relate to constructors?\n",
    "\n",
    "''' __del__ is member method of a class to delete the objects after the use to clear the memory consumptions....\n",
    "it is also called destructor in the respect of constructor.. construct constructs the object and destructor destructs the object '''\n"
   ]
  },
  {
   "cell_type": "code",
   "execution_count": 16,
   "id": "3499bae3-42bf-466b-9a9b-77ad5e6476af",
   "metadata": {},
   "outputs": [
    {
     "name": "stdout",
     "output_type": "stream",
     "text": [
      "Hi this is Human Constructor\n",
      "Hi this is Man Constructor\n"
     ]
    }
   ],
   "source": [
    "# 19. Explain the use of constructor chaining in Python. Provide a practical example.\n",
    "# constructor chaining is process of calling one constructor after another constructor in inheritance using super method'''\n",
    "\n",
    "class Human(object):\n",
    "    def __init__(self):\n",
    "        print(\"Hi this is Human Constructor\")\n",
    "\n",
    "    def whoAmI(self):\n",
    "        print(\"I am Human\")\n",
    "\n",
    "\n",
    "class Man(Human):\n",
    "    def __init__(self):\n",
    "        super().__init__()\n",
    "        print(\"Hi this is Man Constructor\")\n",
    "\n",
    "    def whoAmI(self):\n",
    "        print(\"I am Man\")\n",
    "\n",
    "\n",
    "\n",
    "who=Man()\n"
   ]
  },
  {
   "cell_type": "code",
   "execution_count": 19,
   "id": "4b7fe935-af51-4094-bc3c-60dcbe94fe95",
   "metadata": {},
   "outputs": [
    {
     "name": "stdout",
     "output_type": "stream",
     "text": [
      "Make :  SUV\n",
      "Model :  2016\n"
     ]
    }
   ],
   "source": [
    "# 20. Create a Python class called `Car` with a default constructor that initializes the `make` and `model` attributes. \n",
    "# Provide a method to display car information.\n",
    "\n",
    "class Car:\n",
    "    def __init__(self):\n",
    "        self.make=\"SUV\"\n",
    "        self.model=2016\n",
    "    def show(self):\n",
    "        print(\"Make : \",self.make)\n",
    "        print(\"Model : \",self.model)\n",
    "\n",
    "ob=Car()\n",
    "ob.show()"
   ]
  },
  {
   "cell_type": "markdown",
   "id": "49406275-b28d-462f-bd86-afcd03997c52",
   "metadata": {},
   "source": [
    "# Inheritance"
   ]
  },
  {
   "cell_type": "code",
   "execution_count": null,
   "id": "a047d086-71e1-47a9-8294-1993e5673dba",
   "metadata": {},
   "outputs": [],
   "source": [
    "# 1. What is inheritance in Python? Explain its significance in object-oriented programming.\n",
    "\n",
    "''' inheritance is a mechanism in oops in which we can instantiate a class using another class instance'''\n",
    "''' inheritance is useful  when we have some methods in a class and we want to use these methods within another object of another class '''\n",
    "''' it reduces an extra efforts in programming to re-write the code or methods that are already exist in any another class'''\n",
    "\n"
   ]
  },
  {
   "cell_type": "code",
   "execution_count": null,
   "id": "72796942-b7b6-46f3-9527-da7a9f711a86",
   "metadata": {},
   "outputs": [],
   "source": [
    "# 2. Differentiate between single inheritance and multiple inheritance in Python. Provide examples for each.\n",
    "\n",
    "'''single inheritance occur when we inherit a class into a single class and multi inheritance occurs when we inherit two different classes\n",
    "into a single class '''\n",
    "\n",
    "#multiple inheritance\n",
    "class A:\n",
    "    pass\n",
    "class B:\n",
    "    pass\n",
    "class C(A,B):\n",
    "    pass\n",
    "\n",
    "#single inheritance\n",
    "class A:\n",
    "    pass\n",
    "class B(A):\n",
    "    pass\n",
    "    \n"
   ]
  },
  {
   "cell_type": "code",
   "execution_count": 25,
   "id": "b3bec713-57af-4ab4-8c7b-6fe0f7105a17",
   "metadata": {},
   "outputs": [
    {
     "name": "stdout",
     "output_type": "stream",
     "text": [
      "White\n",
      "150\n",
      "Honda\n"
     ]
    }
   ],
   "source": [
    "# 3. Create a Python class called `Vehicle` with attributes `color` and `speed`. Then, create a child class called\n",
    "# `Car` that inherits from `Vehicle` and adds a `brand` attribute. Provide an example of creating a `Car` object.\n",
    "\n",
    "class Vehicle:\n",
    "    def __init__(self,c,s):\n",
    "        self.color=c\n",
    "        self.speed=s\n",
    "class Car(Vehicle):\n",
    "    def __init__(self,c,s,b):\n",
    "        super().__init__(c,s)\n",
    "        self.brand=b\n",
    "    def show(self):\n",
    "        print(self.color)\n",
    "        print(self.speed)\n",
    "        print(self.brand)\n",
    "ob=Car(\"White\",150,\"Honda\")\n",
    "ob.show()\n"
   ]
  },
  {
   "cell_type": "code",
   "execution_count": 29,
   "id": "572790e8-cae1-4b3f-85d0-b34eb81d28f2",
   "metadata": {},
   "outputs": [
    {
     "data": {
      "text/plain": [
       "' we can use address method again in student class and can change the functionality of address method accordingly'"
      ]
     },
     "execution_count": 29,
     "metadata": {},
     "output_type": "execute_result"
    }
   ],
   "source": [
    "# 4. Explain the concept of method overriding in inheritance. Provide a practical example.\n",
    "\n",
    "''' method overriding means a two methods with same name but different definition. some times we need to change the functionality\n",
    "of same function in child class then we can create the same function with same name and parameters but can change the \n",
    "the implementation'''\n",
    "\n",
    "class Employee:\n",
    "    def detail(emp_id,name,post):\n",
    "        pass\n",
    "    def address(city,state,pin):\n",
    "        pass\n",
    "class Student(Employee):\n",
    "    def detail(st_id,name,clss):\n",
    "        pass\n",
    "    def address(city,state,pin):\n",
    "        pass\n",
    "''' we can use address method again in student class and can change the functionality of address method accordingly'''\n",
    "\n"
   ]
  },
  {
   "cell_type": "code",
   "execution_count": 30,
   "id": "87a62040-c882-4565-9022-cd1304f2a84d",
   "metadata": {},
   "outputs": [
    {
     "name": "stdout",
     "output_type": "stream",
     "text": [
      "Hello fun1\n",
      "Hello fun2\n"
     ]
    }
   ],
   "source": [
    "# 5. How can you access the methods and attributes of a parent class from a child class in Python? Give an example.\n",
    "\n",
    "class parent:\n",
    "    def fun1(self):\n",
    "        print(\"Hello fun1\")\n",
    "class child(parent):\n",
    "    def fun2(self):\n",
    "        print(\"Hello fun2\")\n",
    "ob=child()\n",
    "ob.fun1()\n",
    "ob.fun2()"
   ]
  },
  {
   "cell_type": "code",
   "execution_count": 31,
   "id": "4a89b0f6-a256-481b-91fe-96b331c7f325",
   "metadata": {},
   "outputs": [
    {
     "name": "stdout",
     "output_type": "stream",
     "text": [
      "White\n",
      "150\n",
      "Honda\n"
     ]
    }
   ],
   "source": [
    "# 6. Discuss the use of the `super()` function in Python inheritance. When and why is it used? Provide an example.\n",
    "\n",
    "''' super method is method in child class to invoke the parent class methods in child class. also we can use it to call\n",
    "super class constructor in parent class'''\n",
    "\n",
    "\n",
    "class Vehicle:\n",
    "    def __init__(self,c,s):\n",
    "        self.color=c\n",
    "        self.speed=s\n",
    "class Car(Vehicle):\n",
    "    def __init__(self,c,s,b):\n",
    "        super().__init__(c,s)\n",
    "        self.brand=b\n",
    "    def show(self):\n",
    "        print(self.color)\n",
    "        print(self.speed)\n",
    "        print(self.brand)\n",
    "ob=Car(\"White\",150,\"Honda\")\n",
    "ob.show()\n",
    "\n"
   ]
  },
  {
   "cell_type": "code",
   "execution_count": 32,
   "id": "c16e5d4e-bbbb-4902-816a-d242a049a185",
   "metadata": {},
   "outputs": [
    {
     "name": "stdout",
     "output_type": "stream",
     "text": [
      "Purring\n"
     ]
    }
   ],
   "source": [
    "# 7. Create a Python class called `Animal` with a method `speak()`. \n",
    "# Then, create child classes `Dog` and `Cat` that inherit from `Animal` and override the `speak()` method. \n",
    "# Provide an example of using these classes.\n",
    "\n",
    "class Animal:\n",
    "    def speak(self):\n",
    "        pass\n",
    "class Dog(Animal):\n",
    "    def speak(self):\n",
    "        print(\"Barking...\")\n",
    "class Cat(Animal):\n",
    "    def speak(self):\n",
    "        print(\"Purring\")\n",
    "\n",
    "ob=Cat()\n",
    "ob.speak()\n"
   ]
  },
  {
   "cell_type": "code",
   "execution_count": null,
   "id": "77589fd0-2289-4e87-86cd-1514f564e393",
   "metadata": {},
   "outputs": [],
   "source": [
    "# 8. Explain the role of the `isinstance()` function in Python and how it relates to inheritance.\n",
    "\n",
    "''' isinstance() function is function that takes two arguments, one is variable and another one is data type and it checks and \n",
    "returns true if it matches with each other , otherwise return false'''\n",
    "\n",
    "''' in inheritance it is used frequently to implement method overloading on the basis of data types'''\n",
    "\n"
   ]
  },
  {
   "cell_type": "code",
   "execution_count": 35,
   "id": "ae22fa90-0dce-4bc7-877f-f12a9b4a4ae5",
   "metadata": {},
   "outputs": [
    {
     "data": {
      "text/plain": [
       "True"
      ]
     },
     "execution_count": 35,
     "metadata": {},
     "output_type": "execute_result"
    }
   ],
   "source": [
    "# 9. What is the purpose of the `issubclass()` function in Python? Provide an example.\n",
    "\n",
    "\n",
    "''' issubclass method takes two arguments, one is a class name and another one is another class name and return true if first\n",
    "class name is the subclass of second class name otherwise return false'''\n",
    "\n",
    "class Age:\n",
    "  age = 40\n",
    "\n",
    "class child(Age):\n",
    "  name = \"Singh\"\n",
    "  age = Age\n",
    "\n",
    "x = issubclass(child, Age)\n",
    "\n",
    "x"
   ]
  },
  {
   "cell_type": "code",
   "execution_count": null,
   "id": "216f51b9-ec98-4cb5-a278-379fdbded272",
   "metadata": {},
   "outputs": [],
   "source": [
    "# 10. Discuss the concept of constructor inheritance in Python. How are constructors inherited in child classes?\n",
    "\n",
    "'''A subclass inherits all the members (fields, methods, and nested classes) from its superclass. Constructors are not members, \n",
    "so they are not inherited by subclasses, but the constructor of the superclass can be invoked from the subclass.'''\n"
   ]
  },
  {
   "cell_type": "code",
   "execution_count": 36,
   "id": "4ac13b38-3ba1-40e6-9aef-124bc73f743f",
   "metadata": {},
   "outputs": [
    {
     "name": "stdout",
     "output_type": "stream",
     "text": [
      "Radius of the circle: 7\n",
      "Circle Area: 153.93804002589985\n"
     ]
    }
   ],
   "source": [
    "# 11. Create a Python class called `Shape` with a method `area()` that calculates the area of a shape. Then, create child classes \n",
    "# `Circle` and `Rectangle` that inherit from `Shape` and implement the `area()` method accordingly. Provide an example.\n",
    "\n",
    "\n",
    "import math\n",
    "\n",
    "class Shape:\n",
    "    def calculate_area(self):\n",
    "        pass\n",
    "\n",
    "class Circle(Shape):\n",
    "    def __init__(self, radius):\n",
    "        self.radius = radius\n",
    "\n",
    "    def calculate_area(self):\n",
    "        return math.pi * self.radius**2\n",
    "\n",
    "class Rectangle(Shape):\n",
    "    def __init__(self, length, width):\n",
    "        self.length = length\n",
    "        self.width = width\n",
    "\n",
    "    def calculate_area(self):\n",
    "        return self.length * self.width\n",
    "\n",
    "\n",
    "\n",
    "\n",
    "# Example usage\n",
    "r = 7\n",
    "circle = Circle(r)\n",
    "circle_area = circle.calculate_area()\n",
    "\n",
    "\n",
    "print(\"Radius of the circle:\",r)\n",
    "print(\"Circle Area:\", circle_area)\n"
   ]
  },
  {
   "cell_type": "code",
   "execution_count": 38,
   "id": "6d5db6c8-b698-4dd6-a169-3fc07508789b",
   "metadata": {},
   "outputs": [
    {
     "data": {
      "text/plain": [
       "' an abstract class is class to make an structure or outlines for subclassess. in abstract class, an abstract method \\ncan not be defined but it can be rededined within child class. an abstract class can not be instantiate, it can be inherit only..\\nabc is the feature to implement abstract concept in python'"
      ]
     },
     "execution_count": 38,
     "metadata": {},
     "output_type": "execute_result"
    }
   ],
   "source": [
    "# 12. Explain the use of abstract base classes (ABCs) in Python and how they relate to inheritance. Provide an\n",
    "# example using the `abc` module.\n",
    "''' ABC stands for abstract Base Classes is a module in python to make a custom abstract class. in python we can not create\n",
    "an abstract class directly so  ABC module provides the infrastructure for defining the base of an custom abc class'''\n",
    "''' an abstract class is class to make an structure or outlines for subclassess. in abstract class, an abstract method \n",
    "can not be defined but it can be rededined within child class. an abstract class can not be instantiate, it can be inherit only..\n",
    "abc is the feature to implement abstract concept in python'''\n",
    "\n"
   ]
  },
  {
   "cell_type": "code",
   "execution_count": null,
   "id": "3bdf5bf8-c1e3-4f3a-97bc-26ea6edee43c",
   "metadata": {},
   "outputs": [],
   "source": [
    "# 13. How can you prevent a child class from modifying certain attributes or methods inherited from a parent\n",
    "# class in Python?\n",
    "\n",
    "''' we can prevent a child class from modifying certain attributes or methods inherited from a parent class using private mambers'''\n",
    "'''we can make private attributes, using double __ underscore before a name '''\n"
   ]
  },
  {
   "cell_type": "code",
   "execution_count": 40,
   "id": "550eb83f-e3a9-4f38-ab70-dea9345150b5",
   "metadata": {},
   "outputs": [
    {
     "name": "stdout",
     "output_type": "stream",
     "text": [
      "Singh\n",
      "12000\n",
      "Training\n"
     ]
    }
   ],
   "source": [
    "# 14. Create a Python class called `Employee` with attributes `name` and `salary`. Then, create a child class\n",
    "# `Manager` that inherits from `Employee` and adds an attribute `department`. Provide an example.\n",
    "\n",
    "class Employee:\n",
    "    def __init__(self,name,salary):\n",
    "        self.name=name\n",
    "        self.salary=salary\n",
    "class Manager(Employee):\n",
    "    def __init__(self,name,salary,department):\n",
    "        super().__init__(name,salary)\n",
    "        self.department=department\n",
    "    def show(self):\n",
    "        print(self.name)\n",
    "        print(self.salary)\n",
    "        print(self.department)\n",
    "ob=Manager(\"Singh\",12000,\"Training\")\n",
    "\n",
    "ob.show()    \n"
   ]
  },
  {
   "cell_type": "code",
   "execution_count": null,
   "id": "d81ede86-dd95-4113-a5c8-3c466c6b6af0",
   "metadata": {},
   "outputs": [],
   "source": [
    "# 15. Discuss the concept of method overloading in Python inheritance. How does it differ from method overriding?\n",
    "\n",
    "''' method overloading is all about multiple methods with same name and different number of arguments or different types of \n",
    "arguments on the other hand method overriding occurs when we are making mutltiple methods with same and and same arguments, and its typs'''\n",
    "'''in python we can not create a proper method overloading but using different functions like isinstance() or variable length argument\n",
    "we can apply method overloading  '''\n"
   ]
  },
  {
   "cell_type": "code",
   "execution_count": null,
   "id": "17589ef0-52ce-4bbc-8f18-0583234e9dbc",
   "metadata": {},
   "outputs": [],
   "source": [
    "# 16. Explain the purpose of the `__init__()` method in Python inheritance and how it is utilized in child classes.\n",
    "\n",
    "'''The __init__ function is called every time an object is created from a class. \n",
    "The __init__ method lets the class initialize the object's attributes and serves no other purpose. \n",
    "It is only used within classes'''\n"
   ]
  },
  {
   "cell_type": "code",
   "execution_count": 48,
   "id": "50e548bf-34f0-42b1-a6fe-901af47789d3",
   "metadata": {},
   "outputs": [
    {
     "name": "stdout",
     "output_type": "stream",
     "text": [
      "Flying rapidly\n",
      "Flying slowly\n"
     ]
    }
   ],
   "source": [
    "# 17. Create a Python class called `Bird` with a method `fly()`. Then, create child classes `Eagle` and `Sparrow` that \n",
    "# inherit from `Bird` and implement the `fly()` method differently. Provide an example of using these classes.\n",
    "\n",
    "class Bird:\n",
    "    def fly(self):\n",
    "        print(\"flying.........\")\n",
    "class Eagle(Bird):\n",
    "    def fly(self):\n",
    "        print(\"Flying rapidly\")\n",
    "class Sparrow(Bird):\n",
    "    def fly(self):\n",
    "        print(\"Flying slowly\")\n",
    "\n",
    "ob1=Eagle()\n",
    "ob2=Sparrow()\n",
    "ob1.fly()\n",
    "ob2.fly()\n"
   ]
  },
  {
   "cell_type": "code",
   "execution_count": null,
   "id": "1747e54a-abff-45e9-a229-ba3ddf949c5c",
   "metadata": {},
   "outputs": [],
   "source": [
    "# 18. What is the \"diamond problem\" in multiple inheritance, and how does Python address it?\n",
    "''' in multiple inheritance, there is an ambuiguity that is arisen when there are two classes are derived from a single class\n",
    "so in this object of the class will pick up the function according to the order of the class inheritance '''\n",
    "\n"
   ]
  },
  {
   "cell_type": "code",
   "execution_count": 110,
   "id": "c0dd71a1-bf6f-42f6-a93f-60eeb79abfbd",
   "metadata": {},
   "outputs": [
    {
     "name": "stdout",
     "output_type": "stream",
     "text": [
      "100\n",
      "200\n",
      "hello\n"
     ]
    }
   ],
   "source": [
    "# 19. Discuss the concept of \"is-a\" and \"has-a\" relationships in inheritance, and provide examples of each.\n",
    "\n",
    "''' in python we can access a method of a class into another class , this is possible by two , one is inheritance which is called\n",
    "is-a relationship of parent and child class and another way to achiev this is composition which is called has relationship'''\n",
    "\n",
    "# Composition\n",
    "\n",
    "class A:\n",
    "    def __init__(self,x):\n",
    "        print(x)\n",
    "    def xp(self):\n",
    "        print(\"hello\")\n",
    "class B:\n",
    "    def __init__(self,y,z):\n",
    "        self.z=z\n",
    "        print(y)\n",
    "        self.z.xp()\n",
    "\n",
    "ob=A(100)\n",
    "ob2=B(200,ob)"
   ]
  },
  {
   "cell_type": "code",
   "execution_count": 114,
   "id": "b82e89b9-91bf-4023-8070-777a490775b1",
   "metadata": {},
   "outputs": [
    {
     "name": "stdout",
     "output_type": "stream",
     "text": [
      "Arjun\n",
      "9090988790\n",
      "Kanpur\n",
      "208001\n",
      "st1\n"
     ]
    }
   ],
   "source": [
    "# 20. Create a Python class hierarchy for a university system. Start with a base class `Person` and create child\n",
    "# classes `Student` and `Professor`, each with their own attributes and methods. Provide an example of using\n",
    "# these classes in a university context.\n",
    "\n",
    "class Person:\n",
    "    def __init__(self,name,contact,city,pin):\n",
    "        self.name=name\n",
    "        self.contact=contact\n",
    "        self.city=city\n",
    "        self.pin=pin\n",
    "    def show(self):\n",
    "        print(self.name)\n",
    "        print(self.contact)\n",
    "        print(self.city)\n",
    "        print(self.pin)\n",
    "class Student(Person):\n",
    "    def __init__(self,st_id,name,contact,city,pin):\n",
    "        self.st_id=st_id\n",
    "        super().__init__(name,contact,city,pin)\n",
    "    def st_show(self):\n",
    "        super().show()\n",
    "        print(self.st_id)\n",
    "        \n",
    "class Professor:\n",
    "    def __init__(self,pr_id,name,contact,city,pin):\n",
    "        super().__init__(name,contact,city,pin)\n",
    "        self.pr_id=pr_id\n",
    "    def pr_show(self):\n",
    "        print(self.pr_id)\n",
    "        super().show()\n",
    "\n",
    "\n",
    "ob=Student(\"st1\",\"Arjun\",9090988790,\"Kanpur\",208001)\n",
    "ob.st_show()"
   ]
  },
  {
   "cell_type": "code",
   "execution_count": 52,
   "id": "90bc7cea-cfac-4612-ab88-3c5baf219750",
   "metadata": {},
   "outputs": [],
   "source": []
  },
  {
   "cell_type": "markdown",
   "id": "65723d11-ed35-45f7-94ba-a8f70ed945ae",
   "metadata": {},
   "source": [
    "# Encapsulation"
   ]
  },
  {
   "cell_type": "code",
   "execution_count": null,
   "id": "ab87473a-6c84-4a7d-9bab-d603beaa7c6b",
   "metadata": {},
   "outputs": [],
   "source": [
    "# 1. Explain the concept of encapsulation in Python. What is its role in object-oriented programming?\n",
    "\n",
    "''' encapsulation means binding or wrapping the required methods and data in a single unit. this puts restrictions on accessing\n",
    " variables and methods directly and can prevent the accidental modification of data'''\n"
   ]
  },
  {
   "cell_type": "code",
   "execution_count": null,
   "id": "7bd2fbeb-cce2-4eeb-b752-1339fe1079ce",
   "metadata": {},
   "outputs": [],
   "source": [
    "# 2. Describe the key principles of encapsulation, including access control and data hiding.\n",
    "\n",
    "''' encapsulation means binding or wrapping the required methods and data in a single unit. this puts restrictions on accessing\n",
    " variables and methods directly and can prevent the accidental modification of data'''\n",
    "''' encapsulation can be used to hide both data member and methods of class '''\n"
   ]
  },
  {
   "cell_type": "code",
   "execution_count": 119,
   "id": "6c97d1d0-3dc6-45cf-9735-5a2f65a4b668",
   "metadata": {},
   "outputs": [
    {
     "name": "stdout",
     "output_type": "stream",
     "text": [
      "100\n",
      "200\n"
     ]
    }
   ],
   "source": [
    "# 3. How can you achieve encapsulation in Python classes? Provide an example.\n",
    "\n",
    "class Student:\n",
    "    def __init__(self,x,y):\n",
    "        self.__x=x\n",
    "        self.__y=y\n",
    "    def show(self):\n",
    "        print(self.__x)\n",
    "        print(self.__y)\n",
    "ob=Student(100,200)\n",
    "ob.show()"
   ]
  },
  {
   "cell_type": "code",
   "execution_count": null,
   "id": "f9a708d6-6569-4295-80b7-1a9cbd28d648",
   "metadata": {},
   "outputs": [],
   "source": [
    "# 4. Discuss the difference between public, private, and protected access modifiers in Python.\n",
    "''' public members of class can be access from anywhere but private member can be access only within the class\n",
    "and protected member can be access only same class and inherited class '''\n",
    "\n"
   ]
  },
  {
   "cell_type": "code",
   "execution_count": 35,
   "id": "e0cd13fc-3583-4c72-8129-e7ff42149681",
   "metadata": {},
   "outputs": [
    {
     "name": "stdout",
     "output_type": "stream",
     "text": [
      "Vikas\n",
      "Singh\n"
     ]
    }
   ],
   "source": [
    "# 5. Create a Python class called `Person` with a private attribute `__name`. Provide methods to get and set the name attribute.\n",
    "\n",
    "class Person:\n",
    "    def __init__(self,nm):\n",
    "        self.__name=nm\n",
    "    @property\n",
    "    def value1(self):\n",
    "        return self.__name\n",
    "    @value1.setter\n",
    "    def value1(self,x):\n",
    "        self.__name=x\n",
    "\n",
    "\n",
    "ob=Person(\"Vikas\")\n",
    "print(ob.value1)\n",
    "ob.value1=\"Singh\"\n",
    "print(ob.value1)"
   ]
  },
  {
   "cell_type": "code",
   "execution_count": 33,
   "id": "809ff817-61c4-436e-84e1-3364d88e838e",
   "metadata": {},
   "outputs": [
    {
     "name": "stdout",
     "output_type": "stream",
     "text": [
      "Vikas\n",
      "Singh\n"
     ]
    }
   ],
   "source": [
    "# 6. Explain the purpose of getter and setter methods in encapsulation. Provide examples.\n",
    "\n",
    "'''setter and getter are the methods with property decorator to change the methods behaviour into property'''\n",
    "class Person:\n",
    "    def __init__(self,nm):\n",
    "        self._data=nm\n",
    "    @property\n",
    "    def value1(self):\n",
    "        return self._data\n",
    "    @value1.setter\n",
    "    def value1(self,x):\n",
    "        self._data=x\n",
    "\n",
    "\n",
    "ob=Person(\"Vikas\")\n",
    "print(ob.value1)\n",
    "ob.value1=\"Singh\"\n",
    "print(ob.value1)"
   ]
  },
  {
   "cell_type": "code",
   "execution_count": null,
   "id": "803aab4c-26d4-4349-bc8c-9f04d8f12f4b",
   "metadata": {},
   "outputs": [],
   "source": [
    "# 7. What is name mangling in Python, and how does it affect encapsulation?\n",
    "'''\n",
    "In name mangling process any identifier with two leading underscore and one trailing underscore is textually \n",
    "replaced with _classname__identifier where classname is the name of the current class.'''\n",
    "\n",
    "\n",
    "'''\n",
    "With the help of dir() method, we can see the name mangling process that is done to the class variable. \n",
    "The name mangling process was done by the Interpreter. The dir() method is used by \n",
    "passing the class object and it will return all valid attributes that belong to that object.\n",
    "'''"
   ]
  },
  {
   "cell_type": "code",
   "execution_count": 38,
   "id": "3657a2db-4eb7-47d4-8516-3135bdc096f1",
   "metadata": {},
   "outputs": [
    {
     "name": "stdin",
     "output_type": "stream",
     "text": [
      "Enter your deposit amount  4500\n"
     ]
    },
    {
     "name": "stdout",
     "output_type": "stream",
     "text": [
      "Account Number is :  18009091\n",
      "Account Holder Name is :  Arjun\n",
      "Account Balance is :  10300\n"
     ]
    },
    {
     "name": "stdin",
     "output_type": "stream",
     "text": [
      "Enter withdrawl amount  3400\n"
     ]
    },
    {
     "name": "stdout",
     "output_type": "stream",
     "text": [
      "Account Number is :  18009091\n",
      "Account Holder Name is :  Arjun\n",
      "Account Balance is :  2400\n"
     ]
    }
   ],
   "source": [
    "# 8. Create a Python class called `BankAccount` with private attributes for the account balance (`__balance`) and \n",
    "# account number (`__account_number`). Provide methods for depositing and withdrawing money.\n",
    "\n",
    "class BankAccount:\n",
    "    def __init__(self,ac_no,ac_holder_name,bal):\n",
    "        self.__ac_no=ac_no\n",
    "        self.ac_holder_name=ac_holder_name\n",
    "        self.__bal=bal\n",
    "    def deposit(self):\n",
    "        dp=int(input(\"Enter your deposit amount \"))\n",
    "        self.__bal+=dp\n",
    "        print(\"Account Number is : \",self.__ac_no)\n",
    "        print(\"Account Holder Name is : \",self.ac_holder_name)\n",
    "        print(\"Account Balance is : \",self.__bal+dp)\n",
    "    def withdrawl(self):\n",
    "        w=int(input(\"Enter withdrawl amount \"))\n",
    "        print(\"Account Number is : \",self.__ac_no)\n",
    "        print(\"Account Holder Name is : \",self.ac_holder_name)\n",
    "        print(\"Account Balance is : \",self.__bal-w)\n",
    "        \n",
    "\n",
    "\n",
    "ob=BankAccount(18009091,\"Arjun\",1300)\n",
    "ob.deposit()\n",
    "ob.withdrawl()\n"
   ]
  },
  {
   "cell_type": "code",
   "execution_count": null,
   "id": "6e6945a9-fcec-488f-9087-5efcad8dda31",
   "metadata": {},
   "outputs": [],
   "source": [
    "# 9. Discuss the advantages of encapsulation in terms of code maintainability and security.\n",
    "\n",
    "''' Encapsulation promotes modularity and separation of concerns, which makes it easier to change and maintain the code. \n",
    "When the implementation details of a class are hidden behind a public interface, \n",
    "it becomes less likely that changes to the implementation will break code that depends on it.'''\n",
    "\n",
    "\n",
    "'''Encapsulation also helps in maintaining and updating the codebase. That is, since the internal details are\n",
    "isolated within the single class, you can make changes to the class's \n",
    "implementation without affecting other parts of the program that use the class'''\n"
   ]
  },
  {
   "cell_type": "code",
   "execution_count": 44,
   "id": "7374373c-b7c7-45cf-b73f-9d36b7534181",
   "metadata": {},
   "outputs": [
    {
     "name": "stdout",
     "output_type": "stream",
     "text": [
      "100\n",
      "200\n",
      "['_Student__x', '_Student__y', '__class__', '__delattr__', '__dict__', '__dir__', '__doc__', '__eq__', '__format__', '__ge__', '__getattribute__', '__getstate__', '__gt__', '__hash__', '__init__', '__init_subclass__', '__le__', '__lt__', '__module__', '__ne__', '__new__', '__reduce__', '__reduce_ex__', '__repr__', '__setattr__', '__sizeof__', '__str__', '__subclasshook__', '__weakref__', 'show']\n",
      "100\n"
     ]
    }
   ],
   "source": [
    "# 10. How can you access private attributes in Python? Provide an example demonstrating the use of name mangling.\n",
    "\n",
    "class Student:\n",
    "    def __init__(self,x,y):\n",
    "        self.__x=x\n",
    "        self.__y=y\n",
    "    def show(self):\n",
    "        print(self.__x)\n",
    "        print(self.__y)\n",
    "ob=Student(100,200)\n",
    "ob.show()\n",
    "print(dir(ob))\n",
    "print(ob._Student__x)\n"
   ]
  },
  {
   "cell_type": "code",
   "execution_count": 46,
   "id": "1b62a013-bf72-4e2e-aa2c-5a9149bef1f8",
   "metadata": {},
   "outputs": [
    {
     "name": "stdout",
     "output_type": "stream",
     "text": [
      "saul@example.edu\n",
      "tara@example.ex\n"
     ]
    }
   ],
   "source": [
    "# 11. Create a Python class hierarchy for a school system, including classes for students, teachers, and courses,\n",
    "# and implement encapsulation principles to protect sensitive information.\n",
    "\n",
    "class Person:\n",
    "\n",
    "   def __init__(self, name: str, email: str):\n",
    "       self.name = name\n",
    "       self.email = email\n",
    "\n",
    "   def update_email_domain(self, new_domain: str):\n",
    "       old_domain = self.email.split(\"@\")[1]\n",
    "       self.email = self.email.replace(old_domain, new_domain)\n",
    "\n",
    "\n",
    "class Student(Person):\n",
    "\n",
    "   def __init__(self, name: str, id: str, email: str, credits: str):\n",
    "       self.name = name\n",
    "       self.id = id\n",
    "       self.email = email\n",
    "       self.credits = credits\n",
    "\n",
    "\n",
    "class Teacher(Person):\n",
    "\n",
    "   def __init__(self, name: str, email: str, room: str, teaching_years: int):\n",
    "       self.name = name\n",
    "       self.email = email\n",
    "       self.room = room\n",
    "       self.teaching_years = teaching_years\n",
    "     \n",
    "# Let's test our classes\n",
    "if __name__ == \"__main__\":\n",
    "   saul = Student(\"Saul Student\", \"1234\", \"saul@example.com\", 0)\n",
    "   saul.update_email_domain(\"example.edu\")\n",
    "   print(saul.email)\n",
    "\n",
    "   tara = Teacher(\"Tara Teacher\", \"tara@example.fi\", \"A123\", 2)\n",
    "   tara.update_email_domain(\"example.ex\")\n",
    "   print(tara.email)\n"
   ]
  },
  {
   "cell_type": "code",
   "execution_count": 47,
   "id": "e2d668e9-7827-465e-8c1c-bca9bf583f7f",
   "metadata": {},
   "outputs": [
    {
     "name": "stdout",
     "output_type": "stream",
     "text": [
      "Vikas\n",
      "Singh\n"
     ]
    }
   ],
   "source": [
    "# 12. Explain the concept of property decorators in Python and how they relate to encapsulation.\n",
    "\n",
    "'''property decorator is used to make function like a property. it creates getter and setter method in encapuslation to set and get the \n",
    "private and protected members safely '''\n",
    "class Person:\n",
    "    def __init__(self,nm):\n",
    "        self.__name=nm\n",
    "    @property\n",
    "    def value1(self):\n",
    "        return self.__name\n",
    "    @value1.setter\n",
    "    def value1(self,x):\n",
    "        self.__name=x\n",
    "\n",
    "\n",
    "ob=Person(\"Vikas\")\n",
    "print(ob.value1)\n",
    "ob.value1=\"Singh\"\n",
    "print(ob.value1)"
   ]
  },
  {
   "cell_type": "code",
   "execution_count": 50,
   "id": "c5b81fa4-9f15-497e-8cfa-64b16193f93a",
   "metadata": {},
   "outputs": [
    {
     "name": "stdout",
     "output_type": "stream",
     "text": [
      "100\n",
      "200\n"
     ]
    }
   ],
   "source": [
    "# 13. What is data hiding, and why is it important in encapsulation? Provide examples.\n",
    "''' data hiding is the advantage of encapsulation in which we are hiding the data or implementation from the user by using\n",
    "double underscore leading to the attribute of a class. suppose we have a class for bank account management and we just dont want to make changes\n",
    "by any other user into balance or any other attribute then we can make it private and can provide a method to make changes by\n",
    "accepting credentials like id and passwords'''\n",
    "\n",
    "\n",
    "class Student:\n",
    "    def __init__(self,x,y):\n",
    "        self.__x=x\n",
    "        self.__y=y\n",
    "    def show(self):\n",
    "        print(self.__x)\n",
    "        print(self.__y)\n",
    "ob=Student(100,200)\n",
    "ob.show()\n",
    "\n",
    "\n"
   ]
  },
  {
   "cell_type": "code",
   "execution_count": 52,
   "id": "903dacfa-7023-4c34-8c12-56c8a5c7958e",
   "metadata": {},
   "outputs": [
    {
     "name": "stdin",
     "output_type": "stream",
     "text": [
      "Enter bonus percentage :  20\n"
     ]
    },
    {
     "name": "stdout",
     "output_type": "stream",
     "text": [
      "Employee Name :  Akshay\n",
      "Employee ID :  112\n",
      "Employee Salary :  14000\n",
      "Bonus :  2800.0\n"
     ]
    }
   ],
   "source": [
    "# 14. Create a Python class called `Employee` with private attributes for salary (`__salary`) and employee ID (`__employee_id`). \n",
    "# Provide a method to calculate yearly bonuses.\n",
    "\n",
    "class Employee:\n",
    "    def __init__(self,emp_id,emp_name,sal):\n",
    "        self.__emp_id=emp_id\n",
    "        self.emp_name=emp_name\n",
    "        self.__sal=sal\n",
    "    def bonus(self):\n",
    "        b=int(input(\"Enter bonus percentage : \"))\n",
    "        bon=self.__sal*b/100\n",
    "        print(\"Employee Name : \",self.emp_name)\n",
    "        print(\"Employee ID : \",self.__emp_id)\n",
    "        print(\"Employee Salary : \",self.__sal)\n",
    "        print(\"Bonus : \",bon)\n",
    "\n",
    "ob=Employee(112,\"Akshay\",14000)\n",
    "ob.bonus()"
   ]
  },
  {
   "cell_type": "code",
   "execution_count": null,
   "id": "7c5251cf-1d3a-4fa4-ad07-21b1727225d1",
   "metadata": {},
   "outputs": [],
   "source": [
    "# 15. Discuss the use of accessors and mutators in encapsulation. How do they help maintain control over attribute access?\n",
    "'''\n",
    "Accessor Method: This method is used to access the state of the object i.e, \n",
    "the data hidden in the object can be accessed from this method. ...\n",
    "Mutator Method: This method is used to mutate/modify the state of an object i.e, \n",
    "it alters the hidden value of the data variable.\n",
    "'''"
   ]
  },
  {
   "cell_type": "code",
   "execution_count": null,
   "id": "39dafb94-edec-42df-aa4c-df39645f1f73",
   "metadata": {},
   "outputs": [],
   "source": [
    "# 16. What are the potential drawbacks or disadvantages of using encapsulation in Python?\n",
    "\n",
    "'''Increased code execution: Encapsulation results in an increase in the duration of the program execution. \n",
    "It is because more instructions are added to the code therefore they require more time to execute. '''\n"
   ]
  },
  {
   "cell_type": "code",
   "execution_count": 53,
   "id": "5340e5b6-d086-4359-bfc8-fc648d881b21",
   "metadata": {},
   "outputs": [
    {
     "name": "stdout",
     "output_type": "stream",
     "text": [
      "\n",
      "---------------- || Welcome to Khyati's Library ||-----------------\n",
      "\n",
      "\n",
      "\t\t\t || Main menu || \n",
      "1. To view the books available to you, please enter \"p\"\n",
      "2. To lend books to this library, please enter \"l\"\n",
      "3. To return books, Please enter \"r\"\n",
      "4. To add books to the library shelf, please enter \"a\"\n",
      "5. To quit or exit, please enter \"x\"\n"
     ]
    },
    {
     "name": "stdin",
     "output_type": "stream",
     "text": [
      "Please Enter your input here:  2\n"
     ]
    },
    {
     "name": "stdout",
     "output_type": "stream",
     "text": [
      "\n",
      "\t\t\t || Main menu || \n",
      "1. To view the books available to you, please enter \"p\"\n",
      "2. To lend books to this library, please enter \"l\"\n",
      "3. To return books, Please enter \"r\"\n",
      "4. To add books to the library shelf, please enter \"a\"\n",
      "5. To quit or exit, please enter \"x\"\n"
     ]
    },
    {
     "name": "stdin",
     "output_type": "stream",
     "text": [
      "Please Enter your input here:  x\n"
     ]
    },
    {
     "name": "stdout",
     "output_type": "stream",
     "text": [
      "\n",
      "Thank you for using this system! Please visit us again :) \n"
     ]
    }
   ],
   "source": [
    "# 17. Create a Python class for a library system that encapsulates book information, including titles, authors, and availability status.\n",
    "\n",
    "class Library:\n",
    "\n",
    "    def __init__(self, listofbooks, lname):\n",
    "        self.listofbooks = listofbooks\n",
    "        self.lname = lname\n",
    "        self.lenddata = {}\n",
    "\n",
    "    # Display list of books\n",
    "    def displaybooks(self):\n",
    "        print(' \\n Books which are available for use : ')\n",
    "        for count, book in enumerate(self.listofbooks, 1):\n",
    "            print(f'{count}.  {book}')\n",
    "\n",
    "    # Add new book to the list\n",
    "    def addbooks(self, newbook):\n",
    "        # Append the book in the list of books\n",
    "        self.listofbooks.append(newbook)\n",
    "        print(f'\"{newbook}\" is  added to the list.\\n')\n",
    "\n",
    "    # lend book from the list\n",
    "    def lendbooks(self, lendername, lendingbook):\n",
    "        # Checking the book is in book-list or not\n",
    "        if lendingbook in self.listofbooks:\n",
    "            # Checking the book is in lend data or not\n",
    "            if lendingbook in self.lenddata:\n",
    "                print(f'Sorry! This book is lend by {self.lenddata[lendingbook]}.\\n')\n",
    "\n",
    "            else:\n",
    "                self.lenddata[lendingbook] = lendername\n",
    "                print('Book has been successfully lend.')\n",
    "\n",
    "        else:\n",
    "            print('Sorry! you entered the wrong book name.')\n",
    "\n",
    "    # Return lend book to the list\n",
    "    def returnbooks(self, lendingbook):\n",
    "        if lendingbook in self.lenddata:\n",
    "            print(f'Lend details:\\nThis book is lend by {self.lenddata[lendingbook]}.\\n'\n",
    "                  f'If you want to return this book, enter \"y\"  otherwise, press any key to skip.')\n",
    "            r_input = input('Enter: ')\n",
    "\n",
    "            if r_input == 'y':\n",
    "                del self.lenddata[lendingbook]\n",
    "                print('Thank you! Your book has been returned.\\n')\n",
    "\n",
    "            else:\n",
    "                pass\n",
    "\n",
    "        else:\n",
    "            print('Sorry! you entered the wrong book name.')\n",
    "\n",
    "\n",
    "def main():\n",
    "    # By deafault variables\n",
    "    listofbooks = [\"Data analytics for beginners'\", \"Coding can be fun!\", \"Wings of fire\", \"Behavioral neuroscience\", \"Introduction to Python\", \"class XII RD sharma\"]\n",
    "    lname = \"Khyati's Library\"\n",
    "\n",
    "    lib = Library(listofbooks, lname)\n",
    "\n",
    "    print(f'\\n---------------- || Welcome to {lib.lname} ||-----------------\\n')\n",
    "\n",
    "    while True:\n",
    "        print('\\n\\t\\t\\t || Main menu || ')\n",
    "        print('1. To view the books available to you, please enter \"p\"\\n2. To lend books to this library, please enter \"l\"\\n'\n",
    "              '3. To return books, Please enter \"r\"\\n4. To add books to the library shelf, please enter \"a\"\\n5. To quit or exit, please enter \"x\"')\n",
    "        _input = input(\"Please Enter your input here: \")\n",
    "\n",
    "        if _input == \"x\":\n",
    "            print('\\nThank you for using this system! Please visit us again :) ')\n",
    "            break\n",
    "\n",
    "        elif _input == \"p\":\n",
    "            lib.displaybooks()\n",
    "\n",
    "            # Main menu or exit\n",
    "            minput = input(\"For continuing with main menu enter 'c' or \"\n",
    "                             \"exit enter 'X'\\nEnter: \")\n",
    "\n",
    "            if minput == 'c':\n",
    "                continue\n",
    "            elif minput == 'x':\n",
    "                print('\\nThank you for using this system.')\n",
    "                break\n",
    "\n",
    "        elif _input == \"l\":\n",
    "            lname = input('Enter your name: ')\n",
    "            lbook = input('Enter the name of the book you want to lend: ')\n",
    "            lib.lendbooks(lname, lbook)\n",
    "\n",
    "            # Main menu or exit\n",
    "            minput = input(\"For continuing with main menu enter 'c' or \"\n",
    "                             \"exit enter 'x'\\nEnter: \")\n",
    "\n",
    "            if minput == 'c':\n",
    "                continue\n",
    "            elif minput == 'x':\n",
    "                print('\\nThank you for using this system. Please visit us again :)')\n",
    "                break\n",
    "\n",
    "        elif _input == \"r\":\n",
    "            rbook = input('Enter the book name which you want to return: ')\n",
    "            lib.returnbooks(rbook)\n",
    "\n",
    "        elif _input == \"a\":\n",
    "            add = input('Add the book to the Book lists:\\n')\n",
    "            lib.addbooks(add)\n",
    "\n",
    "            minput = input(\"For continuing with main menu enter 'c' or \"\n",
    "                             \"exit enter 'x'\\nEnter: \")\n",
    "\n",
    "            if minput == 'c':\n",
    "                continue\n",
    "            elif minput == 'x':\n",
    "                print('\\nThank you for using this system.')\n",
    "                break\n",
    "\n",
    "\n",
    "if __name__ == '__main__':\n",
    "    main()\n",
    "\n"
   ]
  },
  {
   "cell_type": "code",
   "execution_count": null,
   "id": "8d2c121d-c471-478b-ba03-cdf0f6252c18",
   "metadata": {},
   "outputs": [],
   "source": [
    "# 18. Explain how encapsulation enhances code reusability and modularity in Python programs.\n",
    "\n",
    "'''\n",
    "Just like a toolbox that keeps all the necessary tools organized and easily accessible, \n",
    "encapsulation allows us to bundle together methods and data that are closely related. \n",
    "This promotes code organization, modularity, and reusability, \n",
    "making our programs more manageable and efficient '''\n",
    "'''\n",
    "Modularity is closely tied with encapsulation; think of modularity as a way of mapping encapsulated abstractions into real, physical modules. \n",
    "The C/C++ convention is to create two files for each class: a header file (. h suffix) for the class interface, and an implementation file'''\n",
    "'''Encapsulation promotes modularity by encapsulating the data and methods related to a specific object within a class '''"
   ]
  },
  {
   "cell_type": "code",
   "execution_count": null,
   "id": "56d22654-7121-4cea-90e0-c4c1a48f4346",
   "metadata": {},
   "outputs": [],
   "source": [
    "# 19. Describe the concept of information hiding in encapsulation. Why is it essential in software development?\n",
    "\n",
    "''' data hiding is the advantage of encapsulation in which we are hiding the data or implementation from the user by using\n",
    "double underscore leading to the attribute of a class. suppose we have a class for bank account management and we just dont want to make changes\n",
    "by any other user into balance or any other attribute then we can make it private and can provide a method to make changes by\n",
    "accepting credentials like id and passwords'''\n",
    "\n",
    "''' it is essential in software development to hide confidential data from the user due to security reasons and when we want to hide \n",
    "the data from the user in development using python, encapsulation comes into the picture ''' \n"
   ]
  },
  {
   "cell_type": "code",
   "execution_count": 54,
   "id": "d6bc25ba-4421-4d81-a909-9199753b2620",
   "metadata": {},
   "outputs": [
    {
     "name": "stdout",
     "output_type": "stream",
     "text": [
      "singh\n",
      "Kanpur\n",
      "9789605969\n"
     ]
    }
   ],
   "source": [
    "# 20. Create a Python class called `Customer` with private attributes for customer details like name, address,\n",
    "# and contact information. Implement encapsulation to ensure data integrity and security\n",
    "\n",
    "class Customer:\n",
    "    def __init__(self,name,address,contact):\n",
    "        self.__name=name\n",
    "        self.__address=address\n",
    "        self.__contact=contact\n",
    "    def show(self):\n",
    "        print(self.__name)\n",
    "        print(self.__address)\n",
    "        print(self.__contact)\n",
    "\n",
    "ob=Customer(\"singh\",\"Kanpur\",9789605969)\n",
    "\n",
    "ob.show()\n",
    "\n"
   ]
  },
  {
   "cell_type": "markdown",
   "id": "72ed3a11-71b8-4883-87f2-2dea838a0050",
   "metadata": {},
   "source": [
    "# Polymorphism"
   ]
  },
  {
   "cell_type": "code",
   "execution_count": null,
   "id": "a6e49b25-f803-483b-8d3a-4e9633e8904b",
   "metadata": {},
   "outputs": [],
   "source": [
    "# 1.. What is polymorphism in Python? Explain how it is related to object-oriented programming.\n",
    "\n",
    "'''polymorphism means behaving an entity for multiple roles. it means many form that defines the multiple functionality of and entity'''\n",
    "'''polymorphism consist, operator overloading, method overloading and method overriding '''\n",
    "''' python doesnt support direct method overloading in custom classes or functions but there are multiple way to achieve it in python'''\n",
    "''' method overloading defines a function for multiple functionality on other hand polymorphism is an umbrella term for overloading and overriding'''\n",
    "''' in object oriented world we can have an object which is used for multiple task same goes with the oops, for example we have + operator \n",
    "it can add two numbers and it can also concate two strings as well '''\n",
    "\n"
   ]
  },
  {
   "cell_type": "code",
   "execution_count": 62,
   "id": "b3e1fcbe-036a-42ba-a9fa-b1e3b2c8790e",
   "metadata": {},
   "outputs": [
    {
     "name": "stdin",
     "output_type": "stream",
     "text": [
      "Input B\n"
     ]
    },
    {
     "name": "stdout",
     "output_type": "stream",
     "text": [
      "Hi\n"
     ]
    }
   ],
   "source": [
    "# 2. Describe the difference between compile-time polymorphism and runtime polymorphism in Python.\n",
    "\n",
    "''' compile time polymorphism is also known as static binding in which a data and its funcationality already decided at the time of \n",
    "compilation and as well as runtime polymorphism is dynamic binding of data and its functions. suppose we have a same method \n",
    "with different funcitonality in inherited class. and now we can take the class name from the user to create an object. according the user input\n",
    "at run time it will decide which overridden method will be call. python dosent support method overloading so there is no a proper\n",
    "runtime polymorphism in python.\n",
    "'''\n",
    "\n",
    "\n",
    "''' here we are taking the class name from the user and at runtime python will decide which method will be call. this is called runtime polymorphism'''\n",
    "\n",
    "class A:\n",
    "    def fun(self):\n",
    "        print(\"Hello\")\n",
    "class B(A):\n",
    "    def fun(self):\n",
    "        print(\"Hi\")\n",
    "\n",
    "\n",
    "n=input(\"Input\")\n",
    "\n",
    "ob=eval(n)()\n",
    "\n",
    "ob.fun()\n"
   ]
  },
  {
   "cell_type": "code",
   "execution_count": 55,
   "id": "c8f2c986-0ed7-444d-a9fa-8bc2c222f450",
   "metadata": {},
   "outputs": [
    {
     "name": "stdout",
     "output_type": "stream",
     "text": [
      "Radius of the circle: 7\n",
      "Circle Area: 153.93804002589985\n",
      "Circle Perimeter: 43.982297150257104\n",
      "\n",
      "Rectangle: Length = 5  Width = 7\n",
      "Rectangle Area: 35\n",
      "Rectangle Perimeter: 24\n",
      "\n",
      "Triangle: Base = 5  Height = 4  side1 = 4  side2 = 3  side3 = 5\n",
      "Triangle Area: 10.0\n",
      "Triangle Perimeter: 12\n"
     ]
    }
   ],
   "source": [
    "# 3. Create a Python class hierarchy for shapes (e.g., circle, square, triangle) and demonstrate polymorphism through a common method, \n",
    "# such as `calculate_area()`.\n",
    "\n",
    "import math\n",
    "\n",
    "class Shape:\n",
    "    def calculate_area(self):\n",
    "        pass\n",
    "\n",
    "    def calculate_perimeter(self):\n",
    "        pass\n",
    "\n",
    "\n",
    "class Circle(Shape):\n",
    "    def __init__(self, radius):\n",
    "        self.radius = radius\n",
    "\n",
    "    def calculate_area(self):\n",
    "        return math.pi * self.radius**2\n",
    "\n",
    "    def calculate_perimeter(self):\n",
    "        return 2 * math.pi * self.radius\n",
    "\n",
    "\n",
    "class Rectangle(Shape):\n",
    "    def __init__(self, length, width):\n",
    "        self.length = length\n",
    "        self.width = width\n",
    "\n",
    "    def calculate_area(self):\n",
    "        return self.length * self.width\n",
    "\n",
    "    def calculate_perimeter(self):\n",
    "        return 2 * (self.length + self.width)\n",
    "\n",
    "\n",
    "class Triangle(Shape):\n",
    "    def __init__(self, base, height, side1, side2, side3):\n",
    "        self.base = base\n",
    "        self.height = height\n",
    "        self.side1 = side1\n",
    "        self.side2 = side2\n",
    "        self.side3 = side3\n",
    "\n",
    "    def calculate_area(self):\n",
    "        return 0.5 * self.base * self.height\n",
    "\n",
    "    def calculate_perimeter(self):\n",
    "        return self.side1 + self.side2 + self.side3\n",
    "\n",
    "\n",
    "# Example usage\n",
    "r = 7\n",
    "circle = Circle(r)\n",
    "circle_area = circle.calculate_area()\n",
    "circle_perimeter = circle.calculate_perimeter()\n",
    "\n",
    "print(\"Radius of the circle:\",r)\n",
    "print(\"Circle Area:\", circle_area)\n",
    "print(\"Circle Perimeter:\", circle_perimeter)\n",
    "\n",
    "\n",
    "l = 5\n",
    "w = 7\n",
    "rectangle = Rectangle(l, w)\n",
    "rectangle_area = rectangle.calculate_area()\n",
    "rectangle_perimeter = rectangle.calculate_perimeter()\n",
    "print(\"\\nRectangle: Length =\",l,\" Width =\",w)\n",
    "print(\"Rectangle Area:\", rectangle_area)\n",
    "print(\"Rectangle Perimeter:\", rectangle_perimeter)\n",
    "\n",
    "base = 5\n",
    "height = 4\n",
    "s1 = 4\n",
    "s2 = 3\n",
    "s3 = 5\n",
    "\n",
    "print(\"\\nTriangle: Base =\",base,\" Height =\",height,\" side1 =\",s1,\" side2 =\",s2,\" side3 =\",s3)\n",
    "triangle = Triangle(base,height,s1,s2,s3)\n",
    "triangle_area = triangle.calculate_area()\n",
    "triangle_perimeter = triangle.calculate_perimeter()\n",
    "print(\"Triangle Area:\", triangle_area)\n",
    "print(\"Triangle Perimeter:\", triangle_perimeter)\n"
   ]
  },
  {
   "cell_type": "code",
   "execution_count": 56,
   "id": "0e1c0ba9-2589-43b4-b05d-b825d51915ab",
   "metadata": {},
   "outputs": [
    {
     "name": "stdout",
     "output_type": "stream",
     "text": [
      "Radius of the circle: 7\n",
      "Circle Area: 153.93804002589985\n",
      "Circle Perimeter: 43.982297150257104\n"
     ]
    }
   ],
   "source": [
    "# 4. Explain the concept of method overriding in polymorphism. Provide an example.\n",
    "\n",
    "import math\n",
    "\n",
    "class Shape:\n",
    "    def calculate_area(self):\n",
    "        pass\n",
    "\n",
    "    def calculate_perimeter(self):\n",
    "        pass\n",
    "\n",
    "\n",
    "class Circle(Shape):\n",
    "    def __init__(self, radius):\n",
    "        self.radius = radius\n",
    "\n",
    "    def calculate_area(self):\n",
    "        return math.pi * self.radius**2\n",
    "\n",
    "    def calculate_perimeter(self):\n",
    "        return 2 * math.pi * self.radius\n",
    "\n",
    "\n",
    "\n",
    "\n",
    "# Example usage\n",
    "r = 7\n",
    "circle = Circle(r)\n",
    "circle_area = circle.calculate_area()\n",
    "circle_perimeter = circle.calculate_perimeter()\n",
    "\n",
    "print(\"Radius of the circle:\",r)\n",
    "print(\"Circle Area:\", circle_area)\n",
    "print(\"Circle Perimeter:\", circle_perimeter)\n",
    "\n",
    "\n"
   ]
  },
  {
   "cell_type": "code",
   "execution_count": null,
   "id": "5418b612-9dce-4ea6-833a-4fe16928a996",
   "metadata": {},
   "outputs": [],
   "source": [
    "# 5. How is polymorphism different from method overloading in Python? Provide examples for both.\n",
    "\n",
    "'''polymorphism means behaving an entity for multiple roles. it means many form that defines the multiple functionality of and entity'''\n",
    "'''polymorphism consist, operator overloading, method overloading and method overriding '''\n",
    "''' python doesnt support direct method overloading in custom classes or functions but there are multiple way to achieve it in python'''\n",
    "''' method overloading defines a function for multiple functionality on other hand polymorphism is an umbrella term for overloading and overriding'''\n"
   ]
  },
  {
   "cell_type": "code",
   "execution_count": 57,
   "id": "367d74db-112d-4bce-9b51-2d01146de379",
   "metadata": {},
   "outputs": [
    {
     "name": "stdout",
     "output_type": "stream",
     "text": [
      "Purring\n"
     ]
    }
   ],
   "source": [
    "# 6. Create a Python class called `Animal` with a method `speak()`. Then, create child classes like `Dog`, `Cat`, and `Bird`, \n",
    "# each with their own `speak()` method. Demonstrate polymorphism by calling the `speak()` method  on objects of different subclasses.\n",
    "\n",
    "class Animal:\n",
    "    def speak(self):\n",
    "        pass\n",
    "class Dog(Animal):\n",
    "    def speak(self):\n",
    "        print(\"Barking...\")\n",
    "class Cat(Animal):\n",
    "    def speak(self):\n",
    "        print(\"Purring\")\n",
    "\n",
    "ob=Cat()\n",
    "ob.speak()\n",
    "\n"
   ]
  },
  {
   "cell_type": "code",
   "execution_count": 2,
   "id": "48358820-3e94-4763-9890-7493e099099a",
   "metadata": {},
   "outputs": [
    {
     "name": "stdout",
     "output_type": "stream",
     "text": [
      "Connected\n",
      "1\n",
      "Singh\n",
      "9099999879\n"
     ]
    }
   ],
   "source": [
    "# 7. Discuss the use of abstract methods and classes in achieving polymorphism in Python. Provide an example using the `abc` module.\n",
    "\n",
    "''' ABC stands for abstract Base Classes is a module in python to make a custom abstract class. in python we can not create\n",
    "an abstract class directly so  ABC module provides the infrastructure for defining the base of an custom abc class'''\n",
    "''' an abstract class is class to make an structure or outlines for subclassess. in abstract class, an abstract method \n",
    "can not be defined but it can be rededined within child class. an abstract class can not be instantiate, it can be inherit only..\n",
    "abc is the feature to implement abstract concept in python'''\n",
    "\n",
    "from abc import ABC,abstractmethod\n",
    "class Vip(ABC):\n",
    "    @abstractmethod\n",
    "    def databaseconnectivity(self):\n",
    "        pass\n",
    "    @abstractmethod\n",
    "    def userdetail(self,id,name,contact):\n",
    "            pass\n",
    "    def user_address(self,city,pin):\n",
    "        pass\n",
    "class new(Vip):\n",
    "    def databaseconnectivity(self):\n",
    "        print(\"Connected\")\n",
    "    def userdetail(self,id,name,contact):\n",
    "        print(id)\n",
    "        print(name)\n",
    "        print(contact)\n",
    "    \n",
    "ob=new()\n",
    "ob.databaseconnectivity()\n",
    "ob.userdetail(1,\"Singh\",9099999879)"
   ]
  },
  {
   "cell_type": "code",
   "execution_count": 63,
   "id": "9da00dd7-c5ab-4dbe-b1a2-ccbb6b7f13ff",
   "metadata": {},
   "outputs": [
    {
     "name": "stdout",
     "output_type": "stream",
     "text": [
      "It is not an electronic Vehicle. it can run using Sailing by rudder\n"
     ]
    }
   ],
   "source": [
    "# 8. Create a Python class hierarchy for a vehicle system (e.g., car, bicycle, boat) and implement a \n",
    "# polymorphic `start()` method that prints a message specific to each vehicle type.\n",
    "class Vehicle:\n",
    "    def start(self):\n",
    "        print(\"Every Vehicle has its own start functionality\")\n",
    "class Car(Vehicle):\n",
    "    def start(self):\n",
    "        print(\"Carts Starts Using key \")\n",
    "class Bicycle(Vehicle):\n",
    "    def start(self):\n",
    "        print(\"It has no start functionality. its not an electronic vehicle. It can run using paddling\")\n",
    "class Boat(Vehicle):\n",
    "    def start(self):\n",
    "        print(\"It is not an electronic Vehicle. it can run using Sailing by rudder\")\n",
    "\n",
    "\n",
    "ob=Boat()\n",
    "ob.start()"
   ]
  },
  {
   "cell_type": "code",
   "execution_count": null,
   "id": "002dc60f-0498-4f6a-be0b-75725ece8730",
   "metadata": {},
   "outputs": [],
   "source": [
    "# 9. Explain the significance of the `isinstance()` and `issubclass()` functions in Python polymorphism.\n",
    "\n",
    "\n",
    "''' isinstance() function is function that takes two arguments, one is variable and another one is data type and it checks and \n",
    "returns true if it matches with each other , otherwise return false'''\n",
    "\n",
    "''' in inheritance it is used frequently to implement method overloading on the basis of data types'''\n",
    "''' issubclass method takes two arguments, one is a class name and another one is another class name and return true if first\n",
    "class name is the subclass of second class name otherwise return false'''\n",
    "\n",
    "class Age:\n",
    "  age = 40\n",
    "\n",
    "class child(Age):\n",
    "  name = \"Singh\"\n",
    "  age = Age\n",
    "\n",
    "x = issubclass(child, Age)\n",
    "\n",
    "x\n",
    "\n",
    "class xyz:\n",
    "    def __init__(self,x):\n",
    "        if isinstance(x,int):\n",
    "            print(x*x*x)\n",
    "        elif isinstance(x,float):\n",
    "            print(int(x))\n",
    "        else:\n",
    "            print(x)\n",
    "ob=xyz(\"12.12\")"
   ]
  },
  {
   "cell_type": "code",
   "execution_count": 70,
   "id": "24ecff1f-78e9-4576-920b-f500f1729081",
   "metadata": {},
   "outputs": [
    {
     "name": "stdout",
     "output_type": "stream",
     "text": [
      "Connected\n",
      "1\n",
      "Singh\n",
      "9099999879\n"
     ]
    }
   ],
   "source": [
    "# 10. What is the role of the `@abstractmethod` decorator in achieving polymorphism in Python? Provide an  example.\n",
    "''' abstraction is the the process of hiding complexity by hiding unnecessary information from the user'''\n",
    "'''using abstractmethod decorator we can create abtract method to make outlines or skeleton of the task to make a work distributed '''\n",
    "\n",
    "from abc import ABC,abstractmethod\n",
    "class Vip(ABC):\n",
    "    @abstractmethod\n",
    "    def databaseconnectivity(self):\n",
    "        pass\n",
    "    @abstractmethod\n",
    "    def userdetail(self,id,name,contact):\n",
    "            pass\n",
    "    def user_address(self,city,pin):\n",
    "        pass\n",
    "class new(Vip):\n",
    "    def databaseconnectivity(self):\n",
    "        print(\"Connected\")\n",
    "    def userdetail(self,id,name,contact):\n",
    "        print(id)\n",
    "        print(name)\n",
    "        print(contact)\n",
    "    \n",
    "ob=new()\n",
    "ob.databaseconnectivity()\n",
    "ob.userdetail(1,\"Singh\",9099999879)\n"
   ]
  },
  {
   "cell_type": "code",
   "execution_count": 72,
   "id": "2ffc5823-09c7-4510-882e-c3d8d5778cd4",
   "metadata": {},
   "outputs": [
    {
     "name": "stdout",
     "output_type": "stream",
     "text": [
      "Radius of the circle: 7\n",
      "Circle Area: 153.93804002589985\n",
      "\n",
      "Rectangle: Length = 5  Width = 7\n",
      "Rectangle Area: 35\n",
      "\n",
      "Triangle: Base = 5  Height = 4  side1 = 4  side2 = 3  side3 = 5\n",
      "Triangle Area: 10.0\n"
     ]
    }
   ],
   "source": [
    "# 11. Create a Python class called `Shape` with a polymorphic method `area()` that calculates the area of different shapes \n",
    "# (e.g., circle, rectangle, triangle).\n",
    "\n",
    "import math\n",
    "\n",
    "class Shape:\n",
    "    def calculate_area(self):\n",
    "        pass\n",
    "class Circle(Shape):\n",
    "    def __init__(self, radius):\n",
    "        self.radius = radius\n",
    "    def calculate_area(self):\n",
    "        return math.pi * self.radius**2\n",
    "class Rectangle(Shape):\n",
    "    def __init__(self, length, width):\n",
    "        self.length = length\n",
    "        self.width = width\n",
    "    def calculate_area(self):\n",
    "        return self.length * self.width\n",
    "class Triangle(Shape):\n",
    "    def __init__(self, base, height, side1, side2, side3):\n",
    "        self.base = base\n",
    "        self.height = height\n",
    "        self.side1 = side1\n",
    "        self.side2 = side2\n",
    "        self.side3 = side3\n",
    "    def calculate_area(self):\n",
    "        return 0.5 * self.base * self.height\n",
    "# Example usage\n",
    "r = 7\n",
    "circle = Circle(r)\n",
    "circle_area = circle.calculate_area()\n",
    "\n",
    "print(\"Radius of the circle:\",r)\n",
    "print(\"Circle Area:\", circle_area)\n",
    "l = 5\n",
    "w = 7\n",
    "rectangle = Rectangle(l, w)\n",
    "rectangle_area = rectangle.calculate_area()\n",
    "print(\"\\nRectangle: Length =\",l,\" Width =\",w)\n",
    "print(\"Rectangle Area:\", rectangle_area)\n",
    "\n",
    "base = 5\n",
    "height = 4\n",
    "s1 = 4\n",
    "s2 = 3\n",
    "s3 = 5\n",
    "print(\"\\nTriangle: Base =\",base,\" Height =\",height,\" side1 =\",s1,\" side2 =\",s2,\" side3 =\",s3)\n",
    "triangle = Triangle(base,height,s1,s2,s3)\n",
    "triangle_area = triangle.calculate_area()\n",
    "print(\"Triangle Area:\", triangle_area)\n",
    "\n"
   ]
  },
  {
   "cell_type": "code",
   "execution_count": null,
   "id": "5eaa728b-cb1e-40c3-a1b1-b17141239a9d",
   "metadata": {},
   "outputs": [],
   "source": [
    "# 12. Discuss the benefits of polymorphism in terms of code reusability and flexibility in Python programs.\n",
    "\n",
    "'''\n",
    "Just like a toolbox that keeps all the necessary tools organized and easily accessible, \n",
    "encapsulation allows us to bundle together methods and data that are closely related. \n",
    "This promotes code organization, modularity, and reusability, \n",
    "making our programs more manageable and efficient '''\n",
    "'''\n",
    "Modularity is closely tied with encapsulation; think of modularity as a way of mapping encapsulated abstractions into real, physical modules. \n",
    "The C/C++ convention is to create two files for each class: a header file (. h suffix) for the class interface, and an implementation file'''\n",
    "'''Encapsulation promotes modularity by encapsulating the data and methods related to a specific object within a class '''\n"
   ]
  },
  {
   "cell_type": "code",
   "execution_count": null,
   "id": "fc999fee-d9c1-4e12-90a1-a7bcca6abcee",
   "metadata": {},
   "outputs": [],
   "source": [
    "# 13. Explain the use of the `super()` function in Python polymorphism. How does it help call methods of parent  classes?\n",
    "\n",
    "'''super is function that is the reference of parent class. using super method we can call any super class method in child class\n",
    "and we can call super class constructor in child class constructor '''\n",
    "''' it is also a default function of child class to automatically call the super class default constructor in inheritance '''\n",
    "''' super() function call super class overriden method in sub class'''\n"
   ]
  },
  {
   "cell_type": "code",
   "execution_count": 76,
   "id": "e49e3cda-9be5-4b2e-ac14-69f226eb2f42",
   "metadata": {},
   "outputs": [
    {
     "name": "stdout",
     "output_type": "stream",
     "text": [
      "50000\n",
      "45500\n"
     ]
    }
   ],
   "source": [
    "# 14. Create a Python class hierarchy for a banking system with various account types (e.g., savings, checking, credit card) \n",
    "# and demonstrate polymorphism by implementing a common `withdraw()` method.\n",
    "\n",
    "class Savings:\n",
    "    bal=50000\n",
    "    def withdraw(self,x):\n",
    "        if x>Savings.bal:\n",
    "            print(\"insufficient balance\")\n",
    "        else:\n",
    "            Savings.bal=Savings.bal-x\n",
    "    def checking(self,user,password):\n",
    "        if user==\"singh\" and password==\"123\":\n",
    "            print(Savings.bal)\n",
    "\n",
    "ob=Savings()\n",
    "ob.checking(\"singh\",\"123\")\n",
    "ob.withdraw(4500)\n",
    "ob.checking(\"singh\",\"123\")\n",
    "\n",
    "        \n",
    "    \n"
   ]
  },
  {
   "cell_type": "code",
   "execution_count": 81,
   "id": "3040d046-7ec3-4a33-96cc-086934deb986",
   "metadata": {},
   "outputs": [
    {
     "name": "stdout",
     "output_type": "stream",
     "text": [
      "6 34\n",
      "6 1440\n"
     ]
    }
   ],
   "source": [
    "# 15. Describe the concept of operator overloading in Python and how it relates to polymorphism. Provide \n",
    "# examples using operators like `+` and `*`.\n",
    "\n",
    "class bigdata:\n",
    "    def __init__(self,no_of_class,no_of_st):\n",
    "        self.no_of_class=no_of_class\n",
    "        self.no_of_st=no_of_st\n",
    "    def __add__(self,other):\n",
    "        return bigdata(self.no_of_class+other.no_of_class,self.no_of_st+other.no_of_st)\n",
    "\n",
    "c1=bigdata(1,10)\n",
    "c2=bigdata(2,12)\n",
    "c3=bigdata(3,12)\n",
    "result=c1+c2+c3\n",
    "print(result.no_of_class,result.no_of_st)\n",
    "\n",
    "\n",
    "class bigdata:\n",
    "    def __init__(self,no_of_class,no_of_st):\n",
    "        self.no_of_class=no_of_class\n",
    "        self.no_of_st=no_of_st\n",
    "    def __mul__(self,other):\n",
    "        return bigdata(self.no_of_class*other.no_of_class,self.no_of_st*other.no_of_st)\n",
    "\n",
    "c1=bigdata(1,10)\n",
    "c2=bigdata(2,12)\n",
    "c3=bigdata(3,12)\n",
    "result=c1*c2*c3\n",
    "print(result.no_of_class,result.no_of_st)"
   ]
  },
  {
   "cell_type": "code",
   "execution_count": null,
   "id": "169b973a-53f8-4571-9808-ff79db2d70e3",
   "metadata": {},
   "outputs": [],
   "source": [
    "# 16. What is dynamic polymorphism, and how is it achieved in Python?\n",
    "\n",
    "\n",
    "''' compile time polymorphism is also known as static binding in which a data and its funcationality already decided at the time of \n",
    "compilation and as well as runtime polymorphism is dynamic binding of data and its functions. suppose we have a same method \n",
    "with different funcitonality in inherited class. and now we can take the class name from the user to create an object. according the user input\n",
    "at run time it will decide which overridden method will be call. python dosent support method overloading so there is no a proper\n",
    "runtime polymorphism in python.\n",
    "'''\n",
    "\n",
    "\n",
    "''' here we are taking the class name from the user and at runtime python will decide which method will be call. this is called runtime polymorphism'''"
   ]
  },
  {
   "cell_type": "code",
   "execution_count": 84,
   "id": "dcb4caa9-5b48-4dab-b078-4f5a05111780",
   "metadata": {},
   "outputs": [
    {
     "name": "stdout",
     "output_type": "stream",
     "text": [
      "Employee Name :  Akshay\n",
      "Employee ID :  112\n",
      "Employee Total Salary :  19900\n"
     ]
    }
   ],
   "source": [
    "# 17. Create a Python class hierarchy for employees in a company (e.g., manager, developer, designer) and \n",
    "# implement polymorphism through a common `calculate_salary()` method.\n",
    "\n",
    "class Employee:\n",
    "    def __init__(self,emp_id,emp_name,sal,ta,da,hra):\n",
    "        self.emp_id=emp_id\n",
    "        self.emp_name=emp_name\n",
    "        self.sal=sal\n",
    "        self.ta=ta\n",
    "        self.da=da\n",
    "        self.hra=hra\n",
    "    def salary(self):\n",
    "        total=self.sal+self.ta+self.da+self.hra\n",
    "        print(\"Employee Name : \",self.emp_name)\n",
    "        print(\"Employee ID : \",self.emp_id)\n",
    "        print(\"Employee Total Salary : \",total)\n",
    "ob=Employee(112,\"Akshay\",14000,1200,1400,3300)\n",
    "ob.salary()\n"
   ]
  },
  {
   "cell_type": "code",
   "execution_count": 86,
   "id": "f2e1205e-f169-41f2-bded-baca10e76010",
   "metadata": {},
   "outputs": [
    {
     "name": "stdout",
     "output_type": "stream",
     "text": [
      "10\n",
      "27\n"
     ]
    }
   ],
   "source": [
    "# 18. Discuss the concept of function pointers and how they can be used to achieve polymorphism in Python.\n",
    "\n",
    "'''in python we can create a function pointer , we can set a variable or a dictionary key to the name of a function. so we can say\n",
    "we are assigning a function to a key or a variable that can be call further in different way so its implementing polymorphism somehow'''\n",
    "\n",
    "def fun(x):\n",
    "    print(x)\n",
    "di={\"pointer\":fun}\n",
    "\n",
    "di[\"pointer\"](10)\n",
    "\n",
    "#.......................\n",
    "def fun(x,y):\n",
    "    print(x+y)\n",
    "\n",
    "pointer=fun\n",
    "\n",
    "pointer(12,15)\n",
    "\n"
   ]
  },
  {
   "cell_type": "code",
   "execution_count": null,
   "id": "264df10a-48eb-49c8-99c0-0dd6f01c8492",
   "metadata": {},
   "outputs": [],
   "source": [
    "# 19. Explain the role of interfaces and abstract classes in polymorphism, drawing comparisons between them.\n",
    "\n",
    "\n",
    "''' abstraction is the the process of hiding complexity by hiding unnecessary information from the user. abstract class is the blue print for other\n",
    "classes...'''\n",
    "'''using abstractmethod decorator we can create abtract method to make outlines or skeleton of the task to make a work distributed '''\n",
    "'''python doesnt supports interface'''\n",
    "\n",
    "''''\n",
    "\n",
    "In object-oriented languages like Python, the interface is a collection of method signatures that should be provided by the implementing class. \n",
    "Implementing an interface is a way of writing an organized code and achieve abstraction\n",
    "\n",
    "'''\n",
    "\n"
   ]
  },
  {
   "cell_type": "code",
   "execution_count": 94,
   "id": "c0acf772-99eb-4d10-9404-d5db9b4ddd8a",
   "metadata": {},
   "outputs": [
    {
     "name": "stdout",
     "output_type": "stream",
     "text": [
      "eat method\n",
      "sleep method\n",
      "eat method\n",
      "overide eat\n",
      "sleep method\n",
      "override sleep\n",
      "in fly method\n"
     ]
    }
   ],
   "source": [
    "# 20. Create a Python class for a zoo simulation, demonstrating polymorphism with different animal types \n",
    "# (e.g., mammals, birds, reptiles) and their behavior (e.g., eating, sleeping, making sounds).\n",
    "\n",
    "\n",
    "\n",
    "class Animal:\n",
    "    def eat(self):\n",
    "        print(\"eat method\")\n",
    "    def sleep(self):\n",
    "        print(\"sleep method\")\n",
    "\n",
    "class Bird(Animal):\n",
    "    def eat(self):\n",
    "        super().eat();\n",
    "        print(\"overide eat\")\n",
    "    def sleep(self):\n",
    "        super().sleep()\n",
    "        print(\"override sleep\")\n",
    "    def fly(self):\n",
    "        print(\"in fly method\")\n",
    "class Reptile(Animal):\n",
    "    def eat(self):\n",
    "        super().eat();\n",
    "        print(\"overide eat\")\n",
    "    def sleep(self):\n",
    "        super().sleep()\n",
    "        print(\"override sleep\")\n",
    "    def crawl(self):\n",
    "        print(\"in crawl method\")\n",
    "\n",
    "a =Animal()\n",
    "b = Bird()\n",
    "a.eat()\n",
    "a.sleep()\n",
    "b.eat()\n",
    "b.sleep()\n",
    "b.fly()\n",
    "\n"
   ]
  },
  {
   "cell_type": "markdown",
   "id": "9af5367a-0bb2-45aa-afcb-84fac3688844",
   "metadata": {},
   "source": [
    "# Abstraction"
   ]
  },
  {
   "cell_type": "code",
   "execution_count": null,
   "id": "28f6b9e2-892a-4ac9-a03b-95a4e0ecd651",
   "metadata": {},
   "outputs": [],
   "source": [
    "# 1. What is abstraction in Python, and how does it relate to object-oriented programming?\n",
    "\n",
    "''' abstraction is the the process of hiding complexity by hiding unnecessary information from the user'''\n",
    "'''using abstractmethod decorator we can create abtract method to make outlines or skeleton of the task to make a work distributed '''\n",
    "''' we can create an abstract class that is actually blue print of other class'''\n",
    "'''Abstraction is the process of hiding the internal details of an application from the outer world'''"
   ]
  },
  {
   "cell_type": "code",
   "execution_count": null,
   "id": "9ef4eeee-624f-408a-9b24-d397839ebc64",
   "metadata": {},
   "outputs": [],
   "source": [
    "# 2. Describe the benefits of abstraction in terms of code organization and complexity reduction.\n",
    "\n",
    "'''It reduces the complexity of viewing the things. Helps to increase security of an application or program as only \n",
    "important details are provided to the user. \n",
    "Avoids code duplication and increases reusability. \n",
    "Can change internal implementation of class independently without affecting the user.  '''\n",
    "'''\n",
    "Through the process of abstraction, a programmer hides all but the relevant data about an object in order to reduce complexity and increase efficiency. \n",
    "In the same way that abstraction sometimes works in art, the object that remains is a representation of the original, with unwanted detail omitted.\n",
    "'''\n"
   ]
  },
  {
   "cell_type": "code",
   "execution_count": 1,
   "id": "5dd59df3-7e83-4e29-9a14-d404d8859b98",
   "metadata": {},
   "outputs": [
    {
     "name": "stdout",
     "output_type": "stream",
     "text": [
      "Radius of the circle: 7\n",
      "Circle Area: 153.93804002589985\n"
     ]
    }
   ],
   "source": [
    "# 3. Create a Python class called `Shape` with an abstract method `calculate_area()`. Then, create child classes (e.g., `Circle`, `Rectangle`) \n",
    "# that implement the `calculate_area()` method. Provide an example of using these classes.\n",
    "\n",
    "import math\n",
    "\n",
    "class Shape:\n",
    "    def calculate_area(self):\n",
    "        pass\n",
    "\n",
    "class Circle(Shape):\n",
    "    def __init__(self, radius):\n",
    "        self.radius = radius\n",
    "\n",
    "    def calculate_area(self):\n",
    "        return math.pi * self.radius**2\n",
    "\n",
    "class Rectangle(Shape):\n",
    "    def __init__(self, length, width):\n",
    "        self.length = length\n",
    "        self.width = width\n",
    "\n",
    "    def calculate_area(self):\n",
    "        return self.length * self.width\n",
    "\n",
    "\n",
    "\n",
    "\n",
    "# Example usage\n",
    "r = 7\n",
    "circle = Circle(r)\n",
    "circle_area = circle.calculate_area()\n",
    "\n",
    "\n",
    "print(\"Radius of the circle:\",r)\n",
    "print(\"Circle Area:\", circle_area)\n"
   ]
  },
  {
   "cell_type": "code",
   "execution_count": 3,
   "id": "190ce892-d13f-4f0d-8638-23ad787dd3af",
   "metadata": {},
   "outputs": [
    {
     "name": "stdout",
     "output_type": "stream",
     "text": [
      "Connected\n",
      "1\n",
      "Singh\n",
      "9099999879\n"
     ]
    }
   ],
   "source": [
    "# 4. Explain the concept of abstract classes in Python and how they are defined using the `abc` module. Provide an example.\n",
    "\n",
    "'''An abstract class can be considered a blueprint for other classes. It allows you to create a set of methods that must be created within any \n",
    "child classes built from the abstract class. A class that contains one or more abstract methods is called an abstract class. '''\n",
    "\n",
    "''' ABC stands for abstract Base Classes is a module in python to make a custom abstract class. in python we can not create\n",
    "an abstract class directly so  ABC module provides the infrastructure for defining the base of an custom abc class'''\n",
    "''' an abstract class is class to make an structure or outlines for subclassess. in abstract class, an abstract method \n",
    "can not be defined but it can be rededined within child class. an abstract class can not be instantiate, it can be inherit only..\n",
    "abc is the feature to implement abstract concept in python'''\n",
    "\n",
    "from abc import ABC,abstractmethod\n",
    "class Vip(ABC):\n",
    "    @abstractmethod\n",
    "    def databaseconnectivity(self):\n",
    "        pass\n",
    "    @abstractmethod\n",
    "    def userdetail(self,id,name,contact):\n",
    "            pass\n",
    "    def user_address(self,city,pin):\n",
    "        pass\n",
    "class new(Vip):\n",
    "    def databaseconnectivity(self):\n",
    "        print(\"Connected\")\n",
    "    def userdetail(self,id,name,contact):\n",
    "        print(id)\n",
    "        print(name)\n",
    "        print(contact)\n",
    "    \n",
    "ob=new()\n",
    "ob.databaseconnectivity()\n",
    "ob.userdetail(1,\"Singh\",9099999879)"
   ]
  },
  {
   "cell_type": "code",
   "execution_count": null,
   "id": "35034989-6aaa-404d-85f1-08c328eaf692",
   "metadata": {},
   "outputs": [],
   "source": [
    "# 5. How do abstract classes differ from regular classes in Python? Discuss their use cases.\n",
    "'''\n",
    "Yes, you can do that. Some languages want you to declare abstract classes so you don’t instantiate them accidentally. \n",
    "Also, the thing that makes abstract classes really abstract is that they have abstract methods. \n",
    "If you instantiate such a class and then invoke those methods, you will be in a world of hurt…\n",
    "'''\n",
    "''' in regular class there is no any abstract method so you can instantiate the class'''"
   ]
  },
  {
   "cell_type": "code",
   "execution_count": 4,
   "id": "5d98dde4-2a6c-40fe-a108-1636d59d751b",
   "metadata": {},
   "outputs": [
    {
     "name": "stdin",
     "output_type": "stream",
     "text": [
      "Enter your deposit amount  34\n"
     ]
    },
    {
     "name": "stdout",
     "output_type": "stream",
     "text": [
      "Account Number is :  18009091\n",
      "Account Holder Name is :  Arjun\n",
      "Account Balance is :  1368\n"
     ]
    },
    {
     "name": "stdin",
     "output_type": "stream",
     "text": [
      "Enter withdrawl amount  4\n"
     ]
    },
    {
     "name": "stdout",
     "output_type": "stream",
     "text": [
      "Account Number is :  18009091\n",
      "Account Holder Name is :  Arjun\n",
      "Account Balance is :  1330\n"
     ]
    }
   ],
   "source": [
    "# 6. Create a Python class for a bank account and demonstrate abstraction by hiding the account balance and \n",
    "# providing methods to deposit and withdraw funds.\n",
    "\n",
    "class BankAccount:\n",
    "    def __init__(self,ac_no,ac_holder_name,bal):\n",
    "        self.__ac_no=ac_no\n",
    "        self.ac_holder_name=ac_holder_name\n",
    "        self.__bal=bal\n",
    "    def deposit(self):\n",
    "        dp=int(input(\"Enter your deposit amount \"))\n",
    "        self.__bal+=dp\n",
    "        print(\"Account Number is : \",self.__ac_no)\n",
    "        print(\"Account Holder Name is : \",self.ac_holder_name)\n",
    "        print(\"Account Balance is : \",self.__bal+dp)\n",
    "    def withdrawl(self):\n",
    "        w=int(input(\"Enter withdrawl amount \"))\n",
    "        print(\"Account Number is : \",self.__ac_no)\n",
    "        print(\"Account Holder Name is : \",self.ac_holder_name)\n",
    "        print(\"Account Balance is : \",self.__bal-w)\n",
    "        \n",
    "\n",
    "\n",
    "ob=BankAccount(18009091,\"Arjun\",1300)\n",
    "ob.deposit()\n",
    "ob.withdrawl()\n"
   ]
  },
  {
   "cell_type": "code",
   "execution_count": null,
   "id": "9e46c9cd-0ad1-4af9-84f3-89401691a1d1",
   "metadata": {},
   "outputs": [],
   "source": [
    "# 7. Discuss the concept of interface classes in Python and their role in achieving abstraction.\n",
    "\n",
    "'''At a high level, an interface acts as a blueprint for designing classes. Like classes, interfaces define methods. \n",
    "Unlike classes, these methods are abstract. An abstract method is one that the interface simply defines. '''\n",
    "\n",
    "'''\n",
    "\n",
    "'''The interface in object-oriented languages like Python is a set of method signatures that the implementing class is expected to provide. \n",
    "Writing ordered code and achieving abstraction are both possible through interface implementation.\n",
    "'''\n"
   ]
  },
  {
   "cell_type": "code",
   "execution_count": 8,
   "id": "9ab9a7f0-ff0b-40f7-8e1b-7da4b837eb44",
   "metadata": {},
   "outputs": [
    {
     "name": "stdout",
     "output_type": "stream",
     "text": [
      "overide eat\n",
      "override sleep\n",
      "overide eat\n",
      "override sleep\n"
     ]
    }
   ],
   "source": [
    "# 8. Create a Python class hierarchy for animals and implement abstraction by defining common methods (e.g., `eat()`, `sleep()`) \n",
    "# in an abstract base class.\n",
    "\n",
    "from abc import ABC,abstractmethod\n",
    "\n",
    "class Animal(ABC):\n",
    "    \n",
    "    def fly(self):\n",
    "        pass\n",
    "    @abstractmethod\n",
    "    def eat(self):\n",
    "        pass\n",
    "    @abstractmethod\n",
    "    def sleep(self):\n",
    "        pass\n",
    "    @abstractmethod\n",
    "    def crawl(self):\n",
    "        pass\n",
    "\n",
    "\n",
    "\n",
    "\n",
    "class Reptile(Animal):\n",
    "    def eat(self):\n",
    "        super().eat();\n",
    "        print(\"overide eat\")\n",
    "    def sleep(self):\n",
    "        super().sleep()\n",
    "        print(\"override sleep\")\n",
    "    def crawl(self):\n",
    "        print(\"in crawl method\")\n",
    "\n",
    "a =Reptile()\n",
    "a.eat()\n",
    "a.sleep()\n",
    "a.eat()\n",
    "a.sleep()\n",
    "\n"
   ]
  },
  {
   "cell_type": "code",
   "execution_count": 9,
   "id": "caf22ec2-35cc-441a-82ff-cf47934c7d25",
   "metadata": {},
   "outputs": [
    {
     "name": "stdout",
     "output_type": "stream",
     "text": [
      "Singh\n",
      "12000\n",
      "Training\n"
     ]
    }
   ],
   "source": [
    "# 9. Explain the significance of encapsulation in achieving abstraction. Provide examples.\n",
    "'''\n",
    "Encapsulation allows abstraction. Encapsulation is the process of hiding the implementation details of an object from the outside world, \n",
    "and only exposing a public interface for interacting with the object. \n",
    "An example of encapsulation in the real world is a car engine. '''\n",
    "\n",
    "'''\n",
    "Encapsulation is a way to restrict the direct access to some components of an object, \n",
    "so users cannot access state values for all of the variables of a particular object.\n",
    "Encapsulation can be used to hide both data members and data functions or methods associated with an instantiated class or object.\n",
    "'''\n",
    "\n",
    "\n",
    "\n",
    "class Employee:\n",
    "    def __init__(self,name,salary):\n",
    "        self.name=name\n",
    "        self.salary=salary\n",
    "class Manager(Employee):\n",
    "    def __init__(self,name,salary,department):\n",
    "        super().__init__(name,salary)\n",
    "        self.department=department\n",
    "    def show(self):\n",
    "        print(self.name)\n",
    "        print(self.salary)\n",
    "        print(self.department)\n",
    "ob=Manager(\"Singh\",12000,\"Training\")\n",
    "\n",
    "ob.show()    \n",
    "\n",
    "\n",
    "\n"
   ]
  },
  {
   "cell_type": "code",
   "execution_count": null,
   "id": "aedd475f-a675-4cdd-8d85-2eecf17e3938",
   "metadata": {},
   "outputs": [],
   "source": [
    "# 10. What is the purpose of abstract methods, and how do they enforce abstraction in Python classes?\n",
    "'''\n",
    "Abstract methods force the child classes to give the implementation of these methods in them and thus help us achieve\n",
    "abstraction as each subclass can give its own implementation. \n",
    "A class containing one or more than one abstract method is called an abstract class.\n",
    "'''\n",
    "'''\n",
    "An abstract method is a method that has a declaration but does not have an implementation. \n",
    "While we are designing large functional units we use an abstract class.\n",
    "When we want to provide a common interface for different implementations of a component, we use an abstract class '''\n"
   ]
  },
  {
   "cell_type": "code",
   "execution_count": null,
   "id": "9764826f-a65a-4aca-954f-83f21a745b14",
   "metadata": {},
   "outputs": [],
   "source": [
    "# 11. Create a Python class for a vehicle system and demonstrate abstraction by defining common methods \n",
    "# (e.g., `start()`, `stop()`) in an abstract base class.\n",
    "\n",
    "from abc import ABC,abstractmethod\n",
    "\n",
    "class Vehicle(ABC):\n",
    "    @abstractmethod\n",
    "    def start(self):\n",
    "        pass\n",
    "    @abstractmethod\n",
    "    def stop(self):\n",
    "        pass"
   ]
  },
  {
   "cell_type": "code",
   "execution_count": 13,
   "id": "5cb20858-87b4-4a5a-b5ae-41d9557f9d9f",
   "metadata": {},
   "outputs": [
    {
     "name": "stdout",
     "output_type": "stream",
     "text": [
      "Base_1 does stuff\n"
     ]
    }
   ],
   "source": [
    "# 12. Describe the use of abstract properties in Python and how they can be employed in abstract classes.\n",
    "\n",
    "from abc import ABCMeta, abstractmethod\n",
    "\n",
    "class Base(object):\n",
    "# class Base(metaclass = ABCMeta): <- Python 3\n",
    "    __metaclass__ = ABCMeta\n",
    "    def __init__(self, str_dir_config):\n",
    "        self.str_dir_config = str_dir_config\n",
    "    \n",
    "    @abstractmethod\n",
    "    def _do_stuff(self, signals):\n",
    "        pass\n",
    "    \n",
    "    @property    \n",
    "    @abstractmethod\n",
    "    def name(self):\n",
    "        \"\"\"This property will be supplied by the inheriting classes\n",
    "        individually.\n",
    "        \"\"\"\n",
    "        pass\n",
    "    \n",
    "\n",
    "class Base1(Base):\n",
    "    __metaclass__ = ABCMeta\n",
    "    \"\"\"This class does not provide the name property and should\n",
    "    raise an error.\n",
    "    \"\"\"\n",
    "    def __init__(self, str_dir_config):\n",
    "        super(Base1, self).__init__(str_dir_config)\n",
    "        # super().__init__(str_dir_config) <- Python 3\n",
    "    \n",
    "    def _do_stuff(self, signals):\n",
    "        print(\"Base_1 does stuff\")\n",
    "        # print(\"Base_1 does stuff\") <- Python 3\n",
    "\n",
    "class C(Base1):\n",
    "    @property\n",
    "    def name(self):\n",
    "        return \"class C\"\n",
    "    \n",
    "\n",
    "if __name__ == \"__main__\":\n",
    "    b1 = Base1(\"abc\")\n",
    "    b1._do_stuff(10)\n"
   ]
  },
  {
   "cell_type": "code",
   "execution_count": 17,
   "id": "737bc6c8-0d07-433c-a78e-4c02b3bd75a0",
   "metadata": {},
   "outputs": [
    {
     "name": "stdout",
     "output_type": "stream",
     "text": [
      "Singh\n",
      "12000\n",
      "Training\n"
     ]
    }
   ],
   "source": [
    "# 13. Create a Python class hierarchy for employees in a company (e.g., manager, developer, designer) \n",
    "# and implement abstraction by defining a common `get_salary()` method.\n",
    "\n",
    "from abc import ABC,abstractmethod\n",
    "class Employee(ABC):\n",
    "    def __init__(self,name,salary):\n",
    "        self.name=name\n",
    "        self.salary=salary\n",
    "    @abstractmethod\n",
    "    def get_salary(self):\n",
    "        pass\n",
    "class Manager(Employee):\n",
    "    def __init__(self,name,salary,department):\n",
    "        super().__init__(name,salary)\n",
    "        self.department=department\n",
    "    def get_salary(self):\n",
    "        print(self.name)\n",
    "        print(self.salary)\n",
    "        print(self.department)\n",
    "class Developer(Employee):\n",
    "    def __init__(self,name,salary,department):\n",
    "        super().__init__(name,salary)\n",
    "        self.department=department\n",
    "    def get_salary(self):\n",
    "        print(self.name)\n",
    "        print(self.salary)\n",
    "        print(self.department)\n",
    "class Designer(Employee):\n",
    "    def __init__(self,name,salary,department):\n",
    "        super().__init__(name,salary)\n",
    "        self.department=department\n",
    "    def get_salary(self):\n",
    "        print(self.name)\n",
    "        print(self.salary)\n",
    "        print(self.department)\n",
    "ob=Manager(\"Singh\",12000,\"Training\")\n",
    "\n",
    "ob.get_salary()  \n"
   ]
  },
  {
   "cell_type": "code",
   "execution_count": null,
   "id": "c1b6d129-b9da-425d-a192-7f13292fc4c9",
   "metadata": {},
   "outputs": [],
   "source": [
    "# 14. Discuss the differences between abstract classes and concrete classes in Python, including their instantiation.\n",
    "\n",
    "'''\n",
    "Concrete classes contain only concrete (normal)methods whereas abstract classes may contain both concrete methods and abstract methods. \n",
    "The concrete class provides \n",
    "an implementation of abstract methods, the abstract base class can also provide an implementation by invoking the methods via super().\n",
    "'''\n",
    "'''Unlike some other programming languages, abstract Python methods don't need to be completely abstract; \n",
    "they can have some basic-level implementation that can be used by all the concrete classes.\n",
    "A Concrete class is a class that has a definition for all its methods and has no abstract method.\n",
    "'''"
   ]
  },
  {
   "cell_type": "code",
   "execution_count": null,
   "id": "f916f4c7-f83b-44c5-b80f-912cc0b3afc4",
   "metadata": {},
   "outputs": [],
   "source": [
    "# 15. Explain the concept of abstract data types (ADTs) and their role in achieving abstraction in Python.\n",
    "\n",
    "'''\n",
    "Earlier if a programmer wanted to read a file, the whole code was written to read the physical file device. \n",
    "So that is how Abstract Data Type (ADT) came into existence.\n",
    "The code to read a file was written and placed in a library and made available for everyone’s use. \n",
    "This concept of ADT is being used in the modern languages nowadays.\n",
    "'''\n",
    "'''\n",
    "    An abstract data type is also known as ADT. It means providing only necessary details by hiding internal details. \n",
    "In short abstract data, types have only data not how to use or implement it. Also, it can be created at the level.\n",
    "An object like list, set graphs with operations like \n",
    "\n",
    "Insert \n",
    "Locate\n",
    "Retrieve\n",
    "Delete\n",
    "MAKENULL()\n",
    "Print()\n",
    "'''\n"
   ]
  },
  {
   "cell_type": "code",
   "execution_count": 14,
   "id": "fe5b092b-795f-4ad5-b0fb-e131016ca0c9",
   "metadata": {},
   "outputs": [],
   "source": [
    "# 16. Create a Python class for a computer system, demonstrating abstraction by defining common methods \n",
    "# (e.g., `power_on()`, `shutdown()`) in an abstract base class.\n",
    "from abc import ABC, abstractmethod\n",
    "class System(ABC):\n",
    "    @abstractmethod\n",
    "    def power_on(self):\n",
    "        pass\n",
    "    @abstractmethod\n",
    "    def shutdown(self):\n",
    "        pass\n",
    "\n"
   ]
  },
  {
   "cell_type": "code",
   "execution_count": null,
   "id": "72f025cb-f900-4965-a2c6-668bbef2cfa7",
   "metadata": {},
   "outputs": [],
   "source": [
    "# 17. Discuss the benefits of using abstraction in large-scale software development projects.\n",
    "\n",
    "'''Data abstraction is the process of recognising important qualities of an object or a model and omitting its insignificant aspects'''\n",
    "''' This is an important concept in computer science and problem-solving in genera'''\n",
    "'''Data abstraction allows users to focus on a machine's basic functionality without having to understand its complex operation'''\n",
    "'''With data abstraction, programmers protect the inner workings of a system. Suppose they develop a camera that records video footage with extreme clarity than any other video recording device'''\n",
    "'''Product developers or company officials are usually the only people who have access to the code for a device. Only these professionals know the inner workings of the product.'''\n",
    "\n"
   ]
  },
  {
   "cell_type": "code",
   "execution_count": null,
   "id": "634f7f78-3c36-4c28-9705-9266a9a966c3",
   "metadata": {},
   "outputs": [],
   "source": [
    "# 18. Explain how abstraction enhances code reusability and modularity in Python programs.\n",
    "\n",
    "'''It reduces the complexity of viewing the things. Helps to increase security of an application or program as only \n",
    "important details are provided to the user. \n",
    "Avoids code duplication and increases reusability. \n",
    "Can change internal implementation of class independently without affecting the user.  '''\n",
    "'''\n",
    "Through the process of abstraction, a programmer hides all but the relevant data about an object in order to reduce complexity and increase efficiency. \n",
    "In the same way that abstraction sometimes works in art, the object that remains is a representation of the original, with unwanted detail omitted.\n",
    "'''\n",
    "\n"
   ]
  },
  {
   "cell_type": "code",
   "execution_count": 18,
   "id": "367b253b-86de-460c-ade8-33fa60312f73",
   "metadata": {},
   "outputs": [
    {
     "name": "stdout",
     "output_type": "stream",
     "text": [
      "\n",
      "---------------- || Welcome to Khyati's Library ||-----------------\n",
      "\n",
      "\n",
      "\t\t\t || Main menu || \n",
      "1. To view the books available to you, please enter \"p\"\n",
      "2. To lend books to this library, please enter \"l\"\n",
      "3. To return books, Please enter \"r\"\n",
      "4. To add books to the library shelf, please enter \"a\"\n",
      "5. To quit or exit, please enter \"x\"\n"
     ]
    },
    {
     "name": "stdin",
     "output_type": "stream",
     "text": [
      "Please Enter your input here:  1\n"
     ]
    },
    {
     "name": "stdout",
     "output_type": "stream",
     "text": [
      "\n",
      "\t\t\t || Main menu || \n",
      "1. To view the books available to you, please enter \"p\"\n",
      "2. To lend books to this library, please enter \"l\"\n",
      "3. To return books, Please enter \"r\"\n",
      "4. To add books to the library shelf, please enter \"a\"\n",
      "5. To quit or exit, please enter \"x\"\n"
     ]
    },
    {
     "name": "stdin",
     "output_type": "stream",
     "text": [
      "Please Enter your input here:  x\n"
     ]
    },
    {
     "name": "stdout",
     "output_type": "stream",
     "text": [
      "\n",
      "Thank you for using this system! Please visit us again :) \n"
     ]
    }
   ],
   "source": [
    "# 19. Create a Python class for a library system, implementing abstraction by defining common methods \n",
    "# (e.g., `add_book()`, `borrow_book()`) in an abstract base class.\n",
    "\n",
    "class Library:\n",
    "\n",
    "    def __init__(self, listofbooks, lname):\n",
    "        self.listofbooks = listofbooks\n",
    "        self.lname = lname\n",
    "        self.lenddata = {}\n",
    "\n",
    "    # Display list of books\n",
    "    def displaybooks(self):\n",
    "        print(' \\n Books which are available for use : ')\n",
    "        for count, book in enumerate(self.listofbooks, 1):\n",
    "            print(f'{count}.  {book}')\n",
    "\n",
    "    # Add new book to the list\n",
    "    def addbooks(self, newbook):\n",
    "        # Append the book in the list of books\n",
    "        self.listofbooks.append(newbook)\n",
    "        print(f'\"{newbook}\" is  added to the list.\\n')\n",
    "\n",
    "    # lend book from the list\n",
    "    def lendbooks(self, lendername, lendingbook):\n",
    "        # Checking the book is in book-list or not\n",
    "        if lendingbook in self.listofbooks:\n",
    "            # Checking the book is in lend data or not\n",
    "            if lendingbook in self.lenddata:\n",
    "                print(f'Sorry! This book is lend by {self.lenddata[lendingbook]}.\\n')\n",
    "\n",
    "            else:\n",
    "                self.lenddata[lendingbook] = lendername\n",
    "                print('Book has been successfully lend.')\n",
    "\n",
    "        else:\n",
    "            print('Sorry! you entered the wrong book name.')\n",
    "\n",
    "    # Return lend book to the list\n",
    "    def returnbooks(self, lendingbook):\n",
    "        if lendingbook in self.lenddata:\n",
    "            print(f'Lend details:\\nThis book is lend by {self.lenddata[lendingbook]}.\\n'\n",
    "                  f'If you want to return this book, enter \"y\"  otherwise, press any key to skip.')\n",
    "            r_input = input('Enter: ')\n",
    "\n",
    "            if r_input == 'y':\n",
    "                del self.lenddata[lendingbook]\n",
    "                print('Thank you! Your book has been returned.\\n')\n",
    "\n",
    "            else:\n",
    "                pass\n",
    "\n",
    "        else:\n",
    "            print('Sorry! you entered the wrong book name.')\n",
    "\n",
    "\n",
    "def main():\n",
    "    # By deafault variables\n",
    "    listofbooks = [\"Data analytics for beginners'\", \"Coding can be fun!\", \"Wings of fire\", \"Behavioral neuroscience\", \"Introduction to Python\", \"class XII RD sharma\"]\n",
    "    lname = \"Khyati's Library\"\n",
    "\n",
    "    lib = Library(listofbooks, lname)\n",
    "\n",
    "    print(f'\\n---------------- || Welcome to {lib.lname} ||-----------------\\n')\n",
    "\n",
    "    while True:\n",
    "        print('\\n\\t\\t\\t || Main menu || ')\n",
    "        print('1. To view the books available to you, please enter \"p\"\\n2. To lend books to this library, please enter \"l\"\\n'\n",
    "              '3. To return books, Please enter \"r\"\\n4. To add books to the library shelf, please enter \"a\"\\n5. To quit or exit, please enter \"x\"')\n",
    "        _input = input(\"Please Enter your input here: \")\n",
    "\n",
    "        if _input == \"x\":\n",
    "            print('\\nThank you for using this system! Please visit us again :) ')\n",
    "            break\n",
    "\n",
    "        elif _input == \"p\":\n",
    "            lib.displaybooks()\n",
    "\n",
    "            # Main menu or exit\n",
    "            minput = input(\"For continuing with main menu enter 'c' or \"\n",
    "                             \"exit enter 'X'\\nEnter: \")\n",
    "\n",
    "            if minput == 'c':\n",
    "                continue\n",
    "            elif minput == 'x':\n",
    "                print('\\nThank you for using this system.')\n",
    "                break\n",
    "\n",
    "        elif _input == \"l\":\n",
    "            lname = input('Enter your name: ')\n",
    "            lbook = input('Enter the name of the book you want to lend: ')\n",
    "            lib.lendbooks(lname, lbook)\n",
    "\n",
    "            # Main menu or exit\n",
    "            minput = input(\"For continuing with main menu enter 'c' or \"\n",
    "                             \"exit enter 'x'\\nEnter: \")\n",
    "\n",
    "            if minput == 'c':\n",
    "                continue\n",
    "            elif minput == 'x':\n",
    "                print('\\nThank you for using this system. Please visit us again :)')\n",
    "                break\n",
    "\n",
    "        elif _input == \"r\":\n",
    "            rbook = input('Enter the book name which you want to return: ')\n",
    "            lib.returnbooks(rbook)\n",
    "\n",
    "        elif _input == \"a\":\n",
    "            add = input('Add the book to the Book lists:\\n')\n",
    "            lib.addbooks(add)\n",
    "\n",
    "            minput = input(\"For continuing with main menu enter 'c' or \"\n",
    "                             \"exit enter 'x'\\nEnter: \")\n",
    "\n",
    "            if minput == 'c':\n",
    "                continue\n",
    "            elif minput == 'x':\n",
    "                print('\\nThank you for using this system.')\n",
    "                break\n",
    "\n",
    "\n",
    "if __name__ == '__main__':\n",
    "    main()\n"
   ]
  },
  {
   "cell_type": "code",
   "execution_count": 19,
   "id": "c580b2e1-bb2e-4233-ae32-b4cd0c48d495",
   "metadata": {},
   "outputs": [
    {
     "data": {
      "text/plain": [
       "'Abstraction is the process of hiding the internal details of an application from the outer world'"
      ]
     },
     "execution_count": 19,
     "metadata": {},
     "output_type": "execute_result"
    }
   ],
   "source": [
    "# 20. Describe the concept of method abstraction in Python and how it relates to polymorphism.\n",
    "\n",
    "\n",
    "''' method abstraction means we are making a methoda abstracted that can be redefine in child class.\n",
    "abstraction is the the process of hiding complexity by hiding unnecessary information from the user'''\n",
    "'''using abstractmethod decorator we can create abtract method to make outlines or skeleton of the task to make a work distributed '''\n",
    "''' we can create an abstract class that is actually blue print of other class'''\n",
    "'''Abstraction is the process of hiding the internal details of an application from the outer world'''\n",
    "\n"
   ]
  },
  {
   "cell_type": "markdown",
   "id": "cd1c3205-0c64-459c-8b82-d8ec8b4e3c4b",
   "metadata": {},
   "source": [
    "# Composition"
   ]
  },
  {
   "cell_type": "code",
   "execution_count": null,
   "id": "b44614d6-b70f-4c94-9a48-af49e8cea888",
   "metadata": {},
   "outputs": [],
   "source": [
    "# 1. Explain the concept of composition in Python and how it is used to build complex objects from simpler ones.\n",
    "\n",
    "'''\n",
    "Composition is a concept that models a has a relationship. It enables creating complex types by combining objects of other types. \n",
    "This means that a class Composite can contain an object of another class Component . \n",
    "This relationship means that a Composite has a Component .\n",
    "'''\n",
    "'''\n",
    "Therefore, the complex object is called the whole or a parent object whereas a simpler object is often referred to as a child object. \n",
    "In this case, all the objects or components are the child objects which together make up the complex object(mobile)\n",
    "'''\n"
   ]
  },
  {
   "cell_type": "code",
   "execution_count": null,
   "id": "42dd27b4-7271-472c-a4ea-19daa8995d61",
   "metadata": {},
   "outputs": [],
   "source": [
    "# 2. Describe the difference between composition and inheritance in object-oriented programming.\n",
    "'''\n",
    "1.\tIn inheritance, we define the class which we are inheriting(super class) and most importantly it cannot be changed at runtime\tWhereas in composition we only define a type which we want to use and which can hold its different implementation also it can change at runtime. Hence, Composition is much more flexible than Inheritance.\n",
    "2.\tHere we can only extend one class, in other words more than one class can’t be extended as java do not support multiple inheritance. \n",
    " \tWhereas composition allows to use functionality from different class.\n",
    "3.\tIn inheritance we need parent class in order to test child class.\tComposition allows to test the implementation of the classes we are using independent of parent or child class.\n",
    "4.\tInheritance cannot extend final class.\tWhereas composition allows code reuse even from final classes.\n",
    "5.\tIt is an is-a relationship.\tWhile it is a has-a relationship.\n",
    "\n",
    "'''"
   ]
  },
  {
   "cell_type": "code",
   "execution_count": 23,
   "id": "4b2a3ae7-c487-431f-a94a-aa7206fc50b3",
   "metadata": {},
   "outputs": [
    {
     "name": "stdout",
     "output_type": "stream",
     "text": [
      "Hello this is function 2\n",
      "Book Name :  Book1\n",
      "hell this is function 1\n",
      "Author Name :  Singh\n"
     ]
    }
   ],
   "source": [
    "# 3. Create a Python class called `Author` with attributes for name and birthdate. Then, create a `Book` class \n",
    "# that contains an instance of `Author` as a composition. Provide an example of creating a `Book` object.\n",
    "\n",
    "class Author:\n",
    "    def __init__(self,name,dob):\n",
    "        self.name=name\n",
    "        self.dob=dob\n",
    "    def fun1(self):\n",
    "        print(\"hell this is function 1\")\n",
    "        print(\"Author Name : \",self.name)\n",
    "class Book:\n",
    "    def __init__(self,name,book,dob):\n",
    "        self.ob=Author(name,dob)\n",
    "        self.book=book\n",
    "    def fun2(self):\n",
    "        print(\"Hello this is function 2\")\n",
    "        print(\"Book Name : \",self.book)\n",
    "        self.ob.fun1()\n",
    "\n",
    "obj=Book(\"Singh\",\"Book1\",\"25/09/1991\")\n",
    "obj.fun2()\n",
    "\n"
   ]
  },
  {
   "cell_type": "code",
   "execution_count": null,
   "id": "d9015f09-5add-4807-acca-abf68cd58593",
   "metadata": {},
   "outputs": [],
   "source": [
    "# 4. Discuss the benefits of using composition over inheritance in Python, especially in terms of code flexibility  and reusability.\n",
    "\n",
    "'''\n",
    "Composition enables you to reuse code by adding objects to other objects, as opposed to inheriting the interface and implementation of other classes. \n",
    "Both Horse and Dog classes can leverage the functionality of Tail through composition without deriving one class from the other. '''\n",
    "''' and obviously in composition both classes are independent '''\n"
   ]
  },
  {
   "cell_type": "code",
   "execution_count": 24,
   "id": "b2c578d8-c2f2-4aea-b466-c8f997044a03",
   "metadata": {},
   "outputs": [
    {
     "name": "stdout",
     "output_type": "stream",
     "text": [
      "Hello this is function 2\n",
      "Book Name :  Book1\n",
      "hell this is function 1\n",
      "Author Name :  Singh\n"
     ]
    }
   ],
   "source": [
    "# 5. How can you implement composition in Python classes? Provide examples of using composition to create  complex objects.\n",
    "'''we can create two different class and we can create first class object within second class and can call the functions as per the need \n",
    "without inheriance'''\n",
    "\n",
    "class Author:\n",
    "    def __init__(self,name,dob):\n",
    "        self.name=name\n",
    "        self.dob=dob\n",
    "    def fun1(self):\n",
    "        print(\"hell this is function 1\")\n",
    "        print(\"Author Name : \",self.name)\n",
    "class Book:\n",
    "    def __init__(self,name,book,dob):\n",
    "        self.ob=Author(name,dob)\n",
    "        self.book=book\n",
    "    def fun2(self):\n",
    "        print(\"Hello this is function 2\")\n",
    "        print(\"Book Name : \",self.book)\n",
    "        self.ob.fun1()\n",
    "\n",
    "obj=Book(\"Singh\",\"Book1\",\"25/09/1991\")\n",
    "obj.fun2()\n"
   ]
  },
  {
   "cell_type": "code",
   "execution_count": 26,
   "id": "f6ef1f13-ed58-41a7-831d-1fd805589148",
   "metadata": {},
   "outputs": [
    {
     "name": "stdout",
     "output_type": "stream",
     "text": [
      "Song Added\n",
      "Resume Song\n"
     ]
    }
   ],
   "source": [
    "# 6. Create a Python class hierarchy for a music player system, using composition to represent playlists and  songs.\n",
    "\n",
    "class MusicSystem:\n",
    "    def addsong(self):\n",
    "        print(\"Song Added\")\n",
    "    def deletesong(self):\n",
    "        print(\"Delete Song\")\n",
    "    def pausesong(self):\n",
    "        print(\"Pause Song\")\n",
    "    def resumesong(self):\n",
    "        print(\"Resume Song\")\n",
    "class PlayList:\n",
    "    def __init__(self):\n",
    "        self.ob=MusicSystem()\n",
    "    def name(self):\n",
    "        print(\"Name your playlist\")\n",
    "    def addsong(self):\n",
    "        self.ob.addsong()\n",
    "    def deletesong(self):\n",
    "        self.ob.deletesong()\n",
    "    def pausesong(self):\n",
    "        self.ob.pausesong()\n",
    "    def resumesong(self):\n",
    "        self.ob.resumesong()\n",
    "\n",
    "obj=PlayList()\n",
    "obj.addsong()\n",
    "obj.resumesong()\n"
   ]
  },
  {
   "cell_type": "code",
   "execution_count": null,
   "id": "5ddc93a9-9146-48fb-8108-857dffb636bb",
   "metadata": {},
   "outputs": [],
   "source": [
    "# 7. Explain the concept of \"has-a\" relationships in composition and how it helps design software systems.\n",
    "\n",
    "'''Composition is a concept that models a has a relationship. It enables creating complex types by combining objects of other types. \n",
    "This means that a class Composite can contain an object of another class Component . \n",
    "This relationship means that a Composite has a Component \n",
    "'''\n",
    "'''\n",
    "Composition is the design technique in object-oriented programming to implement has-a relationship between objects. \n",
    "Composition in java is achieved by using instance variables of other objects. \n",
    "For example, a person who has a Job is implemented like below in java object-oriented programming. package com.\n",
    "'''\n"
   ]
  },
  {
   "cell_type": "code",
   "execution_count": 27,
   "id": "14133a32-6924-4507-9784-06587ab2f205",
   "metadata": {},
   "outputs": [
    {
     "name": "stdout",
     "output_type": "stream",
     "text": [
      "RAM\n"
     ]
    }
   ],
   "source": [
    "# 8. Create a Python class for a computer system, using composition to represent components like CPU, RAM,  and storage devices.\n",
    "class Computer:\n",
    "    def Ram(self):\n",
    "        print(\"RAM\")\n",
    "    def ROM(self):\n",
    "        print(\"ROM\")\n",
    "    def CPU(self):\n",
    "        print(\"CPU\")\n",
    "    def Storage(self):\n",
    "        print(\"Storage\")\n",
    "class Laptop:\n",
    "    def __init__(self):\n",
    "        self.ob=Computer()\n",
    "    def Ram(self):\n",
    "        self.ob.Ram()\n",
    "obj=Laptop()\n",
    "obj.Ram()\n",
    "        \n"
   ]
  },
  {
   "cell_type": "code",
   "execution_count": null,
   "id": "39913e9e-01c7-4c48-a9c1-b5d4c210002c",
   "metadata": {},
   "outputs": [],
   "source": [
    "# 9. Describe the concept of \"delegation\" in composition and how it simplifies the design of complex systems.\n",
    "\n",
    "'''\n",
    "Delegation is a design pattern in which an object, called the delegate, \n",
    "is responsible for performing certain tasks on behalf of another object, called the delegator. \n",
    "This can be done by the delegator forwarding method calls and attribute access to the delegate\n",
    "'''"
   ]
  },
  {
   "cell_type": "code",
   "execution_count": 28,
   "id": "b2471f6f-3128-4473-ace5-33dbb9a62c0d",
   "metadata": {},
   "outputs": [],
   "source": [
    "# 10. Create a Python class for a car, using composition to represent components like the engine, wheels, and  transmission.\n",
    "\n",
    "\n",
    "class Car:\n",
    "    def __init__(self, year, make, speed):\n",
    "        self.__year_model = year\n",
    "        self.__make = make\n",
    "        self.__speed = speed\n",
    "    def get_year_model(self):\n",
    "        return self.__year_model\n",
    "\n",
    "    def get_make(self):\n",
    "        return self.__make\n",
    "    def get_speed(self):\n",
    "        return self.__speed\n",
    "class HondaCity:\n",
    "    def __init__(self,year,make,speed,price):\n",
    "        self.price=price\n",
    "        self.ob=Car(year,make,speed)\n",
    "    def get_year_model(self):\n",
    "        self.ob.get_year_model()"
   ]
  },
  {
   "cell_type": "code",
   "execution_count": null,
   "id": "79777fa0-6e79-4d93-a671-630d8f9b1fbe",
   "metadata": {},
   "outputs": [],
   "source": []
  }
 ],
 "metadata": {
  "kernelspec": {
   "display_name": "Python 3 (ipykernel)",
   "language": "python",
   "name": "python3"
  },
  "language_info": {
   "codemirror_mode": {
    "name": "ipython",
    "version": 3
   },
   "file_extension": ".py",
   "mimetype": "text/x-python",
   "name": "python",
   "nbconvert_exporter": "python",
   "pygments_lexer": "ipython3",
   "version": "3.11.5"
  }
 },
 "nbformat": 4,
 "nbformat_minor": 5
}
