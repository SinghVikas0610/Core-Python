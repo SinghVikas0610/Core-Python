{
 "cells": [
  {
   "cell_type": "markdown",
   "id": "2bf4fffd-c022-49c4-85ff-f98606063ed7",
   "metadata": {},
   "source": [
    "# TOPIC: Python Basics Variable"
   ]
  },
  {
   "cell_type": "code",
   "execution_count": 10,
   "id": "4cb7656c-a858-4f54-bad8-aa65ea333d26",
   "metadata": {},
   "outputs": [
    {
     "name": "stdout",
     "output_type": "stream",
     "text": [
      "6\n",
      "5\n",
      "6\n",
      "5\n",
      "6\n",
      "5\n",
      "6\n",
      "5\n"
     ]
    }
   ],
   "source": [
    "# 1. Declare two variables, `x` and `y`, and assign them integer values. Swap the values of these variables without using any temporary variable.\n",
    "\n",
    "X=5\n",
    "Y=6\n",
    "\n",
    "# method 1 : Using Multiple Assignemnt\n",
    "X,Y=Y,X \n",
    "print(X)\n",
    "print(Y)\n",
    "\n",
    "# Method 2 : Using + and - Operator\n",
    "X=5\n",
    "Y=6\n",
    "X=X+Y\n",
    "Y=X-Y\n",
    "X=X-Y\n",
    "print(X)\n",
    "print(Y)\n",
    "\n",
    "# Method 3 : Using * and / Operator\n",
    "X=5\n",
    "Y=6\n",
    "X=X*Y\n",
    "Y=X/Y\n",
    "X=X/Y\n",
    "print(int(X))\n",
    "print(int(Y))\n",
    "\n",
    "# Method 4 : Using XOR Bitwise Operator\n",
    "X=5\n",
    "Y=6\n",
    "X=X^Y\n",
    "Y=X^Y\n",
    "X=X^Y\n",
    "print(X)\n",
    "print(Y)\n"
   ]
  },
  {
   "cell_type": "code",
   "execution_count": 11,
   "id": "6fb45d07-d4a2-45c9-9fb6-6f0fe5ebc80b",
   "metadata": {},
   "outputs": [
    {
     "name": "stdin",
     "output_type": "stream",
     "text": [
      "Enter length of the rectangle  4.5\n",
      "Enter width of the rectangle  6\n"
     ]
    },
    {
     "name": "stdout",
     "output_type": "stream",
     "text": [
      "Area of Rectangle is =  27.0\n"
     ]
    }
   ],
   "source": [
    "# 2. Create a program that calculates the area of a rectangle. Take the length and width as inputs from the user and store them in variables. \n",
    "# Calculate and display the area.\n",
    "\n",
    "length=float(input(\"Enter length of the rectangle \"))\n",
    "width=float(input(\"Enter width of the rectangle \"))\n",
    "\n",
    "area=length * width\n",
    "\n",
    "print(\"Area of Rectangle is = \",area)"
   ]
  },
  {
   "cell_type": "code",
   "execution_count": 12,
   "id": "e7487d6f-2dd5-4a5d-9ba5-96725c637816",
   "metadata": {},
   "outputs": [
    {
     "name": "stdin",
     "output_type": "stream",
     "text": [
      "Enter Temperatur in Celsius :  37\n"
     ]
    },
    {
     "name": "stdout",
     "output_type": "stream",
     "text": [
      "Temperatur in Fahrenheit is =  98.6\n"
     ]
    }
   ],
   "source": [
    "# 3. Write a Python program that converts temperatures from Celsius to\n",
    "# Fahrenheit. Take the temperature in Celsius as input, store it in a variable,\n",
    "# convert it to Fahrenheit, and display the result.\n",
    "\n",
    "celsius=float(input(\"Enter Temperatur in Celsius : \"))\n",
    "fahrenheit=(celsius * 9)/ 5 +32\n",
    "\n",
    "print(\"Temperatur in Fahrenheit is = \",fahrenheit)\n",
    "\n",
    "\n",
    "\n"
   ]
  },
  {
   "cell_type": "markdown",
   "id": "894ffa86-70dd-465f-89e5-34db48944472",
   "metadata": {},
   "source": [
    "# TOPIC: String Based Questions"
   ]
  },
  {
   "cell_type": "code",
   "execution_count": 17,
   "id": "721b1b85-0b6c-49e8-85e1-db1499de5806",
   "metadata": {},
   "outputs": [
    {
     "name": "stdin",
     "output_type": "stream",
     "text": [
      "Enter YOur String :  hi\n"
     ]
    },
    {
     "name": "stdout",
     "output_type": "stream",
     "text": [
      "Length of the string is :  2\n",
      "Length is =  2\n"
     ]
    }
   ],
   "source": [
    "# 1. Write a Python program that takes a string as input and prints the length of the string.\n",
    "\n",
    "txt=input(\"Enter YOur String : \")\n",
    "\n",
    "# method 1 : using built-in function - len\n",
    "length=len(txt)\n",
    "print(\"Length of the string is : \",length)\n",
    "\n",
    "# method 2 : using loop construct\n",
    "\n",
    "count=0\n",
    "for i in txt:\n",
    "    count=count+1\n",
    "\n",
    "print(\"Length is = \",count)"
   ]
  },
  {
   "cell_type": "code",
   "execution_count": 19,
   "id": "93be7751-96dd-4b09-963a-f40b61fddc97",
   "metadata": {},
   "outputs": [
    {
     "name": "stdin",
     "output_type": "stream",
     "text": [
      "Enter YOur String :  Honesty is the best policy\n"
     ]
    },
    {
     "name": "stdout",
     "output_type": "stream",
     "text": [
      "number of vowels :  7\n"
     ]
    }
   ],
   "source": [
    "# 2. Create a program that takes a sentence from the user and counts the number\n",
    "# of vowels (a, e, i, o, u) in the string.\n",
    "\n",
    "txt=input(\"Enter YOur String : \")\n",
    "vow=0\n",
    "for i in txt:\n",
    "    if i==\"a\" or i==\"e\" or i==\"i\" or i==\"o\" or i==\"u\" or i==\"A\" or i==\"E\" or i==\"I\" or i==\"O\" or i==\"U\":\n",
    "        vow=vow+1\n",
    "print(\"number of vowels : \",vow)\n"
   ]
  },
  {
   "cell_type": "code",
   "execution_count": 28,
   "id": "00954236-91cc-4edc-891d-7b71ffbec635",
   "metadata": {},
   "outputs": [
    {
     "name": "stdin",
     "output_type": "stream",
     "text": [
      "Enter YOur String :  Vikas Singh\n"
     ]
    },
    {
     "name": "stdout",
     "output_type": "stream",
     "text": [
      "Reverse String is :  hgniS sakiV\n"
     ]
    }
   ],
   "source": [
    "# 3. Given a string, reverse the order of characters using string slicing and print the reversed string.\n",
    "\n",
    "txt=input(\"Enter YOur String : \")\n",
    "rev_txt=txt[: : -1]       # step value -1 will reverse the string and start and stop wil take from last to first character\n",
    "\n",
    "print(\"Reverse String is : \",rev_txt)\n"
   ]
  },
  {
   "cell_type": "code",
   "execution_count": 24,
   "id": "f84d2117-477b-4425-9592-7c6255c510d4",
   "metadata": {},
   "outputs": [
    {
     "name": "stdin",
     "output_type": "stream",
     "text": [
      "Enter YOur String :  madam\n"
     ]
    },
    {
     "name": "stdout",
     "output_type": "stream",
     "text": [
      "String is Palindrome\n"
     ]
    }
   ],
   "source": [
    "# 4. Write a program that takes a string as input and checks if it is a palindrome\n",
    "# (reads the same forwards and backwards).\n",
    "\n",
    "txt=input(\"Enter YOur String : \")\n",
    "rev_txt=txt[: : -1]\n",
    "if txt==rev_txt:\n",
    "    print(\"String is Palindrome\")\n",
    "else:\n",
    "    print(\"String is not Palindrome\")\n"
   ]
  },
  {
   "cell_type": "code",
   "execution_count": 27,
   "id": "f31cd846-0bff-4483-8895-ef1fb7b308b0",
   "metadata": {},
   "outputs": [
    {
     "name": "stdin",
     "output_type": "stream",
     "text": [
      "Enter YOur String :  Honesty is the best policy\n"
     ]
    },
    {
     "name": "stdout",
     "output_type": "stream",
     "text": [
      "String without spaces   Honestyisthebestpolicy\n"
     ]
    }
   ],
   "source": [
    "# 5. Create a program that takes a string as input and removes all the spaces from it. Print the modified string without spaces.\n",
    "\n",
    "txt=input(\"Enter YOur String : \")\n",
    "new_txt=\"\"\n",
    "for i in txt:\n",
    "    if i!=\" \":\n",
    "        new_txt=new_txt+i\n",
    "print(\"String without spaces  \" ,new_txt)"
   ]
  },
  {
   "cell_type": "code",
   "execution_count": null,
   "id": "e50c0af4-a9a8-44cf-a1ba-6a507cd38cbc",
   "metadata": {},
   "outputs": [],
   "source": []
  }
 ],
 "metadata": {
  "kernelspec": {
   "display_name": "Python 3 (ipykernel)",
   "language": "python",
   "name": "python3"
  },
  "language_info": {
   "codemirror_mode": {
    "name": "ipython",
    "version": 3
   },
   "file_extension": ".py",
   "mimetype": "text/x-python",
   "name": "python",
   "nbconvert_exporter": "python",
   "pygments_lexer": "ipython3",
   "version": "3.11.5"
  }
 },
 "nbformat": 4,
 "nbformat_minor": 5
}
