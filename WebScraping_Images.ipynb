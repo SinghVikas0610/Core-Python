{
 "cells": [
  {
   "cell_type": "code",
   "execution_count": null,
   "id": "a294fefa-7d32-4fc4-8232-b6abf3e63f80",
   "metadata": {},
   "outputs": [],
   "source": [
    "# Web Scrapping using python"
   ]
  },
  {
   "cell_type": "code",
   "execution_count": 4,
   "id": "b79d10cf-d8b7-499c-b7ea-4ee7cdacecda",
   "metadata": {},
   "outputs": [],
   "source": [
    "import requests\n",
    "import os\n",
    "from bs4 import BeautifulSoup\n",
    "from urllib.request import urlopen as uReq"
   ]
  },
  {
   "cell_type": "code",
   "execution_count": 5,
   "id": "750eddae-10ed-4b9d-9fa6-024e9e6118cb",
   "metadata": {},
   "outputs": [],
   "source": [
    "save_dir=\"images/\""
   ]
  },
  {
   "cell_type": "code",
   "execution_count": 7,
   "id": "ef92fe0b-0d48-46fc-8e79-2b7045365560",
   "metadata": {},
   "outputs": [],
   "source": [
    "if not os.path.exists(save_dir):\n",
    "    os.makedirs(save_dir)"
   ]
  },
  {
   "cell_type": "code",
   "execution_count": 39,
   "id": "14bdea6d-03de-4acd-b06e-efc6a7e4895d",
   "metadata": {},
   "outputs": [],
   "source": [
    "query=\"akshay kumar\"\n",
    "response=requests.get(f\"https://www.google.com/search?q={query}&sca_esv=583632294&tbm=isch&sxsrf=AM9HkKk-SBcWfSjPaOWppYCj6j-3yvjckQ%3A1700321798255&source=hp&biw=1366&bih=651&ei=BtpYZeqtDZKo2roP9LSt2AU&iflsig=AO6bgOgAAAAAZVjoFkxcOaMm25SMH-XbLbN36Zs8BEuv&oq=&gs_lp=EgNpbWciACoCCAEyBxAjGOoCGCcyBxAjGOoCGCcyBxAjGOoCGCcyBxAjGOoCGCcyBxAjGOoCGCcyBxAjGOoCGCcyBxAjGOoCGCcyBxAjGOoCGCdIpA9QAFgAcAF4AJABAJgBAKABAKoBALgBA8gBAIoCC2d3cy13aXotaW1nqAII&sclient=img\")\n"
   ]
  },
  {
   "cell_type": "code",
   "execution_count": 40,
   "id": "347ea84e-e1d8-4d6a-a39e-45b713dd35b1",
   "metadata": {},
   "outputs": [
    {
     "data": {
      "text/plain": [
       "<Response [200]>"
      ]
     },
     "execution_count": 40,
     "metadata": {},
     "output_type": "execute_result"
    }
   ],
   "source": [
    "response"
   ]
  },
  {
   "cell_type": "code",
   "execution_count": 41,
   "id": "675c6be8-784e-4e65-854e-6f9e117d5475",
   "metadata": {},
   "outputs": [],
   "source": [
    "soup=BeautifulSoup(response.content,'html.parser')"
   ]
  },
  {
   "cell_type": "code",
   "execution_count": 42,
   "id": "51f61cef-98fe-4b6b-9471-e02a0bb09ccd",
   "metadata": {},
   "outputs": [],
   "source": [
    "images_tages=soup.find_all(\"img\")"
   ]
  },
  {
   "cell_type": "code",
   "execution_count": 43,
   "id": "58193a3f-6301-4959-9735-01ea2fdb57ee",
   "metadata": {},
   "outputs": [
    {
     "data": {
      "text/plain": [
       "21"
      ]
     },
     "execution_count": 43,
     "metadata": {},
     "output_type": "execute_result"
    }
   ],
   "source": [
    "len(images_tages)"
   ]
  },
  {
   "cell_type": "code",
   "execution_count": 44,
   "id": "cb381757-e930-4c74-af88-54347e3bd71f",
   "metadata": {},
   "outputs": [
    {
     "data": {
      "text/plain": [
       "[<img alt=\"Google\" class=\"kgJEQe\" src=\"/images/branding/searchlogo/1x/googlelogo_desk_heirloom_color_150x55dp.gif\"/>,\n",
       " <img alt=\"\" class=\"DS1iW\" src=\"https://encrypted-tbn0.gstatic.com/images?q=tbn:ANd9GcQ43yLb8enmDIe7X0moJWBHJaeCIWGeD09ukUCoeXsZliT3qE8oaB9q0ntGPw&amp;s\"/>,\n",
       " <img alt=\"\" class=\"DS1iW\" src=\"https://encrypted-tbn0.gstatic.com/images?q=tbn:ANd9GcQhKMOjOTI7z8ly1388RwSDsyGuCQWfsOaVsRP20P2O-YD41Ydqb0avdwYBQ-4&amp;s\"/>,\n",
       " <img alt=\"\" class=\"DS1iW\" src=\"https://encrypted-tbn0.gstatic.com/images?q=tbn:ANd9GcSem83X97hBQQUuisH1jN3zuk2CZr0FDLc3hL4MbUhmOCXCPOIUN9UO2Yf4aA&amp;s\"/>,\n",
       " <img alt=\"\" class=\"DS1iW\" src=\"https://encrypted-tbn0.gstatic.com/images?q=tbn:ANd9GcRbVc3inkKx8biISLN03FtI50-e5jORBQoyzmem_JgOfM_QJIOw8pRFHmIjD-s&amp;s\"/>,\n",
       " <img alt=\"\" class=\"DS1iW\" src=\"https://encrypted-tbn0.gstatic.com/images?q=tbn:ANd9GcTAAB8LINEseRZ4O8xxH2TXYbmaPob1KtI2N_Pts2vrrcVGlWyc9Sj-EmB4sg&amp;s\"/>,\n",
       " <img alt=\"\" class=\"DS1iW\" src=\"https://encrypted-tbn0.gstatic.com/images?q=tbn:ANd9GcTM7oZWTBguhAmFSnUcAlHG7a-xlgiMrlEqVt8_joTbt9PWrlQFr5lyqZQ2kr8&amp;s\"/>,\n",
       " <img alt=\"\" class=\"DS1iW\" src=\"https://encrypted-tbn0.gstatic.com/images?q=tbn:ANd9GcT2xI4H2HZQXrWfVTsnqbFvK2eEBQc2ChX0p_JZZG-XvOfReZMCgkR1m_sRPMs&amp;s\"/>,\n",
       " <img alt=\"\" class=\"DS1iW\" src=\"https://encrypted-tbn0.gstatic.com/images?q=tbn:ANd9GcR6BMao5noMzM6CCWRT-74uuLBM_pFV85PbSAfWTGtBM-qQtr5Ktj_g0-t0EQ&amp;s\"/>,\n",
       " <img alt=\"\" class=\"DS1iW\" src=\"https://encrypted-tbn0.gstatic.com/images?q=tbn:ANd9GcQjDOjrcx7e7r-VEkGpqWUfnmdONW-kybQdiPGgV-jSVT-CrRR6sBjBCYZVcg&amp;s\"/>,\n",
       " <img alt=\"\" class=\"DS1iW\" src=\"https://encrypted-tbn0.gstatic.com/images?q=tbn:ANd9GcTqSOjfDmS3-JmoOboZAyp2GMLADMcntkz7WKA6itP_ugDpxC0R7HA8F7Pp5xA&amp;s\"/>,\n",
       " <img alt=\"\" class=\"DS1iW\" src=\"https://encrypted-tbn0.gstatic.com/images?q=tbn:ANd9GcSZEh_kzL3TObQwbfUkuwIBUoThC-_8FzSI8Cz92_ASiwJnXieXPbb9XfLMQw&amp;s\"/>,\n",
       " <img alt=\"\" class=\"DS1iW\" src=\"https://encrypted-tbn0.gstatic.com/images?q=tbn:ANd9GcSvZ-avbREInjwrlX3PjdeOYnhhuV5VXXVW7n1W5Vb7EQloGfkZXXdwsynP6Q&amp;s\"/>,\n",
       " <img alt=\"\" class=\"DS1iW\" src=\"https://encrypted-tbn0.gstatic.com/images?q=tbn:ANd9GcRaF8100ZJxdxZK8y9TTtoUB3de9d-FqJnQ8jaqNoMpaAdaXzZSQXpBETQjzqg&amp;s\"/>,\n",
       " <img alt=\"\" class=\"DS1iW\" src=\"https://encrypted-tbn0.gstatic.com/images?q=tbn:ANd9GcRI3NKluCJ5fwN4Tj8dZng9tmsVAgmch-Wfc2rcyXgsVd2zDXnBkm9tKujF2Bk&amp;s\"/>,\n",
       " <img alt=\"\" class=\"DS1iW\" src=\"https://encrypted-tbn0.gstatic.com/images?q=tbn:ANd9GcQeWbfvTMB4XAku9vhzEayTc-MCRORmIl7eR-YtZ7kb5MXiH6LQXksbL0ZOZpY&amp;s\"/>,\n",
       " <img alt=\"\" class=\"DS1iW\" src=\"https://encrypted-tbn0.gstatic.com/images?q=tbn:ANd9GcTa2QAR2gam7toqxJ4FbMvXX19qzXHWMzGFWzRheETddnnDGSXA4JYbwgDp5Q&amp;s\"/>,\n",
       " <img alt=\"\" class=\"DS1iW\" src=\"https://encrypted-tbn0.gstatic.com/images?q=tbn:ANd9GcS-7Z0wLGMyocc0m5nAeb5hY0nHfjZsgPOd-C456CnplUX1gnuaO870tiTjsg&amp;s\"/>,\n",
       " <img alt=\"\" class=\"DS1iW\" src=\"https://encrypted-tbn0.gstatic.com/images?q=tbn:ANd9GcTsKh0K29FmeuiUrkNkHY0sL4M9TQOhp8_kdzOucTxUEQ_seMqak_WLd7wY-w&amp;s\"/>,\n",
       " <img alt=\"\" class=\"DS1iW\" src=\"https://encrypted-tbn0.gstatic.com/images?q=tbn:ANd9GcT-PgN_a6hoOgfKViy7Fe1pZSn6aj8gXkckZ6IMhzNb8vYno161Wr_TMbemVJA&amp;s\"/>,\n",
       " <img alt=\"\" class=\"DS1iW\" src=\"https://encrypted-tbn0.gstatic.com/images?q=tbn:ANd9GcRa-OSt3cEuYcTJumZB7zVg4_AVtisVGp_UIAKkuvRKZFc9mimD_pvFySFWnA&amp;s\"/>]"
      ]
     },
     "execution_count": 44,
     "metadata": {},
     "output_type": "execute_result"
    }
   ],
   "source": [
    "images_tages"
   ]
  },
  {
   "cell_type": "code",
   "execution_count": 45,
   "id": "73bf3a1f-65b4-469f-8c17-1c5e77bf642d",
   "metadata": {},
   "outputs": [],
   "source": [
    "del images_tages[0]"
   ]
  },
  {
   "cell_type": "code",
   "execution_count": 46,
   "id": "0e54759e-c0b9-49c6-a6f5-215298551ba4",
   "metadata": {},
   "outputs": [
    {
     "data": {
      "text/plain": [
       "[<img alt=\"\" class=\"DS1iW\" src=\"https://encrypted-tbn0.gstatic.com/images?q=tbn:ANd9GcQ43yLb8enmDIe7X0moJWBHJaeCIWGeD09ukUCoeXsZliT3qE8oaB9q0ntGPw&amp;s\"/>,\n",
       " <img alt=\"\" class=\"DS1iW\" src=\"https://encrypted-tbn0.gstatic.com/images?q=tbn:ANd9GcQhKMOjOTI7z8ly1388RwSDsyGuCQWfsOaVsRP20P2O-YD41Ydqb0avdwYBQ-4&amp;s\"/>,\n",
       " <img alt=\"\" class=\"DS1iW\" src=\"https://encrypted-tbn0.gstatic.com/images?q=tbn:ANd9GcSem83X97hBQQUuisH1jN3zuk2CZr0FDLc3hL4MbUhmOCXCPOIUN9UO2Yf4aA&amp;s\"/>,\n",
       " <img alt=\"\" class=\"DS1iW\" src=\"https://encrypted-tbn0.gstatic.com/images?q=tbn:ANd9GcRbVc3inkKx8biISLN03FtI50-e5jORBQoyzmem_JgOfM_QJIOw8pRFHmIjD-s&amp;s\"/>,\n",
       " <img alt=\"\" class=\"DS1iW\" src=\"https://encrypted-tbn0.gstatic.com/images?q=tbn:ANd9GcTAAB8LINEseRZ4O8xxH2TXYbmaPob1KtI2N_Pts2vrrcVGlWyc9Sj-EmB4sg&amp;s\"/>,\n",
       " <img alt=\"\" class=\"DS1iW\" src=\"https://encrypted-tbn0.gstatic.com/images?q=tbn:ANd9GcTM7oZWTBguhAmFSnUcAlHG7a-xlgiMrlEqVt8_joTbt9PWrlQFr5lyqZQ2kr8&amp;s\"/>,\n",
       " <img alt=\"\" class=\"DS1iW\" src=\"https://encrypted-tbn0.gstatic.com/images?q=tbn:ANd9GcT2xI4H2HZQXrWfVTsnqbFvK2eEBQc2ChX0p_JZZG-XvOfReZMCgkR1m_sRPMs&amp;s\"/>,\n",
       " <img alt=\"\" class=\"DS1iW\" src=\"https://encrypted-tbn0.gstatic.com/images?q=tbn:ANd9GcR6BMao5noMzM6CCWRT-74uuLBM_pFV85PbSAfWTGtBM-qQtr5Ktj_g0-t0EQ&amp;s\"/>,\n",
       " <img alt=\"\" class=\"DS1iW\" src=\"https://encrypted-tbn0.gstatic.com/images?q=tbn:ANd9GcQjDOjrcx7e7r-VEkGpqWUfnmdONW-kybQdiPGgV-jSVT-CrRR6sBjBCYZVcg&amp;s\"/>,\n",
       " <img alt=\"\" class=\"DS1iW\" src=\"https://encrypted-tbn0.gstatic.com/images?q=tbn:ANd9GcTqSOjfDmS3-JmoOboZAyp2GMLADMcntkz7WKA6itP_ugDpxC0R7HA8F7Pp5xA&amp;s\"/>,\n",
       " <img alt=\"\" class=\"DS1iW\" src=\"https://encrypted-tbn0.gstatic.com/images?q=tbn:ANd9GcSZEh_kzL3TObQwbfUkuwIBUoThC-_8FzSI8Cz92_ASiwJnXieXPbb9XfLMQw&amp;s\"/>,\n",
       " <img alt=\"\" class=\"DS1iW\" src=\"https://encrypted-tbn0.gstatic.com/images?q=tbn:ANd9GcSvZ-avbREInjwrlX3PjdeOYnhhuV5VXXVW7n1W5Vb7EQloGfkZXXdwsynP6Q&amp;s\"/>,\n",
       " <img alt=\"\" class=\"DS1iW\" src=\"https://encrypted-tbn0.gstatic.com/images?q=tbn:ANd9GcRaF8100ZJxdxZK8y9TTtoUB3de9d-FqJnQ8jaqNoMpaAdaXzZSQXpBETQjzqg&amp;s\"/>,\n",
       " <img alt=\"\" class=\"DS1iW\" src=\"https://encrypted-tbn0.gstatic.com/images?q=tbn:ANd9GcRI3NKluCJ5fwN4Tj8dZng9tmsVAgmch-Wfc2rcyXgsVd2zDXnBkm9tKujF2Bk&amp;s\"/>,\n",
       " <img alt=\"\" class=\"DS1iW\" src=\"https://encrypted-tbn0.gstatic.com/images?q=tbn:ANd9GcQeWbfvTMB4XAku9vhzEayTc-MCRORmIl7eR-YtZ7kb5MXiH6LQXksbL0ZOZpY&amp;s\"/>,\n",
       " <img alt=\"\" class=\"DS1iW\" src=\"https://encrypted-tbn0.gstatic.com/images?q=tbn:ANd9GcTa2QAR2gam7toqxJ4FbMvXX19qzXHWMzGFWzRheETddnnDGSXA4JYbwgDp5Q&amp;s\"/>,\n",
       " <img alt=\"\" class=\"DS1iW\" src=\"https://encrypted-tbn0.gstatic.com/images?q=tbn:ANd9GcS-7Z0wLGMyocc0m5nAeb5hY0nHfjZsgPOd-C456CnplUX1gnuaO870tiTjsg&amp;s\"/>,\n",
       " <img alt=\"\" class=\"DS1iW\" src=\"https://encrypted-tbn0.gstatic.com/images?q=tbn:ANd9GcTsKh0K29FmeuiUrkNkHY0sL4M9TQOhp8_kdzOucTxUEQ_seMqak_WLd7wY-w&amp;s\"/>,\n",
       " <img alt=\"\" class=\"DS1iW\" src=\"https://encrypted-tbn0.gstatic.com/images?q=tbn:ANd9GcT-PgN_a6hoOgfKViy7Fe1pZSn6aj8gXkckZ6IMhzNb8vYno161Wr_TMbemVJA&amp;s\"/>,\n",
       " <img alt=\"\" class=\"DS1iW\" src=\"https://encrypted-tbn0.gstatic.com/images?q=tbn:ANd9GcRa-OSt3cEuYcTJumZB7zVg4_AVtisVGp_UIAKkuvRKZFc9mimD_pvFySFWnA&amp;s\"/>]"
      ]
     },
     "execution_count": 46,
     "metadata": {},
     "output_type": "execute_result"
    }
   ],
   "source": [
    "images_tages"
   ]
  },
  {
   "cell_type": "code",
   "execution_count": 47,
   "id": "e2b5b9ec-8dd6-48f7-871f-7e6167a22376",
   "metadata": {},
   "outputs": [
    {
     "data": {
      "text/plain": [
       "b'\\xff\\xd8\\xff\\xe0\\x00\\x10JFIF\\x00\\x01\\x01\\x00\\x00\\x01\\x00\\x01\\x00\\x00\\xff\\xdb\\x00\\x84\\x00\\t\\x06\\x07\\x08\\x07\\x06\\t\\x08\\x07\\x08\\n\\n\\t\\x0b\\r\\x16\\x0f\\r\\x0c\\x0c\\r\\x1b\\x14\\x15\\x10\\x16 \\x1d\"\" \\x1d\\x1f\\x1f$(4,$&1\\'\\x1f\\x1f-=-157:::#+?D?8C49:7\\x01\\n\\n\\n\\r\\x0c\\r\\x1a\\x0f\\x0f\\x1a7%\\x1f%77777777777777777777777777777777777777777777777777\\xff\\xc0\\x00\\x11\\x08\\x00\\x8c\\x00\\x92\\x03\\x01\"\\x00\\x02\\x11\\x01\\x03\\x11\\x01\\xff\\xc4\\x00\\x1c\\x00\\x00\\x01\\x05\\x01\\x01\\x01\\x00\\x00\\x00\\x00\\x00\\x00\\x00\\x00\\x00\\x00\\x05\\x00\\x02\\x03\\x04\\x06\\x01\\x07\\x08\\xff\\xc4\\x00B\\x10\\x00\\x02\\x01\\x03\\x02\\x03\\x04\\x06\\x06\\x06\\t\\x05\\x00\\x00\\x00\\x00\\x01\\x02\\x03\\x00\\x04\\x11\\x05!\\x121A\\x06\\x13Qa\"2q\\x81\\x91\\xa1\\x14#3R\\xb1\\xc1\\x07\\x15%s\\x92\\xd145BSbr\\x82\\xe1\\xf1\\x16Cc\\xc2\\xf0\\xff\\xc4\\x00\\x1a\\x01\\x00\\x02\\x03\\x01\\x01\\x00\\x00\\x00\\x00\\x00\\x00\\x00\\x00\\x00\\x00\\x00\\x02\\x03\\x01\\x04\\x05\\x00\\x06\\xff\\xc4\\x00\\'\\x11\\x00\\x02\\x03\\x00\\x01\\x03\\x03\\x03\\x05\\x00\\x00\\x00\\x00\\x00\\x00\\x00\\x00\\x01\\x02\\x03\\x11!\\x04\\x1212AQ\\x13\"3\\x05\\x14Rq\\xa1\\xff\\xda\\x00\\x0c\\x03\\x01\\x00\\x02\\x11\\x03\\x11\\x00?\\x00\\xf5\\xdd+\\xd5\\x93\\xdbW\\xea\\x86\\x97\\xff\\x00pT\\x92\\\\I\\xde:\\'\\x08\\xe18\\xc9\\xde\\x9dg\\xad\\x85\\x15\\xab\\x82\\xd5C,\\xd1E\\xf6\\x92*\\xfbMP\\x92I\\x0b\\xa8\\x92S\\x83\\xccT\\x07\\x85\\xbb\\xc0\\xb1\\x92@\\xebA\\x83\\x95\\x7f,\\xba\\xda\\x84y\\xc4J\\xeeH\\xc8\\xdb\\x03\\x1e\\xda\\xab-\\xed\\xcc\\x85\\x960\\x91\\xe3\\xaf\\xadRD\\x8b\\xc2\\x87\\x1b\\xf0\\x81\\xbf\\xb2\\xb0\\x7f\\xa4\\xde\\xdb\\x7f\\xd36\\xff\\x00D\\xd3x\\x1fR\\xb9P\\xcaN\\xe2\\x04\\xe5\\xc4|\\xce\\xf8\\x1eU\\x1a\\xc3J+\\xc8S\\\\\\xed\\x1d\\x86\\x87\\x08\\x97[\\xd4\\xc2JA+\\x0f\\x16Y\\xbd\\x8a7\\xaf?\\xd4\\xbfJ\\xd6DK\\x16\\x9d\\xa4\\xc8\\xe8\\xed\\x9e\\xf2\\xe2P\\xa7\\xe0\\x01\\xfck\\xcd\\xa7\\xbc\\x96\\xee\\xe6K\\xcdFyg\\x9eC\\xe9I+q\\x13\\xff\\x00\\xde\\x15Vi!\\x12}^H\\x1et\\r\\xbf\\x01}\\\\=\\x9b\\xb3\\x7f\\xa5[\\xae\\xfb\\xbb\\x9bJ\\xb6\\x10\\xc8\\xf9,\\x97\\x04\\x15\\xd8t#\\xca\\x8d\\x1e\\xd5i\\xb7\\x97\\xae\\x8d(\\x82GoEe qg\\xa09\\xc1\\xaf\\x14\\xb4\\xbao\\xa3G\\xeb\\xf1\\xf1z\\x8b\\xcc\\x8f\\n~\\xb4\\xfa\\x9e\\xab0\\x94ZI\\x12c\\x020r)\\x95]:\\xa7\\xc7\\x80g\\x08[\\x0f\\x1c\\x9e\\xf6\\xac0)\\xb2b\\xb0\\x1f\\xa2\\xddGQxg\\xd3\\xb5.\\xf1\\x96 \\x1a\\x16\\x94\\xfaC\\xc5w\\xe6+xv\\xda\\xb6i\\xb1Y\\x1e\\xe4fY\\x07\\x07\\x8cn)\\xac6\\xa9)\\xadNB\\x88M0\\xd4\\x84S\\x08\\xa9\\x04\\x88\\xd1\\xae\\xc9\\xedy7\\xee\\xff\\x00:\\x0f\\x8a1\\xd9]\\xaf\\xa5\\x1f\\xf8\\xff\\x001J\\xbf\\xf1\\xb1\\x94\\xfeDj3J\\xbbJ\\xb2\\xcd\\x11i~\\xbc\\x83\\xc8TS\\xab\\x1b\\xe7C\\x9e\\x02rG\\xba\\xa5\\xd3>\\xd5\\xfc\\xd4Q\\x10\\xa3\\x9e\\x06isy6.\\x0f\\x01\\x96\\xd1H\\xb1\\x9c\\xaf.\\xa4b\\xb8a\\x1d\\xe3;?\\xac9\\x01D\\xddr\\xa7\\x1c\\xf1U\\x85\\xb3\\x1fX\\x81A\\xa3c5\\xeeU\\x95\\xad\\xed-\\xa4\\x9eA\\xe8C\\x19v$\\xf4Q\\x9a\\xf97\\xb4Z\\xcc\\xfd\\xa0\\xd7n\\xf5;\\xafZw,\\x17\\xa2\\xa8\\xd9@\\xf6\\x0cW\\xd6Z\\xb6\\x9c\\x97ZE\\xed\\xb3e\\xbb\\xdby\\x13\\x1e\\xd5\"\\xbe;\\x96\\'\\x80\\x94\\x95J\\xb0\\xd8\\x83]\\xe4\\x19I?\\x07$\\x90\\xb0\\xe1\\xcf\\xa3\\x9c\\xe2\\xad\\xe8\\xbad\\xfa\\x95\\xe2E\\x02\\x16\\x19\\x19=)\\xfa\\x0e\\x9c\\x9a\\x9d\\xd8\\x8aI8\\x14s\\xc0\\xde\\xbdo\\xb3Ze\\x9e\\x9f\\x18X#U\\x00s\\xeb\\xf1\\xa4\\xca]\\xa5\\x9e\\x9b\\xa7w>\\xe7\\xe0~\\x87\\xd9(,\\xe0^8\\x83\\xbb\\x0fI\\x88\\xceM\\x1f\\x8fF\\x80\\x1e.\\x05\\xf8U\\x88\\'20U!W\\xce\\x8aG\\x1cJ\\x01-\\xc5U\\xac|\\x1a\\xfa\\xabX\\x91\\x96\\xd7\\xf4\\xf66E\\xb4\\xf0\"\\xbb\\xb7\\xfa\\xd8YF2G5>DdU\\xdb\\x0b\\xd8\\xf5\\x1d>\\xde\\xf6\\x0f\\xb3\\x99\\x03\\x81\\xe1\\xe5R\\xebZ\\xd6\\x95g\\x95\\xb8\\x9d\\x10\\xafA\\xb9\\xf8U\\x1e\\xcf}\\x0ci\\x11\\xa6\\x9f/y\\n\\xbb\\x90q\\x8ce\\x8bc\\x1e\\xfa\\xbf\\xfaD\\xe6\\xa7(K\\xfb2\\x7fT\\x8ce\\x18\\xcdy\\t.\\xeb\\x9a\\xe3r\\xa7G\\xea\\xd2a\\xb5o\\x18l\\x85\\xa9\\x86\\xa5\"\\x98\\xc2\\xa4\\x82\"(\\xb7e\\xff\\x00\\xac_\\xf7G\\xf1\\x14,\\x8a)\\xd9\\x8f\\xeb\\x13\\xfb\\xb3\\xf9R\\xaf\\xfcl*\\xbdh\\xd5\\xd2\\xa5J\\xb2\\xcd!\\x9ag\\xdb\\xb0\\xff\\x00\\x0f\\xe7E(^\\x9b\\xfd%\\xbc\\xd4\\xd1J]\\xbe\\xa1\\x0b\\xc0\\xab\\x84WiR\\x89\\x1b_2~\\x98{9\\xfa\\x8b\\xb5\\xf3\\x08\\x80[=C7\\x10``)\\'\\xd3_\\xe2\\xdf\\xde+\\xe9\\xcd\\xab\\x0f\\xfaH\\xd2\\xe1\\xd5\\xa5\\xd3\\xed\\xaea\\x8eH\\xf8%#\\x89w\\x07\\xd1\\xe4zr\\xa9\\xee\\xc1\\xb5V\\xec\\x9a\\x8a<#\\xb1\\xda[\\x9b\\xb2\\xc4\\xec\\xa3&\\xb7/,\\xb6\\xca{\\xa5.\\xdc\\x82\\xf9\\xd0\\xfd\\x1e\\xcdt}V\\xe2\\xd5\\x9f\\x89&^8\\x9c\\xf8\\x03\\xcb\\xddZ\\x9b8\\xa1\\x9e3\\x1b.s\\xe7\\x8aD\\xda\\xdd5\\xfaj\\xdca\\x9e\\xe6Vw\\xd6D(\\xf1\\xde\\x9f\\xad\\x93\\x81^8\\xf2\\xa1\\xba\\x8e\"zV\\x9b\\xb2\\xd3\\xcd\\x13%\\xbd\\xed\\xcc\\xd23\\xed\\xc7!\\xcf:)\\x1e\\x95\\x14qp\\xa4AU\\xbagaU\\xae\\xedV\\x0b\\x84X\\x13$.v\\xeb\\xe7C9q\\xc0\\xea\\xea\\xc7\\xcb\\x00k}\\x9fA{;&\\x7fX-\\xc7\\x17|T0\\xee\\x8f\\x86s\\x83\\xee\\xa3}\\x9a\\x82Xt\\xa5\\xfaB\\x81#1,@\\xc6z~TJ\\xe5#t\\xb7\\x9d]C\\x15\\n|H\\xa9\\x1eQ\\xde$\\x0b\\x8c\\x04\\xcd;\\xa2\\xb6J\\xe8\\xa2\\xafYJ\\xfa\\x12g\"\\xa70\\xda\\xb8\\x9e\\xb5=\\xb9W\\xa3<\\xd3 5\\x1bT\\x8e|*\\x13]\\xa7`\\xd2\\xd4O\\xb3-\\xfbL\\x0f\\x1440\\xa9\\xf0?\\n\\xbd\\xa07\\x06\\xa8\\x99\\xdb*\\xdc\\xe9W?\\xb1\\x8c\\xa9}\\xe8\\xd9\\xe6\\x95V\\xefG\\xde\\x1f\\x1aU\\x94h\\xe1vH\\x92\\xd1L\\xb1\\x02[\\x96\\xe6\\xa1\\xfa|\\x9fuj\\xd5\\xf6\\xf6\\xafB\\xba\\xd4\\xd6\\x94\\x96\\xb2\\xabxY:\\x84\\xbf\\xe0\\xf8S\\x1bQ\\x98g\\x1c\\x1f\\n\\x87j\\x8d\\xc55B?\\x0092\\x7f\\xd6W\\x1e)\\xfc4\\x13\\xb5SOqf\\x8eH\\x05\\x18\\xee\\x07\\xab\\x91\\x8c\\xfe\\x15\\x7f\\x91\\xa6\\xc8\\xa1\\x94\\xab\\x00A\\xe6\\rL\\xa9\\x8c\\x96`u^\\xeb\\x9a\\x9f\\xc1\\xe7w\\xb6\\xb1;\\xc0\\xcf\\x07\\x0bE\\x8e\\x16\\xc6\\xdb\\x8e\\x86\\xa5\\xb2fYv\\xc8\\xc7*1\\xda[C\\x05\\xbcf\\'\"6|0\\xc6q\\xb6F\\xfe\\xea\\to&\\xe2\\xb2\\xec\\x84\\xa0\\xfbY\\xe8i\\xba\\x16.\\xe8\\x1a[K\\x86h\\xf0\\xe78\\xaa\\x17\\xf0\\xc7q+\\x16R\\xccq\\xc5\\xe0G\\x9d+iT\\x1c1\\xdb\\x1c\\xea\\xa5\\xdc2\\xca\\xe7\\x8av\\x08y\\xa2\\xf5\\xf7\\xd0\\x0co\\x9c$\\xee\\xa2\\x85\\xc0\\x92B\\x10)\\xe0\\x05\\xb9\\x11\\x8d\\xc7\\x8f:9\\xd9T\\x8e\\xf3P\\x9d\\xa5\\x8d[\\xeaF\\xc7|o\\xfe\\xd5\\x94\\x9a\\xc6\\x06\\\\,e\\x88 \\x83[\\x1e\\xc0\\xa32\\xdd\\xcb\\x8fExc\\x07\\xc7\\x99?\\x88\\xa3\\xab\\xf2j\\x15\\xd54\\xaaq4\\xb1\\xd9Z\\x821o\\x17\\xf0\\n\\x91\\xadm\\xc0\\xfb\\x08\\xbf\\x80T\\x89\\xb1$\\xf2\\xae\\xbb\\x00@\\xeayU\\xd7\\'\\xbeL|ZV\\xfa<\\x1f\\xdc\\xc7\\xfc\"\\x97q\\x10\\xe5\\x1a\\x7f\\x08\\xa9A\\x078#j\\xe67\\xa9\\xd6N\"3\\x1c`z\\x8b\\xf0\\xa1\\x1d\\xa0\\x00i\\x932\\x80\\xa4cu\\x18\\xebF\\\\lh>\\xbc\\xbf\\xb2n}\\x9f\\x9d\\x1c}H\\x89%\\xda\\xccWx\\xff\\x00}\\xbe4\\xa9\\xb4\\xabC\\xb5\\x19\\xfd\\xcc\\xf5\\xbb\\xcf\\xe8\\xd2{(M\\x18\\xb9\\x19\\x82A\\xfe\\x13Bxk2\\x97\\xc0\\xe9\\x8c4\\xd6\\xa7\\xe2\\xb8\\xc2\\x9c\\x98\\x04\\x04d\\xd3XmM\\xb8\\xb9\\x86\\xd8\\x133\\x85\\xf2\\xeb\\xf0\\xa1\\xb3kHA\\xeea$tf8\\xfc(\\xbb\\xd1*\\xb9?b\\x1e\\xd3p\\x1d.\\\\\\x9d\\xd0\\xab|[\\x1f\\xce\\xb1\\xc5H9S\\xcfz\\xd3\\xdd\\xc1.\\xa5\\xd9\\xbdy\\xb7i\\xc4\"D\\x03\\xef/\\xa4\\x07\\xca\\xb2\\xdaD\\x82\\xe6\\x05\\'s\\x8c\\x83\\xe5Y\\xfdT\\xb6zmt\\x11\\xca\\xf0p\\xbcx\\xb69\"\\x8a\\xe9\\xba\\x8c\\x0e\\xb8\\x9bc\\xf3\\xaa\\xd1\\xdaF\\xeeD\\x8b\\x9fe)m\\x96\\x0fP\\xa0\\xf3;\\xe0Ub\\xdf)\\x86\\x12O\\xa5J\\x96\\xf6\\x11+\\xca\\xde\\xae\\xe3\\xdfZ{{i4\\xcd-\\xedm\\xd8w\\xc1\\x0b\\x17Q\\xcd\\xfa\\xd5\\x1e\\xc2\\xe9F+W\\xd5nT\\xf1N1\\x0f\\x10\\xdcG\\xe3\\xef\\xe7\\xec\\xc5\\x1b\\x8eN\\xfdD\\xc0\\x0fKqS-\\x86I\\x14\\xed\\xbf\\xbeY\\xec\\x8cT\\xda\\x8d\\xec\\x8c\\xc2[\\x899\\xe0\\x8e,V\\xce904\\xf0NK&\\xff\\x00\\nsA\\x13\\xfa\\xd1!\\xcf?F\\x91\\x8a2\\xd1\\x9e\\x10;\\xbfW\\x1bb\\x89\\xf5I\\xf9C/\\xbe\\x16\\xa4\\x94s\\x0c^\\xb34\\xd1j\\xd7B9\\x9dq\\'F5\\xa2\\xec\\xa3\\xdcMc$\\xd7\\x12\\xbc\\x99|/\\x11\\xe81T\\xb5\\x8e\\xcf\\xcfus-\\xcd\\xb4\\xcaK\\x9c\\x94a\\x8f\\x9d\\x1a\\xd1\\xa06Zl\\x108\\x1cj\\xbe\\x96\\x0fZ\\xb1\\x0b#\\'\\xc3\\x1f\\xd5]T\\xfah\\xc6>x/\\x11\\xb5\\t\\xd7\\x97\\xf6]\\xd7\\xf9(\\xb0`z\\xd5\\rm8\\xb4\\xbb\\x92?\\xbb5b\\x1e\\xa4dO\\xd2\\xcf=\\xa5]\\xe1\\xa5Zfi\\xeb\\xb3}\\x93\\xff\\x00\\x94\\xd0\\x82\\xc0s5o[\\xbb\\xfa\\x1e\\x9d$\\x80\\xe1\\x8e\\x14\\x1f3@\\xcc\\xa5\\\\)9\\xf4A\\xac5c\\x82\\xe0\\xd0\\xae\\x9f\\xa9\\xcb\\x08q\\x83\\xca\\xa8jW\\xbd\\xc0\\xe0C\\xf5\\x8d\\xcb\\xca\\xa7V\\xf4s\\xe5Y\\xab\\xd9\\x0b^\\xf1\\x12pA\\x15\\x10\\x9c\\xac\\x97/\\x81\\xce\\xb8V\\xb8G&s#tc\\xd4\\xe6\\xa0\\x90|\\xaag\\xc1^\\x99\\xe9\\x8agLU\\x8c\\x17\\xa1^\\xcaK\\x1c1]IrO\\x0c\\xae\\xb0\\xa8\\xc6rpO\\xe0k(t\\x1b\\xed\\x16y\\xa3kYM\\xb2H{\\xa9Ur\\xa6<\\xed\\xb8\\xe5\\xb7\\x8dj\\xfb8b\\x96\\xf0[\\xc6\\x07\\xd4qH\\xc0\\x8el\\xd8\\xd8{\\x80\\xf9\\xd6\\xca5I#\\xc1\\x03\\x1c\\x88\\xa4\\xdb\\x05!\\x95^\\xe9z\\x91\\xe6\\xd6\\x96\\x8f}2Ch\\xaa\\xf2\\xb0\\xc9\\xcf%\\x1ef\\x8aE\\xd9[\\xa5\\x91\\r\\xe3E\\xdc\\x86\\xcb\\xaad\\x96\\x1e\\x19\\xad6\\x91\\xa2[\\xe93N\\xd6\\xec\\xe5e\\xc6\\x03\\x9c\\x95\\x03\\xa6|7\\xabw\\xb7\\x11\\xdb\\xc2\\xd2H\\xc0*\\x8c\\x9aT*^\\xe3\\xad\\xebe)d<\\x10\\xdeN\\x91iRI\\x18\\n\\xa1\\x08Q\\xcb\\x1d\\x00\\xaa:z\\xb2X\\xc0\\x1b\\xa2\\n\\x0fk\\xaaM\\xa8\\xdf\\\\\\xd8\\xca\\t\\x8eFY\\x06?\\xb0\\xa3\\x98\\xfc>u\\xa0\\x1c\\x80\\xe8(:\\x96\\xbd\"+X\\x84\\x1b<\\xa96\\x17\\x04\\xd2bv\\x0bQ\\xe7\\x89\\x8f\\x82\\xfe5O\\x06\\x12f\\x96sL4\\xd6n\\x11S\\x84\\xe0\\xf6`\\x06\\xd5OPs&\\x9bt\\x07>\\xec\\xfe\\x15\\xd9d=\\xdf\\x10\\xdc\\x93\\xb0\\xa1+4\\x9fN\\xba\\x8d\\x8f\\xd5\\xcbl\\xc4\\x8c\\xf2aW\\xbaG%5\\xaf\\x82,\\x8a\\xecfT\\xb3\\xe7\\x9d*\\x90\\xf0\\xe6\\x95z.\\x0cc\\x7f\\xdbY\\x04zLy<\\xe7_\\x90\\'\\xf2\\xa1\\x1d\\xe2\\xc9-\\xa1\\x04\\xfah~D\\x7f:\\xb9\\xdb\\xb7\\x8d\\xa0\\xb5\\x84\\xb7\\xa7\\xc6[\\x84xc\\x19\\xac\\xcd\\xbd\\xd3\\xc6\\xf6\\xa3$\\xf7r\\x10s\\xe0G\\xfcV\\x13\\x8e\\xc5\\x1a\\x94K\\rQ\\xda3\\xec\\xac\\xed\\xe0\\xe1p\\xc7\\xa3Q\\xb1(h\\xc1\\x14\\x1fT^\\x1c\\x9f\\x1c\\x11CW\\x0f\\x06\\xdb\\xca\\xd27\\xdf\\x96\\xd4\\xcc\\xe0\\xf8\\x9ap<K\\x9c\\x8apQ\\xb1\\xab\\x05qh\\xf7)o\\xab\\x16\\x8c\\xe1\\xb8\\xc0c\\xe3\\xb0\\x15\\xe8P+\\x05;\\x81\\x93^Sns\\xab](\\xfe\\xf3\\xff\\x00U\\xafK\\xd0\\xee{\\xfb\\x14,r\\xe9\\xe8\\xb6|h\\'\\xe0\\x89x.\\xb21\\xdc\\xb5c\\xfbA\\xa8\\x0b\\x89\\xccQ\\xb6a\\x8f\\xaf\\xde>4o\\xb4W\\xad\\x15\\xb9\\x86&\\xc38\\xc3\\x10y\\n\\xccF\\x91\\xf7\\x80\\xc82\\xa3\\x98\\xf1\\xa8\\x8f\\x8d&(\\x97\\xb1\\xd0\\xb3\\x0b\\xbb\\xc7\\x0728D\\xcf\\x80\\xff\\x00\\x9f\\x95i\\x80\\xaa\\xb6\\xd8X\\x17\\xbb^\\x15\\xc6\\xc3\\x18\\xc5L%\\xc7:\\xce\\x9bszY\\xed\\xce\\x10\\xae\\xa6\\x10B_\\xaf%\\x1e$\\x9c\\x0f\\x9d1}\\x18\\xc2\\x83\\x9c\\x0e~5Ji\\xbe\\x93\\xa9\\xa4K\\xbcv\\xeb\\xc6\\xff\\x00\\xe7;\\x01\\xee\\x19>\\xfa\\xb9\\x92EJ\\x8e\\x05\\x14<0=*\\xa6\\xa3p\"\\x8dB\\xfa\\xf2\\x1e\\x15\\x1eu)l\\n\\xce\\xdf\\xdd\\x19;A\\x1a\\x0c\\xf0[[\\x97\\xff\\x00S\\x12\\x07\\xc8\\x1a8CY\\xcf#\\xc9~\\xf2r\\xce\\xb0\\xc5\\xbf\\x0f<Ukkn\\xee\\xe9\\xe4O\\xb3h\\x9dH=\\x1b\\x14\\xf8\\x9a\\'\\xd9\\x9f\\x82O\\xbcj\\xccp\\xce_\\xd2@\\x17\\x1e\\xb6y\\xd5\\x84\\xd5m\\x11\\xea\\x8b1\\xfc\\x06\\x95Yd\\xe1b\\xa7\\xa1\\xc7:U\\xe8>\\xdf\\x93\\x1f$\\x19\\xedU\\xd8\\xb9\\xd6Y8p!\\x1d\\xd8>8\\xdc\\xfe4\\x15\\x81\\x0eqE\\xb5\\x0e\\xe6\\xee\\xeeyx\\xfb\\x97\\xef\\x9b\\x1cC!\\x86hl\\xa1Aa\\x9c\\x81\\xd6\\xb1\\x93\\xf6/\\xf6\\xe2\\xd0\\xc5\\xac\\xdcQ\\x0feW\\xd4=1P\\xda1\\xe0\\x154\\x98b\\t4\\xbf\\x0cv\\xea\\'\\xd2 Y\\xe0\\xdf\\x9a\\xb1\\x15q\\xed\\x10\\xec\\x07\\xc6\\xa8h\\xd2\\xaa^<Y\\xc2\\xb08\\xcf\\x8d\\x1e\\x0b\\xbeis\\x93R\\x0e\\t8\\x99\\x81c\\xf4}J\\xe9\\xf9\\xe4\\x8c\\x0f\\xf4\\x8f\\xe5Ft\\x8dG\\xe8M\\'y\\xba88\\xf6\\x81\\x90*\\x8e\\xa0\\x7fi\\xcc\\x83\\xaa\\xa9\\xda\\xaa\\xa1&b:\"\\xfc\\xcdX\\x8f1+Id\\x82Mtg\\r\\xde0.\\xdb\\x92i\\xb6\\x90\\x9e>#\\xb6\\xf9\\xc9\\xa1\\xec\\xdc)\\x93\\x81\\x8af\\x9f<\\xd7\\x1a\\x9c\\x11\\x86\\xf4\\x03d\\x8c\\xf4\\x14\\x16G\\xedi\\x07\\t.\\xe5\\xa6\\xb0?t\\x8a1\\xd3\\xa52k\\x95\\x8e\\x16\\x95\\x80\\xe1@I\\xcdw\\xbd\\x8d\\xb2\\xbcX\\xe9\\x93T\\xaf\\x13\\xbe\\x96;`x\\x90\\x9e)1\\xe1Uc\\x15\\xeeXl\\xe6\\x96\\x18@\\xf2\\xbf\\xdaL\\xc6C\\xef\\xe4*\\xe0~\\x1fX\\x80)\\xb8\\xc0\\xf4F\\xd8\\xc0\\x1e\\x14\\xc9\\x0c\\x8c0\\x19\\x07\\xc4\\xd4\\xe2l\\xe5\\xc2\\x14\\xb2\\x8c\\x16V\\xca\\xe3}\\xab>#3jWL\\x8aX\\x92\\xa3#\\xa0\\x03\\xfd\\xe8\\xa4\\xee\\xdd\\\\\\x91\\xd7\\x1bP\\x8b\\x19-M\\xed\\xf7\\x7f\"\\xac\\xaa\\xe0*\\xc9\\x9e\\x13\\xe8\\x8d\\xf6\\xf6\\xd3b\\xbbP\\xb9\\xbd\\xe0-\\x06\\x91\\xc4\\xa1\\xe7u\\x8dN\\xfe\\x89\\xc9\\xfeUJ\\xfe\\xf9`V\\xb5\\xd3\\xf8\\x88\\xc7\\xd6J\\xc79\\xf2\\x1euv5\\xba\\x9a<\\xa3#\\xa1\\xd8p0\\x00WWO\\xb5\\xb3\\x02k\\xb7\\xc8M\\xf8zf\\x85\\xcb\\xf9=!G\\xe0\\xa24;\\xb6\\x01\\x80\\\\\\x1d\\xe9U\\xa3\\xda\\x98\\x01!c$t\\xaeS\\x7f}\\xd4\\xfc\\t\\xfd\\xbc>\\x7f\\xd0M\\x93\\xcc\\x8cb+\\xdf\\xc4\\xc7\\xd3R9y\\x83\\xd2\\xab\\xea\\xbc1N\\xc9\\x10$\\x0f\\xbf\\xd2\\xaf\\xc8\\xc4\\xa63\\x80\\x0f!\\xb0\\xaa\\xba\\xa0\\x0cK\\x11\\xe9\\x14\\xe7\\xee\\xa2O^\\x87%\\x8b\\x06\\xdb6\\xcb\\x96\\xab\\xa1\\x91\\xb6\\xc7N\\xb42\\xd3\\xec\\x81\\xf0\\x02\\xad\\xb9<#\\xccWI\\x1d\\x16p;C8\\x95\\x7f\\xb2\\xd9\\xadln\\x1d\\x15\\xd4\\xe40\\xe7X\\xe7\\xad&\\x87\\x97\\xd3\\xe3,NFG\\xce\\x97j\\xe3C\\xa9\\xf2\\xd0#W\\x93\\x87\\\\|\\x9c\\x03\\n\\xee}\\xf5KT\\xd1n\\xf5\\xdd\\x0eQis%\\xbc\\x8d.K!\\xe1l\\x01\\xb0\\xc8\\xe9\\xe3G\\xe5\\xd3\\xed\\xeeuG\\x92e,\\xc1\\x14\\r\\xea\\xe5\\xa2\\x08\"u\\x8c`w\\xa7op\\xa5\\xab\\x9ev\\xa0\\x9d\\\\\\xeb2pYMke\\x05\\xa5\\xcd\\xd0\\x96X\\xe3\\x08\\xec\\xe7\\x05\\x8fSE\\xb4[\\x1e\\xee\\xee9\\x8c\\xaaN\\x08\\n\\xbe\\xca\\xb1\\xad\\xc6\\x8f\\x19\\x94\\xa8\\xe3\\x07\\x98\\xa1z;0\\xd4\\xed\\xc6N8\\x8f\\xe0j{\\xdc\\xe0\\xf0\\x1cP\\x96\\x1a\\x99m\\xa3q\\x8e^\\xc3T\\xe1^\\x06f\\xc1\\xc3\\x1d\\x8f\\x97J\\xb7\\xaa1\\x8bN\\x9eD\\xd9\\x84g\\x06\\xa0c\\x95\\xde\\x82\\xb6\\xda\\xe41\\x19\\x99zf\\xa3\\xfaH|\\xf1/\\x0b\\x0f\\x9d2F\\xc8\\xc5V\\x97\\x97\\xb2\\x98\\xa2\\x99\\x0eX:y\\x01\\x18;PK\\x0bs-\\xed\\xe4\\xa5\\x1d\\xb3&\\xc0m\\xc5\\x80:\\xd1\\x19I\\xaa\\x9d\\x99\\xbd\\x9b\\xf5\\x85\\xd5\\xa9`\\xd0\\x99\\x9d\\x82\\xb0\\xe4s\\xd2\\x8aO\\xb5h\\x1e\\xa7\\x81Kg\\x8aA\\xdc\\xba\\xb4\\x0c\\x0e\\x17\\x87\\x97\\xbe\\xb9wnf\\xcd\\xb4\\xee\\xc1\\xb9\\xa3Q+\\x87\\xe1PxT\\x9f\\x12+\\x91\\x01q\\x102\\x80M/\\xbfV\\x8dQ\\xe4\\x064e\\x1bd\\xfc\\x05**r\\t\\x19\\xe5J\\x87\\xbe\\x7f!}8|\\x1f\\xff\\xd9'"
      ]
     },
     "execution_count": 47,
     "metadata": {},
     "output_type": "execute_result"
    }
   ],
   "source": [
    "requests.get(images_tages[1][\"src\"]).content     # binary format of image"
   ]
  },
  {
   "cell_type": "code",
   "execution_count": 48,
   "id": "620c85c7-7f05-4cc6-8e83-59c15fbf1755",
   "metadata": {},
   "outputs": [],
   "source": [
    "for i in images_tages:\n",
    "    images_url=i[\"src\"]         # src and link is like key and value pair\n",
    "    image_data=requests.get(images_url).content\n",
    "    with open(os.path.join(save_dir,f\"{query}_{images_tages.index(i)}.jpg\"),\"wb\") as f:\n",
    "        f.write(image_data)"
   ]
  },
  {
   "cell_type": "code",
   "execution_count": null,
   "id": "14cfa367-fa8e-45ca-99e4-5e3d07114f8e",
   "metadata": {},
   "outputs": [],
   "source": []
  }
 ],
 "metadata": {
  "kernelspec": {
   "display_name": "Python 3 (ipykernel)",
   "language": "python",
   "name": "python3"
  },
  "language_info": {
   "codemirror_mode": {
    "name": "ipython",
    "version": 3
   },
   "file_extension": ".py",
   "mimetype": "text/x-python",
   "name": "python",
   "nbconvert_exporter": "python",
   "pygments_lexer": "ipython3",
   "version": "3.11.5"
  }
 },
 "nbformat": 4,
 "nbformat_minor": 5
}
