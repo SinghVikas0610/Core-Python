{
 "cells": [
  {
   "cell_type": "markdown",
   "id": "56029bef-3581-4f98-97ae-a963817a7785",
   "metadata": {},
   "source": [
    "# TOPIC: String Based Assignment Problem"
   ]
  },
  {
   "cell_type": "code",
   "execution_count": 29,
   "id": "8dd9247b-43fa-4ba6-899c-d07ffcf82188",
   "metadata": {},
   "outputs": [
    {
     "name": "stdin",
     "output_type": "stream",
     "text": [
      "Enter YOur String :  Manifest\n"
     ]
    },
    {
     "name": "stdout",
     "output_type": "stream",
     "text": [
      "Reverse String is :  tsefinaM\n"
     ]
    }
   ],
   "source": [
    "# 1. Reverse the string.\n",
    "\n",
    "txt=input(\"Enter YOur String : \")\n",
    "rev_txt=txt[: : -1]       # step value -1 will reverse the string and start and stop wil take from last to first character\n",
    "print(\"Reverse String is : \",rev_txt)"
   ]
  },
  {
   "cell_type": "code",
   "execution_count": 31,
   "id": "f70ec3ac-5a5b-4824-99c5-25f236ad6e95",
   "metadata": {},
   "outputs": [
    {
     "name": "stdin",
     "output_type": "stream",
     "text": [
      "Enter YOur String :  satis\n"
     ]
    },
    {
     "name": "stdout",
     "output_type": "stream",
     "text": [
      "String is not Palindrome\n"
     ]
    }
   ],
   "source": [
    "# 2. check if a string is a palindrome\n",
    "\n",
    "txt=input(\"Enter YOur String : \")\n",
    "rev_txt=txt[: : -1]\n",
    "if txt==rev_txt:\n",
    "    print(\"String is Palindrome\")\n",
    "else:\n",
    "    print(\"String is not Palindrome\")"
   ]
  },
  {
   "cell_type": "code",
   "execution_count": 32,
   "id": "3875e39d-ce9d-4d91-af03-e526ff6a2d2f",
   "metadata": {},
   "outputs": [
    {
     "name": "stdin",
     "output_type": "stream",
     "text": [
      "Enter YOur String :  Vikas Singh\n"
     ]
    },
    {
     "name": "stdout",
     "output_type": "stream",
     "text": [
      "VIKAS SINGH\n"
     ]
    }
   ],
   "source": [
    "# 3. convert a string uppercase \n",
    "\n",
    "txt=input(\"Enter YOur String : \")\n",
    "\n",
    "print(txt.upper())\n",
    "\n"
   ]
  },
  {
   "cell_type": "code",
   "execution_count": 33,
   "id": "d7e5881a-1f30-4491-a181-6f4982e29b32",
   "metadata": {},
   "outputs": [
    {
     "name": "stdin",
     "output_type": "stream",
     "text": [
      "Enter YOur String :  Vikas SINGH\n"
     ]
    },
    {
     "name": "stdout",
     "output_type": "stream",
     "text": [
      "vikas singh\n"
     ]
    }
   ],
   "source": [
    "# 4. convert a string uppercase \n",
    "\n",
    "txt=input(\"Enter YOur String : \")\n",
    "\n",
    "print(txt.lower())\n",
    "\n"
   ]
  },
  {
   "cell_type": "code",
   "execution_count": 34,
   "id": "392284ce-294e-42e1-b765-c58dd6a37956",
   "metadata": {},
   "outputs": [
    {
     "name": "stdin",
     "output_type": "stream",
     "text": [
      "Enter YOur String :  Nothing is Forever\n"
     ]
    },
    {
     "name": "stdout",
     "output_type": "stream",
     "text": [
      "number of vowels :  6\n"
     ]
    }
   ],
   "source": [
    "# 5.count the number of vowels in a program\n",
    "\n",
    "txt=input(\"Enter YOur String : \")\n",
    "vow=0\n",
    "for i in txt:\n",
    "    if i==\"a\" or i==\"e\" or i==\"i\" or i==\"o\" or i==\"u\" or i==\"A\" or i==\"E\" or i==\"I\" or i==\"O\" or i==\"U\":\n",
    "        vow=vow+1\n",
    "print(\"number of vowels : \",vow)"
   ]
  },
  {
   "cell_type": "code",
   "execution_count": 38,
   "id": "2f617331-49f8-4b90-a815-59915d326b49",
   "metadata": {},
   "outputs": [
    {
     "name": "stdin",
     "output_type": "stream",
     "text": [
      "Enter YOur String :  Everything is Nothing\n"
     ]
    },
    {
     "name": "stdout",
     "output_type": "stream",
     "text": [
      "number of consonent :  13\n"
     ]
    }
   ],
   "source": [
    "# 6.count the number of consonent in a program\n",
    "\n",
    "txt=input(\"Enter YOur String : \")\n",
    "cons=0\n",
    "for i in txt:\n",
    "    if i!=\"a\" and i!=\"e\" and i!=\"i\" and i!=\"o\" and i!=\"u\" and i!=\"A\" and i!=\"E\" and i!=\"I\" and i!=\"O\" and i!=\"U\" and i!=\" \":\n",
    "        cons=cons+1\n",
    "print(\"number of consonent : \",cons)"
   ]
  },
  {
   "cell_type": "code",
   "execution_count": 50,
   "id": "b219b82f-1c7e-482d-9274-05b750791a9e",
   "metadata": {},
   "outputs": [
    {
     "name": "stdin",
     "output_type": "stream",
     "text": [
      "Enter Your String :  Vikas Singh\n"
     ]
    },
    {
     "name": "stdout",
     "output_type": "stream",
     "text": [
      "String without spaces   VikasSingh\n"
     ]
    }
   ],
   "source": [
    "# 7. Remove all whitespaces from a string.\n",
    "\n",
    "txt=input(\"Enter Your String : \")\n",
    "new_txt=\"\"\n",
    "for i in txt:\n",
    "    if i!=\" \":\n",
    "        new_txt=new_txt+i\n",
    "print(\"String without spaces  \" ,new_txt)"
   ]
  },
  {
   "cell_type": "code",
   "execution_count": 51,
   "id": "42664ce8-ece9-4d4a-b2d1-21ceb5daf518",
   "metadata": {},
   "outputs": [
    {
     "name": "stdin",
     "output_type": "stream",
     "text": [
      "Enter YOur String :  Vikas Singh\n"
     ]
    },
    {
     "name": "stdout",
     "output_type": "stream",
     "text": [
      "Length is =  11\n"
     ]
    }
   ],
   "source": [
    "# 8. find the length without using len() function.\n",
    "\n",
    "txt=input(\"Enter YOur String : \")\n",
    "\n",
    "count=0\n",
    "for i in txt:\n",
    "    count=count+1\n",
    "\n",
    "print(\"Length is = \",count)"
   ]
  },
  {
   "cell_type": "code",
   "execution_count": 54,
   "id": "c00c86da-646b-40d0-82c7-7d7ea7a4eaf1",
   "metadata": {},
   "outputs": [
    {
     "name": "stdin",
     "output_type": "stream",
     "text": [
      "Enter YOur String :  Honesty is the best policy\n",
      "Enter a word :  best\n"
     ]
    },
    {
     "name": "stdout",
     "output_type": "stream",
     "text": [
      "this word is exist in this string\n"
     ]
    }
   ],
   "source": [
    "# 9. check if a string contains a specific word.\n",
    "\n",
    "txt=input(\"Enter YOur String : \")\n",
    "word=input(\"Enter a word : \")\n",
    "\n",
    "if word in txt:\n",
    "    print(\"this word is exist in this string\")\n",
    "else:\n",
    "    print(\"this word is not exist in this string\")\n"
   ]
  },
  {
   "cell_type": "code",
   "execution_count": 56,
   "id": "b281a486-b595-4e78-beb2-0999d59c1291",
   "metadata": {},
   "outputs": [
    {
     "name": "stdin",
     "output_type": "stream",
     "text": [
      "Enter YOur String :  honesty is the best policy\n",
      "Enter word to replace  best\n",
      "Enter word with replace  excellent\n"
     ]
    },
    {
     "name": "stdout",
     "output_type": "stream",
     "text": [
      "honesty is the excellent policy\n"
     ]
    }
   ],
   "source": [
    "# 10. Replace a word in a string with another word.\n",
    "\n",
    "txt=input(\"Enter YOur String : \")\n",
    "word_to=input(\"Enter word to replace \")\n",
    "word_with=input(\"Enter word with replace \")\n",
    "x=txt.replace(word_to,word_with)\n",
    "\n",
    "print(x)\n",
    "\n"
   ]
  },
  {
   "cell_type": "code",
   "execution_count": 64,
   "id": "bfdf1b68-8011-4cea-8e5d-e64ffc08ab88",
   "metadata": {},
   "outputs": [
    {
     "name": "stdin",
     "output_type": "stream",
     "text": [
      "Enter YOur String :  dream is not that which we see after sleeping, dream is that which dont let us sleep\n",
      "Enter Word to count  dream\n"
     ]
    },
    {
     "name": "stdout",
     "output_type": "stream",
     "text": [
      "2\n",
      "2\n"
     ]
    }
   ],
   "source": [
    "# 11. Count the occurrences of a word in a string.\n",
    "\n",
    "txt=input(\"Enter YOur String : \")\n",
    "word=input(\"Enter Word to count \")\n",
    "# Method 1 : using count\n",
    "print(txt.count(word))\n",
    "\n",
    "# Method 2: using split\n",
    "x=txt.split(\" \")\n",
    "count=0\n",
    "for i in x:\n",
    "    if i == word:\n",
    "        count=count+1\n",
    "print(count)"
   ]
  },
  {
   "cell_type": "code",
   "execution_count": 67,
   "id": "cb75c38a-84a4-4bdf-add5-f83d76e3c5d0",
   "metadata": {},
   "outputs": [
    {
     "name": "stdin",
     "output_type": "stream",
     "text": [
      "Enter YOur String :  he is she but she is not he\n",
      "Enter Word to count  is\n"
     ]
    },
    {
     "name": "stdout",
     "output_type": "stream",
     "text": [
      "3\n"
     ]
    }
   ],
   "source": [
    "# 12. Find the first occurrence of a word in a string.\n",
    "\n",
    "txt=input(\"Enter YOur String : \")\n",
    "word=input(\"Enter Word to count \")\n",
    "\n",
    "print(txt.index(word))\n"
   ]
  },
  {
   "cell_type": "code",
   "execution_count": 68,
   "id": "b8be08cb-0a85-44cc-8977-779676352b95",
   "metadata": {},
   "outputs": [
    {
     "name": "stdin",
     "output_type": "stream",
     "text": [
      "Enter YOur String :  he is she but she is not he\n",
      "Enter Word to count  is\n"
     ]
    },
    {
     "name": "stdout",
     "output_type": "stream",
     "text": [
      "18\n"
     ]
    }
   ],
   "source": [
    "# 13. Find the last occurrence of a word in a string.\n",
    "\n",
    "txt=input(\"Enter YOur String : \")\n",
    "word=input(\"Enter Word to count \")\n",
    "print(txt.rindex(word))\n"
   ]
  },
  {
   "cell_type": "code",
   "execution_count": 71,
   "id": "48bf4ae2-e0c6-4ad0-9f58-024bacb39de1",
   "metadata": {},
   "outputs": [
    {
     "name": "stdin",
     "output_type": "stream",
     "text": [
      "Enter YOur String :  honesty is the best policy\n"
     ]
    },
    {
     "name": "stdout",
     "output_type": "stream",
     "text": [
      "['honesty', 'is', 'the', 'best', 'policy']\n"
     ]
    }
   ],
   "source": [
    "# 14. Split a string into a list of words.\n",
    "\n",
    "txt=input(\"Enter YOur String : \")\n",
    "print(txt.split(\" \"))\n"
   ]
  },
  {
   "cell_type": "code",
   "execution_count": 73,
   "id": "74e7e4de-95de-4854-a63b-890daac5800e",
   "metadata": {},
   "outputs": [
    {
     "name": "stdout",
     "output_type": "stream",
     "text": [
      "honesty is the best policy\n"
     ]
    }
   ],
   "source": [
    "# 15 . Join a list of words into a string.\n",
    "\n",
    "words=[\"honesty\",\"is\",\"the\",\"best\",\"policy\"]\n",
    "\n",
    "txt=\" \".join(words)\n",
    "\n",
    "print(txt)\n"
   ]
  },
  {
   "cell_type": "code",
   "execution_count": 74,
   "id": "a284f478-9777-4f44-b700-7148b276ff28",
   "metadata": {},
   "outputs": [
    {
     "name": "stdin",
     "output_type": "stream",
     "text": [
      "Enter YOur String :  honesty is the best policy\n"
     ]
    },
    {
     "name": "stdout",
     "output_type": "stream",
     "text": [
      "honesty-is-the-best-policy\n"
     ]
    }
   ],
   "source": [
    "# 16. Convert a string where words are separated by spaces to one where words are separated by underscores.\n",
    "\n",
    "\n",
    "txt=input(\"Enter YOur String : \")\n",
    "\n",
    "print(\"-\".join(txt.split(\" \")))\n"
   ]
  },
  {
   "cell_type": "code",
   "execution_count": 75,
   "id": "a2d5e90a-4605-4f45-8bc3-cc5c05c375c4",
   "metadata": {},
   "outputs": [
    {
     "name": "stdin",
     "output_type": "stream",
     "text": [
      "Enter YOur String :  honesty is the best policy\n",
      "Enter Word to check  honesty\n"
     ]
    },
    {
     "name": "stdout",
     "output_type": "stream",
     "text": [
      "True\n"
     ]
    }
   ],
   "source": [
    "# 17. Check if a string starts with a specific word or phrase\n",
    "\n",
    "txt=input(\"Enter YOur String : \")\n",
    "word=input(\"Enter Word to check \")\n",
    "\n",
    "print(txt.startswith(word))\n"
   ]
  },
  {
   "cell_type": "code",
   "execution_count": 77,
   "id": "497bde21-29dc-4d11-b731-b1f35dc82086",
   "metadata": {},
   "outputs": [
    {
     "name": "stdin",
     "output_type": "stream",
     "text": [
      "Enter YOur String :  honesty is the best policy\n",
      "Enter Word to check  policy\n"
     ]
    },
    {
     "name": "stdout",
     "output_type": "stream",
     "text": [
      "True\n"
     ]
    }
   ],
   "source": [
    "# 18. Check if a string ends with a specific word or phrase.\n",
    "txt=input(\"Enter YOur String : \")\n",
    "word=input(\"Enter Word to check \")\n",
    "\n",
    "print(txt.endswith(word))"
   ]
  },
  {
   "cell_type": "code",
   "execution_count": 78,
   "id": "1bc20ab5-10fd-4563-a1f6-19d2b37c9742",
   "metadata": {},
   "outputs": [
    {
     "name": "stdin",
     "output_type": "stream",
     "text": [
      "Enter YOur String :  Honesty is the best policy\n"
     ]
    },
    {
     "name": "stdout",
     "output_type": "stream",
     "text": [
      "Honesty Is The Best Policy\n"
     ]
    }
   ],
   "source": [
    "# 19. Convert a string to title case (e.g., \"hello world\" to \"Hello World\").\n",
    "\n",
    "txt=input(\"Enter YOur String : \")\n",
    "\n",
    "print(txt.title())\n"
   ]
  },
  {
   "cell_type": "code",
   "execution_count": 93,
   "id": "b4966007-3d88-46b9-8fd5-43b31fe7ec40",
   "metadata": {},
   "outputs": [
    {
     "name": "stdin",
     "output_type": "stream",
     "text": [
      "Enter YOur String :  Honesty is the best policy\n"
     ]
    },
    {
     "name": "stdout",
     "output_type": "stream",
     "text": [
      "Honesty\n",
      "Honesty\n"
     ]
    }
   ],
   "source": [
    "# 20. Find the longest word in a string.\n",
    "\n",
    "txt=input(\"Enter YOur String : \")\n",
    "\n",
    "# Method 1 : using comparison of lenght of all the words\n",
    "x=txt.split()\n",
    "y=0\n",
    "n=\"\"\n",
    "for i in x:\n",
    "    if len(i)>y:\n",
    "        y=len(i)\n",
    "        if len(i)>len(n):\n",
    "            n=i\n",
    "print(n)\n",
    "\n",
    "\n",
    "\n",
    "# Method 2 : using new list of all word's lenght\n",
    "\n",
    "x=txt.split()\n",
    "new=[]\n",
    "for i in x:\n",
    "    new.append(len(i))\n",
    "m=max(new)\n",
    "print(x[new.index(m)])\n"
   ]
  },
  {
   "cell_type": "code",
   "execution_count": 97,
   "id": "6e9e10e4-bd37-45f5-a63e-eff8230d938c",
   "metadata": {},
   "outputs": [
    {
     "name": "stdin",
     "output_type": "stream",
     "text": [
      "Enter YOur String :  honesty is the best policy\n"
     ]
    },
    {
     "name": "stdout",
     "output_type": "stream",
     "text": [
      "is\n"
     ]
    }
   ],
   "source": [
    "# 21. Find the shortest word in a string\n",
    "\n",
    "txt=input(\"Enter YOur String : \")\n",
    "x=txt.split()\n",
    "y=len(x[0])\n",
    "n=x[0]\n",
    "for i in x:\n",
    "    if len(i)<y:\n",
    "        y=len(i)\n",
    "        if len(i)<len(n):\n",
    "            n=i\n",
    "print(n)"
   ]
  },
  {
   "cell_type": "code",
   "execution_count": 102,
   "id": "3f9f3647-ec2b-4011-8368-4f1c9f7eebd3",
   "metadata": {},
   "outputs": [
    {
     "name": "stdin",
     "output_type": "stream",
     "text": [
      "Enter YOur String :  honesty is the best policy\n"
     ]
    },
    {
     "name": "stdout",
     "output_type": "stream",
     "text": [
      "policy best the is honesty\n"
     ]
    }
   ],
   "source": [
    "# 22. Reverse the order of words in a string.\n",
    "\n",
    "txt=input(\"Enter YOur String : \")\n",
    "\n",
    "print(\" \".join(txt.split()[::-1]))\n"
   ]
  },
  {
   "cell_type": "code",
   "execution_count": 105,
   "id": "fbd4f7c0-d705-4e7d-8f55-ac9744f9c293",
   "metadata": {},
   "outputs": [
    {
     "name": "stdin",
     "output_type": "stream",
     "text": [
      "Enter YOur String :  vikas123\n"
     ]
    },
    {
     "name": "stdout",
     "output_type": "stream",
     "text": [
      "True\n"
     ]
    }
   ],
   "source": [
    "# 23. Check if a string is alphanumeric.\n",
    "\n",
    "txt=input(\"Enter YOur String : \")\n",
    "\n",
    "print(txt.isalnum())\n"
   ]
  },
  {
   "cell_type": "code",
   "execution_count": 110,
   "id": "d6a5d750-ff2d-431e-a97f-455f43399e69",
   "metadata": {},
   "outputs": [
    {
     "name": "stdin",
     "output_type": "stream",
     "text": [
      "Enter YOur String :  Vikas123\n"
     ]
    },
    {
     "name": "stdout",
     "output_type": "stream",
     "text": [
      "123"
     ]
    }
   ],
   "source": [
    "# 24. Extract all digits from a string.\n",
    "txt=input(\"Enter YOur String : \")\n",
    "\n",
    "for i in txt:\n",
    "    if ord(i)>47 and ord(i)<58:\n",
    "        print(i,end=\"\")\n",
    "    \n",
    "\n"
   ]
  },
  {
   "cell_type": "code",
   "execution_count": 113,
   "id": "575ef98e-29bb-430a-bd75-c5abedec5e55",
   "metadata": {},
   "outputs": [
    {
     "name": "stdin",
     "output_type": "stream",
     "text": [
      "Enter YOur String :  vikas123\n"
     ]
    },
    {
     "name": "stdout",
     "output_type": "stream",
     "text": [
      "vikas"
     ]
    }
   ],
   "source": [
    "# 25. Extract all alphabets from a string.\n",
    "\n",
    "txt=input(\"Enter YOur String : \")\n",
    "\n",
    "for i in txt:\n",
    "    if (ord(i)>63 and ord(i)<92) or (ord(i)>96 and ord(i)<123) :\n",
    "        print(i,end=\"\")\n",
    "\n"
   ]
  },
  {
   "cell_type": "code",
   "execution_count": 116,
   "id": "7ecdbaa5-a8aa-47ed-bf05-8b80300bc7ee",
   "metadata": {},
   "outputs": [
    {
     "name": "stdin",
     "output_type": "stream",
     "text": [
      "Enter YOur String :  Honesty is The best Policy\n"
     ]
    },
    {
     "name": "stdout",
     "output_type": "stream",
     "text": [
      "3\n"
     ]
    }
   ],
   "source": [
    "# 26. Count the number of uppercase letters in a string.\n",
    "\n",
    "\n",
    "txt=input(\"Enter YOur String : \")\n",
    "up=0\n",
    "for i in txt:\n",
    "    if i.isupper():\n",
    "        up=up+1\n",
    "print(up)"
   ]
  },
  {
   "cell_type": "code",
   "execution_count": 117,
   "id": "6ee5e268-775f-4803-88a4-b3953d16c27a",
   "metadata": {},
   "outputs": [
    {
     "name": "stdin",
     "output_type": "stream",
     "text": [
      "Enter YOur String :  honesty Is the Best Policy\n"
     ]
    },
    {
     "name": "stdout",
     "output_type": "stream",
     "text": [
      "19\n"
     ]
    }
   ],
   "source": [
    "# 27. Count the number of uppercase letters in a string.\n",
    "\n",
    "\n",
    "txt=input(\"Enter YOur String : \")\n",
    "up=0\n",
    "for i in txt:\n",
    "    if i.islower():\n",
    "        up=up+1\n",
    "print(up)"
   ]
  },
  {
   "cell_type": "code",
   "execution_count": 118,
   "id": "01176967-ff5f-4a73-b5b2-821744ee20de",
   "metadata": {},
   "outputs": [
    {
     "name": "stdin",
     "output_type": "stream",
     "text": [
      "Enter YOur String :  Honesty is The Best Policy\n"
     ]
    },
    {
     "name": "stdout",
     "output_type": "stream",
     "text": [
      "hONESTY IS tHE bEST pOLICY\n"
     ]
    }
   ],
   "source": [
    "# 27. Count the number of uppercase letters in a string.\n",
    "\n",
    "\n",
    "txt=input(\"Enter YOur String : \")\n",
    "\n",
    "print(txt.swapcase())"
   ]
  },
  {
   "cell_type": "code",
   "execution_count": 120,
   "id": "8d807182-b168-48dc-b9ce-95f4d51c11f4",
   "metadata": {},
   "outputs": [
    {
     "name": "stdin",
     "output_type": "stream",
     "text": [
      "Enter YOur String :  honesty is the best policy\n",
      "Enter word to remove  best\n"
     ]
    },
    {
     "name": "stdout",
     "output_type": "stream",
     "text": [
      "honesty is the  policy\n"
     ]
    }
   ],
   "source": [
    "# 29. Remove a specific word from a string.\n",
    "\n",
    "txt=input(\"Enter YOur String : \")\n",
    "word=input(\"Enter word to remove \")\n",
    "\n",
    "print(txt.replace(word,\"\"))\n",
    "\n",
    "\n"
   ]
  },
  {
   "cell_type": "code",
   "execution_count": 123,
   "id": "95bf78a3-33b1-42be-9a10-ce59e0a21f27",
   "metadata": {},
   "outputs": [
    {
     "name": "stdin",
     "output_type": "stream",
     "text": [
      "Enter YOur String :  singh@gmail.com\n"
     ]
    },
    {
     "name": "stdout",
     "output_type": "stream",
     "text": [
      "Valid Email id\n"
     ]
    }
   ],
   "source": [
    "# 30 Check if a string is a valid email address\n",
    "\n",
    "import re\n",
    "\n",
    "txt=input(\"Enter YOur String : \")\n",
    "\n",
    "regex = r'\\b[A-Za-z0-9._%+-]+@[A-Za-z0-9.-]+\\.[A-Z|a-z]{2,7}\\b'    # Regular Expression for email id\n",
    "\n",
    "if(re.fullmatch(regex, txt)):\n",
    "    print(\"Valid Email id\")\n",
    "else:\n",
    "    print(\"Not Valid Email id\")\n",
    "    "
   ]
  },
  {
   "cell_type": "code",
   "execution_count": 124,
   "id": "5baa3c3a-fb5f-4324-b416-a66f96413da6",
   "metadata": {},
   "outputs": [
    {
     "name": "stdin",
     "output_type": "stream",
     "text": [
      "Enter YOur String :  singh@gmal.com\n"
     ]
    },
    {
     "name": "stdout",
     "output_type": "stream",
     "text": [
      "singh\n"
     ]
    }
   ],
   "source": [
    "# 31. Extract the username from an email address string.\n",
    "\n",
    "txt=input(\"Enter YOur String : \")\n",
    "\n",
    "regex = r'\\b[A-Za-z0-9._%+-]+@[A-Za-z0-9.-]+\\.[A-Z|a-z]{2,7}\\b'\n",
    "\n",
    "if(re.fullmatch(regex, txt)):\n",
    "    print(txt.split(\"@\")[0])\n",
    "else:\n",
    "    print(\"Not Valid Email id\")\n",
    "\n"
   ]
  },
  {
   "cell_type": "code",
   "execution_count": 125,
   "id": "9f58de21-9864-4570-9078-6c45b7af7af3",
   "metadata": {},
   "outputs": [
    {
     "name": "stdin",
     "output_type": "stream",
     "text": [
      "Enter YOur String :  singh@gmail.com\n"
     ]
    },
    {
     "name": "stdout",
     "output_type": "stream",
     "text": [
      "gmail.com\n"
     ]
    }
   ],
   "source": [
    "# 32. Extract the domain name from an email address string\n",
    "\n",
    "# 31. Extract the username from an email address string.\n",
    "\n",
    "txt=input(\"Enter YOur String : \")\n",
    "\n",
    "regex = r'\\b[A-Za-z0-9._%+-]+@[A-Za-z0-9.-]+\\.[A-Z|a-z]{2,7}\\b'\n",
    "\n",
    "if(re.fullmatch(regex, txt)):\n",
    "    print(txt.split(\"@\")[1])\n",
    "else:\n",
    "    print(\"Not Valid Email id\")\n",
    "\n"
   ]
  },
  {
   "cell_type": "code",
   "execution_count": 132,
   "id": "1232504a-178a-4fe5-9e59-a1e01971be98",
   "metadata": {},
   "outputs": [
    {
     "name": "stdin",
     "output_type": "stream",
     "text": [
      "Enter YOur String :     Vikas     Singh  \n"
     ]
    },
    {
     "name": "stdout",
     "output_type": "stream",
     "text": [
      "Vikas Singh\n"
     ]
    }
   ],
   "source": [
    "# 33. Replace multiple spaces in a string with a single space.\n",
    "\n",
    "txt=input(\"Enter YOur String : \")\n",
    "\n",
    "print(\" \".join(txt.split()))\n",
    "\n",
    "\n",
    "\n",
    "\n"
   ]
  },
  {
   "cell_type": "code",
   "execution_count": 135,
   "id": "4a33af1d-3a9f-451e-8a3c-015e4b0ad5fd",
   "metadata": {},
   "outputs": [
    {
     "name": "stdin",
     "output_type": "stream",
     "text": [
      "Enter YOur String :  https://auth.geeksforgeeks.org/user/Chinmoy%20Lenka/articles\n"
     ]
    },
    {
     "name": "stdout",
     "output_type": "stream",
     "text": [
      "Valid URL\n"
     ]
    }
   ],
   "source": [
    "# 34: . Check if a string is a valid URL.\n",
    "import re\n",
    "txt=input(\"Enter YOur String : \")\n",
    "\n",
    "#Regular Expression for URL\n",
    "regex = r\"(?i)\\b((?:https?://|www\\d{0,3}[.]|[a-z0-9.\\-]+[.][a-z]{2,4}/)(?:[^\\s()<>]+|\\(([^\\s()<>]+|(\\([^\\s()<>]+\\)))*\\))+(?:\\(([^\\s()<>]+|(\\([^\\s()<>]+\\)))*\\)|[^\\s`!()\\[\\]{};:'\\\".,<>?«»“”‘’]))\"\n",
    "if(re.fullmatch(regex, txt)):\n",
    "    print(\"Valid URL\")\n",
    "else:\n",
    "    print(\"Not Valid URL\")\n"
   ]
  },
  {
   "cell_type": "code",
   "execution_count": 7,
   "id": "ed127b29-3d57-41e0-918c-eacfae0523e3",
   "metadata": {},
   "outputs": [
    {
     "name": "stdin",
     "output_type": "stream",
     "text": [
      "Enter YOur String :  https://auth.geeksforgeeks.org/user/Chinmoy%20Lenka/articles\n"
     ]
    },
    {
     "name": "stdout",
     "output_type": "stream",
     "text": [
      "https\n",
      "https\n"
     ]
    }
   ],
   "source": [
    "# Method 1 : using split method\n",
    "txt=input(\"Enter YOur String : \")\n",
    "protocol=txt.split(\":\")\n",
    "print(protocol[0])\n",
    "\n",
    "# method 2 : using Regular Expression\n",
    "\n",
    "import re  \n",
    "protocol = re.findall('(\\w+)://', txt)\n",
    "print(protocol[0])\n"
   ]
  },
  {
   "cell_type": "code",
   "execution_count": 16,
   "id": "d52ed48b-bb73-4b8d-b9ee-f68710415329",
   "metadata": {},
   "outputs": [
    {
     "name": "stdin",
     "output_type": "stream",
     "text": [
      "Enter YOur String :  vikas isngh\n"
     ]
    },
    {
     "name": "stdout",
     "output_type": "stream",
     "text": [
      "{'v': 1, 'i': 2, 'k': 1, 'a': 1, 's': 2, ' ': 1, 'n': 1, 'g': 1, 'h': 1}\n",
      "{'v': 1, 'i': 2, 'k': 1, 'a': 1, 's': 2, ' ': 1, 'n': 1, 'g': 1, 'h': 1}\n",
      "{'v': 1, 'i': 2, 'k': 1, 'a': 1, 's': 2, ' ': 1, 'n': 1, 'g': 1, 'h': 1}\n",
      "Counter({'i': 2, 's': 2, 'v': 1, 'k': 1, 'a': 1, ' ': 1, 'n': 1, 'g': 1, 'h': 1})\n"
     ]
    }
   ],
   "source": [
    "# 36. Find the frequency of each character in a string.\n",
    "\n",
    "txt=input(\"Enter YOur String : \")\n",
    "\n",
    "# method 1 : Using if else and dictionary\n",
    "dct={}\n",
    "for i in txt:\n",
    "    if i in dct:\n",
    "        dct[i]=dct[i]+1\n",
    "    else:\n",
    "        dct[i]=1\n",
    "\n",
    "print(str(dct))\n",
    "\n",
    "# method 2 : using loop and dictionary\n",
    "dct={}\n",
    "for i in txt:\n",
    "    dct[i]=dct.get(i,0)+1\n",
    "print(str(dct))\n",
    "\n",
    "# method 3 : using reduce and lambda function\n",
    "from functools import reduce\n",
    "count = dict(reduce(lambda a, b: {**a, b: a.get(b, 0) + 1}, txt, {}))\n",
    "print(str(count))\n",
    "\n",
    "# method 4 : using collection \n",
    "\n",
    "from collections import Counter\n",
    "count=Counter(txt)\n",
    "print(count)\n",
    "\n"
   ]
  },
  {
   "cell_type": "code",
   "execution_count": 23,
   "id": "23134bd2-6f78-490e-93fe-c74604402e11",
   "metadata": {},
   "outputs": [
    {
     "name": "stdin",
     "output_type": "stream",
     "text": [
      "Enter YOur String :  vika,s: s;singh \"\"\";.,\n"
     ]
    },
    {
     "name": "stdout",
     "output_type": "stream",
     "text": [
      "vikas ssingh \n",
      "vikas ssingh \n",
      "vikas ssingh \n",
      "vikas ssingh \n",
      "vikas ssingh \n",
      "vikas ssingh \n",
      "vikas ssingh \n"
     ]
    }
   ],
   "source": [
    "# 37. Remove all punctuation from a string\n",
    "# method 1 : using string translation\n",
    "import string\n",
    "txt=input(\"Enter YOur String : \")\n",
    "txt = txt.translate(str.maketrans('', '', string.punctuation))\n",
    "print(txt)\n",
    "\n",
    "# Method 2 : using replace by string.puncuation\n",
    "for i in string.punctuation:\n",
    "    txt.replace(i,\"\")\n",
    "print(txt)\n",
    "\n",
    "# Method 3 : Using Regular Expression\n",
    "import re\n",
    "txt = re.sub(r'[^\\w\\s]', '', txt)\n",
    "print(txt)\n",
    "\n",
    "# Method 4 : using punctuation testing\n",
    "punc = '''!()-[]{};:'\"\\,<>./?@#$%^&*_~'''\n",
    "res=\"\" \n",
    "for i in txt:\n",
    "    if i not in punc:\n",
    "        res+=i\n",
    "print(res)\n",
    "\n",
    "# Method 5 : using alphabet testing\n",
    "alpha = '''ABCDEFGHIJKLMNOPQRSTUVWXYZabcdefghijklmnopqrstuvwxyz '''\n",
    "res=\"\" \n",
    "for i in txt:\n",
    "    if i in alpha:\n",
    "        res+=i\n",
    "print(res)\n",
    "\n",
    "# Method 6 : using Ascii value\n",
    "res=\"\" \n",
    "for i in txt:\n",
    "    if ord(i)>63 and ord(i)<92 or ord(i)>96 and ord(i)<123 or i==\" \":\n",
    "        res+=i\n",
    "print(res)\n",
    "\n",
    "# Method 7 : using filter function\n",
    "result = ''.join(filter(lambda x: x.isalpha() or x.isdigit() or x.isspace(), txt))\n",
    "print(result)"
   ]
  },
  {
   "cell_type": "code",
   "execution_count": 26,
   "id": "69495c81-93d1-42ab-abe8-fe416ff4e0cd",
   "metadata": {},
   "outputs": [
    {
     "name": "stdin",
     "output_type": "stream",
     "text": [
      "Enter YOur String :  234\n"
     ]
    },
    {
     "name": "stdout",
     "output_type": "stream",
     "text": [
      "True\n"
     ]
    }
   ],
   "source": [
    "# 38. Check if a string contains only digits.\n",
    "txt=input(\"Enter YOur String : \")\n",
    "print(txt.isdigit())"
   ]
  },
  {
   "cell_type": "code",
   "execution_count": 28,
   "id": "6dee7df6-61ee-4b00-907d-2652be1146ab",
   "metadata": {},
   "outputs": [
    {
     "name": "stdin",
     "output_type": "stream",
     "text": [
      "Enter YOur String :  vikas3\n"
     ]
    },
    {
     "name": "stdout",
     "output_type": "stream",
     "text": [
      "False\n"
     ]
    }
   ],
   "source": [
    "# 39. Check if a string contains only alphabet.\n",
    "txt=input(\"Enter YOur String : \")\n",
    "print(txt.isalpha())"
   ]
  },
  {
   "cell_type": "code",
   "execution_count": 29,
   "id": "8dc8b177-9e6b-400f-9060-f3ff3b75d810",
   "metadata": {},
   "outputs": [
    {
     "name": "stdin",
     "output_type": "stream",
     "text": [
      "Enter YOur String :  vikas\n"
     ]
    },
    {
     "name": "stdout",
     "output_type": "stream",
     "text": [
      "['v', 'i', 'k', 'a', 's']\n"
     ]
    }
   ],
   "source": [
    "# 40. Convert a string to a list of characters.\n",
    "txt=input(\"Enter YOur String : \")\n",
    "print(list(txt))"
   ]
  },
  {
   "cell_type": "code",
   "execution_count": 32,
   "id": "bda42d68-4b61-4bde-b537-3bba9bc473cc",
   "metadata": {},
   "outputs": [
    {
     "name": "stdin",
     "output_type": "stream",
     "text": [
      "Enter Your First String :  vikas\n",
      "Enter Your Second String :  sikav\n"
     ]
    },
    {
     "name": "stdout",
     "output_type": "stream",
     "text": [
      "String is Anagram \n",
      "String is Anagram \n"
     ]
    }
   ],
   "source": [
    "# 41. Check if two strings are anagrams.\n",
    "\n",
    "txt1=input(\"Enter Your First String : \")\n",
    "txt2=input(\"Enter Your Second String : \")\n",
    "\n",
    "# Method 1: using collection counter\n",
    "from collections import Counter\n",
    "if Counter(txt1)==Counter(txt2):\n",
    "    print(\"String is Anagram \")\n",
    "else:\n",
    "    print(\"Not Anagram \")\n",
    "\n",
    "# Method 2: using sorted method\n",
    "if sorted(txt1)==sorted(txt2):\n",
    "    print(\"String is Anagram \")\n",
    "else:\n",
    "    print(\"Not Anagram \")\n",
    "\n",
    "\n"
   ]
  },
  {
   "cell_type": "code",
   "execution_count": 51,
   "id": "d0d9aa12-8752-4013-870b-e82b672ccf5c",
   "metadata": {},
   "outputs": [
    {
     "name": "stdin",
     "output_type": "stream",
     "text": [
      "Enter YOur String :  vikas\n",
      "Enter shifting limit :  5\n"
     ]
    },
    {
     "name": "stdout",
     "output_type": "stream",
     "text": [
      "anpfx\n"
     ]
    }
   ],
   "source": [
    "# 42. Encode a string using a Caesar cipher\n",
    "\n",
    "txt=input(\"Enter YOur String : \")\n",
    "sh=int(input(\"Enter shifting limit : \"))\n",
    "result = \"\"\n",
    "for i in range(len(txt)):\n",
    "    char = txt[i]\n",
    "    if (char.isupper()):\n",
    "        result += chr((ord(char) + sh-65) % 26 + 65)\n",
    "    else:\n",
    "        result += chr((ord(char) + sh-97) % 26 + 97) \n",
    "print (result)"
   ]
  },
  {
   "cell_type": "code",
   "execution_count": 52,
   "id": "6781adc9-7ebd-4f35-8a90-894ca205d192",
   "metadata": {},
   "outputs": [
    {
     "name": "stdin",
     "output_type": "stream",
     "text": [
      "Enter YOur String :  anpfx\n",
      "Enter shifting limit :  5\n"
     ]
    },
    {
     "name": "stdout",
     "output_type": "stream",
     "text": [
      "vikas\n"
     ]
    }
   ],
   "source": [
    "# 43. Decode a Caesar cipher encoded string\n",
    "\n",
    "txt=input(\"Enter YOur String : \")\n",
    "sh=int(input(\"Enter shifting limit : \"))\n",
    "result = \"\"\n",
    "for i in range(len(txt)):\n",
    "    char = txt[i]\n",
    "    if (char.isupper()):\n",
    "        result += chr((ord(char) - sh-65) % 26 + 65)\n",
    "    else:\n",
    "        result += chr((ord(char) - sh-97) % 26 + 97) \n",
    "print (result)\n"
   ]
  },
  {
   "cell_type": "code",
   "execution_count": 69,
   "id": "ddfd2671-8d37-4862-8a16-551a3647bb90",
   "metadata": {},
   "outputs": [
    {
     "name": "stdin",
     "output_type": "stream",
     "text": [
      "Enter YOur String :  he is good but she is bad\n"
     ]
    },
    {
     "name": "stdout",
     "output_type": "stream",
     "text": [
      "is\n"
     ]
    }
   ],
   "source": [
    "# 44. Find the most frequent word in a string.\n",
    "\n",
    "txt=input(\"Enter YOur String : \")\n",
    "x=txt.split()\n",
    "d={}\n",
    "for i in x:\n",
    "    d[i]=d.get(i,0)+1\n",
    "print(list(d.keys())[list(d.values()).index(max(list(d.values())))])\n"
   ]
  },
  {
   "cell_type": "code",
   "execution_count": 74,
   "id": "50040254-dffb-4e46-b900-13bb08560a7a",
   "metadata": {},
   "outputs": [
    {
     "name": "stdin",
     "output_type": "stream",
     "text": [
      "Enter YOur String :  he is good but she is bad\n"
     ]
    },
    {
     "name": "stdout",
     "output_type": "stream",
     "text": [
      "{'he': 1, 'is': 2, 'good': 1, 'but': 1, 'she': 1, 'bad': 1}\n",
      "he\n",
      "good\n",
      "but\n",
      "she\n",
      "bad\n",
      "Remove Duplicate Only \n",
      "she\n",
      "he\n",
      "but\n",
      "is\n",
      "good\n",
      "bad\n"
     ]
    }
   ],
   "source": [
    "# 45. Find all unique words in a string.\n",
    "\n",
    "# Method 1 : Using loop and dictionary\n",
    "txt=input(\"Enter YOur String : \")\n",
    "x=txt.split()\n",
    "d={}\n",
    "for i in x:\n",
    "    d[i]=d.get(i,0)+1\n",
    "print(str(d))\n",
    "for i in list(d.values()):\n",
    "    if i==1:\n",
    "        print(list(d.keys())[list(d.values()).index(i)])\n",
    "        del d[list(d.keys())[list(d.values()).index(i)]]\n",
    "\n",
    "# Method 2 : Using set method to remove duplicate only\n",
    "print(\"Remove Duplicate Only \")\n",
    "x=set(txt.split())\n",
    "\n",
    "for i in x:\n",
    "    print(i)\n"
   ]
  },
  {
   "cell_type": "code",
   "execution_count": 2,
   "id": "970df8ca-6479-4638-9104-92b71da61b8a",
   "metadata": {},
   "outputs": [
    {
     "name": "stdin",
     "output_type": "stream",
     "text": [
      "Enter YOur String :  Ram-Singh\n"
     ]
    },
    {
     "name": "stdout",
     "output_type": "stream",
     "text": [
      "2\n",
      "2\n"
     ]
    }
   ],
   "source": [
    "# 46. Count the number of syllables in a string.\n",
    "\n",
    "txt=input(\"Enter YOur String : \")\n",
    "# Method 1 :  using the count method\n",
    "print(txt.count(\"-\") + 1)\n",
    "\n",
    "# Method 2 : using split\n",
    "print(len(txt.split(\"-\")))\n"
   ]
  },
  {
   "cell_type": "code",
   "execution_count": 36,
   "id": "0e65f730-6768-47fc-ac64-bf9eca278909",
   "metadata": {},
   "outputs": [
    {
     "name": "stdin",
     "output_type": "stream",
     "text": [
      "Enter Your String :  vikas;\n"
     ]
    },
    {
     "name": "stdout",
     "output_type": "stream",
     "text": [
      "String is not accepted.\n",
      "String is not Accepted\n"
     ]
    }
   ],
   "source": [
    "# 47. Check if a string contains any special characters\n",
    "\n",
    "txt=input(\"Enter Your String : \")\n",
    "\n",
    "# Method 1 : Using regular expression\n",
    "import re\n",
    "regex = re.compile('[@_!#$%^&*()<>?/\\|}{~:;]')\n",
    "if(regex.search(txt) == None):\n",
    "    print(\"String is accepted\")\n",
    "else:\n",
    "    print(\"String is not accepted.\")\n",
    "\n",
    "# Method 2 : Using membership operator\n",
    "\n",
    "sp='[@_!#$%^&*()<>?/\\|}{~:;]'\n",
    "x=0\n",
    "for i in txt:\n",
    "    if i in sp:\n",
    "        break\n",
    "    else:\n",
    "        x=x+1\n",
    "if x==len(txt):\n",
    "    print(\"String is Accepted\")\n",
    "else:\n",
    "    print(\"String is not Accepted\")\n",
    "\n",
    "\n",
    "\n"
   ]
  },
  {
   "cell_type": "code",
   "execution_count": 39,
   "id": "1fd8f383-0207-4d36-95f8-ec0a07997731",
   "metadata": {},
   "outputs": [
    {
     "name": "stdin",
     "output_type": "stream",
     "text": [
      "Enter Your String :  honesty is the best policy\n",
      "Enter nth value to remove the word 3\n"
     ]
    },
    {
     "name": "stdout",
     "output_type": "stream",
     "text": [
      "honesty is best policy\n"
     ]
    }
   ],
   "source": [
    "# 48. Remove the nth word from a string.\n",
    "\n",
    "txt=input(\"Enter Your String : \")\n",
    "nth=int(input(\"Enter nth value to remove the word\"))\n",
    "new=txt.split()\n",
    "new.pop(nth-1)\n",
    "txt=\" \".join(new)\n",
    "print(txt)\n"
   ]
  },
  {
   "cell_type": "code",
   "execution_count": 42,
   "id": "b1df93cc-0aa7-4d04-ba5b-22231879d1f3",
   "metadata": {},
   "outputs": [
    {
     "name": "stdin",
     "output_type": "stream",
     "text": [
      "Enter Your String :  honesty is best policy\n",
      "Enter nth value to insert the word :  3\n",
      "Enter the word to input :  the\n"
     ]
    },
    {
     "name": "stdout",
     "output_type": "stream",
     "text": [
      "Final String is :  honesty is the best policy\n"
     ]
    }
   ],
   "source": [
    "# 49. Insert a word at the nth position in a string.\n",
    "\n",
    "txt=input(\"Enter Your String : \")\n",
    "nth=int(input(\"Enter nth value to insert the word : \"))\n",
    "word=input(\"Enter the word to input : \")\n",
    "new=txt.split()\n",
    "new.insert(nth-1,word)\n",
    "\n",
    "txt=\" \".join(new)\n",
    "print(\"Final String is : \",txt)\n",
    "\n"
   ]
  },
  {
   "cell_type": "code",
   "execution_count": 55,
   "id": "f90a114f-e558-400b-9c79-3b0a36479da5",
   "metadata": {},
   "outputs": [
    {
     "name": "stdout",
     "output_type": "stream",
     "text": [
      "[['id', 'member_id', 'loan_amnt', 'funded_amnt', 'funded_amnt_inv', 'term', 'int_rate', 'installment'], ['1077501', '1296599', '5000', '5000', '4975', ' 36 months', '10.65%', '162.87'], ['1077430', '1314167', '2500', '2500', '2500', ' 60 months', '15.27%', '59.83'], ['1077175', '1313524', '2400', '2400', '2400', ' 36 months', '15.96%', '84.33'], ['1076863', '1277178', '10000', '10000', '10000', ' 36 months', '13.49%', '339.31'], ['1075358', '1311748', '3000', '3000', '3000', ' 60 months', '12.69%', '67.79'], ['1075269', '1311441', '5000', '5000', '5000', ' 36 months', '7.90%', '156.46'], ['1069639', '1304742', '7000', '7000', '7000', ' 60 months', '15.96%', '170.08'], ['1072053', '1288686', '3000', '3000', '3000', ' 36 months', '18.64%', '109.43'], ['1071795', '1306957', '5600', '5600', '5600', ' 60 months', '21.28%', '152.39'], ['1071570', '1306721', '5375', '5375', '5350', ' 60 months', '12.69%', '121.45'], ['1070078', '1305201', '6500', '6500', '6500', ' 60 months', '14.65%', '153.45'], ['1069908', '1305008', '12000', '12000', '12000', ' 36 months', '12.69%', '402.54'], ['1064687', '1298717', '9000', '9000', '9000', ' 36 months', '13.49%', '305.38']]\n"
     ]
    }
   ],
   "source": [
    "# 50. Convert a CSV string to a list of lists.\n",
    "\n",
    "import csv \n",
    "with open('sample.csv', 'r') as read_obj: \n",
    "    csv_reader = csv.reader(read_obj,delimiter=\",\") \n",
    "    list_of_csv = list(csv_reader) \n",
    "    print(list_of_csv) "
   ]
  },
  {
   "cell_type": "markdown",
   "id": "42c24c18-0632-4616-b711-74f2cf6eabc3",
   "metadata": {},
   "source": [
    "# Tuple Based Practice Problem :"
   ]
  },
  {
   "cell_type": "code",
   "execution_count": 57,
   "id": "08b5b9e3-42bf-4efb-9a5b-3dd2f6fe148c",
   "metadata": {},
   "outputs": [
    {
     "name": "stdout",
     "output_type": "stream",
     "text": [
      "(1, 2, 3, 4, 5)\n",
      "(1, 2, 3, 4, 5)\n"
     ]
    }
   ],
   "source": [
    "# 1. Create a tuple with integers from 1 to 5.\n",
    "\n",
    "tp=(1,2,3,4,5)\n",
    "print(tp)\n",
    "# or\n",
    "tp=tuple(range(1,6))\n",
    "print(tp)\n"
   ]
  },
  {
   "cell_type": "code",
   "execution_count": 58,
   "id": "69b81910-5f97-4d56-8c1e-2716272283b7",
   "metadata": {},
   "outputs": [
    {
     "name": "stdout",
     "output_type": "stream",
     "text": [
      "3\n"
     ]
    }
   ],
   "source": [
    "# 2. Access the third element of a tuple.\n",
    "\n",
    "tp=(1,2,3,4,5)\n",
    "print(tp[2])\n",
    "\n"
   ]
  },
  {
   "cell_type": "code",
   "execution_count": 59,
   "id": "8c3f4bd2-a02b-4453-9892-e47420bfe114",
   "metadata": {},
   "outputs": [
    {
     "name": "stdout",
     "output_type": "stream",
     "text": [
      "5\n"
     ]
    }
   ],
   "source": [
    "# 3. Find the length of a tuple without using the `len()` function.\n",
    "\n",
    "tp=(1,2,3,4,5)\n",
    "print(len(tp))"
   ]
  },
  {
   "cell_type": "code",
   "execution_count": 61,
   "id": "b6b6e0f2-2ade-419f-b93d-18e81fac321c",
   "metadata": {},
   "outputs": [
    {
     "name": "stdout",
     "output_type": "stream",
     "text": [
      "1\n"
     ]
    }
   ],
   "source": [
    "# 4. Count the occurrences of an element in a tuple.\n",
    "\n",
    "tp=(1,2,3,4,5)\n",
    "print(tp.count(3))\n"
   ]
  },
  {
   "cell_type": "code",
   "execution_count": 62,
   "id": "c6ea653c-5915-4db6-aa06-2b7a218cb6f1",
   "metadata": {},
   "outputs": [
    {
     "name": "stdout",
     "output_type": "stream",
     "text": [
      "2\n"
     ]
    }
   ],
   "source": [
    "# 5. Find the index of the first occurrence of an element in a tuple.\n",
    "\n",
    "tp=(1,2,3,4,5)\n",
    "print(tp.index(3))"
   ]
  },
  {
   "cell_type": "code",
   "execution_count": 63,
   "id": "77e8ce2c-5a7a-45e2-904a-88b304091c5e",
   "metadata": {},
   "outputs": [
    {
     "name": "stdout",
     "output_type": "stream",
     "text": [
      "Value Exists\n"
     ]
    }
   ],
   "source": [
    "# 6. Check if an element exists in a tuple.\n",
    "\n",
    "\n",
    "tp=(1,2,3,4,5)\n",
    "val=4\n",
    "\n",
    "x= \"Value Exists\" if val in tp else \"Value not Exist\"\n",
    "\n",
    "print(x)\n"
   ]
  },
  {
   "cell_type": "code",
   "execution_count": 64,
   "id": "746434e9-1029-46ba-a01d-1852c2287af7",
   "metadata": {},
   "outputs": [
    {
     "name": "stdout",
     "output_type": "stream",
     "text": [
      "[1, 2, 3, 4, 5]\n"
     ]
    }
   ],
   "source": [
    "# 7. Convert a tuple to a list.\n",
    "\n",
    "tp=(1,2,3,4,5)\n",
    "print(list(tp))"
   ]
  },
  {
   "cell_type": "code",
   "execution_count": 65,
   "id": "b65ab272-48d8-4a59-8770-23b4a297b688",
   "metadata": {},
   "outputs": [
    {
     "name": "stdout",
     "output_type": "stream",
     "text": [
      "(1, 2, 3, 4, 5)\n"
     ]
    }
   ],
   "source": [
    "# 8. Convert a list to a tuple.\n",
    "\n",
    "lt=[1,2,3,4,5]\n",
    "print(tuple(lt))"
   ]
  },
  {
   "cell_type": "code",
   "execution_count": 66,
   "id": "db418ca7-6ac2-4693-871c-177ab784cece",
   "metadata": {},
   "outputs": [
    {
     "name": "stdout",
     "output_type": "stream",
     "text": [
      "1\n",
      "2\n",
      "3\n",
      "4\n",
      "5\n"
     ]
    }
   ],
   "source": [
    "# 9. Unpack the elements of a tuple into variables\n",
    "\n",
    "a,b,c,d,e=(1,2,3,4,5)\n",
    "\n",
    "print(a)\n",
    "print(b)\n",
    "print(c)\n",
    "print(d)\n",
    "print(e)\n",
    "\n"
   ]
  },
  {
   "cell_type": "code",
   "execution_count": 67,
   "id": "61b23991-35ec-44b0-b5a5-4a9b079ac394",
   "metadata": {},
   "outputs": [
    {
     "name": "stdout",
     "output_type": "stream",
     "text": [
      "(2, 4, 6, 8, 10)\n"
     ]
    }
   ],
   "source": [
    "# 10. Create a tuple of even numbers from 1 to 10.\n",
    "\n",
    "tp=tuple(range(2,11,2))\n",
    "\n",
    "print(tp)"
   ]
  },
  {
   "cell_type": "code",
   "execution_count": 68,
   "id": "c9682a01-2fb3-4bc0-8235-82a276fc44e4",
   "metadata": {},
   "outputs": [
    {
     "name": "stdout",
     "output_type": "stream",
     "text": [
      "(1, 3, 5, 7, 9)\n"
     ]
    }
   ],
   "source": [
    "# 11. Create a tuple of odd numbers from 1 to 10.\n",
    "\n",
    "\n",
    "tp=tuple(range(1,11,2))\n",
    "\n",
    "print(tp)"
   ]
  },
  {
   "cell_type": "code",
   "execution_count": 69,
   "id": "fb87d440-f846-4d75-b1ae-3a885e8655c7",
   "metadata": {},
   "outputs": [
    {
     "name": "stdout",
     "output_type": "stream",
     "text": [
      "(2, 4, 6, 8, 10, 1, 3, 5, 7, 9)\n"
     ]
    }
   ],
   "source": [
    "# 12. Concatenate two tuples.\n",
    "\n",
    "tp1=tuple(range(2,11,2))\n",
    "tp2=tuple(range(1,11,2))\n",
    "\n",
    "print(tp1+tp2)"
   ]
  },
  {
   "cell_type": "code",
   "execution_count": 70,
   "id": "3530886d-5cc1-4424-be13-9a3b43c5c118",
   "metadata": {},
   "outputs": [
    {
     "name": "stdout",
     "output_type": "stream",
     "text": [
      "(2, 4, 6, 8, 10, 2, 4, 6, 8, 10, 2, 4, 6, 8, 10)\n"
     ]
    }
   ],
   "source": [
    "# 13. Repeat a tuple three times.\n",
    "\n",
    "tp1=tuple(range(2,11,2))\n",
    "\n",
    "print(tp1*3)\n"
   ]
  },
  {
   "cell_type": "code",
   "execution_count": 71,
   "id": "45398a2b-fb2d-4d61-a1f7-3b4d48f600f9",
   "metadata": {},
   "outputs": [
    {
     "name": "stdout",
     "output_type": "stream",
     "text": [
      "Not Empty \n"
     ]
    }
   ],
   "source": [
    "# 14. Check if a tuple is empty.\n",
    "\n",
    "tp1=tuple(range(2,11,2))\n",
    "if len(tp1)==0:\n",
    "    print(\"Tuple is empty\")\n",
    "else:\n",
    "    print(\"Not Empty \")\n"
   ]
  },
  {
   "cell_type": "code",
   "execution_count": 73,
   "id": "e27d933b-6546-4df0-8a05-40fc306920de",
   "metadata": {},
   "outputs": [
    {
     "name": "stdout",
     "output_type": "stream",
     "text": [
      "((1, 2, 3, 6), (3, 4, 5))\n"
     ]
    }
   ],
   "source": [
    "# 15. Create a nested tuple.\n",
    "\n",
    "tp=((1,2,3,6),(3,4,5))\n",
    "\n",
    "print(tp)"
   ]
  },
  {
   "cell_type": "code",
   "execution_count": 75,
   "id": "d34d8f0a-bf71-4b70-88f3-3997722097eb",
   "metadata": {},
   "outputs": [
    {
     "name": "stdout",
     "output_type": "stream",
     "text": [
      "1\n"
     ]
    }
   ],
   "source": [
    "#16. Access the first element of a nested tuple.\n",
    "\n",
    "tp=((1,2,3,6),(3,4,5))\n",
    "\n",
    "print(tp[0][0])\n",
    "    "
   ]
  },
  {
   "cell_type": "code",
   "execution_count": 76,
   "id": "5d19fa78-8e04-4ef9-a987-ae454d12991f",
   "metadata": {},
   "outputs": [
    {
     "name": "stdout",
     "output_type": "stream",
     "text": [
      "(1,)\n"
     ]
    }
   ],
   "source": [
    "# 17. Create a tuple with a single element.\n",
    "\n",
    "tp=(1,)\n",
    "\n",
    "print(tp)"
   ]
  },
  {
   "cell_type": "code",
   "execution_count": 87,
   "id": "f3d1d45d-39ae-443e-8578-28d915ddcb92",
   "metadata": {},
   "outputs": [
    {
     "name": "stdout",
     "output_type": "stream",
     "text": [
      "Equal\n"
     ]
    }
   ],
   "source": [
    "# 18. Compare two tuples.\n",
    "\n",
    "tp1=tuple(range(2,11,2))\n",
    "tp2=tuple(range(2,11,2))\n",
    "\n",
    "if tp1 == tp2:\n",
    "    print(\"Equal\")\n",
    "else:\n",
    "    print(\"Not Equal\")\n"
   ]
  },
  {
   "cell_type": "code",
   "execution_count": 89,
   "id": "c7b303ba-c773-40ee-a5cc-025341b6dd2b",
   "metadata": {},
   "outputs": [],
   "source": [
    "# 19. Delete a tuple.\n",
    "\n",
    "\n",
    "tp1=tuple(range(2,11,2))\n",
    "\n",
    "del tp1\n",
    "\n",
    "\n"
   ]
  },
  {
   "cell_type": "code",
   "execution_count": 90,
   "id": "29f930f9-a4d5-4d50-993d-30e43fbd5c4e",
   "metadata": {},
   "outputs": [
    {
     "name": "stdout",
     "output_type": "stream",
     "text": [
      "(4, 6, 8, 10)\n"
     ]
    }
   ],
   "source": [
    "# 20. Slice a tuple.\n",
    "\n",
    "tp1=tuple(range(2,11,2))\n",
    "\n",
    "print(tp1[1:5])"
   ]
  },
  {
   "cell_type": "code",
   "execution_count": 91,
   "id": "f309bb1e-9630-4c3c-944a-9e09c7d4a388",
   "metadata": {},
   "outputs": [
    {
     "name": "stdout",
     "output_type": "stream",
     "text": [
      "10\n"
     ]
    }
   ],
   "source": [
    "# 21. Find the maximum value in a tuple.\n",
    "\n",
    "tp1=tuple(range(2,11,2))\n",
    "\n",
    "print(max(tp1))"
   ]
  },
  {
   "cell_type": "code",
   "execution_count": 92,
   "id": "0bf454d6-5675-42e4-864e-66a1cddc9ec1",
   "metadata": {},
   "outputs": [
    {
     "name": "stdout",
     "output_type": "stream",
     "text": [
      "2\n"
     ]
    }
   ],
   "source": [
    "# 22. Find the minimum value in a tuple.\n",
    "\n",
    "tp1=tuple(range(2,11,2))\n",
    "\n",
    "print(min(tp1))"
   ]
  },
  {
   "cell_type": "code",
   "execution_count": 93,
   "id": "29615fcc-f4b5-4b32-afbb-a9a39c60b995",
   "metadata": {},
   "outputs": [
    {
     "name": "stdout",
     "output_type": "stream",
     "text": [
      "('V', 'i', 'k', 'a', 's')\n"
     ]
    }
   ],
   "source": [
    "# 23. Convert a string to a tuple of characters.\n",
    "\n",
    "txt=\"Vikas\"\n",
    "\n",
    "tp=tuple(txt)\n",
    "\n",
    "print(tp)\n"
   ]
  },
  {
   "cell_type": "code",
   "execution_count": 94,
   "id": "a1c98481-b8b0-43a9-97f9-62ce410f733a",
   "metadata": {},
   "outputs": [
    {
     "name": "stdout",
     "output_type": "stream",
     "text": [
      "Vikas\n"
     ]
    }
   ],
   "source": [
    "# 24. Convert a tuple of characters to a string.\n",
    "\n",
    "tp=(\"V\",\"i\",\"k\",\"a\",\"s\")\n",
    "\n",
    "txt=\"\".join(tp)\n",
    "\n",
    "print(txt)\n",
    "\n"
   ]
  },
  {
   "cell_type": "code",
   "execution_count": 95,
   "id": "9cfae74e-147f-464e-a129-dee3b3605e2d",
   "metadata": {},
   "outputs": [
    {
     "name": "stdout",
     "output_type": "stream",
     "text": [
      "(1, 2, 'singh', 5.6)\n"
     ]
    }
   ],
   "source": [
    "# 25. Create a tuple from multiple data types.\n",
    "\n",
    "tp=(1,2,\"singh\",5.6)\n",
    "\n",
    "print(tp)\n",
    "\n"
   ]
  },
  {
   "cell_type": "code",
   "execution_count": 96,
   "id": "653cc4bd-b5e5-40a3-ae9c-20b6de1da7da",
   "metadata": {},
   "outputs": [
    {
     "name": "stdout",
     "output_type": "stream",
     "text": [
      "Identical\n"
     ]
    }
   ],
   "source": [
    "# 26. Check if two tuples are identical.\n",
    "\n",
    "\n",
    "tp1=tuple(range(2,11,2))\n",
    "tp2=tuple(range(2,11,2))\n",
    "\n",
    "if tp1 == tp2:\n",
    "    print(\"Identical\")\n",
    "else:\n",
    "    print(\"Not Identical\")"
   ]
  },
  {
   "cell_type": "code",
   "execution_count": 99,
   "id": "1c471a5e-20f8-4862-879a-e30b4971b3b4",
   "metadata": {},
   "outputs": [
    {
     "name": "stdout",
     "output_type": "stream",
     "text": [
      "[1, 2, 3, 4, 5, 7, 7, 9]\n",
      "(1, 5, 7, 9, 2, 3, 7, 4)\n"
     ]
    }
   ],
   "source": [
    "# 27. Sort the elements of a tuple.\n",
    "\n",
    "tp=(1,5,7,9,2,3,7,4)\n",
    "\n",
    "print(sorted(tp))\n",
    "print(tp)\n",
    "\n"
   ]
  },
  {
   "cell_type": "code",
   "execution_count": 101,
   "id": "8f65663d-39ab-47fd-a388-b9b07bd234d8",
   "metadata": {},
   "outputs": [
    {
     "name": "stdout",
     "output_type": "stream",
     "text": [
      "('1', '5', '7', '9', '2', '3', '7', '4')\n"
     ]
    }
   ],
   "source": [
    "# 28. Convert a tuple of characters to a string.\n",
    "\n",
    "tp=(1,5,7,9,2,3,7,4)\n",
    "\n",
    "x=tuple([str(i) for i in tp])\n",
    "\n",
    "print(x)\n"
   ]
  },
  {
   "cell_type": "code",
   "execution_count": 102,
   "id": "c46ed9a0-463a-4ac6-bc25-13b15f5b45d5",
   "metadata": {},
   "outputs": [
    {
     "name": "stdout",
     "output_type": "stream",
     "text": [
      "(1, 5, 7, 9, 2, 3, 7, 4)\n"
     ]
    }
   ],
   "source": [
    "# 29. Convert a tuple of strings to a tuple of integers.\n",
    "\n",
    "tp=('1','5','7','9','2','3','7','4')\n",
    "\n",
    "x=tuple([int(i) for i in tp])\n",
    "\n",
    "print(x)\n"
   ]
  },
  {
   "cell_type": "code",
   "execution_count": 103,
   "id": "0ce4a097-e3ea-44ff-a4e0-f0bce171921c",
   "metadata": {},
   "outputs": [
    {
     "name": "stdout",
     "output_type": "stream",
     "text": [
      "(2, 4, 6, 8, 10, 2, 4, 6, 8, 10)\n"
     ]
    }
   ],
   "source": [
    "# 30. Merge two tuples.\n",
    "\n",
    "\n",
    "tp1=tuple(range(2,11,2))\n",
    "tp2=tuple(range(2,11,2))\n",
    "\n",
    "print(tp1+tp2)\n"
   ]
  },
  {
   "cell_type": "code",
   "execution_count": 107,
   "id": "38557d8e-2c25-4bfe-89a4-2860cf77d3d0",
   "metadata": {},
   "outputs": [
    {
     "name": "stdout",
     "output_type": "stream",
     "text": [
      "(1, 2, 3, 4, 5, 6, 7, 9)\n"
     ]
    }
   ],
   "source": [
    "# 31. Flatten a nested tuple.\n",
    "\n",
    "tp=((1,2,3,4),(5,6,7,9))\n",
    "x=[]\n",
    "\n",
    "for i in tp:\n",
    "    x.extend(list(i))\n",
    "\n",
    "tp=tuple(x)\n",
    "\n",
    "print(tp)"
   ]
  },
  {
   "cell_type": "code",
   "execution_count": 108,
   "id": "b4ab19d4-f774-4c26-9ef4-3e4184f1dc56",
   "metadata": {},
   "outputs": [
    {
     "name": "stdout",
     "output_type": "stream",
     "text": [
      "(1, 2, 3, 5, 7)\n"
     ]
    }
   ],
   "source": [
    "# 32. Create a tuple of the first 5 prime numbers.\n",
    "\n",
    "lt=[]\n",
    "\n",
    "for i in range(1,50):\n",
    "    x=0\n",
    "    for j in range(2,i//2+1):\n",
    "        if i%j==0:\n",
    "            x=1\n",
    "    if x==0:\n",
    "        lt.append(i)\n",
    "    if len(lt)==5:\n",
    "        break\n",
    "print(tuple(lt))\n",
    "        \n"
   ]
  },
  {
   "cell_type": "code",
   "execution_count": 110,
   "id": "50c52cf4-63f1-4dbd-85d2-478cd1867c62",
   "metadata": {},
   "outputs": [
    {
     "name": "stdout",
     "output_type": "stream",
     "text": [
      "Palindrome\n"
     ]
    }
   ],
   "source": [
    "# 33. Check if a tuple is a palindrome.\n",
    "\n",
    "tp=(1,3,5,3,1)\n",
    "x=tp[::-1]\n",
    "\n",
    "if x==tp:\n",
    "    print(\"Palindrome\")\n",
    "else:\n",
    "    print(\"Not Palindrome\")\n"
   ]
  },
  {
   "cell_type": "code",
   "execution_count": 112,
   "id": "4c9247c4-0bd8-4b26-99a1-aa6c0482051f",
   "metadata": {},
   "outputs": [
    {
     "name": "stdout",
     "output_type": "stream",
     "text": [
      "(1, 4, 9, 16, 25)\n"
     ]
    }
   ],
   "source": [
    "# 34. Create a tuple of squares of numbers from 1 to 5.\n",
    "\n",
    "lt=[]\n",
    "for i in range(1,6):\n",
    "    lt.append(i*i)\n",
    "\n",
    "print(tuple(lt))\n",
    "\n"
   ]
  },
  {
   "cell_type": "code",
   "execution_count": 113,
   "id": "b0720ef9-8331-4ed2-9ebf-5104e4dadc80",
   "metadata": {},
   "outputs": [
    {
     "name": "stdout",
     "output_type": "stream",
     "text": [
      "2\n",
      "4\n",
      "6\n",
      "8\n"
     ]
    }
   ],
   "source": [
    "# 35. Filter out all even numbers from a tuple.\n",
    "\n",
    "tp=(1,2,3,4,5,6,7,8,9)\n",
    "\n",
    "for i in tp:\n",
    "    if i%2==0:\n",
    "        print(i)\n",
    "\n"
   ]
  },
  {
   "cell_type": "code",
   "execution_count": 120,
   "id": "8decd34e-c638-4d16-b980-53265a0d8c03",
   "metadata": {},
   "outputs": [
    {
     "name": "stdout",
     "output_type": "stream",
     "text": [
      "(1, 4, 9, 16, 25, 36, 49, 64, 81)\n"
     ]
    }
   ],
   "source": [
    "# 36. Multiply all elements in a tuple by 2.\n",
    "\n",
    "tp=(1,2,3,4,5,6,7,8,9)\n",
    "\n",
    "tp=tuple(map(lambda x:x*x,tp))\n",
    "print(tp)\n",
    "\n",
    "\n"
   ]
  },
  {
   "cell_type": "code",
   "execution_count": 128,
   "id": "af9f5fb0-137f-421f-a361-85c7f0ae8086",
   "metadata": {},
   "outputs": [
    {
     "name": "stdout",
     "output_type": "stream",
     "text": [
      "(0.7758975976380151, 0.7498300886991415, 0.032662474758308746, 0.27223795396711714, 0.9911646933109169, 0.2919413769054766, 0.4348570670428191, 0.4989468093991031, 0.21244155107027518, 0.3915797676923287)\n"
     ]
    }
   ],
   "source": [
    "# 37. Create a tuple of random numbers.\n",
    "\n",
    "import random\n",
    "\n",
    "tp=[]\n",
    "for i in range(1,11):\n",
    "    tp.append(random.random())\n",
    "\n",
    "print(tuple(tp))\n"
   ]
  },
  {
   "cell_type": "code",
   "execution_count": 137,
   "id": "da6733a5-e66c-47fc-be1c-736b0832bffa",
   "metadata": {},
   "outputs": [
    {
     "name": "stdout",
     "output_type": "stream",
     "text": [
      "sorted\n"
     ]
    }
   ],
   "source": [
    "# 38. Check if a tuple is sorted.\n",
    "\n",
    "tp=(1,2,3,4,5,6,7,8,9)\n",
    "x=tuple(sorted(tp))\n",
    "if tp==x:\n",
    "    print(\"sorted\")\n",
    "else:\n",
    "    print(\"Not Sorted\")\n"
   ]
  },
  {
   "cell_type": "code",
   "execution_count": 139,
   "id": "0caaa17c-c9fe-40cd-851e-a1e5203a8e00",
   "metadata": {},
   "outputs": [
    {
     "name": "stdout",
     "output_type": "stream",
     "text": [
      "(4, 5, 6, 7, 8, 9, 1, 2, 3)\n"
     ]
    }
   ],
   "source": [
    "# 39. Rotate a tuple to the left by `n` positions.\n",
    "\n",
    "tp=(1,2,3,4,5,6,7,8,9)\n",
    "\n",
    "n=3\n",
    "\n",
    "\n",
    "lt=tp[n:]+tp[:n]\n",
    "\n",
    "print(tuple(lt))\n",
    "\n",
    "\n"
   ]
  },
  {
   "cell_type": "code",
   "execution_count": 141,
   "id": "c6ecaa0f-4575-49d9-a320-11a33b5f4109",
   "metadata": {},
   "outputs": [
    {
     "name": "stdout",
     "output_type": "stream",
     "text": [
      "(7, 8, 9, 1, 2, 3, 4, 5, 6)\n"
     ]
    }
   ],
   "source": [
    "# 40. Rotate a tuple to the right by `n` positions.\n",
    "\n",
    "tp=(1,2,3,4,5,6,7,8,9)\n",
    "\n",
    "n=3\n",
    "\n",
    "\n",
    "lt=tp[len(tp)-n:]+tp[:len(tp)-n]\n",
    "\n",
    "print(tuple(lt))\n"
   ]
  },
  {
   "cell_type": "code",
   "execution_count": 142,
   "id": "b90f702c-7420-4aff-aa11-94858b6297a5",
   "metadata": {},
   "outputs": [
    {
     "name": "stdout",
     "output_type": "stream",
     "text": [
      "(0, 1, 1, 2, 3)\n"
     ]
    }
   ],
   "source": [
    "# 41. Create a tuple of the first 5 Fibonacci numbers.\n",
    "\n",
    "lt=[]\n",
    "f=0\n",
    "s=1\n",
    "for i in range(1,6):\n",
    "    lt.append(f)\n",
    "    t=f+s\n",
    "    f=s\n",
    "    s=t\n",
    "    \n",
    "print(tuple(lt))\n"
   ]
  },
  {
   "cell_type": "code",
   "execution_count": 147,
   "id": "98354878-f3db-4572-95b5-97fc4be17480",
   "metadata": {},
   "outputs": [
    {
     "name": "stdin",
     "output_type": "stream",
     "text": [
      "Enter a value  1\n",
      "Enter a value  2\n",
      "Enter a value  3\n",
      "Enter a value  4\n",
      "Enter a value  5\n"
     ]
    },
    {
     "name": "stdout",
     "output_type": "stream",
     "text": [
      "(1, 2, 3, 4, 5)\n"
     ]
    }
   ],
   "source": [
    "# 42. Create a tuple from user input.\n",
    "\n",
    "x=[]\n",
    "n=5\n",
    "for i in range(1,n+1):\n",
    "    val=int(input(\"Enter a value \"))\n",
    "    x.append(val)\n",
    "\n",
    "print(tuple(x))\n",
    "\n"
   ]
  },
  {
   "cell_type": "code",
   "execution_count": 149,
   "id": "78ed11bc-cf24-48af-8234-7c5c41ea9743",
   "metadata": {},
   "outputs": [
    {
     "name": "stdout",
     "output_type": "stream",
     "text": [
      "(1, 2, 6, 4, 5, 3, 7, 8, 9)\n"
     ]
    }
   ],
   "source": [
    "# 43. Swap two elements in a tuple.\n",
    "\n",
    "tp=(1,2,3,4,5,6,7,8,9)\n",
    "\n",
    "lt=list(tp)\n",
    "\n",
    "lt[2],lt[5]=lt[5],lt[2]\n",
    "\n",
    "print(tuple(lt))\n"
   ]
  },
  {
   "cell_type": "code",
   "execution_count": 150,
   "id": "8bd58681-e581-4818-9d4e-bf4a6ce812a4",
   "metadata": {},
   "outputs": [
    {
     "name": "stdout",
     "output_type": "stream",
     "text": [
      "(9, 8, 7, 6, 5, 4, 3, 2, 1)\n"
     ]
    }
   ],
   "source": [
    "# 44. Reverse the elements of a tuple.\n",
    "\n",
    "tp=(1,2,3,4,5,6,7,8,9)\n",
    "\n",
    "tp=tuple(list(tp)[::-1])\n",
    "\n",
    "print(tp)\n",
    "\n"
   ]
  },
  {
   "cell_type": "code",
   "execution_count": 151,
   "id": "c20fee89-c13f-44f6-a1fa-3c6b74f578fa",
   "metadata": {},
   "outputs": [
    {
     "name": "stdout",
     "output_type": "stream",
     "text": [
      "(2, 4, 8, 16, 32)\n"
     ]
    }
   ],
   "source": [
    "# 45. Create a tuple of the first `n` powers of 2.\n",
    "\n",
    "\n",
    "lt=[]\n",
    "n=5\n",
    "\n",
    "for i in range(1,n+1):\n",
    "    lt.append(2**i)\n",
    "\n",
    "\n",
    "print(tuple(lt))\n",
    "\n",
    "\n",
    "\n",
    "\n"
   ]
  },
  {
   "cell_type": "code",
   "execution_count": 153,
   "id": "f7dd56ea-5a11-4454-a226-3e9370cb085d",
   "metadata": {},
   "outputs": [
    {
     "name": "stdout",
     "output_type": "stream",
     "text": [
      "Python\n"
     ]
    }
   ],
   "source": [
    "# 46. Find the longest string in a tuple of strings.\n",
    "\n",
    "tp=(\"Singh\",\"vikas\",\"ram\",\"Arjun\",\"Python\")\n",
    "\n",
    "lt=list(tp)\n",
    "\n",
    "print(max(tp,key=len))\n"
   ]
  },
  {
   "cell_type": "code",
   "execution_count": 154,
   "id": "8fe65750-0a11-4e0d-80ab-86ebb280ff4c",
   "metadata": {},
   "outputs": [
    {
     "name": "stdout",
     "output_type": "stream",
     "text": [
      "ram\n"
     ]
    }
   ],
   "source": [
    "# 47. Find the shortest string in a tuple of strings.\n",
    "\n",
    "tp=(\"Singh\",\"vikas\",\"ram\",\"Arjun\",\"Python\")\n",
    "\n",
    "lt=list(tp)\n",
    "\n",
    "print(min(tp,key=len))"
   ]
  },
  {
   "cell_type": "code",
   "execution_count": 155,
   "id": "69d6dc51-ae1f-4ad1-8336-fe10475c4088",
   "metadata": {},
   "outputs": [
    {
     "name": "stdout",
     "output_type": "stream",
     "text": [
      "1 3 6 10 15 "
     ]
    }
   ],
   "source": [
    "# 48. Create a tuple of the first `n` triangular numbers.\n",
    "\n",
    "j = 1\n",
    "k = 1\n",
    "n=5\n",
    "for i in range(1, n + 1):\n",
    "    print(k, end = ' ')\n",
    "    j = j + 1 \n",
    "    k = k + j \n",
    "\n",
    "\n",
    "\n"
   ]
  },
  {
   "cell_type": "code",
   "execution_count": 166,
   "id": "9e792b0a-170d-47d9-93e4-0e0c25c84c28",
   "metadata": {},
   "outputs": [
    {
     "name": "stdout",
     "output_type": "stream",
     "text": [
      "<class 'tuple'>\n",
      "It Contains Tuple \n"
     ]
    }
   ],
   "source": [
    "# 49. Check if a tuple contains another tuple as a subsequence.\n",
    "\n",
    "tp=((1,2,3,4),2,3,4,5,6)\n",
    "x=0\n",
    "print(type(tp[0]))\n",
    "for i in tp:\n",
    "    if type(i)==type(tuple()):\n",
    "        x=1\n",
    "        break\n",
    "if x==1:\n",
    "    print(\"It Contains Tuple \")\n",
    "else:\n",
    "    print(\"It is not Containing tuple\")\n"
   ]
  },
  {
   "cell_type": "code",
   "execution_count": 168,
   "id": "de994b3c-000a-457b-b123-11956a064fe0",
   "metadata": {},
   "outputs": [
    {
     "name": "stdout",
     "output_type": "stream",
     "text": [
      "(0, 1, 0, 1, 0, 1, 0, 1, 0, 1)\n"
     ]
    }
   ],
   "source": [
    "# 50. Create a tuple of alternating 1s and 0s of length `n`.\n",
    "n=10\n",
    "lt=[]\n",
    "\n",
    "for i in range(1,n+1):\n",
    "    if i%2==0:\n",
    "        lt.append(1)\n",
    "    else:\n",
    "        lt.append(0)\n",
    "print(tuple(lt))"
   ]
  },
  {
   "cell_type": "markdown",
   "id": "a25f8be9-ca27-45d0-bf9d-e7bd8406c8c0",
   "metadata": {},
   "source": [
    "# Set Based Practice Problem :"
   ]
  },
  {
   "cell_type": "code",
   "execution_count": 1,
   "id": "b935ab54-ae80-4498-b749-9df966b42f68",
   "metadata": {},
   "outputs": [
    {
     "name": "stdout",
     "output_type": "stream",
     "text": [
      "{1, 2, 3, 4, 5}\n"
     ]
    }
   ],
   "source": [
    "# 1. Create a set with integers from 1 to 5.\n",
    "\n",
    "a={1,2,3,4,5}\n",
    "\n",
    "print(a)\n"
   ]
  },
  {
   "cell_type": "code",
   "execution_count": 4,
   "id": "21a9c12e-61ed-4546-8a7d-acb4e1119949",
   "metadata": {},
   "outputs": [
    {
     "name": "stdout",
     "output_type": "stream",
     "text": [
      "{1, 2, 3, 4, 5, 450}\n"
     ]
    }
   ],
   "source": [
    "# 2. Create a set with integers from 1 to 5.\n",
    "\n",
    "a={1,2,3,4,5}\n",
    "a.add(450)\n",
    "print(a)"
   ]
  },
  {
   "cell_type": "code",
   "execution_count": 5,
   "id": "065623b8-8940-4d70-b3ee-aaaa59e401a1",
   "metadata": {},
   "outputs": [
    {
     "name": "stdout",
     "output_type": "stream",
     "text": [
      "{1, 2, 3, 5}\n"
     ]
    }
   ],
   "source": [
    "# 3. Remove an element from a set.\n",
    "\n",
    "a={1,2,3,4,5}\n",
    "a.remove(4)\n",
    "print(a)\n"
   ]
  },
  {
   "cell_type": "code",
   "execution_count": 6,
   "id": "762d9628-6179-467d-a826-81755e615476",
   "metadata": {},
   "outputs": [
    {
     "name": "stdout",
     "output_type": "stream",
     "text": [
      "{1, 2, 3, 5}\n"
     ]
    }
   ],
   "source": [
    "# 4. Remove an element from a set.\n",
    "\n",
    "a={1,2,3,4,5}\n",
    "a.remove(4)\n",
    "print(a)\n"
   ]
  },
  {
   "cell_type": "code",
   "execution_count": 7,
   "id": "2f3bddfd-2ab8-4d25-b4b8-aba883880237",
   "metadata": {},
   "outputs": [
    {
     "name": "stdout",
     "output_type": "stream",
     "text": [
      "True\n"
     ]
    }
   ],
   "source": [
    "# 4. Check if an element exists in a set.\n",
    "\n",
    "a={1,2,3,4,5}\n",
    "\n",
    "print(3 in a)\n"
   ]
  },
  {
   "cell_type": "code",
   "execution_count": 9,
   "id": "d5513e00-9023-4370-a8c8-e8321c4ffeef",
   "metadata": {},
   "outputs": [
    {
     "name": "stdout",
     "output_type": "stream",
     "text": [
      "length of set is =  5\n"
     ]
    }
   ],
   "source": [
    "# 5. Find the length of a set without using the `len()` function.\n",
    "\n",
    "a={1,2,3,4,5}\n",
    "\n",
    "count=0\n",
    "for i in a:\n",
    "    count=count+1\n",
    "print(\"length of set is = \",count)\n",
    "\n"
   ]
  },
  {
   "cell_type": "code",
   "execution_count": 10,
   "id": "d738116b-676e-461a-ad13-4b44ee85c05e",
   "metadata": {},
   "outputs": [
    {
     "name": "stdout",
     "output_type": "stream",
     "text": [
      "None\n"
     ]
    }
   ],
   "source": [
    "# 6. Clear all elements from a set.\n",
    "\n",
    "a={1,2,3,4,5}\n",
    "print(a.clear())\n",
    "\n"
   ]
  },
  {
   "cell_type": "code",
   "execution_count": 12,
   "id": "fc673ed8-a40f-4b55-ab15-53f72c1e5a86",
   "metadata": {},
   "outputs": [
    {
     "name": "stdout",
     "output_type": "stream",
     "text": [
      "{2, 4, 6, 8, 10}\n"
     ]
    }
   ],
   "source": [
    "# 7. Create a set of even numbers from 1 to 10.\n",
    "\n",
    "s=set(range(2,11,2))\n",
    "\n",
    "print(s)\n",
    "\n"
   ]
  },
  {
   "cell_type": "code",
   "execution_count": 13,
   "id": "1068d8ae-b2d7-4daf-add2-3ecb6a5b652c",
   "metadata": {},
   "outputs": [
    {
     "name": "stdout",
     "output_type": "stream",
     "text": [
      "{1, 3, 5, 7, 9}\n"
     ]
    }
   ],
   "source": [
    "# 8. Create a set of odd numbers from 1 to 10.\n",
    "\n",
    "s=set(range(1,11,2))\n",
    "\n",
    "print(s)\n",
    "\n"
   ]
  },
  {
   "cell_type": "code",
   "execution_count": 14,
   "id": "a5666836-03f6-47b0-9576-64da2b284624",
   "metadata": {},
   "outputs": [
    {
     "data": {
      "text/plain": [
       "{1, 2, 3, 4, 5, 6, 7, 8, 9}"
      ]
     },
     "execution_count": 14,
     "metadata": {},
     "output_type": "execute_result"
    }
   ],
   "source": [
    "# 9. Find the union of two sets.\n",
    "\n",
    "s1={1,2,3,4,5}\n",
    "s2={5,6,7,8,9}\n",
    "\n",
    "s1.union(s2)\n"
   ]
  },
  {
   "cell_type": "code",
   "execution_count": 15,
   "id": "ea647a17-a581-4034-969e-f200aeb15576",
   "metadata": {},
   "outputs": [
    {
     "data": {
      "text/plain": [
       "{5}"
      ]
     },
     "execution_count": 15,
     "metadata": {},
     "output_type": "execute_result"
    }
   ],
   "source": [
    "# 10. Find the intersection of two sets.\n",
    "\n",
    "s1={1,2,3,4,5}\n",
    "s2={5,6,7,8,9}\n",
    "\n",
    "s1.intersection(s2)\n"
   ]
  },
  {
   "cell_type": "code",
   "execution_count": 16,
   "id": "22295357-4716-4c0d-aa3d-a2319d11a54b",
   "metadata": {},
   "outputs": [
    {
     "data": {
      "text/plain": [
       "{1, 2, 3, 4}"
      ]
     },
     "execution_count": 16,
     "metadata": {},
     "output_type": "execute_result"
    }
   ],
   "source": [
    "# 11. Find the difference between two sets\n",
    "\n",
    "s1={1,2,3,4,5}\n",
    "s2={5,6,7,8,9}\n",
    "\n",
    "s1.difference(s2)\n",
    "\n"
   ]
  },
  {
   "cell_type": "code",
   "execution_count": 19,
   "id": "e343e965-18b3-4b4f-8d7f-c9e3d6e33d94",
   "metadata": {},
   "outputs": [
    {
     "name": "stdout",
     "output_type": "stream",
     "text": [
      "True\n"
     ]
    }
   ],
   "source": [
    "# 12. Check if a set is a subset of another set.\n",
    "\n",
    "s1={1,2,3,4,5}\n",
    "s2={2,3,5}\n",
    "\n",
    "print(s2.issubset(s1))\n",
    "\n"
   ]
  },
  {
   "cell_type": "code",
   "execution_count": 20,
   "id": "1e9846df-4571-46c3-80b8-a7a3bde3ee2a",
   "metadata": {},
   "outputs": [
    {
     "name": "stdout",
     "output_type": "stream",
     "text": [
      "True\n"
     ]
    }
   ],
   "source": [
    "# 13. Check if a set is a superset of another set.\n",
    "\n",
    "s1={1,2,3,4,5}\n",
    "s2={2,3,5}\n",
    "\n",
    "print(s1.issuperset(s2))\n",
    "\n"
   ]
  },
  {
   "cell_type": "code",
   "execution_count": 22,
   "id": "4134d110-fb6c-42d0-8f2b-a21ac1f366dc",
   "metadata": {},
   "outputs": [
    {
     "name": "stdout",
     "output_type": "stream",
     "text": [
      "{1, 2, 3, 4, 5}\n"
     ]
    }
   ],
   "source": [
    "# 14. Create a set from a list.\n",
    "\n",
    "lt=[1,2,3,5,4,5]\n",
    "\n",
    "s=set(lt)\n",
    "\n",
    "print(s)\n"
   ]
  },
  {
   "cell_type": "code",
   "execution_count": 26,
   "id": "a1002080-2ecb-4dbf-8e56-dc9b92198ebe",
   "metadata": {},
   "outputs": [
    {
     "name": "stdout",
     "output_type": "stream",
     "text": [
      "[1, 2, 3, 4, 5]\n"
     ]
    }
   ],
   "source": [
    "# 15. Convert a set to a list.\n",
    "\n",
    "s={1,2,3,5,4}\n",
    "\n",
    "lt=list(sT)\n",
    "\n",
    "print(lt)\n",
    "\n"
   ]
  },
  {
   "cell_type": "code",
   "execution_count": 27,
   "id": "435b61f3-6c93-4b56-b2b1-0ec091c689b3",
   "metadata": {},
   "outputs": [
    {
     "name": "stdout",
     "output_type": "stream",
     "text": [
      "1\n"
     ]
    }
   ],
   "source": [
    "# 16. Remove a random element from a set.\n",
    "\n",
    "s={1,2,3,5,4}\n",
    "\n",
    "\n",
    "x=s.pop()\n",
    "\n",
    "print(x)\n",
    "\n"
   ]
  },
  {
   "cell_type": "code",
   "execution_count": 28,
   "id": "b956afc1-8c01-4ffa-a363-1c652cc7636b",
   "metadata": {},
   "outputs": [
    {
     "name": "stdout",
     "output_type": "stream",
     "text": [
      "1\n"
     ]
    }
   ],
   "source": [
    "# 17. Pop an element from a set.\n",
    "\n",
    "s={1,2,3,5,4}\n",
    "\n",
    "\n",
    "x=s.pop()\n",
    "\n",
    "print(x)\n"
   ]
  },
  {
   "cell_type": "code",
   "execution_count": 30,
   "id": "a17f99ce-5f03-42a8-adc1-53d73241fcdf",
   "metadata": {},
   "outputs": [
    {
     "name": "stdout",
     "output_type": "stream",
     "text": [
      "True\n"
     ]
    }
   ],
   "source": [
    "# 18. Check if two sets have no elements in common.\n",
    "\n",
    "\n",
    "s1={1,2,3,5,4}\n",
    "s2={8,9,0,6}\n",
    "\n",
    "print(s1.isdisjoint(s2))"
   ]
  },
  {
   "cell_type": "code",
   "execution_count": 32,
   "id": "56412e23-123a-4109-bf4a-5315e6534203",
   "metadata": {},
   "outputs": [
    {
     "data": {
      "text/plain": [
       "{0, 1, 2, 3, 5, 6, 8, 9}"
      ]
     },
     "execution_count": 32,
     "metadata": {},
     "output_type": "execute_result"
    }
   ],
   "source": [
    "# 19. Find the symmetric difference between two sets.\n",
    "\n",
    "s1={1,2,3,5,4}\n",
    "s2={8,9,0,6,4}\n",
    "\n",
    "s1.symmetric_difference(s2)"
   ]
  },
  {
   "cell_type": "code",
   "execution_count": 34,
   "id": "464f1366-18ab-4f8f-868c-3b98dd074489",
   "metadata": {},
   "outputs": [
    {
     "name": "stdout",
     "output_type": "stream",
     "text": [
      "{0, 1, 2, 3, 4, 5, 6, 8, 9}\n"
     ]
    }
   ],
   "source": [
    "# 20. Update a set with elements from another set.\n",
    "\n",
    "s1={1,2,3,5,4}\n",
    "s2={8,9,0,6,4}\n",
    "\n",
    "s1.update(s2)\n",
    "print(s1)"
   ]
  },
  {
   "cell_type": "code",
   "execution_count": 4,
   "id": "22362a40-0989-4395-8d6b-f85c14a1cc13",
   "metadata": {},
   "outputs": [
    {
     "name": "stdout",
     "output_type": "stream",
     "text": [
      "{1, 2, 3, 5, 7}\n"
     ]
    }
   ],
   "source": [
    "# 21. Create a set of the first 5 prime numbers.\n",
    "\n",
    "st=set()\n",
    "for i in range(1,100):\n",
    "    x=0\n",
    "    for j in range(2,i//2+1):\n",
    "        if i%j==0:\n",
    "            x=1\n",
    "            break\n",
    "    if x==0:\n",
    "        st.add(i)\n",
    "        if len(st)==5:\n",
    "            break\n",
    "\n",
    "print(st)\n"
   ]
  },
  {
   "cell_type": "code",
   "execution_count": 5,
   "id": "c3eb62f6-eccf-429a-9d8a-ed5d19b66f77",
   "metadata": {},
   "outputs": [
    {
     "name": "stdout",
     "output_type": "stream",
     "text": [
      "Not identical\n"
     ]
    }
   ],
   "source": [
    "# 22. Check if two sets are identical.\n",
    "\n",
    "s1={1,2,3,4,5}\n",
    "s2={2,3,4,5}\n",
    "\n",
    "if s1==s2:\n",
    "    print(\"identical set\")\n",
    "else:\n",
    "    print(\"Not identical\")\n",
    "\n",
    "\n"
   ]
  },
  {
   "cell_type": "code",
   "execution_count": 7,
   "id": "b2bdb95a-73ce-43a6-a04d-321fbeab7f68",
   "metadata": {},
   "outputs": [
    {
     "name": "stdout",
     "output_type": "stream",
     "text": [
      "frozenset({1, 2, 3, 4, 5})\n"
     ]
    }
   ],
   "source": [
    "# 23 23. Create a frozen set.\n",
    "\n",
    "st={1,2,3,4,5}\n",
    "\n",
    "fst=frozenset(st)\n",
    "\n",
    "print(fst)\n"
   ]
  },
  {
   "cell_type": "code",
   "execution_count": 8,
   "id": "c48eb417-b450-46f2-bc6c-b806a1761f05",
   "metadata": {},
   "outputs": [
    {
     "name": "stdout",
     "output_type": "stream",
     "text": [
      "False\n"
     ]
    }
   ],
   "source": [
    "# 24. Check if a set is disjoint with another set.\n",
    "\n",
    "s1={1,2,3,4,5}\n",
    "s2={2,3,4,5}\n",
    "\n",
    "print(s1.isdisjoint(s2))\n"
   ]
  },
  {
   "cell_type": "code",
   "execution_count": 9,
   "id": "36d72df0-8377-440a-9863-e2c07589f3f5",
   "metadata": {},
   "outputs": [
    {
     "name": "stdout",
     "output_type": "stream",
     "text": [
      "{1, 4, 9, 16, 25}\n"
     ]
    }
   ],
   "source": [
    "# 25. Create a set of squares of numbers from 1 to 5.\n",
    "\n",
    "st=set()\n",
    "\n",
    "for i in range(1,6):\n",
    "    st.add(i*i)\n",
    "print(st)\n"
   ]
  },
  {
   "cell_type": "code",
   "execution_count": 11,
   "id": "0965d0aa-2cf4-4105-b3c5-5936f5c5094d",
   "metadata": {},
   "outputs": [
    {
     "name": "stdout",
     "output_type": "stream",
     "text": [
      "2 4 6 8 10 "
     ]
    }
   ],
   "source": [
    "# 26. Filter out all even numbers from a set.\n",
    "\n",
    "s={1,2,3,4,5,6,7,8,9,10}\n",
    "\n",
    "for i in s:\n",
    "    if i%2==0:\n",
    "        print(i,end=\" \")\n",
    "\n"
   ]
  },
  {
   "cell_type": "code",
   "execution_count": 13,
   "id": "ddec0393-0029-4f0e-9110-3ea84f10d593",
   "metadata": {},
   "outputs": [
    {
     "data": {
      "text/plain": [
       "[2, 4, 6, 8, 10, 12]"
      ]
     },
     "execution_count": 13,
     "metadata": {},
     "output_type": "execute_result"
    }
   ],
   "source": [
    "# 27. Multiply all elements in a set by 2.\n",
    "\n",
    "st={1,2,3,4,5,6}\n",
    "\n",
    "st= [x*2 for x in st]\n",
    "\n",
    "st"
   ]
  },
  {
   "cell_type": "code",
   "execution_count": 27,
   "id": "960a2431-881f-49d9-9c64-7b1167be9535",
   "metadata": {},
   "outputs": [
    {
     "name": "stdout",
     "output_type": "stream",
     "text": [
      "{1, 2, 6, 8, 9}\n"
     ]
    }
   ],
   "source": [
    "# 28. Create a set of random numbers.\n",
    "\n",
    "import random\n",
    "st=set()\n",
    "\n",
    "for i in range(1,6):\n",
    "    st.add(random.randint(1,10))\n",
    "print(st)\n"
   ]
  },
  {
   "cell_type": "code",
   "execution_count": 28,
   "id": "6a8fd965-3b6d-4128-9b10-3b4c6092931c",
   "metadata": {},
   "outputs": [
    {
     "name": "stdout",
     "output_type": "stream",
     "text": [
      "Not Empty\n"
     ]
    }
   ],
   "source": [
    "# 29. Check if a set is empty.\n",
    "\n",
    "st={1,2,3,4,5,6}\n",
    "\n",
    "if len(st)==0:\n",
    "    print(\"Empty\")\n",
    "else:\n",
    "    print(\"Not Empty\")\n"
   ]
  },
  {
   "cell_type": "code",
   "execution_count": 40,
   "id": "ef987674-c47f-4165-8d10-c0aa22d0176b",
   "metadata": {},
   "outputs": [
    {
     "data": {
      "text/plain": [
       "{frozenset({1, 2, 3}), frozenset({3, 5, 6})}"
      ]
     },
     "execution_count": 40,
     "metadata": {},
     "output_type": "execute_result"
    }
   ],
   "source": [
    "# 30. Create a nested set (hint: use frozenset).\n",
    "\n",
    "st=set([frozenset([1,2,3]),frozenset([3,5,6])])\n",
    "\n",
    "st"
   ]
  },
  {
   "cell_type": "code",
   "execution_count": 42,
   "id": "b3d8812c-b67c-489d-8e12-4e7d19bac3e0",
   "metadata": {},
   "outputs": [
    {
     "data": {
      "text/plain": [
       "{1, 2, 3, 4, 6}"
      ]
     },
     "execution_count": 42,
     "metadata": {},
     "output_type": "execute_result"
    }
   ],
   "source": [
    "# 31. Remove an element from a set using the discard method.\n",
    "\n",
    "st={1,2,3,4,5,6}\n",
    "\n",
    "st.discard(5)\n",
    "st\n"
   ]
  },
  {
   "cell_type": "code",
   "execution_count": 44,
   "id": "43d46088-3069-4509-b531-52c825858d05",
   "metadata": {},
   "outputs": [
    {
     "name": "stdout",
     "output_type": "stream",
     "text": [
      "Equal\n"
     ]
    }
   ],
   "source": [
    "# 32. Compare two sets\n",
    "st1={1,2,3,4,5,6}\n",
    "st2={1,2,3,4,5,6}\n",
    "\n",
    "if st1==st2:\n",
    "    print(\"Equal\")\n",
    "else:\n",
    "    print(\"Not Equal\")\n",
    "\n"
   ]
  },
  {
   "cell_type": "code",
   "execution_count": 45,
   "id": "4d2e1403-fdda-4b8f-a6bd-a6d7fae6cff4",
   "metadata": {},
   "outputs": [
    {
     "name": "stdout",
     "output_type": "stream",
     "text": [
      "{'h', 'l', 'e', 'o'}\n"
     ]
    }
   ],
   "source": [
    "# 33. Create a set from a string.\n",
    "s=\"hello\"\n",
    "\n",
    "st=set(s)\n",
    "\n",
    "print(st)\n"
   ]
  },
  {
   "cell_type": "code",
   "execution_count": 48,
   "id": "12f78cdd-b5f6-41dc-ad79-3316ec1c967d",
   "metadata": {},
   "outputs": [
    {
     "data": {
      "text/plain": [
       "{1, 2, 3, 4, 5, 6, 7}"
      ]
     },
     "execution_count": 48,
     "metadata": {},
     "output_type": "execute_result"
    }
   ],
   "source": [
    "# 34. Convert a set of strings to a set of integers\n",
    "\n",
    "st={'1','2','3','4','5','6','7'}\n",
    "res=set([eval(i) for i in st])\n",
    "\n",
    "res"
   ]
  },
  {
   "cell_type": "code",
   "execution_count": 49,
   "id": "cb48b492-525b-4756-8803-ca1d903fdb7a",
   "metadata": {},
   "outputs": [
    {
     "data": {
      "text/plain": [
       "{'1', '2', '3', '4', '5', '6', '7', '8', '9'}"
      ]
     },
     "execution_count": 49,
     "metadata": {},
     "output_type": "execute_result"
    }
   ],
   "source": [
    "# 35. Convert a set of integers to a set of strings.\n",
    "\n",
    "st={1,2,3,4,5,6,7,8,9}\n",
    "\n",
    "res=set([str(i) for i in st])\n",
    "\n",
    "res"
   ]
  },
  {
   "cell_type": "code",
   "execution_count": 50,
   "id": "3ed1fb26-0e4c-4bd9-be37-9c6390acd480",
   "metadata": {},
   "outputs": [
    {
     "data": {
      "text/plain": [
       "{1, 2, 3, 4, 5, 6, 7, 8}"
      ]
     },
     "execution_count": 50,
     "metadata": {},
     "output_type": "execute_result"
    }
   ],
   "source": [
    "# 36. Create a set from a tuple.\n",
    "\n",
    "tp=(1,2,3,4,5,6,7,8)\n",
    "\n",
    "res=set(tp)\n",
    "\n",
    "res"
   ]
  },
  {
   "cell_type": "code",
   "execution_count": 51,
   "id": "8927bf81-5508-4bf9-a6c6-ae8d1a76ec18",
   "metadata": {},
   "outputs": [
    {
     "data": {
      "text/plain": [
       "(1, 2, 3, 4, 5, 6)"
      ]
     },
     "execution_count": 51,
     "metadata": {},
     "output_type": "execute_result"
    }
   ],
   "source": [
    "# 37. Convert a set to a tuple.\n",
    "\n",
    "st={1,2,3,4,5,6}\n",
    "\n",
    "tp=tuple(st)\n",
    "\n",
    "tp\n"
   ]
  },
  {
   "cell_type": "code",
   "execution_count": 52,
   "id": "d84391e2-a3ee-4a10-8726-5a3cc678b2f2",
   "metadata": {},
   "outputs": [
    {
     "data": {
      "text/plain": [
       "7"
      ]
     },
     "execution_count": 52,
     "metadata": {},
     "output_type": "execute_result"
    }
   ],
   "source": [
    "# 38. Find the maximum value in a set.\n",
    "\n",
    "st={1,2,3,4,5,6,7}\n",
    "\n",
    "mx=max(st)\n",
    "\n",
    "mx\n",
    "\n"
   ]
  },
  {
   "cell_type": "code",
   "execution_count": 54,
   "id": "75925323-eebb-40a2-87be-2866b4c98287",
   "metadata": {},
   "outputs": [
    {
     "data": {
      "text/plain": [
       "1"
      ]
     },
     "execution_count": 54,
     "metadata": {},
     "output_type": "execute_result"
    }
   ],
   "source": [
    "# 39. Find the maximum value in a set.\n",
    "\n",
    "st={1,2,3,4,5,6,7}\n",
    "\n",
    "mn=min(st)\n",
    "\n",
    "mn\n"
   ]
  },
  {
   "cell_type": "code",
   "execution_count": 1,
   "id": "822ac4a8-c55a-4b1f-aa11-7e3f07cea681",
   "metadata": {},
   "outputs": [
    {
     "name": "stdin",
     "output_type": "stream",
     "text": [
      "Enter limit :  5\n",
      "Enter the Values :  1\n",
      "Enter the Values :  2\n",
      "Enter the Values :  3\n",
      "Enter the Values :  4\n",
      "Enter the Values :  5\n"
     ]
    },
    {
     "data": {
      "text/plain": [
       "{1, 2, 3, 4, 5}"
      ]
     },
     "execution_count": 1,
     "metadata": {},
     "output_type": "execute_result"
    }
   ],
   "source": [
    "# 40. Create a set from user input.\n",
    "\n",
    "st=set()\n",
    "\n",
    "n=int(input(\"Enter limit : \"))\n",
    "\n",
    "for i in range(1,n+1): \n",
    "    x=int(input(\"Enter the Values : \")) \n",
    "    st.add(x)\n",
    "\n",
    "st"
   ]
  },
  {
   "cell_type": "code",
   "execution_count": 4,
   "id": "28bc8ba2-bd1b-4f34-9e39-4d0307a133fb",
   "metadata": {},
   "outputs": [
    {
     "name": "stdout",
     "output_type": "stream",
     "text": [
      "Intersection is not empty \n"
     ]
    }
   ],
   "source": [
    "# 41. Check if the intersection of two sets is empty.\n",
    "\n",
    "st1={1,2,3,4,5,6}\n",
    "st2={1,2,3,4,5,6}\n",
    "\n",
    "if len(set(st1.intersection(st2)))==0:\n",
    "    print(\"Intersection is Empty \")\n",
    "else:\n",
    "    print(\"Intersection is not empty \")\n",
    "\n"
   ]
  },
  {
   "cell_type": "code",
   "execution_count": 15,
   "id": "6ff204df-9ccc-4286-87e3-9d3402f529e6",
   "metadata": {},
   "outputs": [
    {
     "name": "stdout",
     "output_type": "stream",
     "text": [
      "{1, 2, 3, 5, 8}\n"
     ]
    }
   ],
   "source": [
    "# 42. Create a set of the first 5 Fibonacci numbers.\n",
    "\n",
    "st=[]\n",
    "first=1\n",
    "second=1\n",
    "for i in range(1,7):\n",
    "    st.append(first)\n",
    "    third=first+second\n",
    "    first=second\n",
    "    second=third\n",
    "print(set(st))    \n",
    "\n",
    "\n",
    "\n",
    "\n"
   ]
  },
  {
   "cell_type": "code",
   "execution_count": 16,
   "id": "e6893f1e-4b37-4ac2-ae6d-21ea1b9291b0",
   "metadata": {},
   "outputs": [
    {
     "name": "stdout",
     "output_type": "stream",
     "text": [
      "{1, 2, 3, 4, 5, 6, 7}\n"
     ]
    }
   ],
   "source": [
    "# 43. Remove duplicates from a list using sets.\n",
    "\n",
    "lt=[1,2,3,4,5,6,5,6,7,4,2,3]\n",
    "\n",
    "print(set(lt))\n"
   ]
  },
  {
   "cell_type": "code",
   "execution_count": 23,
   "id": "1e3eb374-0524-4c9a-b6f2-04575ba6e9ad",
   "metadata": {},
   "outputs": [
    {
     "name": "stdout",
     "output_type": "stream",
     "text": [
      "sets have same elements\n"
     ]
    }
   ],
   "source": [
    "# 44. Check if two sets have the same elements, regardless of their count.\n",
    "\n",
    "\n",
    "st1={1,2,3,4,5,6}\n",
    "st2={1,2,3,4,5,6}\n",
    "\n",
    "if st1==st2:\n",
    "    print(\"sets have same elements\")\n",
    "else:\n",
    "    print(\"sets have no same elements\")\n",
    "\n",
    "\n"
   ]
  },
  {
   "cell_type": "code",
   "execution_count": 31,
   "id": "50af803d-bc05-4752-81e7-2013f72d3dc5",
   "metadata": {},
   "outputs": [
    {
     "name": "stdout",
     "output_type": "stream",
     "text": [
      "{32, 64, 2, 128, 4, 256, 512, 1024, 8, 16}\n"
     ]
    }
   ],
   "source": [
    "# 45 Create a set of the first `n` powers of 2.\n",
    "\n",
    "n=5\n",
    "\n",
    "st=[]\n",
    "\n",
    "for i in range(1,10+1):\n",
    "    x=2**i\n",
    "    st.append(x)\n",
    "print(set(st))\n"
   ]
  },
  {
   "cell_type": "code",
   "execution_count": 33,
   "id": "c063ee9f-eb02-4450-bf0f-0629c6a97cd0",
   "metadata": {},
   "outputs": [
    {
     "name": "stdout",
     "output_type": "stream",
     "text": [
      "{4, 5, 6}\n"
     ]
    }
   ],
   "source": [
    "# 46. Find the common elements between a set and a list.\n",
    "\n",
    "st1={1,2,3,4,5,6}\n",
    "st2={4,5,6,7,8,9}\n",
    "\n",
    "\n",
    "print(st1.intersection(st2))\n"
   ]
  },
  {
   "cell_type": "code",
   "execution_count": 38,
   "id": "4c23db0a-59c6-4d40-af2e-f89fd7598a96",
   "metadata": {},
   "outputs": [
    {
     "name": "stdout",
     "output_type": "stream",
     "text": [
      "{1, 3, 6, 10, 15}\n"
     ]
    }
   ],
   "source": [
    "# 47. . Create a set of the first `n` triangular numbers.\n",
    "\n",
    "n=5\n",
    "st=[]\n",
    "for i in range(1,5+1):\n",
    "    x=1/2*i*(i+1)\n",
    "    st.append(int(x))\n",
    "\n",
    "print(set(st))\n",
    "    \n"
   ]
  },
  {
   "cell_type": "code",
   "execution_count": 42,
   "id": "e35b2cec-02bf-4307-9a59-f9356fc88392",
   "metadata": {},
   "outputs": [
    {
     "name": "stdout",
     "output_type": "stream",
     "text": [
      "True\n"
     ]
    }
   ],
   "source": [
    "# 48. Check if a set contains another set as a subset.\n",
    "\n",
    "st1={1,2,3,4}\n",
    "st2={1,2}\n",
    "\n",
    "\n",
    "print(st2.issubset(st1))\n",
    "\n"
   ]
  },
  {
   "cell_type": "code",
   "execution_count": 43,
   "id": "bcf4de67-6b10-4354-b39d-8d9b540d79a0",
   "metadata": {},
   "outputs": [],
   "source": [
    "# 49. Create a set of alternating 1s and 0s of length `n`.\n",
    "\n",
    "# we can not create alternating 1 and 0s of length n because in set we can not store duplicate values.. we can do it in list or tuple\n"
   ]
  },
  {
   "cell_type": "code",
   "execution_count": 47,
   "id": "55ae8463-d2fc-46f9-b3c5-546016dc2475",
   "metadata": {},
   "outputs": [
    {
     "name": "stdout",
     "output_type": "stream",
     "text": [
      "{1, 2, 3, 4, 5, 6, 7, 8}\n",
      "{1, 2, 3, 4, 5, 6, 7, 8}\n"
     ]
    }
   ],
   "source": [
    "# 50. Merge multiple sets into one.\n",
    "\n",
    "st1={1,2,3,4}\n",
    "st2={5,6,7,8}\n",
    "\n",
    "print(st1.union(st2))    # using union\n",
    "st1.update(st2)         # using update\n",
    "\n",
    "print(st1)\n",
    "\n",
    "\n",
    "\n",
    "\n",
    "\n"
   ]
  },
  {
   "cell_type": "code",
   "execution_count": null,
   "id": "c70bebf7-1109-4e46-b86a-8b3cfbd01e3f",
   "metadata": {},
   "outputs": [],
   "source": []
  }
 ],
 "metadata": {
  "kernelspec": {
   "display_name": "Python 3 (ipykernel)",
   "language": "python",
   "name": "python3"
  },
  "language_info": {
   "codemirror_mode": {
    "name": "ipython",
    "version": 3
   },
   "file_extension": ".py",
   "mimetype": "text/x-python",
   "name": "python",
   "nbconvert_exporter": "python",
   "pygments_lexer": "ipython3",
   "version": "3.11.5"
  }
 },
 "nbformat": 4,
 "nbformat_minor": 5
}
