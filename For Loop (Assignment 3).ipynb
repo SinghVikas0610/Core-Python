{
 "cells": [
  {
   "cell_type": "markdown",
   "id": "56029bef-3581-4f98-97ae-a963817a7785",
   "metadata": {},
   "source": [
    "# TOPIC: Basic Level: Loop"
   ]
  },
  {
   "cell_type": "code",
   "execution_count": 2,
   "id": "55ae8463-d2fc-46f9-b3c5-546016dc2475",
   "metadata": {},
   "outputs": [
    {
     "name": "stdout",
     "output_type": "stream",
     "text": [
      "1 2 3 4 5 6 7 8 9 10 "
     ]
    }
   ],
   "source": [
    "# 1. Write a Python program to print the numbers from 1 to 10 using a `for` loop\n",
    "\n",
    "for i in range(1,11):\n",
    "    print(i,end=\" \")\n"
   ]
  },
  {
   "cell_type": "code",
   "execution_count": 3,
   "id": "c70bebf7-1109-4e46-b86a-8b3cfbd01e3f",
   "metadata": {},
   "outputs": [
    {
     "name": "stdout",
     "output_type": "stream",
     "text": [
      "Sum is =  251\n"
     ]
    }
   ],
   "source": [
    "# 2. Create a program that calculates the sum of all numbers in a list using a `for` loop.\n",
    "lt=[1,2,3,4,6,7,8,9,43,45,56,67]\n",
    "sm=0\n",
    "for i in lt:\n",
    "    sm=sm+i\n",
    "print(\"Sum is = \",sm)\n"
   ]
  },
  {
   "cell_type": "code",
   "execution_count": 4,
   "id": "8e879311-3f01-4cf1-911b-a03f9edada19",
   "metadata": {},
   "outputs": [
    {
     "name": "stdout",
     "output_type": "stream",
     "text": [
      "10 9 8 7 6 5 4 3 2 1 0 "
     ]
    }
   ],
   "source": [
    "# 3. Write a program to print the characters of a string in reverse order using a `for` loop.\n",
    "txt=\"Singh Vikas\"\n",
    "\n",
    "for i in range(len(txt)-1,-1,-1):\n",
    "    print(i,end=\" \")\n"
   ]
  },
  {
   "cell_type": "code",
   "execution_count": 5,
   "id": "56a55eb3-ce56-41d4-bf57-2530e6b0e24b",
   "metadata": {},
   "outputs": [
    {
     "name": "stdout",
     "output_type": "stream",
     "text": [
      "Factorial is =  120\n"
     ]
    }
   ],
   "source": [
    "# 4. Develop a program that finds the factorial of a given number using a `for` loop.\n",
    "\n",
    "n=5\n",
    "f=1\n",
    "for i in range(1,n+1):\n",
    "    f=f*i\n",
    "print(\"Factorial is = \",f)\n"
   ]
  },
  {
   "cell_type": "code",
   "execution_count": 7,
   "id": "05838c0a-7887-4bca-b8c7-1cd46048bf42",
   "metadata": {},
   "outputs": [
    {
     "name": "stdout",
     "output_type": "stream",
     "text": [
      "5 * 1 = 5\n",
      "5 * 2 = 10\n",
      "5 * 3 = 15\n",
      "5 * 4 = 20\n",
      "5 * 5 = 25\n",
      "5 * 6 = 30\n",
      "5 * 7 = 35\n",
      "5 * 8 = 40\n",
      "5 * 9 = 45\n",
      "5 * 10 = 50\n"
     ]
    }
   ],
   "source": [
    "# 5. Create a program to print the multiplication table of a given number using a `for` loop.\n",
    "n=5\n",
    "for i in range(1,11):\n",
    "    print(n,\"*\",i,\"=\",n*i)\n"
   ]
  },
  {
   "cell_type": "code",
   "execution_count": 8,
   "id": "90851858-45fa-4e64-817d-881fbfc25327",
   "metadata": {},
   "outputs": [
    {
     "name": "stdout",
     "output_type": "stream",
     "text": [
      "Evens :  5\n",
      "Odds :  5\n"
     ]
    }
   ],
   "source": [
    "# 6. Write a program that counts the number of even and odd numbers in a list using a `for` loop.\n",
    "\n",
    "lt=[1,2,3,4,5,6,7,8,9,10]\n",
    "ev=0\n",
    "od=0\n",
    "for i in lt:\n",
    "    if i%2==0:\n",
    "        ev+=1\n",
    "    else:\n",
    "        od+=1\n",
    "print(\"Evens : \",ev)\n",
    "print(\"Odds : \",od)\n"
   ]
  },
  {
   "cell_type": "code",
   "execution_count": 10,
   "id": "9814c6ab-addd-4cd7-8cf6-d26ba2e5d9fb",
   "metadata": {},
   "outputs": [
    {
     "name": "stdout",
     "output_type": "stream",
     "text": [
      "1\n",
      "4\n",
      "9\n",
      "16\n",
      "25\n"
     ]
    }
   ],
   "source": [
    "# 7. Develop a program that prints the squares of numbers from 1 to 5 using a `for` loop.\n",
    "\n",
    "for i in range(1,6):\n",
    "    print(i**2)\n",
    "\n"
   ]
  },
  {
   "cell_type": "code",
   "execution_count": 11,
   "id": "387ca573-e0a6-46ac-9530-d95e2672a97a",
   "metadata": {},
   "outputs": [
    {
     "name": "stdout",
     "output_type": "stream",
     "text": [
      "Length is =  11\n"
     ]
    }
   ],
   "source": [
    "# 8. Create a program to find the length of a string without using the `len()` function.\n",
    "\n",
    "txt=\"singh vikas\"\n",
    "count=0\n",
    "for i in txt:\n",
    "    count+=1\n",
    "print(\"Length is = \",count)\n"
   ]
  },
  {
   "cell_type": "code",
   "execution_count": 12,
   "id": "9a6272d1-58d4-44f9-a15c-ff3e44a393d5",
   "metadata": {},
   "outputs": [
    {
     "name": "stdout",
     "output_type": "stream",
     "text": [
      "Average is =  5.5\n"
     ]
    }
   ],
   "source": [
    "# 9. Write a program that calculates the average of a list of numbers using a `for` loop.\n",
    "\n",
    "lt=[1,2,3,4,5,6,7,8,9,10]\n",
    "sm=0\n",
    "for i in lt:\n",
    "    sm=sm+i\n",
    "print(\"Average is = \",sm/len(lt))\n",
    "\n"
   ]
  },
  {
   "cell_type": "code",
   "execution_count": 13,
   "id": "82d2375e-a33c-41a6-8a67-2ea3048edaab",
   "metadata": {},
   "outputs": [
    {
     "name": "stdout",
     "output_type": "stream",
     "text": [
      "0\n",
      "1\n",
      "1\n",
      "2\n",
      "3\n"
     ]
    }
   ],
   "source": [
    "# 10. Develop a program that prints the first `n` Fibonacci numbers using a `for` loop.\n",
    "\n",
    "n=5\n",
    "\n",
    "first=0\n",
    "second=1\n",
    "for i in range(1,n+1):\n",
    "    print(first)\n",
    "    third=first+second\n",
    "    first=second\n",
    "    second=third\n",
    "\n"
   ]
  },
  {
   "cell_type": "markdown",
   "id": "1087e808-a83e-44db-8d4e-fbda1229fa80",
   "metadata": {},
   "source": [
    "# Intermediate Level:"
   ]
  },
  {
   "cell_type": "code",
   "execution_count": 24,
   "id": "6518ab3a-aa6a-4add-b69f-46c733dccb69",
   "metadata": {},
   "outputs": [
    {
     "name": "stdout",
     "output_type": "stream",
     "text": [
      "there is no any duplicates in list\n"
     ]
    }
   ],
   "source": [
    "# 11. Write a program to check if a given list contains any duplicates using a `for` loop\n",
    "\n",
    "lt=[1,2,3,4,5,6,8,9]\n",
    "x=0\n",
    "for i in range(0,len(lt)):\n",
    "    for j in range(i+1,len(lt)):\n",
    "        if lt[i]==lt[j]:\n",
    "            print(\"list has some duplicates\")\n",
    "            x=1\n",
    "            break\n",
    "    if x==1:\n",
    "        break\n",
    "    \n",
    "if x==0:\n",
    "    print(\"there is no any duplicates in list\")"
   ]
  },
  {
   "cell_type": "code",
   "execution_count": 26,
   "id": "c8dc9eec-8489-45f1-b538-a3d6fc792d51",
   "metadata": {},
   "outputs": [
    {
     "name": "stdout",
     "output_type": "stream",
     "text": [
      "1 2 3 5 7 11 13 17 19 23 29 31 37 41 43 47 53 59 61 67 71 73 79 83 89 97 "
     ]
    }
   ],
   "source": [
    "#12. Create a program that prints the prime numbers in a given range using a `for` loop.\n",
    "\n",
    "for i in range(1,101):\n",
    "    x=0\n",
    "    for j in range(2,i//2+1):\n",
    "        if i%j==0:\n",
    "            x=1\n",
    "            break\n",
    "    if x==0:\n",
    "        print(i,end=\" \")\n"
   ]
  },
  {
   "cell_type": "code",
   "execution_count": 28,
   "id": "f679fc0f-41cf-46f9-bd6a-3332bf53b6de",
   "metadata": {},
   "outputs": [
    {
     "name": "stdout",
     "output_type": "stream",
     "text": [
      "vowels :  7\n"
     ]
    }
   ],
   "source": [
    "# 13. Develop a program that counts the number of vowels in a string using a `for` loop.\n",
    "\n",
    "txt=\"honesty is the best policy\"\n",
    "vow=\"AEIOUaeiou\"\n",
    "vc=0\n",
    "for i in txt:\n",
    "    if i in vow:\n",
    "        vc+=1\n",
    "print(\"vowels : \",vc)\n",
    "    "
   ]
  },
  {
   "cell_type": "code",
   "execution_count": 39,
   "id": "823e82e4-c297-458d-ae9b-19624222b686",
   "metadata": {},
   "outputs": [
    {
     "name": "stdout",
     "output_type": "stream",
     "text": [
      "Max is  44\n"
     ]
    }
   ],
   "source": [
    "# 14. Write a program to find the maximum element in a 2D list using a nested `for` loop.\n",
    "\n",
    "lt=[[1,2,3,4],[5,6,7,8],[8,5,44,3]]\n",
    "mx=lt[0][0]\n",
    "for i in lt:\n",
    "    for j in i:\n",
    "        if j>mx:\n",
    "            mx=j\n",
    "print(\"Max is \",mx)\n"
   ]
  },
  {
   "cell_type": "code",
   "execution_count": 40,
   "id": "9e759556-b891-4672-9ecf-4b4c3529854a",
   "metadata": {},
   "outputs": [
    {
     "name": "stdout",
     "output_type": "stream",
     "text": [
      "[1, 3, 4, 5, 6, 7, 8, 9]\n"
     ]
    }
   ],
   "source": [
    "# 15. Create a program that removes all occurrences of a specific element from a list using a `for` loop.\n",
    "lt=[1,2,3,4,5,6,7,8,9,2]\n",
    "n=2\n",
    "for i in lt:\n",
    "    if i==n:\n",
    "        lt.remove(i)\n",
    "print(lt)\n"
   ]
  },
  {
   "cell_type": "code",
   "execution_count": 49,
   "id": "e7c99823-a0a3-41dc-afa2-027d0b60ed21",
   "metadata": {},
   "outputs": [
    {
     "name": "stdout",
     "output_type": "stream",
     "text": [
      " 1    2    3    4    5    6    7    8    9   10   \n",
      " 2    4    6    8   10   12   14   16   18   20   \n",
      " 3    6    9   12   15   18   21   24   27   30   \n",
      " 4    8   12   16   20   24   28   32   36   40   \n",
      " 5   10   15   20   25   30   35   40   45   50   \n"
     ]
    }
   ],
   "source": [
    "# 16. Develop a program that generates a multiplication table for numbers from 1 to 5 using a nested `for` loop.\n",
    "\n",
    "for i in range(1,6):\n",
    "    for j in range(1,11):\n",
    "        print(\"{:2d}\".format(i*j),end=\"   \")\n",
    "    print(\"\")"
   ]
  },
  {
   "cell_type": "code",
   "execution_count": 57,
   "id": "8dce7c71-4256-484e-97e0-aafbfbe15b16",
   "metadata": {},
   "outputs": [
    {
     "name": "stdout",
     "output_type": "stream",
     "text": [
      "32.55555555555555\n",
      "37.05555555555556\n",
      "35.77777777777778\n",
      "35.166666666666664\n",
      "34.5\n",
      "32.41111111111111\n"
     ]
    }
   ],
   "source": [
    "# 17. Write a program that converts a list of Fahrenheit temperatures to Celsius using a `for` loop.\n",
    "lt=[90.6,98.7,96.4,95.3,94.1,90.34]\n",
    "\n",
    "for i in lt:\n",
    "    celsius=(i-32)/9*5\n",
    "    print(celsius)\n"
   ]
  },
  {
   "cell_type": "code",
   "execution_count": 58,
   "id": "81e6aa63-6a48-4471-b50b-4de85143a567",
   "metadata": {},
   "outputs": [
    {
     "name": "stdout",
     "output_type": "stream",
     "text": [
      "4\n",
      "5\n",
      "6\n"
     ]
    }
   ],
   "source": [
    "# 18. Create a program to print the common elements from two lists using a `for` loop.\n",
    "\n",
    "lt1=[1,2,3,4,5,6]\n",
    "lt2=[4,5,6,7,8,9,10]\n",
    "\n",
    "for i in lt1:\n",
    "    for j in lt2:\n",
    "        if i==j:\n",
    "            print(i)\n",
    "            "
   ]
  },
  {
   "cell_type": "code",
   "execution_count": 59,
   "id": "96a1408d-c0de-4109-9be8-44c8f0a40422",
   "metadata": {},
   "outputs": [
    {
     "name": "stdout",
     "output_type": "stream",
     "text": [
      "*\n",
      "**\n",
      "***\n",
      "****\n",
      "*****\n"
     ]
    }
   ],
   "source": [
    "# 19. Develop a program that prints the pattern of right-angled triangles using a `for` loop. Use ‘*’ to draw the pattern\n",
    "\n",
    "for i in range(1,6):\n",
    "    for j in range(1,i+1):\n",
    "        print(\"*\",end=\"\")\n",
    "    print(\"\")\n",
    "\n"
   ]
  },
  {
   "cell_type": "code",
   "execution_count": 60,
   "id": "3853ce9b-f582-4363-966f-fb7d7e769656",
   "metadata": {},
   "outputs": [
    {
     "name": "stdout",
     "output_type": "stream",
     "text": [
      "HCF is =  3\n"
     ]
    }
   ],
   "source": [
    "# 20. Write a program to find the greatest common divisor (GCD) of two numbers using a `for` loop.\n",
    "\n",
    "a=12\n",
    "b=15\n",
    "mn= a if a<b else b\n",
    "for i in range(mn,0,-1):\n",
    "    if a%i==0 and b%i==0:\n",
    "        print(\"HCF is = \",i)\n",
    "        break\n",
    "\n",
    "\n"
   ]
  },
  {
   "cell_type": "markdown",
   "id": "46ce0954-22bb-4c87-922b-f7e0d74c1cf4",
   "metadata": {},
   "source": [
    "# Advanced Level :"
   ]
  },
  {
   "cell_type": "code",
   "execution_count": 66,
   "id": "d20179a0-018b-4af7-9be0-82c6e568080c",
   "metadata": {},
   "outputs": [
    {
     "name": "stdout",
     "output_type": "stream",
     "text": [
      "[2, 4, 6, 8, 10, 12, 14, 16, 18, 10]\n"
     ]
    }
   ],
   "source": [
    "# 21. Create a program that calculates the sum of the digits of numbers in a list using a list comprehension.\n",
    "\n",
    "lt=[11,22,33,44,55,66,77,88,99,19]\n",
    "\n",
    "s=0\n",
    "\n",
    "x=list(map(lambda el: sum(int(s) for s in str(el)),lt))\n",
    "\n",
    "print(x)\n",
    "\n"
   ]
  },
  {
   "cell_type": "code",
   "execution_count": 59,
   "id": "5ae971eb-fc89-4e73-a4ee-2b66a413e6b6",
   "metadata": {},
   "outputs": [
    {
     "name": "stdin",
     "output_type": "stream",
     "text": [
      "Enter a number:  24\n"
     ]
    },
    {
     "name": "stdout",
     "output_type": "stream",
     "text": [
      "Prime factors of 24 are: [2, 3]\n"
     ]
    }
   ],
   "source": [
    "# 22. Write a program to find the prime factors of a given number using a `for` loop and list comprehension.\n",
    "\n",
    "def prime_factors(n): \n",
    "    factors = [i for i in range(2, n + 1) if n % i == 0 and all(i % j != 0 for j in range(2, int(i**0.5) + 1))] \n",
    "    return factors \n",
    " \n",
    "num = int(input(\"Enter a number: \")) \n",
    "if num <= 1: \n",
    "    print(\"Prime factors are not defined for numbers less than 2.\") \n",
    "else: \n",
    "    factors = prime_factors(num) \n",
    "print(f\"Prime factors of {num} are: {factors}\")\n"
   ]
  },
  {
   "cell_type": "code",
   "execution_count": 90,
   "id": "c6761315-0c1a-4991-9903-0b2fd71143b2",
   "metadata": {},
   "outputs": [
    {
     "name": "stdout",
     "output_type": "stream",
     "text": [
      "[1, 2, 3, 4, 5, 6, 7, 8, 9]\n"
     ]
    }
   ],
   "source": [
    "# 23. Develop a program that extracts unique elements from a list and stores them in a new list using a list comprehension.\n",
    "\n",
    "lt=[1,2,3,4,5,6,7,8,9,2,3,6,8,9]\n",
    "\n",
    "new=[]\n",
    "\n",
    "for i in lt:\n",
    "    if i not in new:\n",
    "        new.append(i)\n",
    "print(new)"
   ]
  },
  {
   "cell_type": "code",
   "execution_count": 83,
   "id": "0208f127-7264-4866-90b5-1c7f239b1fda",
   "metadata": {},
   "outputs": [
    {
     "name": "stdout",
     "output_type": "stream",
     "text": [
      "[1, 2, 3, 4, 5, 6, 7, 8, 9, 11, 22, 33, 44, 55, 66, 77, 88, 99]\n"
     ]
    }
   ],
   "source": [
    "# 24. Create a program that generates a list of all palindromic numbers up to a specified limit using a list comprehension.\n",
    "n=5\n",
    "lt=[]\n",
    "for i in range(1,101):\n",
    "    x=i\n",
    "    s=0\n",
    "    while x>0:\n",
    "        r=x%10\n",
    "        s=s*10+r\n",
    "        x=x//10\n",
    "    if s==i:\n",
    "        lt.append(i)\n",
    "print(lt)"
   ]
  },
  {
   "cell_type": "code",
   "execution_count": 91,
   "id": "8f439e43-bfd6-4982-91f9-3900b62813ef",
   "metadata": {},
   "outputs": [
    {
     "name": "stdout",
     "output_type": "stream",
     "text": [
      "[1, 2, 3, 2, 3, 4, 3, 4, 5]\n"
     ]
    }
   ],
   "source": [
    "# 25. Write a program to flatten a nested list using list comprehension.\n",
    "\n",
    "lt=[[1,2,3],[2,3,4],[3,4,5]]\n",
    "\n",
    "new=[ elm for innerlist in lt for elm in innerlist ]\n",
    "\n",
    "print(new)\n"
   ]
  },
  {
   "cell_type": "code",
   "execution_count": 95,
   "id": "11af8b7d-adc1-4582-b545-3b52fac06b2a",
   "metadata": {},
   "outputs": [
    {
     "name": "stdout",
     "output_type": "stream",
     "text": [
      "30\n",
      "25\n"
     ]
    }
   ],
   "source": [
    "# 26. Develop a program that computes the sum of even and odd numbers in a list separately using list comprehension.\n",
    "\n",
    "lt=[1,2,3,4,5,6,7,8,9,10]\n",
    "ev=0\n",
    "od=0\n",
    "x=sum([i for i in lt if i%2==0])\n",
    "y=sum([i for i in lt if i%2!=0])\n",
    "print(x)\n",
    "print(y)"
   ]
  },
  {
   "cell_type": "code",
   "execution_count": 97,
   "id": "c5cf4b72-d4c3-42e2-8bce-3477c363f722",
   "metadata": {},
   "outputs": [
    {
     "name": "stdout",
     "output_type": "stream",
     "text": [
      "[1, 9, 25, 49, 81, 121, 169, 225, 289, 361, 441, 529, 625, 729, 841, 961, 1089, 1225, 1369, 1521, 1681, 1849, 2025, 2209, 2401, 2601, 2809, 3025, 3249, 3481, 3721, 3969, 4225, 4489, 4761, 5041, 5329, 5625, 5929, 6241, 6561, 6889, 7225, 7569, 7921, 8281, 8649, 9025, 9409, 9801]\n"
     ]
    }
   ],
   "source": [
    "# 27. Create a program that generates a list of squares of odd numbers between 1 and 10 using list comprehension.\n",
    "\n",
    "sq=[i*i for i in range(1,101) if i%2!=0]\n",
    "print(sq)"
   ]
  },
  {
   "cell_type": "code",
   "execution_count": 100,
   "id": "52a002ca-2443-4946-8c48-5f28ab679327",
   "metadata": {},
   "outputs": [
    {
     "name": "stdout",
     "output_type": "stream",
     "text": [
      "{'Arjun': 23, 'Amar': 34, 'Vinay': 45, 'Shivam': 56, 'Ankit': 67}\n"
     ]
    }
   ],
   "source": [
    "# 28. Write a program that combines two lists into a dictionary using list comprehension.\n",
    "\n",
    "name=[\"Arjun\",\"Amar\",\"Vinay\",\"Shivam\",\"Ankit\"]\n",
    "values=[23,34,45,56,67]\n",
    "\n",
    "dc={name[i]:values[i] for i in range(0,len(name))}\n",
    "\n",
    "print(dc)\n"
   ]
  },
  {
   "cell_type": "code",
   "execution_count": 101,
   "id": "5620c4a2-c7fb-4446-a0d2-3ea9ccede703",
   "metadata": {},
   "outputs": [
    {
     "name": "stdout",
     "output_type": "stream",
     "text": [
      "['o', 'e', 'i', 'e', 'e', 'o', 'i']\n"
     ]
    }
   ],
   "source": [
    "# 29. Develop a program that extracts the vowels from a string and stores them in a list using list comprehension.\n",
    "txt=\"Honesty is the best policy\"\n",
    "vow=\"aeiouAEIOU\"\n",
    "\n",
    "lt=[i for i in txt if i in vow]\n",
    "\n",
    "print(lt)\n",
    "\n"
   ]
  },
  {
   "cell_type": "code",
   "execution_count": 9,
   "id": "38433a59-d008-40ce-8418-99f8c5ad60b6",
   "metadata": {},
   "outputs": [
    {
     "name": "stdout",
     "output_type": "stream",
     "text": [
      "['123', '23', '89']\n"
     ]
    }
   ],
   "source": [
    "# 30. Create a program that removes all non-numeric characters from a list of strings using list comprehension.\n",
    "\n",
    "txt=[\"Singh123\",\"vikas23\",\"Arjun89\"]\n",
    "\n",
    "lst=[''.join(x for x in i if x.isdigit()) for i in txt]\n",
    "\n",
    "print(lst)"
   ]
  },
  {
   "cell_type": "markdown",
   "id": "6c1bb38b-32e7-4f10-8c0b-3e2a491aa475",
   "metadata": {},
   "source": [
    "# Challenge Level:"
   ]
  },
  {
   "cell_type": "code",
   "execution_count": 22,
   "id": "ab9f4fd0-00b8-4c67-bc68-36f2a2800f17",
   "metadata": {},
   "outputs": [
    {
     "name": "stdout",
     "output_type": "stream",
     "text": [
      "[True, True, True, True, True, True, True, True, True, True, True, True, True, True, True, True]\n",
      "2\n",
      "3\n",
      "5\n",
      "7\n",
      "11\n",
      "13\n"
     ]
    }
   ],
   "source": [
    "# 31. Write a program to generate a list of prime numbers using the Sieve of Eratosthenes algorithm and list comprehension.\n",
    "num=15\n",
    "prime = [True for i in range(num+1)]\n",
    "print(prime)\n",
    "p = 2\n",
    "while (p * p <= num):\n",
    "    if (prime[p] == True):\n",
    "            for i in range(p * p, num+1, p):\n",
    "                prime[i] = False\n",
    "    p += 1\n",
    "for p in range(2, num+1):\n",
    "    if prime[p]:\n",
    "        print(p)\n"
   ]
  },
  {
   "cell_type": "code",
   "execution_count": 25,
   "id": "873c68b2-1f38-4998-8917-133336187a33",
   "metadata": {},
   "outputs": [
    {
     "name": "stdout",
     "output_type": "stream",
     "text": [
      "[[3, 4, 5], [4, 3, 5], [5, 12, 13], [6, 8, 10], [7, 24, 25], [8, 6, 10], [8, 15, 17], [9, 12, 15], [9, 40, 41], [10, 24, 26], [11, 60, 61], [12, 5, 13], [12, 9, 15], [12, 16, 20], [12, 35, 37], [13, 84, 85], [14, 48, 50], [15, 8, 17], [15, 20, 25], [15, 36, 39], [16, 12, 20], [16, 30, 34], [16, 63, 65], [18, 24, 30], [18, 80, 82], [20, 15, 25], [20, 21, 29], [20, 48, 52], [21, 20, 29], [21, 28, 35], [21, 72, 75], [24, 7, 25], [24, 10, 26], [24, 18, 30], [24, 32, 40], [24, 45, 51], [24, 70, 74], [25, 60, 65], [27, 36, 45], [28, 21, 35], [28, 45, 53], [28, 96, 100], [30, 16, 34], [30, 40, 50], [30, 72, 78], [32, 24, 40], [32, 60, 68], [33, 44, 55], [33, 56, 65], [35, 12, 37], [35, 84, 91], [36, 15, 39], [36, 27, 45], [36, 48, 60], [36, 77, 85], [39, 52, 65], [39, 80, 89], [40, 9, 41], [40, 30, 50], [40, 42, 58], [40, 75, 85], [42, 40, 58], [42, 56, 70], [44, 33, 55], [45, 24, 51], [45, 28, 53], [45, 60, 75], [48, 14, 50], [48, 20, 52], [48, 36, 60], [48, 55, 73], [48, 64, 80], [51, 68, 85], [52, 39, 65], [54, 72, 90], [55, 48, 73], [56, 33, 65], [56, 42, 70], [57, 76, 95], [60, 11, 61], [60, 25, 65], [60, 32, 68], [60, 45, 75], [60, 63, 87], [60, 80, 100], [63, 16, 65], [63, 60, 87], [64, 48, 80], [65, 72, 97], [68, 51, 85], [70, 24, 74], [72, 21, 75], [72, 30, 78], [72, 54, 90], [72, 65, 97], [75, 40, 85], [76, 57, 95], [77, 36, 85], [80, 18, 82], [80, 39, 89], [80, 60, 100], [84, 13, 85], [84, 35, 91], [96, 28, 100]]\n"
     ]
    }
   ],
   "source": [
    "# 32. Create a program that generates a list of all Pythagorean triplets up to a specified limit.\n",
    "\n",
    "n=100\n",
    "lt=[]\n",
    "for i in range(1,n+1):\n",
    "    for j in range(1,n+1):\n",
    "        for k in range(1,n+1):\n",
    "            if i*i + j*j == k*k:\n",
    "                lt.append([i,j,k])\n",
    "    \n",
    "\n",
    "print(lt)"
   ]
  },
  {
   "cell_type": "code",
   "execution_count": 27,
   "id": "1a8f3f91-0edc-4b6a-b01f-ab810e668d9e",
   "metadata": {},
   "outputs": [
    {
     "name": "stdout",
     "output_type": "stream",
     "text": [
      "[[[1, 6], [2, 6], [3, 6], [4, 6], [5, 6]], [[1, 7], [2, 7], [3, 7], [4, 7], [5, 7]], [[1, 8], [2, 8], [3, 8], [4, 8], [5, 8]], [[1, 9], [2, 9], [3, 9], [4, 9], [5, 9]], [[1, 3], [2, 3], [3, 3], [4, 3], [5, 3]]]\n"
     ]
    }
   ],
   "source": [
    "# 33. Develop a program that generates a list of all possible combinations of two lists using list comprehension.\n",
    "\n",
    "l1=[1,2,3,4,5]\n",
    "l2=[6,7,8,9,3]\n",
    "\n",
    "\n",
    "res=[[[i,j] for i in l1] for j in l2]\n",
    "\n",
    "print(res)"
   ]
  },
  {
   "cell_type": "code",
   "execution_count": 49,
   "id": "cd1d3a51-e41b-426f-a999-701c282690b0",
   "metadata": {},
   "outputs": [
    {
     "name": "stdout",
     "output_type": "stream",
     "text": [
      "Mean :  4.75\n",
      "Median :  5.0\n",
      "Mode :  5\n"
     ]
    }
   ],
   "source": [
    "# 34. Write a program that calculates the mean, median, and mode of a list of numbers using list comprehension.\n",
    "\n",
    "lt=[1,2,3,4,5,6,7,8,9,10,1,2,3,4,4,4,5,5,5,5,5,5,5,5,5,5,5,5]\n",
    "lt.sort()\n",
    "mean=sum(lt)/len(lt)\n",
    "\n",
    "\n",
    "\n",
    "great=0\n",
    "val=0\n",
    "for i in range(0,len(lt)):\n",
    "    count=0\n",
    "    for j in range(i+1,len(lt)):\n",
    "        if lt[i]==lt[j]:\n",
    "            count+=1\n",
    "    if count>great:\n",
    "        great=count\n",
    "        val=lt[i]    \n",
    "if len(lt)%2==0:\n",
    "    median=(lt[len(lt)//2-1]+lt[len(lt)//2])/2\n",
    "else:\n",
    "    median=lt(len(lt)//2-1)\n",
    "\n",
    "print(\"Mean : \",mean)\n",
    "print(\"Median : \",median)\n",
    "print(\"Mode : \",val)"
   ]
  },
  {
   "cell_type": "code",
   "execution_count": 8,
   "id": "4255c005-b212-482c-9f6e-d64f198764b4",
   "metadata": {},
   "outputs": [
    {
     "name": "stdout",
     "output_type": "stream",
     "text": [
      "    1\n",
      "   1 1\n",
      "  1 2 1\n",
      " 1 3 3 1\n",
      "1 4 6 4 1\n"
     ]
    }
   ],
   "source": [
    "# 35. Create a program that generates Pascal's triangle up to a specified number of rows using list comprehension.\n",
    "\n",
    "n=5\n",
    "\n",
    "\n",
    "for i in range(0,5):\n",
    "    for j in range(1,5-i):\n",
    "        print(\" \",end=\"\")\n",
    "    print( \" \".join([ x for x in str(11**i)]))\n",
    "    "
   ]
  },
  {
   "cell_type": "code",
   "execution_count": 21,
   "id": "e305df2d-ed3d-4ad4-b6a9-8135f90b54c1",
   "metadata": {},
   "outputs": [
    {
     "data": {
      "text/plain": [
       "[1, 2, 6, 6, 3]"
      ]
     },
     "execution_count": 21,
     "metadata": {},
     "output_type": "execute_result"
    }
   ],
   "source": [
    "# 36. Develop a program that calculates the sum of the digits of a factorial of numbers from 1 to 5 using list comprehension.\n",
    "\n",
    "lt=[]\n",
    "for i in range(1,6):\n",
    "    f=1\n",
    "    for x in range(1,i+1):\n",
    "        f=f*x\n",
    "    lt.append(f)\n",
    "\n",
    "add= list(map(lambda data:sum([int(val) for val in str(data)]),lt))\n",
    "\n",
    "add"
   ]
  },
  {
   "cell_type": "code",
   "execution_count": 23,
   "id": "d2228cec-c0df-4f2f-88da-d0d4371d953e",
   "metadata": {},
   "outputs": [
    {
     "data": {
      "text/plain": [
       "'honesty'"
      ]
     },
     "execution_count": 23,
     "metadata": {},
     "output_type": "execute_result"
    }
   ],
   "source": [
    "# 37. Write a program that finds the longest word in a sentence using list comprehension.\n",
    "\n",
    "s=\"honesty is the best policy\"\n",
    "\n",
    "w=s.split()\n",
    "\n",
    "lt=[len(i) for i in w]\n",
    "\n",
    "w[lt.index(max(lt))]"
   ]
  },
  {
   "cell_type": "code",
   "execution_count": 35,
   "id": "d1b5909f-68af-41c9-b194-3cf27f188d34",
   "metadata": {},
   "outputs": [
    {
     "data": {
      "text/plain": [
       "'actually this'"
      ]
     },
     "execution_count": 35,
     "metadata": {},
     "output_type": "execute_result"
    }
   ],
   "source": [
    "# 38. Create a program that filters a list of strings to include only those with more than three vowels using list comprehension.\n",
    "\n",
    "lt=[\"hello\",\"Vikas Singh\",\"actually this\",\"honesty is\",\"our real\",\"identity\"]\n",
    "vow=\"aeiouAEIOU\"\n",
    "v=[]\n",
    "for i in lt:\n",
    "    count=0\n",
    "    for x in i:\n",
    "        if x in vow:\n",
    "            count+=1\n",
    "    v.append(count)\n",
    "lt[v.index(max(v))]"
   ]
  },
  {
   "cell_type": "code",
   "execution_count": 38,
   "id": "183fe62b-bb25-43f3-ac6e-b958f54ec153",
   "metadata": {},
   "outputs": [
    {
     "data": {
      "text/plain": [
       "[1,\n",
       " 2,\n",
       " 3,\n",
       " 4,\n",
       " 5,\n",
       " 6,\n",
       " 7,\n",
       " 8,\n",
       " 9,\n",
       " 1,\n",
       " 2,\n",
       " 3,\n",
       " 4,\n",
       " 5,\n",
       " 6,\n",
       " 7,\n",
       " 8,\n",
       " 9,\n",
       " 10,\n",
       " 2,\n",
       " 3,\n",
       " 4,\n",
       " 5,\n",
       " 6,\n",
       " 7,\n",
       " 8,\n",
       " 9,\n",
       " 10,\n",
       " 11,\n",
       " 3,\n",
       " 4,\n",
       " 5,\n",
       " 6,\n",
       " 7,\n",
       " 8,\n",
       " 9,\n",
       " 10,\n",
       " 11,\n",
       " 12,\n",
       " 4,\n",
       " 5,\n",
       " 6,\n",
       " 7,\n",
       " 8,\n",
       " 9,\n",
       " 10,\n",
       " 11,\n",
       " 12,\n",
       " 13,\n",
       " 5,\n",
       " 6,\n",
       " 7,\n",
       " 8,\n",
       " 9,\n",
       " 10,\n",
       " 11,\n",
       " 12,\n",
       " 13,\n",
       " 14,\n",
       " 6,\n",
       " 7,\n",
       " 8,\n",
       " 9,\n",
       " 10,\n",
       " 11,\n",
       " 12,\n",
       " 13,\n",
       " 14,\n",
       " 15,\n",
       " 7,\n",
       " 8,\n",
       " 9,\n",
       " 10,\n",
       " 11,\n",
       " 12,\n",
       " 13,\n",
       " 14,\n",
       " 15,\n",
       " 16,\n",
       " 8,\n",
       " 9,\n",
       " 10,\n",
       " 11,\n",
       " 12,\n",
       " 13,\n",
       " 14,\n",
       " 15,\n",
       " 16,\n",
       " 17,\n",
       " 9,\n",
       " 10,\n",
       " 11,\n",
       " 12,\n",
       " 13,\n",
       " 14,\n",
       " 15,\n",
       " 16,\n",
       " 17,\n",
       " 18,\n",
       " 1]"
      ]
     },
     "execution_count": 38,
     "metadata": {},
     "output_type": "execute_result"
    }
   ],
   "source": [
    "# 39. Develop a program that calculates the sum of the digits of numbers from 1 to 1000 using list comprehension.\n",
    "\n",
    "lt=[i for i in range(1,101)]\n",
    "\n",
    "\n",
    "add= list(map(lambda data:sum([int(val) for val in str(data)]),lt))\n",
    "\n",
    "add"
   ]
  },
  {
   "cell_type": "code",
   "execution_count": 43,
   "id": "553222fc-ae26-40e8-907d-c458e0bb2bc4",
   "metadata": {},
   "outputs": [
    {
     "data": {
      "text/plain": [
       "[1, 2, 3, 5, 7, 11]"
      ]
     },
     "execution_count": 43,
     "metadata": {},
     "output_type": "execute_result"
    }
   ],
   "source": [
    "# 40. Write a program that generates a list of prime palindromic numbers using list comprehension.\n",
    "lt=[]\n",
    "for i in range(1,101):\n",
    "    x=0\n",
    "    n=i\n",
    "    s=0\n",
    "    for j in range(2,n//2+1):\n",
    "        if n%j==0:\n",
    "            x=1\n",
    "            break\n",
    "    if x==0:\n",
    "        while n>0:\n",
    "            r=n%10\n",
    "            s=s*10+r\n",
    "            n=n//10\n",
    "        if i==s:\n",
    "            lt.append(i)\n",
    "lt\n"
   ]
  },
  {
   "cell_type": "code",
   "execution_count": null,
   "id": "8fd214d7-d4ae-4813-ad87-37221997f999",
   "metadata": {},
   "outputs": [],
   "source": []
  },
  {
   "cell_type": "code",
   "execution_count": null,
   "id": "cfb4b6c3-1a48-45f7-8ef8-a809f2fe7566",
   "metadata": {},
   "outputs": [],
   "source": []
  },
  {
   "cell_type": "code",
   "execution_count": null,
   "id": "356dcc1d-eb36-4533-8d86-0eee30290ad2",
   "metadata": {},
   "outputs": [],
   "source": []
  }
 ],
 "metadata": {
  "kernelspec": {
   "display_name": "Python 3 (ipykernel)",
   "language": "python",
   "name": "python3"
  },
  "language_info": {
   "codemirror_mode": {
    "name": "ipython",
    "version": 3
   },
   "file_extension": ".py",
   "mimetype": "text/x-python",
   "name": "python",
   "nbconvert_exporter": "python",
   "pygments_lexer": "ipython3",
   "version": "3.11.5"
  }
 },
 "nbformat": 4,
 "nbformat_minor": 5
}
